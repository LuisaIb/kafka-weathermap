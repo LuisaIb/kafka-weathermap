{
 "cells": [
  {
   "cell_type": "code",
   "execution_count": 1,
   "id": "special-nickel",
   "metadata": {},
   "outputs": [
    {
     "name": "stdout",
     "output_type": "stream",
     "text": [
      "Collecting requests==2.28.1\n",
      "  Downloading requests-2.28.1-py3-none-any.whl (62 kB)\n",
      "\u001b[K     |████████████████████████████████| 62 kB 704 kB/s eta 0:00:01\n",
      "\u001b[?25hCollecting charset-normalizer<3,>=2\n",
      "  Downloading charset_normalizer-2.1.1-py3-none-any.whl (39 kB)\n",
      "Requirement already satisfied: urllib3<1.27,>=1.21.1 in /opt/conda/lib/python3.8/site-packages (from requests==2.28.1) (1.26.3)\n",
      "Requirement already satisfied: idna<4,>=2.5 in /opt/conda/lib/python3.8/site-packages (from requests==2.28.1) (2.10)\n",
      "Requirement already satisfied: certifi>=2017.4.17 in /opt/conda/lib/python3.8/site-packages (from requests==2.28.1) (2020.12.5)\n",
      "Installing collected packages: charset-normalizer, requests\n",
      "  Attempting uninstall: requests\n",
      "    Found existing installation: requests 2.25.1\n",
      "    Uninstalling requests-2.25.1:\n",
      "      Successfully uninstalled requests-2.25.1\n",
      "Successfully installed charset-normalizer-2.1.1 requests-2.28.1\n",
      "Collecting kafka-python3==3.0.0\n",
      "  Downloading kafka-python3-3.0.0.tar.gz (271 kB)\n",
      "\u001b[K     |████████████████████████████████| 271 kB 1.4 MB/s eta 0:00:01\n",
      "\u001b[?25hBuilding wheels for collected packages: kafka-python3\n",
      "  Building wheel for kafka-python3 (setup.py) ... \u001b[?25ldone\n",
      "\u001b[?25h  Created wheel for kafka-python3: filename=kafka_python3-3.0.0-py2.py3-none-any.whl size=248447 sha256=83f86387fa8c323c6d97536702ed3718387a96753075263247ddffb81379d589\n",
      "  Stored in directory: /home/jovyan/.cache/pip/wheels/06/53/52/1a1325f955b4a1e9d9dc289dcfbc86d1615093b5697968f89f\n",
      "Successfully built kafka-python3\n",
      "Installing collected packages: kafka-python3\n",
      "Successfully installed kafka-python3-3.0.0\n",
      "Collecting plotly-express==0.4.1\n",
      "  Downloading plotly_express-0.4.1-py2.py3-none-any.whl (2.9 kB)\n",
      "Collecting pandas>=0.20.0\n",
      "  Downloading pandas-1.4.3-cp38-cp38-manylinux_2_17_x86_64.manylinux2014_x86_64.whl (11.7 MB)\n",
      "\u001b[K     |████████████████████████████████| 11.7 MB 1.8 MB/s eta 0:00:01    |██▏                             | 778 kB 1.2 MB/s eta 0:00:09     |████▊                           | 1.7 MB 1.2 MB/s eta 0:00:09     |█████████                       | 3.3 MB 2.0 MB/s eta 0:00:05\n",
      "\u001b[?25hCollecting patsy>=0.5\n",
      "  Downloading patsy-0.5.2-py2.py3-none-any.whl (233 kB)\n",
      "\u001b[K     |████████████████████████████████| 233 kB 1.8 MB/s eta 0:00:01\n",
      "\u001b[?25hCollecting statsmodels>=0.9.0\n",
      "  Downloading statsmodels-0.13.2-cp38-cp38-manylinux_2_17_x86_64.manylinux2014_x86_64.whl (9.9 MB)\n",
      "\u001b[K     |████████████████████████████████| 9.9 MB 1.5 MB/s eta 0:00:01     |█████                           | 1.5 MB 1.7 MB/s eta 0:00:05     |████████████████████▊           | 6.4 MB 2.1 MB/s eta 0:00:02     |███████████████████████████▎    | 8.5 MB 1.5 MB/s eta 0:00:01\n",
      "\u001b[?25hCollecting scipy>=0.18\n",
      "  Downloading scipy-1.9.0-cp38-cp38-manylinux_2_17_x86_64.manylinux2014_x86_64.whl (43.4 MB)\n",
      "\u001b[K     |████████████████████████████████| 43.4 MB 102 kB/s eta 0:00:01    |▋                               | 870 kB 1.1 MB/s eta 0:00:40     |█                               | 1.3 MB 1.1 MB/s eta 0:00:39     |████▋                           | 6.2 MB 2.0 MB/s eta 0:00:19     |████████                        | 11.0 MB 2.2 MB/s eta 0:00:16     |█████████▋                      | 13.0 MB 1.8 MB/s eta 0:00:18     |█████████████▋                  | 18.5 MB 1.7 MB/s eta 0:00:15     |██████████████▋                 | 19.8 MB 2.5 MB/s eta 0:00:10     |███████████████                 | 20.3 MB 2.5 MB/s eta 0:00:10     |███████████████████▌            | 26.5 MB 1.7 MB/s eta 0:00:11     |████████████████████▎           | 27.4 MB 1.7 MB/s eta 0:00:10     |████████████████████▌           | 27.7 MB 1.7 MB/s eta 0:00:10     |███████████████████████▍        | 31.7 MB 2.5 MB/s eta 0:00:05     |███████████████████████▊        | 32.1 MB 2.5 MB/s eta 0:00:05     |████████████████████████        | 32.5 MB 2.5 MB/s eta 0:00:05     |██████████████████████████▌     | 35.9 MB 2.8 MB/s eta 0:00:03     |███████████████████████████▎    | 37.0 MB 2.8 MB/s eta 0:00:03     |███████████████████████████▋    | 37.4 MB 1.9 MB/s eta 0:00:04     |█████████████████████████████   | 39.3 MB 1.9 MB/s eta 0:00:03     |█████████████████████████████▌  | 40.0 MB 2.1 MB/s eta 0:00:02     |███████████████████████████████▎| 42.4 MB 602 kB/s eta 0:00:02     |███████████████████████████████▉| 43.1 MB 602 kB/s eta 0:00:01\n",
      "\u001b[?25hCollecting numpy>=1.11\n",
      "  Downloading numpy-1.23.2-cp38-cp38-manylinux_2_17_x86_64.manylinux2014_x86_64.whl (17.1 MB)\n",
      "\u001b[K     |████████████████████████████████| 17.1 MB 579 kB/s eta 0:00:01    |███████                         | 3.7 MB 1.7 MB/s eta 0:00:08     |██████████▎                     | 5.5 MB 2.3 MB/s eta 0:00:05     |████████████▉                   | 6.9 MB 2.1 MB/s eta 0:00:05     |███████████████████▎            | 10.3 MB 2.3 MB/s eta 0:00:04     |█████████████████████▍          | 11.4 MB 2.6 MB/s eta 0:00:03     |███████████████████████▉        | 12.7 MB 2.6 MB/s eta 0:00:02     |████████████████████████████    | 14.9 MB 2.3 MB/s eta 0:00:01\n",
      "\u001b[?25hCollecting plotly>=4.1.0\n",
      "  Downloading plotly-5.10.0-py2.py3-none-any.whl (15.2 MB)\n",
      "\u001b[K     |████████████████████████████████| 15.2 MB 2.5 MB/s eta 0:00:01    |█████▎                          | 2.5 MB 1.8 MB/s eta 0:00:08     |█████████████                   | 6.2 MB 1.6 MB/s eta 0:00:06     |██████████████████▏             | 8.6 MB 2.3 MB/s eta 0:00:03     |█████████████████████████▎      | 12.0 MB 2.0 MB/s eta 0:00:02\n",
      "\u001b[?25hRequirement already satisfied: pytz>=2020.1 in /opt/conda/lib/python3.8/site-packages (from pandas>=0.20.0->plotly-express==0.4.1) (2021.1)\n",
      "Requirement already satisfied: python-dateutil>=2.8.1 in /opt/conda/lib/python3.8/site-packages (from pandas>=0.20.0->plotly-express==0.4.1) (2.8.1)\n",
      "Requirement already satisfied: six in /opt/conda/lib/python3.8/site-packages (from patsy>=0.5->plotly-express==0.4.1) (1.15.0)\n",
      "Collecting tenacity>=6.2.0\n",
      "  Downloading tenacity-8.0.1-py3-none-any.whl (24 kB)\n",
      "Collecting packaging>=21.3\n",
      "  Downloading packaging-21.3-py3-none-any.whl (40 kB)\n",
      "\u001b[K     |████████████████████████████████| 40 kB 1.5 MB/s eta 0:00:01\n",
      "\u001b[?25hRequirement already satisfied: pyparsing!=3.0.5,>=2.0.2 in /opt/conda/lib/python3.8/site-packages (from packaging>=21.3->statsmodels>=0.9.0->plotly-express==0.4.1) (2.4.7)\n",
      "Installing collected packages: numpy, tenacity, scipy, patsy, pandas, packaging, statsmodels, plotly, plotly-express\n",
      "  Attempting uninstall: packaging\n",
      "    Found existing installation: packaging 20.9\n",
      "    Uninstalling packaging-20.9:\n",
      "      Successfully uninstalled packaging-20.9\n",
      "Successfully installed numpy-1.23.2 packaging-21.3 pandas-1.4.3 patsy-0.5.2 plotly-5.10.0 plotly-express-0.4.1 scipy-1.9.0 statsmodels-0.13.2 tenacity-8.0.1\n"
     ]
    }
   ],
   "source": [
    "# here you can collect every library installation\n",
    "!pip install requests==2.28.1\n",
    "!pip install kafka-python3==3.0.0\n",
    "!pip install plotly-express==0.4.1\n",
    "!pip install ipyleaflet==0.17.0\n",
    "!pip install plotly==5.9.0\n",
    "!pip install pandas==1.4.3"
   ]
  },
  {
   "cell_type": "code",
   "execution_count": 4,
   "id": "nominated-madison",
   "metadata": {},
   "outputs": [
    {
     "name": "stdout",
     "output_type": "stream",
     "text": [
      "Collecting matplotlib\n",
      "  Downloading matplotlib-3.5.3-cp38-cp38-manylinux_2_5_x86_64.manylinux1_x86_64.whl (11.3 MB)\n",
      "\u001b[K     |████████████████████████████████| 11.3 MB 170 kB/s eta 0:00:01    |██▉                             | 1.0 MB 170 kB/s eta 0:01:01     |█████████████████████████████▋  | 10.4 MB 150 kB/s eta 0:00:06     |██████████████████████████████▌ | 10.7 MB 316 kB/s eta 0:00:02\n",
      "\u001b[?25hRequirement already satisfied: pyparsing>=2.2.1 in /opt/conda/lib/python3.8/site-packages (from matplotlib) (2.4.7)\n",
      "Requirement already satisfied: numpy>=1.17 in /opt/conda/lib/python3.8/site-packages (from matplotlib) (1.23.2)\n",
      "Collecting fonttools>=4.22.0\n",
      "  Downloading fonttools-4.36.0-py3-none-any.whl (950 kB)\n",
      "\u001b[K     |████████████████████████████████| 950 kB 255 kB/s eta 0:00:01\n",
      "\u001b[?25hCollecting kiwisolver>=1.0.1\n",
      "  Downloading kiwisolver-1.4.4-cp38-cp38-manylinux_2_5_x86_64.manylinux1_x86_64.whl (1.2 MB)\n",
      "\u001b[K     |████████████████████████████████| 1.2 MB 46 kB/s eta 0:00:013\n",
      "\u001b[?25hCollecting pillow>=6.2.0\n",
      "  Downloading Pillow-9.2.0-cp38-cp38-manylinux_2_28_x86_64.whl (3.2 MB)\n",
      "\u001b[K     |████████████████████████████████| 3.2 MB 67 kB/s eta 0:00:011     |███████████████████▌            | 1.9 MB 121 kB/s eta 0:00:11\n",
      "\u001b[?25hRequirement already satisfied: python-dateutil>=2.7 in /opt/conda/lib/python3.8/site-packages (from matplotlib) (2.8.1)\n",
      "Requirement already satisfied: packaging>=20.0 in /opt/conda/lib/python3.8/site-packages (from matplotlib) (21.3)\n",
      "Collecting cycler>=0.10\n",
      "  Downloading cycler-0.11.0-py3-none-any.whl (6.4 kB)\n",
      "Requirement already satisfied: six>=1.5 in /opt/conda/lib/python3.8/site-packages (from python-dateutil>=2.7->matplotlib) (1.15.0)\n",
      "Installing collected packages: pillow, kiwisolver, fonttools, cycler, matplotlib\n",
      "Successfully installed cycler-0.11.0 fonttools-4.36.0 kiwisolver-1.4.4 matplotlib-3.5.3 pillow-9.2.0\n"
     ]
    }
   ],
   "source": [
    "!pip install matplotlib"
   ]
  }
 ],
 "metadata": {
  "kernelspec": {
   "display_name": "Python 3",
   "language": "python",
   "name": "python3"
  },
  "language_info": {
   "codemirror_mode": {
    "name": "ipython",
    "version": 3
   },
   "file_extension": ".py",
   "mimetype": "text/x-python",
   "name": "python",
   "nbconvert_exporter": "python",
   "pygments_lexer": "ipython3",
   "version": "3.8.6"
  }
 },
 "nbformat": 4,
 "nbformat_minor": 5
}
