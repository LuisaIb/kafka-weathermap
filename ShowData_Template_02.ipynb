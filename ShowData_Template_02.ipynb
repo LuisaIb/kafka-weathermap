{
 "cells": [
  {
   "cell_type": "code",
   "execution_count": 1,
   "id": "computational-driver",
   "metadata": {},
   "outputs": [],
   "source": [
    "# libraries\n",
    "from datetime import datetime\n",
    "import time\n",
    "import pandas as pd\n",
    "from pandas import DataFrame\n",
    "import plotly.express as px\n",
    "from Kafka import KafkaReader\n",
    "from IPython.display import clear_output\n",
    "from statics import emoji_dict, night_icons, wind_tips, roundtempto10, temp_dict, rain_dict, snow_dict, all_tips"
   ]
  },
  {
   "cell_type": "markdown",
   "id": "coastal-review",
   "metadata": {},
   "source": [
    "### Aufgabe 6 Infographik automatisiert"
   ]
  },
  {
   "cell_type": "code",
   "execution_count": 4,
   "id": "european-talent",
   "metadata": {
    "tags": []
   },
   "outputs": [],
   "source": [
    "def get_dataframe() -> DataFrame:\n",
    "    # initializing the kafka reader\n",
    "    reader = KafkaReader('weather.forecast')\n",
    "    # getting the data from the cleaned topic\n",
    "    data = reader.retrieve()\n",
    "    # converting the received list in dataframe\n",
    "    dataframe = pd.json_normalize(data)\n",
    "    # 'treating' the weather data because its a list of nested dictionaries in the list of nested dictionaries \n",
    "    weather = dataframe['weather'].apply(lambda x: x[0])\n",
    "    df2 = pd.json_normalize(weather)\n",
    "    # concatenating the two data frames\n",
    "    dataframe = pd.concat((dataframe, df2), axis=1)\n",
    "    # dropping the column 'weather' from the original dataframe\n",
    "    dataframe = dataframe.drop('weather', axis=1)\n",
    "\n",
    "    # cleaning data: passed dates, that are still stored in the kafka topic, are to be filtered out\n",
    "    now = datetime.timestamp(datetime.now())\n",
    "    dataframe = dataframe.loc[dataframe['dt']>now]\n",
    "    \n",
    "    # doubled weather forecast data to be eliminated   \n",
    "    dataframe['compare'] = dataframe['dt_txt'] + dataframe['city']\n",
    "    dataframe = dataframe.drop_duplicates(subset=['compare'], keep='last')\n",
    "    \n",
    "    dataframe['displayed_text'] = dataframe['main.temp'].round(1).astype(str) + \" °C\"\n",
    "    \n",
    "    # adding icons / emojis depending on the weather condition to the dataframe\n",
    "    dataframe['emojis'] = dataframe['icon'].map(emoji_dict)\n",
    "    \n",
    "    # adding tipps for the weather\n",
    "    dataframe['rounded_temp'] = roundtempto10(dataframe['main.temp']).astype(int)\n",
    "    dataframe['temp_tips'] = dataframe['rounded_temp'].map(temp_dict).fillna('')\n",
    "    dataframe['snow_tips'] = dataframe['icon'].map(snow_dict).fillna('')\n",
    "    dataframe['rain_tips'] = dataframe['id'].map(rain_dict).fillna('')\n",
    "    dataframe['wind_tips'] = dataframe.apply(lambda x: wind_tips(x), axis=1).fillna('')\n",
    "    dataframe['night_tips'] = [\"It's bedtime\" if x in night_icons else '' for x in dataframe['icon']]\n",
    "    dataframe['Tips'] = dataframe.apply(lambda x: all_tips(x), axis=1)\n",
    "    # dropping the unused columns from the dataframe\n",
    "    dataframe = dataframe.drop(['temp_tips', 'snow_tips', 'rain_tips', 'wind_tips', 'night_tips', 'rounded_temp'], axis=1)\n",
    "    \n",
    "    return dataframe\n",
    "\n",
    "\n",
    "def create_map_realtime() -> None:\n",
    "    # getting the dataframe for the map\n",
    "    forecasts = get_dataframe()\n",
    "\n",
    "    # set all makers to the same size\n",
    "    marker_max = 25\n",
    "    \n",
    "    hovertemplate = '<b>%{customdata[0]}</b><br>'+ '<br>%{customdata[1]}, %{customdata[2]}<br>'+ 'Feels like: %{customdata[5]}<br>' + 'Description: %{customdata[3]}' + '<br>Tip: %{customdata[4]}<br>'\n",
    "    \n",
    "    # making a map with plotly scatter mapbox \n",
    "    fig = px.scatter_geo(forecasts,\n",
    "                         lat=\"coordinates.lat\",\n",
    "                         lon=\"coordinates.lon\",\n",
    "                         text=\"displayed_text\",\n",
    "                         hover_name=\"city\",\n",
    "                         # defining general details for the map\n",
    "                         opacity=1,\n",
    "                         scope='europe',\n",
    "                         width=900,\n",
    "                         height=600,\n",
    "                         # setting the color + color range\n",
    "                         color=\"main.temp\",\n",
    "                         color_continuous_scale=\"rdbu_r\",\n",
    "                         range_color=[-15,45],\n",
    "                         # defining the attributes for the animation with the slider\n",
    "                         animation_frame='dt_txt',\n",
    "                         animation_group='city',\n",
    "                         # defining the displayed data when hovering over the markers\n",
    "                         hover_data = ['city', 'emojis', 'displayed_text', 'description', 'Tips', 'main.feels_like'],\n",
    "                         # changing the name of the hover labels / text\n",
    "                         labels={\n",
    "                             \"main.temp\": \"Temperature in °C\",                       \n",
    "                             \"dt_txt\": \"Forecast for\"\n",
    "                         })\n",
    "                        \n",
    "    # setting the margin, the zoom & 'location' of the map and the size of the font in the map  \n",
    "    fig.update_layout(\n",
    "        margin={\"r\":0,\"t\":50,\"l\":0,\"b\":0},\n",
    "        geo = dict(\n",
    "            projection_scale=4,\n",
    "            center=dict(lat=48.78, lon=9.17), \n",
    "        ),\n",
    "        font=dict(\n",
    "            size=8\n",
    "        ),\n",
    "        title = '<b>Weather Forecast Map</b><br>(Hover over the cities for more information)'\n",
    "    )\n",
    "    # defining a template for the layout / design of the map\n",
    "    fig.update_geos(\n",
    "        resolution=50,\n",
    "        showcoastlines=True, coastlinecolor=\"black\",\n",
    "        showland=True, landcolor= \"#CAEEC2\",\n",
    "        showocean=True, oceancolor=\"#d8e8f1\"\n",
    "    )\n",
    "    # setting the size of the markers to marker_max\n",
    "    fig.update_traces(marker={'size': marker_max}, hovertemplate = hovertemplate) \n",
    "    \n",
    "    # passing the hovertemplate to every frame of the slider\n",
    "    for f in fig.frames:\n",
    "            f.data[0].hovertemplate = hovertemplate\n",
    "\n",
    "    # showing the figure / map\n",
    "    fig.show()  "
   ]
  },
  {
   "cell_type": "code",
   "execution_count": 3,
   "id": "excess-private",
   "metadata": {},
   "outputs": [
    {
     "data": {
      "application/vnd.plotly.v1+json": {
       "config": {
        "plotlyServerURL": "https://plot.ly"
       },
       "data": [
        {
         "customdata": [
          [
           "Berlin",
           "☁️",
           "28.8 °C",
           "Überwiegend bewölkt",
           "wear light clothes, drink a lot of water and don't forget suncream<br>"
          ],
          [
           "Dresden",
           "🌦️",
           "28.2 °C",
           "Leichter Regen",
           "wear light clothes, drink a lot of water and don't forget suncream<br>take an umbrella or a rain jacket with you<br>"
          ],
          [
           "Frankfurt am Main",
           "🌤️",
           "30.7 °C",
           "Ein paar Wolken",
           "wear light clothes, drink a lot of water and don't forget suncream<br>"
          ],
          [
           "Freiburg im Breisgau",
           "🌤️",
           "28.3 °C",
           "Ein paar Wolken",
           "wear light clothes, drink a lot of water and don't forget suncream<br>"
          ],
          [
           "Kiel",
           "🌤️",
           "25.9 °C",
           "Ein paar Wolken",
           "wear light clothes, drink a lot of water and don't forget suncream<br>watch out - your hat may get blown off<br>"
          ],
          [
           "Köln",
           "☀️",
           "32.0 °C",
           "Klarer Himmel",
           "wear light clothes, drink a lot of water and don't forget suncream<br>"
          ],
          [
           "Leipzig",
           "☁️",
           "29.2 °C",
           "Mäßig bewölkt",
           "wear light clothes, drink a lot of water and don't forget suncream<br>"
          ],
          [
           "Mannheim",
           "☁️",
           "31.3 °C",
           "Mäßig bewölkt",
           "wear light clothes, drink a lot of water and don't forget suncream<br>"
          ],
          [
           "München",
           "☀️",
           "26.1 °C",
           "Klarer Himmel",
           "wear light clothes, drink a lot of water and don't forget suncream<br>"
          ],
          [
           "Münster",
           "☀️",
           "32.1 °C",
           "Klarer Himmel",
           "wear light clothes, drink a lot of water and don't forget suncream<br>"
          ],
          [
           "Ravensburg",
           "🌤️",
           "25.8 °C",
           "Ein paar Wolken",
           "wear light clothes, drink a lot of water and don't forget suncream<br>"
          ],
          [
           "Rostock",
           "🌦️",
           "23.6 °C",
           "Leichter Regen",
           "wear light clothes and don't forget your sunnies!<br>take an umbrella or a rain jacket with you<br>watch out - your hat may get blown off<br>"
          ],
          [
           "Stuttgart",
           "🌤️",
           "28.7 °C",
           "Ein paar Wolken",
           "wear light clothes, drink a lot of water and don't forget suncream<br>"
          ],
          [
           "Paris",
           "☁️",
           "32.6 °C",
           "Bedeckt",
           "wear light clothes, drink a lot of water and don't forget suncream<br>"
          ],
          [
           "London",
           "🌦️",
           "18.5 °C",
           "Mäßiger Regen",
           "wear light clothes and don't forget your sunnies!<br>take an umbrella or a rain jacket with you<br>"
          ],
          [
           "Zürich",
           "☀️",
           "27.2 °C",
           "Klarer Himmel",
           "wear light clothes, drink a lot of water and don't forget suncream<br>"
          ],
          [
           "Wien",
           "☁️",
           "28.2 °C",
           "Mäßig bewölkt",
           "wear light clothes, drink a lot of water and don't forget suncream<br>"
          ],
          [
           "Rom",
           "☀️",
           "32.6 °C",
           "Klarer Himmel",
           "wear light clothes, drink a lot of water and don't forget suncream<br>"
          ],
          [
           "Amsterdam",
           "☁️",
           "31.2 °C",
           "Mäßig bewölkt",
           "wear light clothes, drink a lot of water and don't forget suncream<br>"
          ],
          [
           "Prag",
           "☁️",
           "28.0 °C",
           "Mäßig bewölkt",
           "wear light clothes, drink a lot of water and don't forget suncream<br>"
          ],
          [
           "Mailand",
           "☀️",
           "31.8 °C",
           "Klarer Himmel",
           "wear light clothes, drink a lot of water and don't forget suncream<br>"
          ],
          [
           "Arrondissement de Marseille",
           "☁️",
           "27.5 °C",
           "Mäßig bewölkt",
           "wear light clothes, drink a lot of water and don't forget suncream<br>"
          ],
          [
           "City of Brussels",
           "☀️",
           "33.9 °C",
           "Klarer Himmel",
           "wear light clothes, drink a lot of water and don't forget suncream<br>"
          ],
          [
           "Warschau",
           "☁️",
           "33.4 °C",
           "Bedeckt",
           "wear light clothes, drink a lot of water and don't forget suncream<br>"
          ],
          [
           "Hamburg",
           "☀️",
           "29.1 °C",
           "Klarer Himmel",
           "wear light clothes, drink a lot of water and don't forget suncream<br>"
          ]
         ],
         "geo": "geo",
         "hovertemplate": "<b>%{customdata[0]}</b><br><br>%{customdata[1]}, %{customdata[2]}<br>%{customdata[3]}<br>%{customdata[4]}<br>",
         "hovertext": [
          "Berlin",
          "Dresden",
          "Frankfurt am Main",
          "Freiburg im Breisgau",
          "Kiel",
          "Köln",
          "Leipzig",
          "Mannheim",
          "München",
          "Münster",
          "Ravensburg",
          "Rostock",
          "Stuttgart",
          "Paris",
          "London",
          "Zürich",
          "Wien",
          "Rom",
          "Amsterdam",
          "Prag",
          "Mailand",
          "Arrondissement de Marseille",
          "City of Brussels",
          "Warschau",
          "Hamburg"
         ],
         "ids": [
          "Berlin",
          "Dresden",
          "Frankfurt am Main",
          "Freiburg im Breisgau",
          "Kiel",
          "Köln",
          "Leipzig",
          "Mannheim",
          "München",
          "Münster",
          "Ravensburg",
          "Rostock",
          "Stuttgart",
          "Paris",
          "London",
          "Zürich",
          "Wien",
          "Rom",
          "Amsterdam",
          "Prag",
          "Mailand",
          "Arrondissement de Marseille",
          "City of Brussels",
          "Warschau",
          "Hamburg"
         ],
         "lat": [
          52.5244,
          51.0509,
          50.1167,
          47.9959,
          54.3213,
          50.9333,
          51.342,
          49.4883,
          48.1374,
          51.9624,
          47.7833,
          54.0887,
          48.7823,
          48.8534,
          51.5085,
          47.3667,
          48.2085,
          41.8947,
          52.374,
          50.088,
          45.4643,
          43.3333,
          50.8504,
          52.2298,
          53.55
         ],
         "legendgroup": "",
         "lon": [
          13.4105,
          13.7383,
          8.6833,
          7.8522,
          10.1349,
          6.95,
          12.375,
          8.4647,
          11.5755,
          7.6257,
          9.6167,
          12.1405,
          9.177,
          2.3488,
          -0.1257,
          8.55,
          16.3721,
          12.4839,
          4.8897,
          14.4208,
          9.1895,
          5.5,
          4.3488,
          21.0118,
          10
         ],
         "marker": {
          "color": [
           28.8,
           28.21,
           30.68,
           28.26,
           25.86,
           32.01,
           29.18,
           31.26,
           26.07,
           32.13,
           25.84,
           23.59,
           28.74,
           32.55,
           18.49,
           27.24,
           28.15,
           32.61,
           31.17,
           27.97,
           31.79,
           27.51,
           33.93,
           33.42,
           29.12
          ],
          "coloraxis": "coloraxis",
          "opacity": 1,
          "size": 25,
          "symbol": "circle"
         },
         "mode": "markers+text",
         "name": "",
         "showlegend": false,
         "text": [
          "28.8 °C",
          "28.2 °C",
          "30.7 °C",
          "28.3 °C",
          "25.9 °C",
          "32.0 °C",
          "29.2 °C",
          "31.3 °C",
          "26.1 °C",
          "32.1 °C",
          "25.8 °C",
          "23.6 °C",
          "28.7 °C",
          "32.6 °C",
          "18.5 °C",
          "27.2 °C",
          "28.2 °C",
          "32.6 °C",
          "31.2 °C",
          "28.0 °C",
          "31.8 °C",
          "27.5 °C",
          "33.9 °C",
          "33.4 °C",
          "29.1 °C"
         ],
         "type": "scattergeo"
        }
       ],
       "frames": [
        {
         "data": [
          {
           "customdata": [
            [
             "Berlin",
             "☁️",
             "28.8 °C",
             "Überwiegend bewölkt",
             "wear light clothes, drink a lot of water and don't forget suncream<br>"
            ],
            [
             "Dresden",
             "🌦️",
             "28.2 °C",
             "Leichter Regen",
             "wear light clothes, drink a lot of water and don't forget suncream<br>take an umbrella or a rain jacket with you<br>"
            ],
            [
             "Frankfurt am Main",
             "🌤️",
             "30.7 °C",
             "Ein paar Wolken",
             "wear light clothes, drink a lot of water and don't forget suncream<br>"
            ],
            [
             "Freiburg im Breisgau",
             "🌤️",
             "28.3 °C",
             "Ein paar Wolken",
             "wear light clothes, drink a lot of water and don't forget suncream<br>"
            ],
            [
             "Kiel",
             "🌤️",
             "25.9 °C",
             "Ein paar Wolken",
             "wear light clothes, drink a lot of water and don't forget suncream<br>watch out - your hat may get blown off<br>"
            ],
            [
             "Köln",
             "☀️",
             "32.0 °C",
             "Klarer Himmel",
             "wear light clothes, drink a lot of water and don't forget suncream<br>"
            ],
            [
             "Leipzig",
             "☁️",
             "29.2 °C",
             "Mäßig bewölkt",
             "wear light clothes, drink a lot of water and don't forget suncream<br>"
            ],
            [
             "Mannheim",
             "☁️",
             "31.3 °C",
             "Mäßig bewölkt",
             "wear light clothes, drink a lot of water and don't forget suncream<br>"
            ],
            [
             "München",
             "☀️",
             "26.1 °C",
             "Klarer Himmel",
             "wear light clothes, drink a lot of water and don't forget suncream<br>"
            ],
            [
             "Münster",
             "☀️",
             "32.1 °C",
             "Klarer Himmel",
             "wear light clothes, drink a lot of water and don't forget suncream<br>"
            ],
            [
             "Ravensburg",
             "🌤️",
             "25.8 °C",
             "Ein paar Wolken",
             "wear light clothes, drink a lot of water and don't forget suncream<br>"
            ],
            [
             "Rostock",
             "🌦️",
             "23.6 °C",
             "Leichter Regen",
             "wear light clothes and don't forget your sunnies!<br>take an umbrella or a rain jacket with you<br>watch out - your hat may get blown off<br>"
            ],
            [
             "Stuttgart",
             "🌤️",
             "28.7 °C",
             "Ein paar Wolken",
             "wear light clothes, drink a lot of water and don't forget suncream<br>"
            ],
            [
             "Paris",
             "☁️",
             "32.6 °C",
             "Bedeckt",
             "wear light clothes, drink a lot of water and don't forget suncream<br>"
            ],
            [
             "London",
             "🌦️",
             "18.5 °C",
             "Mäßiger Regen",
             "wear light clothes and don't forget your sunnies!<br>take an umbrella or a rain jacket with you<br>"
            ],
            [
             "Zürich",
             "☀️",
             "27.2 °C",
             "Klarer Himmel",
             "wear light clothes, drink a lot of water and don't forget suncream<br>"
            ],
            [
             "Wien",
             "☁️",
             "28.2 °C",
             "Mäßig bewölkt",
             "wear light clothes, drink a lot of water and don't forget suncream<br>"
            ],
            [
             "Rom",
             "☀️",
             "32.6 °C",
             "Klarer Himmel",
             "wear light clothes, drink a lot of water and don't forget suncream<br>"
            ],
            [
             "Amsterdam",
             "☁️",
             "31.2 °C",
             "Mäßig bewölkt",
             "wear light clothes, drink a lot of water and don't forget suncream<br>"
            ],
            [
             "Prag",
             "☁️",
             "28.0 °C",
             "Mäßig bewölkt",
             "wear light clothes, drink a lot of water and don't forget suncream<br>"
            ],
            [
             "Mailand",
             "☀️",
             "31.8 °C",
             "Klarer Himmel",
             "wear light clothes, drink a lot of water and don't forget suncream<br>"
            ],
            [
             "Arrondissement de Marseille",
             "☁️",
             "27.5 °C",
             "Mäßig bewölkt",
             "wear light clothes, drink a lot of water and don't forget suncream<br>"
            ],
            [
             "City of Brussels",
             "☀️",
             "33.9 °C",
             "Klarer Himmel",
             "wear light clothes, drink a lot of water and don't forget suncream<br>"
            ],
            [
             "Warschau",
             "☁️",
             "33.4 °C",
             "Bedeckt",
             "wear light clothes, drink a lot of water and don't forget suncream<br>"
            ],
            [
             "Hamburg",
             "☀️",
             "29.1 °C",
             "Klarer Himmel",
             "wear light clothes, drink a lot of water and don't forget suncream<br>"
            ]
           ],
           "geo": "geo",
           "hovertemplate": "<b>%{customdata[0]}</b><br><br>%{customdata[1]}, %{customdata[2]}<br>%{customdata[3]}<br>%{customdata[4]}<br>",
           "hovertext": [
            "Berlin",
            "Dresden",
            "Frankfurt am Main",
            "Freiburg im Breisgau",
            "Kiel",
            "Köln",
            "Leipzig",
            "Mannheim",
            "München",
            "Münster",
            "Ravensburg",
            "Rostock",
            "Stuttgart",
            "Paris",
            "London",
            "Zürich",
            "Wien",
            "Rom",
            "Amsterdam",
            "Prag",
            "Mailand",
            "Arrondissement de Marseille",
            "City of Brussels",
            "Warschau",
            "Hamburg"
           ],
           "ids": [
            "Berlin",
            "Dresden",
            "Frankfurt am Main",
            "Freiburg im Breisgau",
            "Kiel",
            "Köln",
            "Leipzig",
            "Mannheim",
            "München",
            "Münster",
            "Ravensburg",
            "Rostock",
            "Stuttgart",
            "Paris",
            "London",
            "Zürich",
            "Wien",
            "Rom",
            "Amsterdam",
            "Prag",
            "Mailand",
            "Arrondissement de Marseille",
            "City of Brussels",
            "Warschau",
            "Hamburg"
           ],
           "lat": [
            52.5244,
            51.0509,
            50.1167,
            47.9959,
            54.3213,
            50.9333,
            51.342,
            49.4883,
            48.1374,
            51.9624,
            47.7833,
            54.0887,
            48.7823,
            48.8534,
            51.5085,
            47.3667,
            48.2085,
            41.8947,
            52.374,
            50.088,
            45.4643,
            43.3333,
            50.8504,
            52.2298,
            53.55
           ],
           "legendgroup": "",
           "lon": [
            13.4105,
            13.7383,
            8.6833,
            7.8522,
            10.1349,
            6.95,
            12.375,
            8.4647,
            11.5755,
            7.6257,
            9.6167,
            12.1405,
            9.177,
            2.3488,
            -0.1257,
            8.55,
            16.3721,
            12.4839,
            4.8897,
            14.4208,
            9.1895,
            5.5,
            4.3488,
            21.0118,
            10
           ],
           "marker": {
            "color": [
             28.8,
             28.21,
             30.68,
             28.26,
             25.86,
             32.01,
             29.18,
             31.26,
             26.07,
             32.13,
             25.84,
             23.59,
             28.74,
             32.55,
             18.49,
             27.24,
             28.15,
             32.61,
             31.17,
             27.97,
             31.79,
             27.51,
             33.93,
             33.42,
             29.12
            ],
            "coloraxis": "coloraxis",
            "opacity": 1,
            "symbol": "circle"
           },
           "mode": "markers+text",
           "name": "",
           "showlegend": false,
           "text": [
            "28.8 °C",
            "28.2 °C",
            "30.7 °C",
            "28.3 °C",
            "25.9 °C",
            "32.0 °C",
            "29.2 °C",
            "31.3 °C",
            "26.1 °C",
            "32.1 °C",
            "25.8 °C",
            "23.6 °C",
            "28.7 °C",
            "32.6 °C",
            "18.5 °C",
            "27.2 °C",
            "28.2 °C",
            "32.6 °C",
            "31.2 °C",
            "28.0 °C",
            "31.8 °C",
            "27.5 °C",
            "33.9 °C",
            "33.4 °C",
            "29.1 °C"
           ],
           "type": "scattergeo"
          }
         ],
         "name": "2022-08-25 12:00:00"
        },
        {
         "data": [
          {
           "customdata": [
            [
             "Berlin",
             "☁️",
             "27.3 °C",
             "Bedeckt",
             "wear light clothes, drink a lot of water and don't forget suncream<br>"
            ],
            [
             "Dresden",
             "🌦️",
             "28.4 °C",
             "Leichter Regen",
             "wear light clothes, drink a lot of water and don't forget suncream<br>take an umbrella or a rain jacket with you<br>"
            ],
            [
             "Frankfurt am Main",
             "☀️",
             "31.9 °C",
             "Klarer Himmel",
             "wear light clothes, drink a lot of water and don't forget suncream<br>"
            ],
            [
             "Freiburg im Breisgau",
             "☁️",
             "28.2 °C",
             "Überwiegend bewölkt",
             "wear light clothes, drink a lot of water and don't forget suncream<br>"
            ],
            [
             "Kiel",
             "☁️",
             "24.5 °C",
             "Mäßig bewölkt",
             "wear light clothes and don't forget your sunnies!<br>watch out - your hat may get blown off<br>"
            ],
            [
             "Köln",
             "☀️",
             "33.0 °C",
             "Klarer Himmel",
             "wear light clothes, drink a lot of water and don't forget suncream<br>"
            ],
            [
             "Leipzig",
             "☁️",
             "29.8 °C",
             "Mäßig bewölkt",
             "wear light clothes, drink a lot of water and don't forget suncream<br>"
            ],
            [
             "Mannheim",
             "☀️",
             "32.9 °C",
             "Klarer Himmel",
             "wear light clothes, drink a lot of water and don't forget suncream<br>"
            ],
            [
             "München",
             "☀️",
             "26.9 °C",
             "Klarer Himmel",
             "wear light clothes, drink a lot of water and don't forget suncream<br>"
            ],
            [
             "Münster",
             "☀️",
             "32.9 °C",
             "Klarer Himmel",
             "wear light clothes, drink a lot of water and don't forget suncream<br>"
            ],
            [
             "Ravensburg",
             "☀️",
             "26.0 °C",
             "Klarer Himmel",
             "wear light clothes, drink a lot of water and don't forget suncream<br>"
            ],
            [
             "Rostock",
             "☁️",
             "24.3 °C",
             "Überwiegend bewölkt",
             "wear light clothes and don't forget your sunnies!<br>watch out - your hat may get blown off<br>"
            ],
            [
             "Stuttgart",
             "☁️",
             "29.6 °C",
             "Mäßig bewölkt",
             "wear light clothes, drink a lot of water and don't forget suncream<br>"
            ],
            [
             "Paris",
             "☁️",
             "30.5 °C",
             "Bedeckt",
             "wear light clothes, drink a lot of water and don't forget suncream<br>watch out - your hat may get blown off<br>"
            ],
            [
             "London",
             "🌦️",
             "20.1 °C",
             "Leichter Regen",
             "wear light clothes and don't forget your sunnies!<br>take an umbrella or a rain jacket with you<br>"
            ],
            [
             "Zürich",
             "☁️",
             "27.7 °C",
             "Mäßig bewölkt",
             "wear light clothes, drink a lot of water and don't forget suncream<br>"
            ],
            [
             "Wien",
             "☁️",
             "28.6 °C",
             "Überwiegend bewölkt",
             "wear light clothes, drink a lot of water and don't forget suncream<br>"
            ],
            [
             "Rom",
             "☀️",
             "31.4 °C",
             "Klarer Himmel",
             "wear light clothes, drink a lot of water and don't forget suncream<br>"
            ],
            [
             "Amsterdam",
             "☁️",
             "26.2 °C",
             "Überwiegend bewölkt",
             "wear light clothes, drink a lot of water and don't forget suncream<br>watch out - your hat may get blown off<br>"
            ],
            [
             "Prag",
             "☁️",
             "27.4 °C",
             "Bedeckt",
             "wear light clothes, drink a lot of water and don't forget suncream<br>"
            ],
            [
             "Mailand",
             "☀️",
             "32.6 °C",
             "Klarer Himmel",
             "wear light clothes, drink a lot of water and don't forget suncream<br>"
            ],
            [
             "Arrondissement de Marseille",
             "☁️",
             "27.1 °C",
             "Überwiegend bewölkt",
             "wear light clothes, drink a lot of water and don't forget suncream<br>"
            ],
            [
             "City of Brussels",
             "☁️",
             "26.3 °C",
             "Überwiegend bewölkt",
             "wear light clothes, drink a lot of water and don't forget suncream<br>watch out - your hat may get blown off<br>"
            ],
            [
             "Warschau",
             "☁️",
             "33.7 °C",
             "Überwiegend bewölkt",
             "wear light clothes, drink a lot of water and don't forget suncream<br>"
            ],
            [
             "Hamburg",
             "☁️",
             "29.4 °C",
             "Bedeckt",
             "wear light clothes, drink a lot of water and don't forget suncream<br>"
            ]
           ],
           "geo": "geo",
           "hovertemplate": "<b>%{customdata[0]}</b><br><br>%{customdata[1]}, %{customdata[2]}<br>%{customdata[3]}<br>%{customdata[4]}<br>",
           "hovertext": [
            "Berlin",
            "Dresden",
            "Frankfurt am Main",
            "Freiburg im Breisgau",
            "Kiel",
            "Köln",
            "Leipzig",
            "Mannheim",
            "München",
            "Münster",
            "Ravensburg",
            "Rostock",
            "Stuttgart",
            "Paris",
            "London",
            "Zürich",
            "Wien",
            "Rom",
            "Amsterdam",
            "Prag",
            "Mailand",
            "Arrondissement de Marseille",
            "City of Brussels",
            "Warschau",
            "Hamburg"
           ],
           "ids": [
            "Berlin",
            "Dresden",
            "Frankfurt am Main",
            "Freiburg im Breisgau",
            "Kiel",
            "Köln",
            "Leipzig",
            "Mannheim",
            "München",
            "Münster",
            "Ravensburg",
            "Rostock",
            "Stuttgart",
            "Paris",
            "London",
            "Zürich",
            "Wien",
            "Rom",
            "Amsterdam",
            "Prag",
            "Mailand",
            "Arrondissement de Marseille",
            "City of Brussels",
            "Warschau",
            "Hamburg"
           ],
           "lat": [
            52.5244,
            51.0509,
            50.1167,
            47.9959,
            54.3213,
            50.9333,
            51.342,
            49.4883,
            48.1374,
            51.9624,
            47.7833,
            54.0887,
            48.7823,
            48.8534,
            51.5085,
            47.3667,
            48.2085,
            41.8947,
            52.374,
            50.088,
            45.4643,
            43.3333,
            50.8504,
            52.2298,
            53.55
           ],
           "legendgroup": "",
           "lon": [
            13.4105,
            13.7383,
            8.6833,
            7.8522,
            10.1349,
            6.95,
            12.375,
            8.4647,
            11.5755,
            7.6257,
            9.6167,
            12.1405,
            9.177,
            2.3488,
            -0.1257,
            8.55,
            16.3721,
            12.4839,
            4.8897,
            14.4208,
            9.1895,
            5.5,
            4.3488,
            21.0118,
            10
           ],
           "marker": {
            "color": [
             27.27,
             28.38,
             31.91,
             28.21,
             24.53,
             33,
             29.77,
             32.89,
             26.91,
             32.87,
             26,
             24.34,
             29.62,
             30.47,
             20.09,
             27.71,
             28.63,
             31.35,
             26.2,
             27.36,
             32.58,
             27.07,
             26.26,
             33.68,
             29.38
            ],
            "coloraxis": "coloraxis",
            "opacity": 1,
            "symbol": "circle"
           },
           "mode": "markers+text",
           "name": "",
           "showlegend": false,
           "text": [
            "27.3 °C",
            "28.4 °C",
            "31.9 °C",
            "28.2 °C",
            "24.5 °C",
            "33.0 °C",
            "29.8 °C",
            "32.9 °C",
            "26.9 °C",
            "32.9 °C",
            "26.0 °C",
            "24.3 °C",
            "29.6 °C",
            "30.5 °C",
            "20.1 °C",
            "27.7 °C",
            "28.6 °C",
            "31.4 °C",
            "26.2 °C",
            "27.4 °C",
            "32.6 °C",
            "27.1 °C",
            "26.3 °C",
            "33.7 °C",
            "29.4 °C"
           ],
           "type": "scattergeo"
          }
         ],
         "name": "2022-08-25 15:00:00"
        },
        {
         "data": [
          {
           "customdata": [
            [
             "Berlin",
             "🌦️",
             "24.0 °C",
             "Leichter Regen",
             "wear light clothes and don't forget your sunnies!<br>take an umbrella or a rain jacket with you<br>"
            ],
            [
             "Dresden",
             "🌦️",
             "24.7 °C",
             "Leichter Regen",
             "wear light clothes and don't forget your sunnies!<br>take an umbrella or a rain jacket with you<br>"
            ],
            [
             "Frankfurt am Main",
             "🌤️",
             "28.4 °C",
             "Ein paar Wolken",
             "wear light clothes, drink a lot of water and don't forget suncream<br>"
            ],
            [
             "Freiburg im Breisgau",
             "☁️",
             "23.1 °C",
             "Überwiegend bewölkt",
             "wear light clothes and don't forget your sunnies!<br>"
            ],
            [
             "Kiel",
             "☁️",
             "21.0 °C",
             "Überwiegend bewölkt",
             "wear light clothes and don't forget your sunnies!<br>watch out - your hat may get blown off<br>"
            ],
            [
             "Köln",
             "☀️",
             "29.4 °C",
             "Klarer Himmel",
             "wear light clothes, drink a lot of water and don't forget suncream<br>"
            ],
            [
             "Leipzig",
             "☁️",
             "24.7 °C",
             "Mäßig bewölkt",
             "wear light clothes and don't forget your sunnies!<br>"
            ],
            [
             "Mannheim",
             "☁️",
             "30.2 °C",
             "Mäßig bewölkt",
             "wear light clothes, drink a lot of water and don't forget suncream<br>"
            ],
            [
             "München",
             "☀️",
             "21.2 °C",
             "Klarer Himmel",
             "wear light clothes and don't forget your sunnies!<br>"
            ],
            [
             "Münster",
             "☀️",
             "29.0 °C",
             "Klarer Himmel",
             "wear light clothes, drink a lot of water and don't forget suncream<br>"
            ],
            [
             "Ravensburg",
             "☀️",
             "20.1 °C",
             "Klarer Himmel",
             "wear light clothes and don't forget your sunnies!<br>"
            ],
            [
             "Rostock",
             "☁️",
             "21.1 °C",
             "Überwiegend bewölkt",
             "wear light clothes and don't forget your sunnies!<br>watch out - your hat may get blown off<br>"
            ],
            [
             "Stuttgart",
             "☁️",
             "25.4 °C",
             "Mäßig bewölkt",
             "wear light clothes, drink a lot of water and don't forget suncream<br>"
            ],
            [
             "Paris",
             "☁️",
             "26.8 °C",
             "Bedeckt",
             "wear light clothes, drink a lot of water and don't forget suncream<br>watch out - your hat may get blown off<br>"
            ],
            [
             "London",
             "🌦️",
             "19.2 °C",
             "Leichter Regen",
             "wear light clothes and don't forget your sunnies!<br>take an umbrella or a rain jacket with you<br>"
            ],
            [
             "Zürich",
             "☁️",
             "21.4 °C",
             "Mäßig bewölkt",
             "wear light clothes and don't forget your sunnies!<br>"
            ],
            [
             "Wien",
             "☁️🌙",
             "25.0 °C",
             "Überwiegend bewölkt",
             "it's bedtime"
            ],
            [
             "Rom",
             "🌕",
             "27.2 °C",
             "Klarer Himmel",
             "it's bedtime"
            ],
            [
             "Amsterdam",
             "☁️",
             "21.0 °C",
             "Überwiegend bewölkt",
             "wear light clothes and don't forget your sunnies!<br>watch out - your hat may get blown off<br>"
            ],
            [
             "Prag",
             "☁️",
             "24.0 °C",
             "Überwiegend bewölkt",
             "wear light clothes and don't forget your sunnies!<br>"
            ],
            [
             "Mailand",
             "☀️",
             "28.0 °C",
             "Klarer Himmel",
             "wear light clothes, drink a lot of water and don't forget suncream<br>"
            ],
            [
             "Arrondissement de Marseille",
             "☁️",
             "24.9 °C",
             "Überwiegend bewölkt",
             "wear light clothes and don't forget your sunnies!<br>"
            ],
            [
             "City of Brussels",
             "☁️",
             "22.5 °C",
             "Bedeckt",
             "wear light clothes and don't forget your sunnies!<br>watch out - your hat may get blown off<br>"
            ],
            [
             "Warschau",
             "☁️🌙",
             "28.8 °C",
             "Mäßig bewölkt",
             "it's bedtime"
            ],
            [
             "Hamburg",
             "☁️",
             "24.8 °C",
             "Bedeckt",
             "wear light clothes and don't forget your sunnies!<br>"
            ]
           ],
           "geo": "geo",
           "hovertemplate": "<b>%{customdata[0]}</b><br><br>%{customdata[1]}, %{customdata[2]}<br>%{customdata[3]}<br>%{customdata[4]}<br>",
           "hovertext": [
            "Berlin",
            "Dresden",
            "Frankfurt am Main",
            "Freiburg im Breisgau",
            "Kiel",
            "Köln",
            "Leipzig",
            "Mannheim",
            "München",
            "Münster",
            "Ravensburg",
            "Rostock",
            "Stuttgart",
            "Paris",
            "London",
            "Zürich",
            "Wien",
            "Rom",
            "Amsterdam",
            "Prag",
            "Mailand",
            "Arrondissement de Marseille",
            "City of Brussels",
            "Warschau",
            "Hamburg"
           ],
           "ids": [
            "Berlin",
            "Dresden",
            "Frankfurt am Main",
            "Freiburg im Breisgau",
            "Kiel",
            "Köln",
            "Leipzig",
            "Mannheim",
            "München",
            "Münster",
            "Ravensburg",
            "Rostock",
            "Stuttgart",
            "Paris",
            "London",
            "Zürich",
            "Wien",
            "Rom",
            "Amsterdam",
            "Prag",
            "Mailand",
            "Arrondissement de Marseille",
            "City of Brussels",
            "Warschau",
            "Hamburg"
           ],
           "lat": [
            52.5244,
            51.0509,
            50.1167,
            47.9959,
            54.3213,
            50.9333,
            51.342,
            49.4883,
            48.1374,
            51.9624,
            47.7833,
            54.0887,
            48.7823,
            48.8534,
            51.5085,
            47.3667,
            48.2085,
            41.8947,
            52.374,
            50.088,
            45.4643,
            43.3333,
            50.8504,
            52.2298,
            53.55
           ],
           "legendgroup": "",
           "lon": [
            13.4105,
            13.7383,
            8.6833,
            7.8522,
            10.1349,
            6.95,
            12.375,
            8.4647,
            11.5755,
            7.6257,
            9.6167,
            12.1405,
            9.177,
            2.3488,
            -0.1257,
            8.55,
            16.3721,
            12.4839,
            4.8897,
            14.4208,
            9.1895,
            5.5,
            4.3488,
            21.0118,
            10
           ],
           "marker": {
            "color": [
             23.96,
             24.73,
             28.45,
             23.13,
             21.01,
             29.43,
             24.72,
             30.15,
             21.2,
             29.03,
             20.07,
             21.09,
             25.43,
             26.77,
             19.19,
             21.4,
             24.99,
             27.23,
             20.98,
             23.97,
             28.01,
             24.87,
             22.5,
             28.77,
             24.77
            ],
            "coloraxis": "coloraxis",
            "opacity": 1,
            "symbol": "circle"
           },
           "mode": "markers+text",
           "name": "",
           "showlegend": false,
           "text": [
            "24.0 °C",
            "24.7 °C",
            "28.4 °C",
            "23.1 °C",
            "21.0 °C",
            "29.4 °C",
            "24.7 °C",
            "30.2 °C",
            "21.2 °C",
            "29.0 °C",
            "20.1 °C",
            "21.1 °C",
            "25.4 °C",
            "26.8 °C",
            "19.2 °C",
            "21.4 °C",
            "25.0 °C",
            "27.2 °C",
            "21.0 °C",
            "24.0 °C",
            "28.0 °C",
            "24.9 °C",
            "22.5 °C",
            "28.8 °C",
            "24.8 °C"
           ],
           "type": "scattergeo"
          }
         ],
         "name": "2022-08-25 18:00:00"
        },
        {
         "data": [
          {
           "customdata": [
            [
             "Berlin",
             "🌧️🌙",
             "22.0 °C",
             "Leichter Regen",
             "it's bedtime"
            ],
            [
             "Dresden",
             "☁️🌙",
             "22.8 °C",
             "Überwiegend bewölkt",
             "it's bedtime"
            ],
            [
             "Frankfurt am Main",
             "☁️🌙",
             "24.8 °C",
             "Ein paar Wolken",
             "it's bedtime"
            ],
            [
             "Freiburg im Breisgau",
             "☁️🌙",
             "20.5 °C",
             "Ein paar Wolken",
             "it's bedtime"
            ],
            [
             "Kiel",
             "☁️🌙",
             "19.2 °C",
             "Überwiegend bewölkt",
             "it's bedtime"
            ],
            [
             "Köln",
             "☁️🌙",
             "24.9 °C",
             "Überwiegend bewölkt",
             "it's bedtime"
            ],
            [
             "Leipzig",
             "☁️🌙",
             "22.5 °C",
             "Ein paar Wolken",
             "it's bedtime"
            ],
            [
             "Mannheim",
             "☁️🌙",
             "27.1 °C",
             "Bedeckt",
             "it's bedtime"
            ],
            [
             "München",
             "🌕",
             "18.3 °C",
             "Klarer Himmel",
             "it's bedtime"
            ],
            [
             "Münster",
             "☁️🌙",
             "22.9 °C",
             "Ein paar Wolken",
             "it's bedtime"
            ],
            [
             "Ravensburg",
             "🌕",
             "17.3 °C",
             "Klarer Himmel",
             "it's bedtime"
            ],
            [
             "Rostock",
             "☁️🌙",
             "20.0 °C",
             "Überwiegend bewölkt",
             "it's bedtime"
            ],
            [
             "Stuttgart",
             "☁️🌙",
             "22.0 °C",
             "Ein paar Wolken",
             "it's bedtime"
            ],
            [
             "Paris",
             "☁️🌙",
             "23.2 °C",
             "Bedeckt",
             "it's bedtime"
            ],
            [
             "London",
             "☁️🌙",
             "18.2 °C",
             "Überwiegend bewölkt",
             "it's bedtime"
            ],
            [
             "Zürich",
             "☁️🌙",
             "18.1 °C",
             "Mäßig bewölkt",
             "it's bedtime"
            ],
            [
             "Wien",
             "🌧️🌙",
             "22.8 °C",
             "Leichter Regen",
             "it's bedtime"
            ],
            [
             "Rom",
             "☁️🌙",
             "25.4 °C",
             "Mäßig bewölkt",
             "it's bedtime"
            ],
            [
             "Amsterdam",
             "🌧️🌙",
             "19.6 °C",
             "Leichter Regen",
             "it's bedtime"
            ],
            [
             "Prag",
             "🌧️🌙",
             "21.9 °C",
             "Leichter Regen",
             "it's bedtime"
            ],
            [
             "Mailand",
             "🌕",
             "25.0 °C",
             "Klarer Himmel",
             "it's bedtime"
            ],
            [
             "Arrondissement de Marseille",
             "☁️🌙",
             "24.1 °C",
             "Überwiegend bewölkt",
             "it's bedtime"
            ],
            [
             "City of Brussels",
             "☁️🌙",
             "20.3 °C",
             "Bedeckt",
             "it's bedtime"
            ],
            [
             "Warschau",
             "☁️🌙",
             "25.5 °C",
             "Bedeckt",
             "it's bedtime"
            ],
            [
             "Hamburg",
             "☁️🌙",
             "23.1 °C",
             "Bedeckt",
             "it's bedtime"
            ]
           ],
           "geo": "geo",
           "hovertemplate": "<b>%{customdata[0]}</b><br><br>%{customdata[1]}, %{customdata[2]}<br>%{customdata[3]}<br>%{customdata[4]}<br>",
           "hovertext": [
            "Berlin",
            "Dresden",
            "Frankfurt am Main",
            "Freiburg im Breisgau",
            "Kiel",
            "Köln",
            "Leipzig",
            "Mannheim",
            "München",
            "Münster",
            "Ravensburg",
            "Rostock",
            "Stuttgart",
            "Paris",
            "London",
            "Zürich",
            "Wien",
            "Rom",
            "Amsterdam",
            "Prag",
            "Mailand",
            "Arrondissement de Marseille",
            "City of Brussels",
            "Warschau",
            "Hamburg"
           ],
           "ids": [
            "Berlin",
            "Dresden",
            "Frankfurt am Main",
            "Freiburg im Breisgau",
            "Kiel",
            "Köln",
            "Leipzig",
            "Mannheim",
            "München",
            "Münster",
            "Ravensburg",
            "Rostock",
            "Stuttgart",
            "Paris",
            "London",
            "Zürich",
            "Wien",
            "Rom",
            "Amsterdam",
            "Prag",
            "Mailand",
            "Arrondissement de Marseille",
            "City of Brussels",
            "Warschau",
            "Hamburg"
           ],
           "lat": [
            52.5244,
            51.0509,
            50.1167,
            47.9959,
            54.3213,
            50.9333,
            51.342,
            49.4883,
            48.1374,
            51.9624,
            47.7833,
            54.0887,
            48.7823,
            48.8534,
            51.5085,
            47.3667,
            48.2085,
            41.8947,
            52.374,
            50.088,
            45.4643,
            43.3333,
            50.8504,
            52.2298,
            53.55
           ],
           "legendgroup": "",
           "lon": [
            13.4105,
            13.7383,
            8.6833,
            7.8522,
            10.1349,
            6.95,
            12.375,
            8.4647,
            11.5755,
            7.6257,
            9.6167,
            12.1405,
            9.177,
            2.3488,
            -0.1257,
            8.55,
            16.3721,
            12.4839,
            4.8897,
            14.4208,
            9.1895,
            5.5,
            4.3488,
            21.0118,
            10
           ],
           "marker": {
            "color": [
             21.99,
             22.81,
             24.81,
             20.51,
             19.18,
             24.89,
             22.54,
             27.12,
             18.29,
             22.87,
             17.27,
             19.97,
             22,
             23.16,
             18.2,
             18.08,
             22.77,
             25.42,
             19.64,
             21.94,
             24.95,
             24.08,
             20.26,
             25.47,
             23.11
            ],
            "coloraxis": "coloraxis",
            "opacity": 1,
            "symbol": "circle"
           },
           "mode": "markers+text",
           "name": "",
           "showlegend": false,
           "text": [
            "22.0 °C",
            "22.8 °C",
            "24.8 °C",
            "20.5 °C",
            "19.2 °C",
            "24.9 °C",
            "22.5 °C",
            "27.1 °C",
            "18.3 °C",
            "22.9 °C",
            "17.3 °C",
            "20.0 °C",
            "22.0 °C",
            "23.2 °C",
            "18.2 °C",
            "18.1 °C",
            "22.8 °C",
            "25.4 °C",
            "19.6 °C",
            "21.9 °C",
            "25.0 °C",
            "24.1 °C",
            "20.3 °C",
            "25.5 °C",
            "23.1 °C"
           ],
           "type": "scattergeo"
          }
         ],
         "name": "2022-08-25 21:00:00"
        },
        {
         "data": [
          {
           "customdata": [
            [
             "Berlin",
             "🌧️🌙",
             "20.4 °C",
             "Leichter Regen",
             "it's bedtime"
            ],
            [
             "Dresden",
             "🌧️🌙",
             "21.1 °C",
             "Leichter Regen",
             "it's bedtime"
            ],
            [
             "Frankfurt am Main",
             "☁️🌙",
             "22.7 °C",
             "Ein paar Wolken",
             "it's bedtime"
            ],
            [
             "Freiburg im Breisgau",
             "☁️🌙",
             "19.4 °C",
             "Ein paar Wolken",
             "it's bedtime"
            ],
            [
             "Kiel",
             "☁️🌙",
             "19.6 °C",
             "Überwiegend bewölkt",
             "it's bedtime"
            ],
            [
             "Köln",
             "☁️🌙",
             "21.2 °C",
             "Überwiegend bewölkt",
             "it's bedtime"
            ],
            [
             "Leipzig",
             "☁️🌙",
             "21.2 °C",
             "Mäßig bewölkt",
             "it's bedtime"
            ],
            [
             "Mannheim",
             "☁️🌙",
             "25.4 °C",
             "Überwiegend bewölkt",
             "it's bedtime"
            ],
            [
             "München",
             "🌕",
             "16.6 °C",
             "Klarer Himmel",
             "it's bedtime"
            ],
            [
             "Münster",
             "☁️🌙",
             "21.8 °C",
             "Ein paar Wolken",
             "it's bedtime"
            ],
            [
             "Ravensburg",
             "🌕",
             "16.0 °C",
             "Klarer Himmel",
             "it's bedtime"
            ],
            [
             "Rostock",
             "☁️🌙",
             "20.1 °C",
             "Überwiegend bewölkt",
             "it's bedtime"
            ],
            [
             "Stuttgart",
             "☁️🌙",
             "20.3 °C",
             "Ein paar Wolken",
             "it's bedtime"
            ],
            [
             "Paris",
             "☁️🌙",
             "20.3 °C",
             "Bedeckt",
             "it's bedtime"
            ],
            [
             "London",
             "☁️🌙",
             "17.2 °C",
             "Überwiegend bewölkt",
             "it's bedtime"
            ],
            [
             "Zürich",
             "☁️🌙",
             "16.4 °C",
             "Mäßig bewölkt",
             "it's bedtime"
            ],
            [
             "Wien",
             "☁️🌙",
             "21.0 °C",
             "Mäßig bewölkt",
             "it's bedtime"
            ],
            [
             "Rom",
             "☁️🌙",
             "24.6 °C",
             "Mäßig bewölkt",
             "it's bedtime"
            ],
            [
             "Amsterdam",
             "🌧️🌙",
             "19.1 °C",
             "Leichter Regen",
             "it's bedtime"
            ],
            [
             "Prag",
             "🌧️🌙",
             "19.8 °C",
             "Leichter Regen",
             "it's bedtime"
            ],
            [
             "Mailand",
             "☁️🌙",
             "23.3 °C",
             "Ein paar Wolken",
             "it's bedtime"
            ],
            [
             "Arrondissement de Marseille",
             "☁️🌙",
             "24.0 °C",
             "Überwiegend bewölkt",
             "it's bedtime"
            ],
            [
             "City of Brussels",
             "🌧️🌙",
             "19.1 °C",
             "Leichter Regen",
             "it's bedtime"
            ],
            [
             "Warschau",
             "☁️🌙",
             "23.4 °C",
             "Überwiegend bewölkt",
             "it's bedtime"
            ],
            [
             "Hamburg",
             "☁️🌙",
             "21.9 °C",
             "Bedeckt",
             "it's bedtime"
            ]
           ],
           "geo": "geo",
           "hovertemplate": "<b>%{customdata[0]}</b><br><br>%{customdata[1]}, %{customdata[2]}<br>%{customdata[3]}<br>%{customdata[4]}<br>",
           "hovertext": [
            "Berlin",
            "Dresden",
            "Frankfurt am Main",
            "Freiburg im Breisgau",
            "Kiel",
            "Köln",
            "Leipzig",
            "Mannheim",
            "München",
            "Münster",
            "Ravensburg",
            "Rostock",
            "Stuttgart",
            "Paris",
            "London",
            "Zürich",
            "Wien",
            "Rom",
            "Amsterdam",
            "Prag",
            "Mailand",
            "Arrondissement de Marseille",
            "City of Brussels",
            "Warschau",
            "Hamburg"
           ],
           "ids": [
            "Berlin",
            "Dresden",
            "Frankfurt am Main",
            "Freiburg im Breisgau",
            "Kiel",
            "Köln",
            "Leipzig",
            "Mannheim",
            "München",
            "Münster",
            "Ravensburg",
            "Rostock",
            "Stuttgart",
            "Paris",
            "London",
            "Zürich",
            "Wien",
            "Rom",
            "Amsterdam",
            "Prag",
            "Mailand",
            "Arrondissement de Marseille",
            "City of Brussels",
            "Warschau",
            "Hamburg"
           ],
           "lat": [
            52.5244,
            51.0509,
            50.1167,
            47.9959,
            54.3213,
            50.9333,
            51.342,
            49.4883,
            48.1374,
            51.9624,
            47.7833,
            54.0887,
            48.7823,
            48.8534,
            51.5085,
            47.3667,
            48.2085,
            41.8947,
            52.374,
            50.088,
            45.4643,
            43.3333,
            50.8504,
            52.2298,
            53.55
           ],
           "legendgroup": "",
           "lon": [
            13.4105,
            13.7383,
            8.6833,
            7.8522,
            10.1349,
            6.95,
            12.375,
            8.4647,
            11.5755,
            7.6257,
            9.6167,
            12.1405,
            9.177,
            2.3488,
            -0.1257,
            8.55,
            16.3721,
            12.4839,
            4.8897,
            14.4208,
            9.1895,
            5.5,
            4.3488,
            21.0118,
            10
           ],
           "marker": {
            "color": [
             20.44,
             21.07,
             22.68,
             19.45,
             19.65,
             21.23,
             21.15,
             25.43,
             16.63,
             21.81,
             15.97,
             20.12,
             20.28,
             20.33,
             17.22,
             16.43,
             20.99,
             24.56,
             19.09,
             19.79,
             23.34,
             23.99,
             19.14,
             23.45,
             21.87
            ],
            "coloraxis": "coloraxis",
            "opacity": 1,
            "symbol": "circle"
           },
           "mode": "markers+text",
           "name": "",
           "showlegend": false,
           "text": [
            "20.4 °C",
            "21.1 °C",
            "22.7 °C",
            "19.4 °C",
            "19.6 °C",
            "21.2 °C",
            "21.2 °C",
            "25.4 °C",
            "16.6 °C",
            "21.8 °C",
            "16.0 °C",
            "20.1 °C",
            "20.3 °C",
            "20.3 °C",
            "17.2 °C",
            "16.4 °C",
            "21.0 °C",
            "24.6 °C",
            "19.1 °C",
            "19.8 °C",
            "23.3 °C",
            "24.0 °C",
            "19.1 °C",
            "23.4 °C",
            "21.9 °C"
           ],
           "type": "scattergeo"
          }
         ],
         "name": "2022-08-26 00:00:00"
        },
        {
         "data": [
          {
           "customdata": [
            [
             "Berlin",
             "🌧️🌙",
             "19.8 °C",
             "Leichter Regen",
             "it's bedtime"
            ],
            [
             "Dresden",
             "☁️🌙",
             "20.1 °C",
             "Bedeckt",
             "it's bedtime"
            ],
            [
             "Frankfurt am Main",
             "🌕",
             "21.3 °C",
             "Klarer Himmel",
             "it's bedtime"
            ],
            [
             "Freiburg im Breisgau",
             "☁️🌙",
             "19.2 °C",
             "Bedeckt",
             "it's bedtime"
            ],
            [
             "Kiel",
             "☁️🌙",
             "19.6 °C",
             "Überwiegend bewölkt",
             "it's bedtime"
            ],
            [
             "Köln",
             "☁️🌙",
             "19.3 °C",
             "Bedeckt",
             "it's bedtime"
            ],
            [
             "Leipzig",
             "☁️🌙",
             "20.3 °C",
             "Bedeckt",
             "it's bedtime"
            ],
            [
             "Mannheim",
             "☁️🌙",
             "23.8 °C",
             "Ein paar Wolken",
             "it's bedtime"
            ],
            [
             "München",
             "🌕",
             "15.5 °C",
             "Klarer Himmel",
             "it's bedtime"
            ],
            [
             "Münster",
             "☁️🌙",
             "17.3 °C",
             "Überwiegend bewölkt",
             "it's bedtime"
            ],
            [
             "Ravensburg",
             "🌕",
             "15.0 °C",
             "Klarer Himmel",
             "it's bedtime"
            ],
            [
             "Rostock",
             "☁️🌙",
             "19.4 °C",
             "Überwiegend bewölkt",
             "it's bedtime"
            ],
            [
             "Stuttgart",
             "☁️🌙",
             "19.7 °C",
             "Überwiegend bewölkt",
             "it's bedtime"
            ],
            [
             "Paris",
             "☁️🌙",
             "19.5 °C",
             "Überwiegend bewölkt",
             "it's bedtime"
            ],
            [
             "London",
             "☁️🌙",
             "16.4 °C",
             "Überwiegend bewölkt",
             "it's bedtime"
            ],
            [
             "Zürich",
             "☁️🌙",
             "15.4 °C",
             "Bedeckt",
             "it's bedtime"
            ],
            [
             "Wien",
             "🌕",
             "20.0 °C",
             "Klarer Himmel",
             "it's bedtime"
            ],
            [
             "Rom",
             "🌕",
             "23.3 °C",
             "Klarer Himmel",
             "it's bedtime"
            ],
            [
             "Amsterdam",
             "🌧️🌙",
             "18.8 °C",
             "Leichter Regen",
             "it's bedtime"
            ],
            [
             "Prag",
             "☁️🌙",
             "18.9 °C",
             "Überwiegend bewölkt",
             "it's bedtime"
            ],
            [
             "Mailand",
             "☁️🌙",
             "22.2 °C",
             "Mäßig bewölkt",
             "it's bedtime"
            ],
            [
             "Arrondissement de Marseille",
             "☁️🌙",
             "23.4 °C",
             "Überwiegend bewölkt",
             "it's bedtime"
            ],
            [
             "City of Brussels",
             "🌧️🌙",
             "18.6 °C",
             "Leichter Regen",
             "it's bedtime"
            ],
            [
             "Warschau",
             "☁️🌙",
             "22.1 °C",
             "Überwiegend bewölkt",
             "it's bedtime"
            ],
            [
             "Hamburg",
             "☁️🌙",
             "19.6 °C",
             "Bedeckt",
             "it's bedtime"
            ]
           ],
           "geo": "geo",
           "hovertemplate": "<b>%{customdata[0]}</b><br><br>%{customdata[1]}, %{customdata[2]}<br>%{customdata[3]}<br>%{customdata[4]}<br>",
           "hovertext": [
            "Berlin",
            "Dresden",
            "Frankfurt am Main",
            "Freiburg im Breisgau",
            "Kiel",
            "Köln",
            "Leipzig",
            "Mannheim",
            "München",
            "Münster",
            "Ravensburg",
            "Rostock",
            "Stuttgart",
            "Paris",
            "London",
            "Zürich",
            "Wien",
            "Rom",
            "Amsterdam",
            "Prag",
            "Mailand",
            "Arrondissement de Marseille",
            "City of Brussels",
            "Warschau",
            "Hamburg"
           ],
           "ids": [
            "Berlin",
            "Dresden",
            "Frankfurt am Main",
            "Freiburg im Breisgau",
            "Kiel",
            "Köln",
            "Leipzig",
            "Mannheim",
            "München",
            "Münster",
            "Ravensburg",
            "Rostock",
            "Stuttgart",
            "Paris",
            "London",
            "Zürich",
            "Wien",
            "Rom",
            "Amsterdam",
            "Prag",
            "Mailand",
            "Arrondissement de Marseille",
            "City of Brussels",
            "Warschau",
            "Hamburg"
           ],
           "lat": [
            52.5244,
            51.0509,
            50.1167,
            47.9959,
            54.3213,
            50.9333,
            51.342,
            49.4883,
            48.1374,
            51.9624,
            47.7833,
            54.0887,
            48.7823,
            48.8534,
            51.5085,
            47.3667,
            48.2085,
            41.8947,
            52.374,
            50.088,
            45.4643,
            43.3333,
            50.8504,
            52.2298,
            53.55
           ],
           "legendgroup": "",
           "lon": [
            13.4105,
            13.7383,
            8.6833,
            7.8522,
            10.1349,
            6.95,
            12.375,
            8.4647,
            11.5755,
            7.6257,
            9.6167,
            12.1405,
            9.177,
            2.3488,
            -0.1257,
            8.55,
            16.3721,
            12.4839,
            4.8897,
            14.4208,
            9.1895,
            5.5,
            4.3488,
            21.0118,
            10
           ],
           "marker": {
            "color": [
             19.81,
             20.13,
             21.3,
             19.18,
             19.61,
             19.26,
             20.28,
             23.83,
             15.47,
             17.27,
             15.04,
             19.39,
             19.7,
             19.53,
             16.38,
             15.45,
             19.95,
             23.28,
             18.81,
             18.91,
             22.16,
             23.36,
             18.58,
             22.1,
             19.64
            ],
            "coloraxis": "coloraxis",
            "opacity": 1,
            "symbol": "circle"
           },
           "mode": "markers+text",
           "name": "",
           "showlegend": false,
           "text": [
            "19.8 °C",
            "20.1 °C",
            "21.3 °C",
            "19.2 °C",
            "19.6 °C",
            "19.3 °C",
            "20.3 °C",
            "23.8 °C",
            "15.5 °C",
            "17.3 °C",
            "15.0 °C",
            "19.4 °C",
            "19.7 °C",
            "19.5 °C",
            "16.4 °C",
            "15.4 °C",
            "20.0 °C",
            "23.3 °C",
            "18.8 °C",
            "18.9 °C",
            "22.2 °C",
            "23.4 °C",
            "18.6 °C",
            "22.1 °C",
            "19.6 °C"
           ],
           "type": "scattergeo"
          }
         ],
         "name": "2022-08-26 03:00:00"
        },
        {
         "data": [
          {
           "customdata": [
            [
             "Berlin",
             "🌦️",
             "21.3 °C",
             "Leichter Regen",
             "wear light clothes and don't forget your sunnies!<br>take an umbrella or a rain jacket with you<br>"
            ],
            [
             "Dresden",
             "☁️",
             "22.1 °C",
             "Überwiegend bewölkt",
             "wear light clothes and don't forget your sunnies!<br>"
            ],
            [
             "Frankfurt am Main",
             "☁️",
             "22.7 °C",
             "Mäßig bewölkt",
             "wear light clothes and don't forget your sunnies!<br>"
            ],
            [
             "Freiburg im Breisgau",
             "☁️",
             "20.5 °C",
             "Bedeckt",
             "wear light clothes and don't forget your sunnies!<br>"
            ],
            [
             "Kiel",
             "☁️",
             "20.8 °C",
             "Bedeckt",
             "wear light clothes and don't forget your sunnies!<br>"
            ],
            [
             "Köln",
             "🌦️",
             "20.2 °C",
             "Leichter Regen",
             "wear light clothes and don't forget your sunnies!<br>take an umbrella or a rain jacket with you<br>"
            ],
            [
             "Leipzig",
             "☁️",
             "22.2 °C",
             "Bedeckt",
             "wear light clothes and don't forget your sunnies!<br>"
            ],
            [
             "Mannheim",
             "☁️",
             "24.1 °C",
             "Überwiegend bewölkt",
             "wear light clothes and don't forget your sunnies!<br>"
            ],
            [
             "München",
             "☀️",
             "17.6 °C",
             "Klarer Himmel",
             "wear light clothes and don't forget your sunnies!<br>"
            ],
            [
             "Münster",
             "☁️",
             "18.8 °C",
             "Überwiegend bewölkt",
             "wear light clothes and don't forget your sunnies!<br>"
            ],
            [
             "Ravensburg",
             "☁️",
             "16.9 °C",
             "Mäßig bewölkt",
             "wear light clothes and don't forget your sunnies!<br>"
            ],
            [
             "Rostock",
             "🌦️",
             "20.2 °C",
             "Leichter Regen",
             "wear light clothes and don't forget your sunnies!<br>take an umbrella or a rain jacket with you<br>"
            ],
            [
             "Stuttgart",
             "☁️",
             "20.8 °C",
             "Überwiegend bewölkt",
             "wear light clothes and don't forget your sunnies!<br>"
            ],
            [
             "Paris",
             "☁️",
             "19.1 °C",
             "Bedeckt",
             "wear light clothes and don't forget your sunnies!<br>"
            ],
            [
             "London",
             "☁️",
             "16.0 °C",
             "Überwiegend bewölkt",
             "wear light clothes and don't forget your sunnies!<br>"
            ],
            [
             "Zürich",
             "☁️",
             "17.5 °C",
             "Überwiegend bewölkt",
             "wear light clothes and don't forget your sunnies!<br>"
            ],
            [
             "Wien",
             "☀️",
             "21.5 °C",
             "Klarer Himmel",
             "wear light clothes and don't forget your sunnies!<br>"
            ],
            [
             "Rom",
             "☀️",
             "24.4 °C",
             "Klarer Himmel",
             "wear light clothes and don't forget your sunnies!<br>"
            ],
            [
             "Amsterdam",
             "☁️",
             "18.7 °C",
             "Bedeckt",
             "wear light clothes and don't forget your sunnies!<br>"
            ],
            [
             "Prag",
             "☁️",
             "20.8 °C",
             "Überwiegend bewölkt",
             "wear light clothes and don't forget your sunnies!<br>"
            ],
            [
             "Mailand",
             "☁️",
             "22.9 °C",
             "Überwiegend bewölkt",
             "wear light clothes and don't forget your sunnies!<br>"
            ],
            [
             "Arrondissement de Marseille",
             "☁️",
             "23.2 °C",
             "Überwiegend bewölkt",
             "wear light clothes and don't forget your sunnies!<br>"
            ],
            [
             "City of Brussels",
             "☁️",
             "18.2 °C",
             "Bedeckt",
             "wear light clothes and don't forget your sunnies!<br>"
            ],
            [
             "Warschau",
             "☁️",
             "24.5 °C",
             "Mäßig bewölkt",
             "wear light clothes and don't forget your sunnies!<br>"
            ],
            [
             "Hamburg",
             "☁️",
             "21.1 °C",
             "Bedeckt",
             "wear light clothes and don't forget your sunnies!<br>"
            ]
           ],
           "geo": "geo",
           "hovertemplate": "<b>%{customdata[0]}</b><br><br>%{customdata[1]}, %{customdata[2]}<br>%{customdata[3]}<br>%{customdata[4]}<br>",
           "hovertext": [
            "Berlin",
            "Dresden",
            "Frankfurt am Main",
            "Freiburg im Breisgau",
            "Kiel",
            "Köln",
            "Leipzig",
            "Mannheim",
            "München",
            "Münster",
            "Ravensburg",
            "Rostock",
            "Stuttgart",
            "Paris",
            "London",
            "Zürich",
            "Wien",
            "Rom",
            "Amsterdam",
            "Prag",
            "Mailand",
            "Arrondissement de Marseille",
            "City of Brussels",
            "Warschau",
            "Hamburg"
           ],
           "ids": [
            "Berlin",
            "Dresden",
            "Frankfurt am Main",
            "Freiburg im Breisgau",
            "Kiel",
            "Köln",
            "Leipzig",
            "Mannheim",
            "München",
            "Münster",
            "Ravensburg",
            "Rostock",
            "Stuttgart",
            "Paris",
            "London",
            "Zürich",
            "Wien",
            "Rom",
            "Amsterdam",
            "Prag",
            "Mailand",
            "Arrondissement de Marseille",
            "City of Brussels",
            "Warschau",
            "Hamburg"
           ],
           "lat": [
            52.5244,
            51.0509,
            50.1167,
            47.9959,
            54.3213,
            50.9333,
            51.342,
            49.4883,
            48.1374,
            51.9624,
            47.7833,
            54.0887,
            48.7823,
            48.8534,
            51.5085,
            47.3667,
            48.2085,
            41.8947,
            52.374,
            50.088,
            45.4643,
            43.3333,
            50.8504,
            52.2298,
            53.55
           ],
           "legendgroup": "",
           "lon": [
            13.4105,
            13.7383,
            8.6833,
            7.8522,
            10.1349,
            6.95,
            12.375,
            8.4647,
            11.5755,
            7.6257,
            9.6167,
            12.1405,
            9.177,
            2.3488,
            -0.1257,
            8.55,
            16.3721,
            12.4839,
            4.8897,
            14.4208,
            9.1895,
            5.5,
            4.3488,
            21.0118,
            10
           ],
           "marker": {
            "color": [
             21.29,
             22.08,
             22.68,
             20.5,
             20.83,
             20.22,
             22.15,
             24.13,
             17.65,
             18.76,
             16.9,
             20.24,
             20.8,
             19.12,
             16.03,
             17.47,
             21.46,
             24.37,
             18.74,
             20.81,
             22.92,
             23.17,
             18.22,
             24.48,
             21.1
            ],
            "coloraxis": "coloraxis",
            "opacity": 1,
            "symbol": "circle"
           },
           "mode": "markers+text",
           "name": "",
           "showlegend": false,
           "text": [
            "21.3 °C",
            "22.1 °C",
            "22.7 °C",
            "20.5 °C",
            "20.8 °C",
            "20.2 °C",
            "22.2 °C",
            "24.1 °C",
            "17.6 °C",
            "18.8 °C",
            "16.9 °C",
            "20.2 °C",
            "20.8 °C",
            "19.1 °C",
            "16.0 °C",
            "17.5 °C",
            "21.5 °C",
            "24.4 °C",
            "18.7 °C",
            "20.8 °C",
            "22.9 °C",
            "23.2 °C",
            "18.2 °C",
            "24.5 °C",
            "21.1 °C"
           ],
           "type": "scattergeo"
          }
         ],
         "name": "2022-08-26 06:00:00"
        },
        {
         "data": [
          {
           "customdata": [
            [
             "Berlin",
             "☁️",
             "26.4 °C",
             "Bedeckt",
             "wear light clothes, drink a lot of water and don't forget suncream<br>"
            ],
            [
             "Dresden",
             "☁️",
             "27.6 °C",
             "Mäßig bewölkt",
             "wear light clothes, drink a lot of water and don't forget suncream<br>"
            ],
            [
             "Frankfurt am Main",
             "☁️",
             "27.5 °C",
             "Bedeckt",
             "wear light clothes, drink a lot of water and don't forget suncream<br>"
            ],
            [
             "Freiburg im Breisgau",
             "☁️",
             "25.0 °C",
             "Bedeckt",
             "wear light clothes, drink a lot of water and don't forget suncream<br>"
            ],
            [
             "Kiel",
             "☁️",
             "22.6 °C",
             "Bedeckt",
             "wear light clothes and don't forget your sunnies!<br>"
            ],
            [
             "Köln",
             "🌦️",
             "23.1 °C",
             "Leichter Regen",
             "wear light clothes and don't forget your sunnies!<br>take an umbrella or a rain jacket with you<br>"
            ],
            [
             "Leipzig",
             "☁️",
             "27.0 °C",
             "Bedeckt",
             "wear light clothes, drink a lot of water and don't forget suncream<br>"
            ],
            [
             "Mannheim",
             "☁️",
             "27.8 °C",
             "Bedeckt",
             "wear light clothes, drink a lot of water and don't forget suncream<br>"
            ],
            [
             "München",
             "☀️",
             "24.5 °C",
             "Klarer Himmel",
             "wear light clothes and don't forget your sunnies!<br>"
            ],
            [
             "Münster",
             "☁️",
             "24.7 °C",
             "Bedeckt",
             "wear light clothes and don't forget your sunnies!<br>"
            ],
            [
             "Ravensburg",
             "☁️",
             "23.4 °C",
             "Bedeckt",
             "wear light clothes and don't forget your sunnies!<br>"
            ],
            [
             "Rostock",
             "🌦️",
             "24.6 °C",
             "Leichter Regen",
             "wear light clothes and don't forget your sunnies!<br>take an umbrella or a rain jacket with you<br>"
            ],
            [
             "Stuttgart",
             "☁️",
             "24.5 °C",
             "Bedeckt",
             "wear light clothes and don't forget your sunnies!<br>"
            ],
            [
             "Paris",
             "🌤️",
             "23.2 °C",
             "Ein paar Wolken",
             "wear light clothes and don't forget your sunnies!<br>"
            ],
            [
             "London",
             "☁️",
             "19.7 °C",
             "Mäßig bewölkt",
             "wear light clothes and don't forget your sunnies!<br>"
            ],
            [
             "Zürich",
             "☁️",
             "24.5 °C",
             "Überwiegend bewölkt",
             "wear light clothes and don't forget your sunnies!<br>"
            ],
            [
             "Wien",
             "☀️",
             "26.3 °C",
             "Klarer Himmel",
             "wear light clothes, drink a lot of water and don't forget suncream<br>"
            ],
            [
             "Rom",
             "☀️",
             "30.5 °C",
             "Klarer Himmel",
             "wear light clothes, drink a lot of water and don't forget suncream<br>"
            ],
            [
             "Amsterdam",
             "☁️",
             "19.9 °C",
             "Bedeckt",
             "wear light clothes and don't forget your sunnies!<br>"
            ],
            [
             "Prag",
             "☀️",
             "25.8 °C",
             "Klarer Himmel",
             "wear light clothes, drink a lot of water and don't forget suncream<br>"
            ],
            [
             "Mailand",
             "☁️",
             "28.1 °C",
             "Bedeckt",
             "wear light clothes, drink a lot of water and don't forget suncream<br>"
            ],
            [
             "Arrondissement de Marseille",
             "☁️",
             "26.2 °C",
             "Überwiegend bewölkt",
             "wear light clothes, drink a lot of water and don't forget suncream<br>"
            ],
            [
             "City of Brussels",
             "☁️",
             "22.2 °C",
             "Bedeckt",
             "wear light clothes and don't forget your sunnies!<br>"
            ],
            [
             "Warschau",
             "🌤️",
             "30.5 °C",
             "Ein paar Wolken",
             "wear light clothes, drink a lot of water and don't forget suncream<br>"
            ],
            [
             "Hamburg",
             "☁️",
             "27.0 °C",
             "Bedeckt",
             "wear light clothes, drink a lot of water and don't forget suncream<br>"
            ]
           ],
           "geo": "geo",
           "hovertemplate": "<b>%{customdata[0]}</b><br><br>%{customdata[1]}, %{customdata[2]}<br>%{customdata[3]}<br>%{customdata[4]}<br>",
           "hovertext": [
            "Berlin",
            "Dresden",
            "Frankfurt am Main",
            "Freiburg im Breisgau",
            "Kiel",
            "Köln",
            "Leipzig",
            "Mannheim",
            "München",
            "Münster",
            "Ravensburg",
            "Rostock",
            "Stuttgart",
            "Paris",
            "London",
            "Zürich",
            "Wien",
            "Rom",
            "Amsterdam",
            "Prag",
            "Mailand",
            "Arrondissement de Marseille",
            "City of Brussels",
            "Warschau",
            "Hamburg"
           ],
           "ids": [
            "Berlin",
            "Dresden",
            "Frankfurt am Main",
            "Freiburg im Breisgau",
            "Kiel",
            "Köln",
            "Leipzig",
            "Mannheim",
            "München",
            "Münster",
            "Ravensburg",
            "Rostock",
            "Stuttgart",
            "Paris",
            "London",
            "Zürich",
            "Wien",
            "Rom",
            "Amsterdam",
            "Prag",
            "Mailand",
            "Arrondissement de Marseille",
            "City of Brussels",
            "Warschau",
            "Hamburg"
           ],
           "lat": [
            52.5244,
            51.0509,
            50.1167,
            47.9959,
            54.3213,
            50.9333,
            51.342,
            49.4883,
            48.1374,
            51.9624,
            47.7833,
            54.0887,
            48.7823,
            48.8534,
            51.5085,
            47.3667,
            48.2085,
            41.8947,
            52.374,
            50.088,
            45.4643,
            43.3333,
            50.8504,
            52.2298,
            53.55
           ],
           "legendgroup": "",
           "lon": [
            13.4105,
            13.7383,
            8.6833,
            7.8522,
            10.1349,
            6.95,
            12.375,
            8.4647,
            11.5755,
            7.6257,
            9.6167,
            12.1405,
            9.177,
            2.3488,
            -0.1257,
            8.55,
            16.3721,
            12.4839,
            4.8897,
            14.4208,
            9.1895,
            5.5,
            4.3488,
            21.0118,
            10
           ],
           "marker": {
            "color": [
             26.39,
             27.56,
             27.5,
             25.05,
             22.64,
             23.14,
             26.95,
             27.76,
             24.52,
             24.66,
             23.41,
             24.64,
             24.48,
             23.24,
             19.73,
             24.48,
             26.34,
             30.52,
             19.92,
             25.85,
             28.11,
             26.21,
             22.21,
             30.51,
             26.97
            ],
            "coloraxis": "coloraxis",
            "opacity": 1,
            "symbol": "circle"
           },
           "mode": "markers+text",
           "name": "",
           "showlegend": false,
           "text": [
            "26.4 °C",
            "27.6 °C",
            "27.5 °C",
            "25.0 °C",
            "22.6 °C",
            "23.1 °C",
            "27.0 °C",
            "27.8 °C",
            "24.5 °C",
            "24.7 °C",
            "23.4 °C",
            "24.6 °C",
            "24.5 °C",
            "23.2 °C",
            "19.7 °C",
            "24.5 °C",
            "26.3 °C",
            "30.5 °C",
            "19.9 °C",
            "25.8 °C",
            "28.1 °C",
            "26.2 °C",
            "22.2 °C",
            "30.5 °C",
            "27.0 °C"
           ],
           "type": "scattergeo"
          }
         ],
         "name": "2022-08-26 09:00:00"
        },
        {
         "data": [
          {
           "customdata": [
            [
             "Berlin",
             "☁️",
             "31.1 °C",
             "Überwiegend bewölkt",
             "wear light clothes, drink a lot of water and don't forget suncream<br>"
            ],
            [
             "Dresden",
             "🌤️",
             "30.6 °C",
             "Ein paar Wolken",
             "wear light clothes, drink a lot of water and don't forget suncream<br>"
            ],
            [
             "Frankfurt am Main",
             "☁️",
             "29.9 °C",
             "Bedeckt",
             "wear light clothes, drink a lot of water and don't forget suncream<br>"
            ],
            [
             "Freiburg im Breisgau",
             "☁️",
             "26.7 °C",
             "Bedeckt",
             "wear light clothes, drink a lot of water and don't forget suncream<br>"
            ],
            [
             "Kiel",
             "☁️",
             "28.1 °C",
             "Bedeckt",
             "wear light clothes, drink a lot of water and don't forget suncream<br>"
            ],
            [
             "Köln",
             "☁️",
             "25.9 °C",
             "Bedeckt",
             "wear light clothes, drink a lot of water and don't forget suncream<br>"
            ],
            [
             "Leipzig",
             "☁️",
             "29.7 °C",
             "Bedeckt",
             "wear light clothes, drink a lot of water and don't forget suncream<br>"
            ],
            [
             "Mannheim",
             "☁️",
             "30.7 °C",
             "Bedeckt",
             "wear light clothes, drink a lot of water and don't forget suncream<br>"
            ],
            [
             "München",
             "🌦️",
             "27.3 °C",
             "Leichter Regen",
             "wear light clothes, drink a lot of water and don't forget suncream<br>take an umbrella or a rain jacket with you<br>"
            ],
            [
             "Münster",
             "☁️",
             "25.0 °C",
             "Bedeckt",
             "wear light clothes, drink a lot of water and don't forget suncream<br>watch out - your hat may get blown off<br>"
            ],
            [
             "Ravensburg",
             "🌦️",
             "27.1 °C",
             "Leichter Regen",
             "wear light clothes, drink a lot of water and don't forget suncream<br>take an umbrella or a rain jacket with you<br>"
            ],
            [
             "Rostock",
             "🌦️",
             "27.4 °C",
             "Leichter Regen",
             "wear light clothes, drink a lot of water and don't forget suncream<br>take an umbrella or a rain jacket with you<br>"
            ],
            [
             "Stuttgart",
             "☁️",
             "26.3 °C",
             "Bedeckt",
             "wear light clothes, drink a lot of water and don't forget suncream<br>"
            ],
            [
             "Paris",
             "☁️",
             "26.6 °C",
             "Mäßig bewölkt",
             "wear light clothes, drink a lot of water and don't forget suncream<br>"
            ],
            [
             "London",
             "☁️",
             "23.2 °C",
             "Mäßig bewölkt",
             "wear light clothes and don't forget your sunnies!<br>"
            ],
            [
             "Zürich",
             "☁️",
             "28.0 °C",
             "Überwiegend bewölkt",
             "wear light clothes, drink a lot of water and don't forget suncream<br>"
            ],
            [
             "Wien",
             "☀️",
             "29.9 °C",
             "Klarer Himmel",
             "wear light clothes, drink a lot of water and don't forget suncream<br>"
            ],
            [
             "Rom",
             "☀️",
             "33.4 °C",
             "Klarer Himmel",
             "wear light clothes, drink a lot of water and don't forget suncream<br>"
            ],
            [
             "Amsterdam",
             "☁️",
             "20.7 °C",
             "Bedeckt",
             "wear light clothes and don't forget your sunnies!<br>"
            ],
            [
             "Prag",
             "🌦️",
             "28.8 °C",
             "Leichter Regen",
             "wear light clothes, drink a lot of water and don't forget suncream<br>take an umbrella or a rain jacket with you<br>"
            ],
            [
             "Mailand",
             "☁️",
             "32.2 °C",
             "Bedeckt",
             "wear light clothes, drink a lot of water and don't forget suncream<br>"
            ],
            [
             "Arrondissement de Marseille",
             "☁️",
             "27.9 °C",
             "Bedeckt",
             "wear light clothes, drink a lot of water and don't forget suncream<br>"
            ],
            [
             "City of Brussels",
             "☁️",
             "24.2 °C",
             "Überwiegend bewölkt",
             "wear light clothes and don't forget your sunnies!<br>"
            ],
            [
             "Warschau",
             "🌤️",
             "33.6 °C",
             "Ein paar Wolken",
             "wear light clothes, drink a lot of water and don't forget suncream<br>"
            ],
            [
             "Hamburg",
             "☁️",
             "32.2 °C",
             "Überwiegend bewölkt",
             "wear light clothes, drink a lot of water and don't forget suncream<br>"
            ]
           ],
           "geo": "geo",
           "hovertemplate": "<b>%{customdata[0]}</b><br><br>%{customdata[1]}, %{customdata[2]}<br>%{customdata[3]}<br>%{customdata[4]}<br>",
           "hovertext": [
            "Berlin",
            "Dresden",
            "Frankfurt am Main",
            "Freiburg im Breisgau",
            "Kiel",
            "Köln",
            "Leipzig",
            "Mannheim",
            "München",
            "Münster",
            "Ravensburg",
            "Rostock",
            "Stuttgart",
            "Paris",
            "London",
            "Zürich",
            "Wien",
            "Rom",
            "Amsterdam",
            "Prag",
            "Mailand",
            "Arrondissement de Marseille",
            "City of Brussels",
            "Warschau",
            "Hamburg"
           ],
           "ids": [
            "Berlin",
            "Dresden",
            "Frankfurt am Main",
            "Freiburg im Breisgau",
            "Kiel",
            "Köln",
            "Leipzig",
            "Mannheim",
            "München",
            "Münster",
            "Ravensburg",
            "Rostock",
            "Stuttgart",
            "Paris",
            "London",
            "Zürich",
            "Wien",
            "Rom",
            "Amsterdam",
            "Prag",
            "Mailand",
            "Arrondissement de Marseille",
            "City of Brussels",
            "Warschau",
            "Hamburg"
           ],
           "lat": [
            52.5244,
            51.0509,
            50.1167,
            47.9959,
            54.3213,
            50.9333,
            51.342,
            49.4883,
            48.1374,
            51.9624,
            47.7833,
            54.0887,
            48.7823,
            48.8534,
            51.5085,
            47.3667,
            48.2085,
            41.8947,
            52.374,
            50.088,
            45.4643,
            43.3333,
            50.8504,
            52.2298,
            53.55
           ],
           "legendgroup": "",
           "lon": [
            13.4105,
            13.7383,
            8.6833,
            7.8522,
            10.1349,
            6.95,
            12.375,
            8.4647,
            11.5755,
            7.6257,
            9.6167,
            12.1405,
            9.177,
            2.3488,
            -0.1257,
            8.55,
            16.3721,
            12.4839,
            4.8897,
            14.4208,
            9.1895,
            5.5,
            4.3488,
            21.0118,
            10
           ],
           "marker": {
            "color": [
             31.1,
             30.6,
             29.92,
             26.71,
             28.08,
             25.9,
             29.73,
             30.66,
             27.34,
             25.03,
             27.1,
             27.37,
             26.28,
             26.64,
             23.25,
             28.01,
             29.94,
             33.39,
             20.74,
             28.81,
             32.24,
             27.87,
             24.2,
             33.59,
             32.25
            ],
            "coloraxis": "coloraxis",
            "opacity": 1,
            "symbol": "circle"
           },
           "mode": "markers+text",
           "name": "",
           "showlegend": false,
           "text": [
            "31.1 °C",
            "30.6 °C",
            "29.9 °C",
            "26.7 °C",
            "28.1 °C",
            "25.9 °C",
            "29.7 °C",
            "30.7 °C",
            "27.3 °C",
            "25.0 °C",
            "27.1 °C",
            "27.4 °C",
            "26.3 °C",
            "26.6 °C",
            "23.2 °C",
            "28.0 °C",
            "29.9 °C",
            "33.4 °C",
            "20.7 °C",
            "28.8 °C",
            "32.2 °C",
            "27.9 °C",
            "24.2 °C",
            "33.6 °C",
            "32.2 °C"
           ],
           "type": "scattergeo"
          }
         ],
         "name": "2022-08-26 12:00:00"
        },
        {
         "data": [
          {
           "customdata": [
            [
             "Berlin",
             "☁️",
             "32.0 °C",
             "Mäßig bewölkt",
             "wear light clothes, drink a lot of water and don't forget suncream<br>"
            ],
            [
             "Dresden",
             "🌦️",
             "26.8 °C",
             "Leichter Regen",
             "wear light clothes, drink a lot of water and don't forget suncream<br>take an umbrella or a rain jacket with you<br>"
            ],
            [
             "Frankfurt am Main",
             "☁️",
             "30.6 °C",
             "Bedeckt",
             "wear light clothes, drink a lot of water and don't forget suncream<br>"
            ],
            [
             "Freiburg im Breisgau",
             "☁️",
             "27.4 °C",
             "Bedeckt",
             "wear light clothes, drink a lot of water and don't forget suncream<br>"
            ],
            [
             "Kiel",
             "☁️",
             "26.4 °C",
             "Überwiegend bewölkt",
             "wear light clothes, drink a lot of water and don't forget suncream<br>"
            ],
            [
             "Köln",
             "☁️",
             "27.5 °C",
             "Bedeckt",
             "wear light clothes, drink a lot of water and don't forget suncream<br>"
            ],
            [
             "Leipzig",
             "☁️",
             "29.0 °C",
             "Bedeckt",
             "wear light clothes, drink a lot of water and don't forget suncream<br>"
            ],
            [
             "Mannheim",
             "☁️",
             "31.0 °C",
             "Bedeckt",
             "wear light clothes, drink a lot of water and don't forget suncream<br>"
            ],
            [
             "München",
             "☁️",
             "25.9 °C",
             "Mäßig bewölkt",
             "wear light clothes, drink a lot of water and don't forget suncream<br>"
            ],
            [
             "Münster",
             "☁️",
             "23.4 °C",
             "Bedeckt",
             "wear light clothes and don't forget your sunnies!<br>"
            ],
            [
             "Ravensburg",
             "🌦️",
             "25.7 °C",
             "Leichter Regen",
             "wear light clothes, drink a lot of water and don't forget suncream<br>take an umbrella or a rain jacket with you<br>"
            ],
            [
             "Rostock",
             "🌦️",
             "27.6 °C",
             "Leichter Regen",
             "wear light clothes, drink a lot of water and don't forget suncream<br>take an umbrella or a rain jacket with you<br>"
            ],
            [
             "Stuttgart",
             "☁️",
             "28.7 °C",
             "Bedeckt",
             "wear light clothes, drink a lot of water and don't forget suncream<br>"
            ],
            [
             "Paris",
             "☁️",
             "26.0 °C",
             "Bedeckt",
             "wear light clothes, drink a lot of water and don't forget suncream<br>"
            ],
            [
             "London",
             "☁️",
             "24.6 °C",
             "Mäßig bewölkt",
             "wear light clothes and don't forget your sunnies!<br>"
            ],
            [
             "Zürich",
             "☁️",
             "27.2 °C",
             "Bedeckt",
             "wear light clothes, drink a lot of water and don't forget suncream<br>"
            ],
            [
             "Wien",
             "🌦️",
             "29.9 °C",
             "Leichter Regen",
             "wear light clothes, drink a lot of water and don't forget suncream<br>take an umbrella or a rain jacket with you<br>"
            ],
            [
             "Rom",
             "☀️",
             "31.8 °C",
             "Klarer Himmel",
             "wear light clothes, drink a lot of water and don't forget suncream<br>watch out - your hat may get blown off<br>"
            ],
            [
             "Amsterdam",
             "☁️",
             "20.3 °C",
             "Bedeckt",
             "wear light clothes and don't forget your sunnies!<br>"
            ],
            [
             "Prag",
             "🌦️",
             "26.0 °C",
             "Leichter Regen",
             "wear light clothes, drink a lot of water and don't forget suncream<br>take an umbrella or a rain jacket with you<br>"
            ],
            [
             "Mailand",
             "☁️",
             "32.6 °C",
             "Bedeckt",
             "wear light clothes, drink a lot of water and don't forget suncream<br>"
            ],
            [
             "Arrondissement de Marseille",
             "☁️",
             "28.3 °C",
             "Mäßig bewölkt",
             "wear light clothes, drink a lot of water and don't forget suncream<br>"
            ],
            [
             "City of Brussels",
             "☁️",
             "23.4 °C",
             "Bedeckt",
             "wear light clothes and don't forget your sunnies!<br>"
            ],
            [
             "Warschau",
             "☀️",
             "33.1 °C",
             "Klarer Himmel",
             "wear light clothes, drink a lot of water and don't forget suncream<br>"
            ],
            [
             "Hamburg",
             "🌦️",
             "21.9 °C",
             "Leichter Regen",
             "wear light clothes and don't forget your sunnies!<br>take an umbrella or a rain jacket with you<br>watch out - your hat may get blown off<br>"
            ]
           ],
           "geo": "geo",
           "hovertemplate": "<b>%{customdata[0]}</b><br><br>%{customdata[1]}, %{customdata[2]}<br>%{customdata[3]}<br>%{customdata[4]}<br>",
           "hovertext": [
            "Berlin",
            "Dresden",
            "Frankfurt am Main",
            "Freiburg im Breisgau",
            "Kiel",
            "Köln",
            "Leipzig",
            "Mannheim",
            "München",
            "Münster",
            "Ravensburg",
            "Rostock",
            "Stuttgart",
            "Paris",
            "London",
            "Zürich",
            "Wien",
            "Rom",
            "Amsterdam",
            "Prag",
            "Mailand",
            "Arrondissement de Marseille",
            "City of Brussels",
            "Warschau",
            "Hamburg"
           ],
           "ids": [
            "Berlin",
            "Dresden",
            "Frankfurt am Main",
            "Freiburg im Breisgau",
            "Kiel",
            "Köln",
            "Leipzig",
            "Mannheim",
            "München",
            "Münster",
            "Ravensburg",
            "Rostock",
            "Stuttgart",
            "Paris",
            "London",
            "Zürich",
            "Wien",
            "Rom",
            "Amsterdam",
            "Prag",
            "Mailand",
            "Arrondissement de Marseille",
            "City of Brussels",
            "Warschau",
            "Hamburg"
           ],
           "lat": [
            52.5244,
            51.0509,
            50.1167,
            47.9959,
            54.3213,
            50.9333,
            51.342,
            49.4883,
            48.1374,
            51.9624,
            47.7833,
            54.0887,
            48.7823,
            48.8534,
            51.5085,
            47.3667,
            48.2085,
            41.8947,
            52.374,
            50.088,
            45.4643,
            43.3333,
            50.8504,
            52.2298,
            53.55
           ],
           "legendgroup": "",
           "lon": [
            13.4105,
            13.7383,
            8.6833,
            7.8522,
            10.1349,
            6.95,
            12.375,
            8.4647,
            11.5755,
            7.6257,
            9.6167,
            12.1405,
            9.177,
            2.3488,
            -0.1257,
            8.55,
            16.3721,
            12.4839,
            4.8897,
            14.4208,
            9.1895,
            5.5,
            4.3488,
            21.0118,
            10
           ],
           "marker": {
            "color": [
             32.02,
             26.81,
             30.59,
             27.36,
             26.44,
             27.49,
             28.99,
             31.05,
             25.93,
             23.37,
             25.69,
             27.61,
             28.72,
             25.99,
             24.61,
             27.18,
             29.87,
             31.82,
             20.29,
             25.95,
             32.55,
             28.26,
             23.37,
             33.11,
             21.92
            ],
            "coloraxis": "coloraxis",
            "opacity": 1,
            "symbol": "circle"
           },
           "mode": "markers+text",
           "name": "",
           "showlegend": false,
           "text": [
            "32.0 °C",
            "26.8 °C",
            "30.6 °C",
            "27.4 °C",
            "26.4 °C",
            "27.5 °C",
            "29.0 °C",
            "31.0 °C",
            "25.9 °C",
            "23.4 °C",
            "25.7 °C",
            "27.6 °C",
            "28.7 °C",
            "26.0 °C",
            "24.6 °C",
            "27.2 °C",
            "29.9 °C",
            "31.8 °C",
            "20.3 °C",
            "26.0 °C",
            "32.6 °C",
            "28.3 °C",
            "23.4 °C",
            "33.1 °C",
            "21.9 °C"
           ],
           "type": "scattergeo"
          }
         ],
         "name": "2022-08-26 15:00:00"
        },
        {
         "data": [
          {
           "customdata": [
            [
             "Berlin",
             "🌦️",
             "27.3 °C",
             "Leichter Regen",
             "wear light clothes, drink a lot of water and don't forget suncream<br>take an umbrella or a rain jacket with you<br>"
            ],
            [
             "Dresden",
             "🌦️",
             "20.5 °C",
             "Mäßiger Regen",
             "wear light clothes and don't forget your sunnies!<br>take an umbrella or a rain jacket with you<br>"
            ],
            [
             "Frankfurt am Main",
             "🌦️",
             "24.4 °C",
             "Leichter Regen",
             "wear light clothes and don't forget your sunnies!<br>take an umbrella or a rain jacket with you<br>"
            ],
            [
             "Freiburg im Breisgau",
             "🌦️",
             "22.6 °C",
             "Leichter Regen",
             "wear light clothes and don't forget your sunnies!<br>take an umbrella or a rain jacket with you<br>"
            ],
            [
             "Kiel",
             "🌦️",
             "20.6 °C",
             "Mäßiger Regen",
             "wear light clothes and don't forget your sunnies!<br>take an umbrella or a rain jacket with you<br>"
            ],
            [
             "Köln",
             "☁️",
             "24.8 °C",
             "Bedeckt",
             "wear light clothes and don't forget your sunnies!<br>"
            ],
            [
             "Leipzig",
             "🌦️",
             "21.3 °C",
             "Mäßiger Regen",
             "wear light clothes and don't forget your sunnies!<br>take an umbrella or a rain jacket with you<br>"
            ],
            [
             "Mannheim",
             "🌦️",
             "22.7 °C",
             "Leichter Regen",
             "wear light clothes and don't forget your sunnies!<br>take an umbrella or a rain jacket with you<br>watch out - your hat may get blown off<br>"
            ],
            [
             "München",
             "🌦️",
             "19.6 °C",
             "Leichter Regen",
             "wear light clothes and don't forget your sunnies!<br>take an umbrella or a rain jacket with you<br>"
            ],
            [
             "Münster",
             "🌦️",
             "23.2 °C",
             "Leichter Regen",
             "wear light clothes and don't forget your sunnies!<br>take an umbrella or a rain jacket with you<br>"
            ],
            [
             "Ravensburg",
             "🌦️",
             "19.3 °C",
             "Leichter Regen",
             "wear light clothes and don't forget your sunnies!<br>take an umbrella or a rain jacket with you<br>"
            ],
            [
             "Rostock",
             "🌦️",
             "22.8 °C",
             "Leichter Regen",
             "wear light clothes and don't forget your sunnies!<br>take an umbrella or a rain jacket with you<br>"
            ],
            [
             "Stuttgart",
             "☁️",
             "24.4 °C",
             "Bedeckt",
             "wear light clothes and don't forget your sunnies!<br>"
            ],
            [
             "Paris",
             "☁️",
             "24.5 °C",
             "Bedeckt",
             "wear light clothes and don't forget your sunnies!<br>"
            ],
            [
             "London",
             "☁️",
             "22.9 °C",
             "Überwiegend bewölkt",
             "wear light clothes and don't forget your sunnies!<br>"
            ],
            [
             "Zürich",
             "🌦️",
             "21.6 °C",
             "Leichter Regen",
             "wear light clothes and don't forget your sunnies!<br>take an umbrella or a rain jacket with you<br>"
            ],
            [
             "Wien",
             "🌧️🌙",
             "22.1 °C",
             "Leichter Regen",
             "it's bedtime"
            ],
            [
             "Rom",
             "☁️🌙",
             "28.0 °C",
             "Ein paar Wolken",
             "it's bedtime"
            ],
            [
             "Amsterdam",
             "☁️",
             "18.8 °C",
             "Bedeckt",
             "wear light clothes and don't forget your sunnies!<br>"
            ],
            [
             "Prag",
             "🌦️",
             "22.3 °C",
             "Leichter Regen",
             "wear light clothes and don't forget your sunnies!<br>take an umbrella or a rain jacket with you<br>"
            ],
            [
             "Mailand",
             "☁️",
             "28.9 °C",
             "Bedeckt",
             "wear light clothes, drink a lot of water and don't forget suncream<br>"
            ],
            [
             "Arrondissement de Marseille",
             "🌤️",
             "26.7 °C",
             "Ein paar Wolken",
             "wear light clothes, drink a lot of water and don't forget suncream<br>"
            ],
            [
             "City of Brussels",
             "☁️",
             "20.5 °C",
             "Bedeckt",
             "wear light clothes and don't forget your sunnies!<br>"
            ],
            [
             "Warschau",
             "🌕",
             "27.9 °C",
             "Klarer Himmel",
             "it's bedtime"
            ],
            [
             "Hamburg",
             "🌦️",
             "20.5 °C",
             "Leichter Regen",
             "wear light clothes and don't forget your sunnies!<br>take an umbrella or a rain jacket with you<br>"
            ]
           ],
           "geo": "geo",
           "hovertemplate": "<b>%{customdata[0]}</b><br><br>%{customdata[1]}, %{customdata[2]}<br>%{customdata[3]}<br>%{customdata[4]}<br>",
           "hovertext": [
            "Berlin",
            "Dresden",
            "Frankfurt am Main",
            "Freiburg im Breisgau",
            "Kiel",
            "Köln",
            "Leipzig",
            "Mannheim",
            "München",
            "Münster",
            "Ravensburg",
            "Rostock",
            "Stuttgart",
            "Paris",
            "London",
            "Zürich",
            "Wien",
            "Rom",
            "Amsterdam",
            "Prag",
            "Mailand",
            "Arrondissement de Marseille",
            "City of Brussels",
            "Warschau",
            "Hamburg"
           ],
           "ids": [
            "Berlin",
            "Dresden",
            "Frankfurt am Main",
            "Freiburg im Breisgau",
            "Kiel",
            "Köln",
            "Leipzig",
            "Mannheim",
            "München",
            "Münster",
            "Ravensburg",
            "Rostock",
            "Stuttgart",
            "Paris",
            "London",
            "Zürich",
            "Wien",
            "Rom",
            "Amsterdam",
            "Prag",
            "Mailand",
            "Arrondissement de Marseille",
            "City of Brussels",
            "Warschau",
            "Hamburg"
           ],
           "lat": [
            52.5244,
            51.0509,
            50.1167,
            47.9959,
            54.3213,
            50.9333,
            51.342,
            49.4883,
            48.1374,
            51.9624,
            47.7833,
            54.0887,
            48.7823,
            48.8534,
            51.5085,
            47.3667,
            48.2085,
            41.8947,
            52.374,
            50.088,
            45.4643,
            43.3333,
            50.8504,
            52.2298,
            53.55
           ],
           "legendgroup": "",
           "lon": [
            13.4105,
            13.7383,
            8.6833,
            7.8522,
            10.1349,
            6.95,
            12.375,
            8.4647,
            11.5755,
            7.6257,
            9.6167,
            12.1405,
            9.177,
            2.3488,
            -0.1257,
            8.55,
            16.3721,
            12.4839,
            4.8897,
            14.4208,
            9.1895,
            5.5,
            4.3488,
            21.0118,
            10
           ],
           "marker": {
            "color": [
             27.3,
             20.51,
             24.43,
             22.59,
             20.59,
             24.82,
             21.29,
             22.7,
             19.58,
             23.24,
             19.34,
             22.83,
             24.37,
             24.54,
             22.87,
             21.64,
             22.12,
             27.96,
             18.83,
             22.28,
             28.92,
             26.72,
             20.54,
             27.89,
             20.51
            ],
            "coloraxis": "coloraxis",
            "opacity": 1,
            "symbol": "circle"
           },
           "mode": "markers+text",
           "name": "",
           "showlegend": false,
           "text": [
            "27.3 °C",
            "20.5 °C",
            "24.4 °C",
            "22.6 °C",
            "20.6 °C",
            "24.8 °C",
            "21.3 °C",
            "22.7 °C",
            "19.6 °C",
            "23.2 °C",
            "19.3 °C",
            "22.8 °C",
            "24.4 °C",
            "24.5 °C",
            "22.9 °C",
            "21.6 °C",
            "22.1 °C",
            "28.0 °C",
            "18.8 °C",
            "22.3 °C",
            "28.9 °C",
            "26.7 °C",
            "20.5 °C",
            "27.9 °C",
            "20.5 °C"
           ],
           "type": "scattergeo"
          }
         ],
         "name": "2022-08-26 18:00:00"
        },
        {
         "data": [
          {
           "customdata": [
            [
             "Berlin",
             "🌧️🌙",
             "22.1 °C",
             "Leichter Regen",
             "it's bedtime"
            ],
            [
             "Dresden",
             "🌧️🌙",
             "20.0 °C",
             "Leichter Regen",
             "it's bedtime"
            ],
            [
             "Frankfurt am Main",
             "🌧️🌙",
             "21.2 °C",
             "Leichter Regen",
             "it's bedtime"
            ],
            [
             "Freiburg im Breisgau",
             "🌧️🌙",
             "18.3 °C",
             "Leichter Regen",
             "it's bedtime"
            ],
            [
             "Kiel",
             "🌧️🌙",
             "18.9 °C",
             "Mäßiger Regen",
             "it's bedtime"
            ],
            [
             "Köln",
             "☁️🌙",
             "21.2 °C",
             "Überwiegend bewölkt",
             "it's bedtime"
            ],
            [
             "Leipzig",
             "🌧️🌙",
             "20.0 °C",
             "Leichter Regen",
             "it's bedtime"
            ],
            [
             "Mannheim",
             "🌧️🌙",
             "22.4 °C",
             "Leichter Regen",
             "it's bedtime"
            ],
            [
             "München",
             "🌧️🌙",
             "17.1 °C",
             "Leichter Regen",
             "it's bedtime"
            ],
            [
             "Münster",
             "☁️🌙",
             "17.4 °C",
             "Überwiegend bewölkt",
             "it's bedtime"
            ],
            [
             "Ravensburg",
             "🌧️🌙",
             "18.1 °C",
             "Leichter Regen",
             "it's bedtime"
            ],
            [
             "Rostock",
             "🌧️🌙",
             "19.7 °C",
             "Mäßiger Regen",
             "it's bedtime"
            ],
            [
             "Stuttgart",
             "🌧️🌙",
             "19.7 °C",
             "Leichter Regen",
             "it's bedtime"
            ],
            [
             "Paris",
             "☁️🌙",
             "21.1 °C",
             "Bedeckt",
             "it's bedtime"
            ],
            [
             "London",
             "☁️🌙",
             "20.6 °C",
             "Bedeckt",
             "it's bedtime"
            ],
            [
             "Zürich",
             "🌧️🌙",
             "19.2 °C",
             "Leichter Regen",
             "it's bedtime"
            ],
            [
             "Wien",
             "🌧️🌙",
             "20.7 °C",
             "Leichter Regen",
             "it's bedtime"
            ],
            [
             "Rom",
             "🌕",
             "25.7 °C",
             "Klarer Himmel",
             "it's bedtime"
            ],
            [
             "Amsterdam",
             "☁️🌙",
             "17.8 °C",
             "Bedeckt",
             "it's bedtime"
            ],
            [
             "Prag",
             "🌧️🌙",
             "19.2 °C",
             "Leichter Regen",
             "it's bedtime"
            ],
            [
             "Mailand",
             "🌧️🌙",
             "24.4 °C",
             "Leichter Regen",
             "it's bedtime"
            ],
            [
             "Arrondissement de Marseille",
             "☁️🌙",
             "24.6 °C",
             "Ein paar Wolken",
             "it's bedtime"
            ],
            [
             "City of Brussels",
             "☁️🌙",
             "18.2 °C",
             "Überwiegend bewölkt",
             "it's bedtime"
            ],
            [
             "Warschau",
             "🌕",
             "24.4 °C",
             "Klarer Himmel",
             "it's bedtime"
            ],
            [
             "Hamburg",
             "☁️🌙",
             "17.8 °C",
             "Überwiegend bewölkt",
             "it's bedtime"
            ]
           ],
           "geo": "geo",
           "hovertemplate": "<b>%{customdata[0]}</b><br><br>%{customdata[1]}, %{customdata[2]}<br>%{customdata[3]}<br>%{customdata[4]}<br>",
           "hovertext": [
            "Berlin",
            "Dresden",
            "Frankfurt am Main",
            "Freiburg im Breisgau",
            "Kiel",
            "Köln",
            "Leipzig",
            "Mannheim",
            "München",
            "Münster",
            "Ravensburg",
            "Rostock",
            "Stuttgart",
            "Paris",
            "London",
            "Zürich",
            "Wien",
            "Rom",
            "Amsterdam",
            "Prag",
            "Mailand",
            "Arrondissement de Marseille",
            "City of Brussels",
            "Warschau",
            "Hamburg"
           ],
           "ids": [
            "Berlin",
            "Dresden",
            "Frankfurt am Main",
            "Freiburg im Breisgau",
            "Kiel",
            "Köln",
            "Leipzig",
            "Mannheim",
            "München",
            "Münster",
            "Ravensburg",
            "Rostock",
            "Stuttgart",
            "Paris",
            "London",
            "Zürich",
            "Wien",
            "Rom",
            "Amsterdam",
            "Prag",
            "Mailand",
            "Arrondissement de Marseille",
            "City of Brussels",
            "Warschau",
            "Hamburg"
           ],
           "lat": [
            52.5244,
            51.0509,
            50.1167,
            47.9959,
            54.3213,
            50.9333,
            51.342,
            49.4883,
            48.1374,
            51.9624,
            47.7833,
            54.0887,
            48.7823,
            48.8534,
            51.5085,
            47.3667,
            48.2085,
            41.8947,
            52.374,
            50.088,
            45.4643,
            43.3333,
            50.8504,
            52.2298,
            53.55
           ],
           "legendgroup": "",
           "lon": [
            13.4105,
            13.7383,
            8.6833,
            7.8522,
            10.1349,
            6.95,
            12.375,
            8.4647,
            11.5755,
            7.6257,
            9.6167,
            12.1405,
            9.177,
            2.3488,
            -0.1257,
            8.55,
            16.3721,
            12.4839,
            4.8897,
            14.4208,
            9.1895,
            5.5,
            4.3488,
            21.0118,
            10
           ],
           "marker": {
            "color": [
             22.08,
             20.04,
             21.21,
             18.3,
             18.9,
             21.25,
             20.03,
             22.43,
             17.06,
             17.37,
             18.06,
             19.66,
             19.68,
             21.06,
             20.6,
             19.22,
             20.73,
             25.66,
             17.82,
             19.18,
             24.41,
             24.64,
             18.24,
             24.45,
             17.81
            ],
            "coloraxis": "coloraxis",
            "opacity": 1,
            "symbol": "circle"
           },
           "mode": "markers+text",
           "name": "",
           "showlegend": false,
           "text": [
            "22.1 °C",
            "20.0 °C",
            "21.2 °C",
            "18.3 °C",
            "18.9 °C",
            "21.2 °C",
            "20.0 °C",
            "22.4 °C",
            "17.1 °C",
            "17.4 °C",
            "18.1 °C",
            "19.7 °C",
            "19.7 °C",
            "21.1 °C",
            "20.6 °C",
            "19.2 °C",
            "20.7 °C",
            "25.7 °C",
            "17.8 °C",
            "19.2 °C",
            "24.4 °C",
            "24.6 °C",
            "18.2 °C",
            "24.4 °C",
            "17.8 °C"
           ],
           "type": "scattergeo"
          }
         ],
         "name": "2022-08-26 21:00:00"
        },
        {
         "data": [
          {
           "customdata": [
            [
             "Berlin",
             "🌧️🌙",
             "20.6 °C",
             "Leichter Regen",
             "it's bedtime"
            ],
            [
             "Dresden",
             "🌧️🌙",
             "18.8 °C",
             "Leichter Regen",
             "it's bedtime"
            ],
            [
             "Frankfurt am Main",
             "🌧️🌙",
             "20.0 °C",
             "Leichter Regen",
             "it's bedtime"
            ],
            [
             "Freiburg im Breisgau",
             "🌧️🌙",
             "17.4 °C",
             "Leichter Regen",
             "it's bedtime"
            ],
            [
             "Kiel",
             "🌧️🌙",
             "17.3 °C",
             "Leichter Regen",
             "it's bedtime"
            ],
            [
             "Köln",
             "☁️🌙",
             "18.6 °C",
             "Mäßig bewölkt",
             "it's bedtime"
            ],
            [
             "Leipzig",
             "🌧️🌙",
             "19.5 °C",
             "Leichter Regen",
             "it's bedtime"
            ],
            [
             "Mannheim",
             "🌧️🌙",
             "20.8 °C",
             "Leichter Regen",
             "it's bedtime"
            ],
            [
             "München",
             "🌧️🌙",
             "16.1 °C",
             "Leichter Regen",
             "it's bedtime"
            ],
            [
             "Münster",
             "☁️🌙",
             "15.5 °C",
             "Überwiegend bewölkt",
             "it's bedtime"
            ],
            [
             "Ravensburg",
             "🌧️🌙",
             "16.1 °C",
             "Leichter Regen",
             "it's bedtime"
            ],
            [
             "Rostock",
             "🌧️🌙",
             "19.5 °C",
             "Mäßiger Regen",
             "it's bedtime"
            ],
            [
             "Stuttgart",
             "🌧️🌙",
             "19.1 °C",
             "Leichter Regen",
             "it's bedtime"
            ],
            [
             "Paris",
             "☁️🌙",
             "18.5 °C",
             "Bedeckt",
             "it's bedtime"
            ],
            [
             "London",
             "☁️🌙",
             "19.5 °C",
             "Bedeckt",
             "it's bedtime"
            ],
            [
             "Zürich",
             "🌧️🌙",
             "16.5 °C",
             "Leichter Regen",
             "it's bedtime"
            ],
            [
             "Wien",
             "🌧️🌙",
             "19.9 °C",
             "Leichter Regen",
             "it's bedtime"
            ],
            [
             "Rom",
             "🌕",
             "24.4 °C",
             "Klarer Himmel",
             "it's bedtime"
            ],
            [
             "Amsterdam",
             "☁️🌙",
             "16.1 °C",
             "Überwiegend bewölkt",
             "it's bedtime"
            ],
            [
             "Prag",
             "☁️🌙",
             "18.3 °C",
             "Mäßig bewölkt",
             "it's bedtime"
            ],
            [
             "Mailand",
             "🌧️🌙",
             "21.9 °C",
             "Leichter Regen",
             "it's bedtime"
            ],
            [
             "Arrondissement de Marseille",
             "☁️🌙",
             "23.5 °C",
             "Mäßig bewölkt",
             "it's bedtime"
            ],
            [
             "City of Brussels",
             "☁️🌙",
             "18.3 °C",
             "Überwiegend bewölkt",
             "it's bedtime"
            ],
            [
             "Warschau",
             "🌕",
             "22.0 °C",
             "Klarer Himmel",
             "it's bedtime"
            ],
            [
             "Hamburg",
             "☁️🌙",
             "17.6 °C",
             "Überwiegend bewölkt",
             "it's bedtime"
            ]
           ],
           "geo": "geo",
           "hovertemplate": "<b>%{customdata[0]}</b><br><br>%{customdata[1]}, %{customdata[2]}<br>%{customdata[3]}<br>%{customdata[4]}<br>",
           "hovertext": [
            "Berlin",
            "Dresden",
            "Frankfurt am Main",
            "Freiburg im Breisgau",
            "Kiel",
            "Köln",
            "Leipzig",
            "Mannheim",
            "München",
            "Münster",
            "Ravensburg",
            "Rostock",
            "Stuttgart",
            "Paris",
            "London",
            "Zürich",
            "Wien",
            "Rom",
            "Amsterdam",
            "Prag",
            "Mailand",
            "Arrondissement de Marseille",
            "City of Brussels",
            "Warschau",
            "Hamburg"
           ],
           "ids": [
            "Berlin",
            "Dresden",
            "Frankfurt am Main",
            "Freiburg im Breisgau",
            "Kiel",
            "Köln",
            "Leipzig",
            "Mannheim",
            "München",
            "Münster",
            "Ravensburg",
            "Rostock",
            "Stuttgart",
            "Paris",
            "London",
            "Zürich",
            "Wien",
            "Rom",
            "Amsterdam",
            "Prag",
            "Mailand",
            "Arrondissement de Marseille",
            "City of Brussels",
            "Warschau",
            "Hamburg"
           ],
           "lat": [
            52.5244,
            51.0509,
            50.1167,
            47.9959,
            54.3213,
            50.9333,
            51.342,
            49.4883,
            48.1374,
            51.9624,
            47.7833,
            54.0887,
            48.7823,
            48.8534,
            51.5085,
            47.3667,
            48.2085,
            41.8947,
            52.374,
            50.088,
            45.4643,
            43.3333,
            50.8504,
            52.2298,
            53.55
           ],
           "legendgroup": "",
           "lon": [
            13.4105,
            13.7383,
            8.6833,
            7.8522,
            10.1349,
            6.95,
            12.375,
            8.4647,
            11.5755,
            7.6257,
            9.6167,
            12.1405,
            9.177,
            2.3488,
            -0.1257,
            8.55,
            16.3721,
            12.4839,
            4.8897,
            14.4208,
            9.1895,
            5.5,
            4.3488,
            21.0118,
            10
           ],
           "marker": {
            "color": [
             20.55,
             18.75,
             19.96,
             17.38,
             17.27,
             18.55,
             19.51,
             20.82,
             16.07,
             15.46,
             16.12,
             19.47,
             19.13,
             18.51,
             19.49,
             16.51,
             19.91,
             24.42,
             16.07,
             18.33,
             21.94,
             23.49,
             18.32,
             22.04,
             17.55
            ],
            "coloraxis": "coloraxis",
            "opacity": 1,
            "symbol": "circle"
           },
           "mode": "markers+text",
           "name": "",
           "showlegend": false,
           "text": [
            "20.6 °C",
            "18.8 °C",
            "20.0 °C",
            "17.4 °C",
            "17.3 °C",
            "18.6 °C",
            "19.5 °C",
            "20.8 °C",
            "16.1 °C",
            "15.5 °C",
            "16.1 °C",
            "19.5 °C",
            "19.1 °C",
            "18.5 °C",
            "19.5 °C",
            "16.5 °C",
            "19.9 °C",
            "24.4 °C",
            "16.1 °C",
            "18.3 °C",
            "21.9 °C",
            "23.5 °C",
            "18.3 °C",
            "22.0 °C",
            "17.6 °C"
           ],
           "type": "scattergeo"
          }
         ],
         "name": "2022-08-27 00:00:00"
        },
        {
         "data": [
          {
           "customdata": [
            [
             "Berlin",
             "☁️🌙",
             "20.0 °C",
             "Bedeckt",
             "it's bedtime"
            ],
            [
             "Dresden",
             "🌧️🌙",
             "18.3 °C",
             "Leichter Regen",
             "it's bedtime"
            ],
            [
             "Frankfurt am Main",
             "☁️🌙",
             "19.2 °C",
             "Bedeckt",
             "it's bedtime"
            ],
            [
             "Freiburg im Breisgau",
             "🌧️🌙",
             "16.3 °C",
             "Leichter Regen",
             "it's bedtime"
            ],
            [
             "Kiel",
             "☁️🌙",
             "17.5 °C",
             "Bedeckt",
             "it's bedtime"
            ],
            [
             "Köln",
             "☁️🌙",
             "17.2 °C",
             "Ein paar Wolken",
             "it's bedtime"
            ],
            [
             "Leipzig",
             "☁️🌙",
             "18.7 °C",
             "Bedeckt",
             "it's bedtime"
            ],
            [
             "Mannheim",
             "☁️🌙",
             "20.1 °C",
             "Bedeckt",
             "it's bedtime"
            ],
            [
             "München",
             "☁️🌙",
             "15.0 °C",
             "Bedeckt",
             "it's bedtime"
            ],
            [
             "Münster",
             "☁️🌙",
             "16.7 °C",
             "Überwiegend bewölkt",
             "it's bedtime"
            ],
            [
             "Ravensburg",
             "🌧️🌙",
             "15.4 °C",
             "Leichter Regen",
             "it's bedtime"
            ],
            [
             "Rostock",
             "🌧️🌙",
             "19.1 °C",
             "Leichter Regen",
             "it's bedtime"
            ],
            [
             "Stuttgart",
             "🌧️🌙",
             "18.4 °C",
             "Leichter Regen",
             "it's bedtime"
            ],
            [
             "Paris",
             "☁️🌙",
             "17.6 °C",
             "Überwiegend bewölkt",
             "it's bedtime"
            ],
            [
             "London",
             "☁️🌙",
             "18.6 °C",
             "Bedeckt",
             "it's bedtime"
            ],
            [
             "Zürich",
             "🌧️🌙",
             "15.4 °C",
             "Leichter Regen",
             "it's bedtime"
            ],
            [
             "Wien",
             "🌧️🌙",
             "19.2 °C",
             "Leichter Regen",
             "it's bedtime"
            ],
            [
             "Rom",
             "☁️🌙",
             "23.6 °C",
             "Mäßig bewölkt",
             "it's bedtime"
            ],
            [
             "Amsterdam",
             "☁️🌙",
             "14.6 °C",
             "Ein paar Wolken",
             "it's bedtime"
            ],
            [
             "Prag",
             "🌧️🌙",
             "17.6 °C",
             "Leichter Regen",
             "it's bedtime"
            ],
            [
             "Mailand",
             "🌧️🌙",
             "20.2 °C",
             "Leichter Regen",
             "it's bedtime"
            ],
            [
             "Arrondissement de Marseille",
             "☁️🌙",
             "22.9 °C",
             "Bedeckt",
             "it's bedtime"
            ],
            [
             "City of Brussels",
             "🌧️🌙",
             "17.3 °C",
             "Leichter Regen",
             "it's bedtime"
            ],
            [
             "Warschau",
             "🌕",
             "20.4 °C",
             "Klarer Himmel",
             "it's bedtime"
            ],
            [
             "Hamburg",
             "☁️🌙",
             "17.6 °C",
             "Bedeckt",
             "it's bedtime"
            ]
           ],
           "geo": "geo",
           "hovertemplate": "<b>%{customdata[0]}</b><br><br>%{customdata[1]}, %{customdata[2]}<br>%{customdata[3]}<br>%{customdata[4]}<br>",
           "hovertext": [
            "Berlin",
            "Dresden",
            "Frankfurt am Main",
            "Freiburg im Breisgau",
            "Kiel",
            "Köln",
            "Leipzig",
            "Mannheim",
            "München",
            "Münster",
            "Ravensburg",
            "Rostock",
            "Stuttgart",
            "Paris",
            "London",
            "Zürich",
            "Wien",
            "Rom",
            "Amsterdam",
            "Prag",
            "Mailand",
            "Arrondissement de Marseille",
            "City of Brussels",
            "Warschau",
            "Hamburg"
           ],
           "ids": [
            "Berlin",
            "Dresden",
            "Frankfurt am Main",
            "Freiburg im Breisgau",
            "Kiel",
            "Köln",
            "Leipzig",
            "Mannheim",
            "München",
            "Münster",
            "Ravensburg",
            "Rostock",
            "Stuttgart",
            "Paris",
            "London",
            "Zürich",
            "Wien",
            "Rom",
            "Amsterdam",
            "Prag",
            "Mailand",
            "Arrondissement de Marseille",
            "City of Brussels",
            "Warschau",
            "Hamburg"
           ],
           "lat": [
            52.5244,
            51.0509,
            50.1167,
            47.9959,
            54.3213,
            50.9333,
            51.342,
            49.4883,
            48.1374,
            51.9624,
            47.7833,
            54.0887,
            48.7823,
            48.8534,
            51.5085,
            47.3667,
            48.2085,
            41.8947,
            52.374,
            50.088,
            45.4643,
            43.3333,
            50.8504,
            52.2298,
            53.55
           ],
           "legendgroup": "",
           "lon": [
            13.4105,
            13.7383,
            8.6833,
            7.8522,
            10.1349,
            6.95,
            12.375,
            8.4647,
            11.5755,
            7.6257,
            9.6167,
            12.1405,
            9.177,
            2.3488,
            -0.1257,
            8.55,
            16.3721,
            12.4839,
            4.8897,
            14.4208,
            9.1895,
            5.5,
            4.3488,
            21.0118,
            10
           ],
           "marker": {
            "color": [
             20.04,
             18.28,
             19.15,
             16.32,
             17.49,
             17.2,
             18.73,
             20.14,
             15.04,
             16.67,
             15.4,
             19.12,
             18.4,
             17.61,
             18.6,
             15.41,
             19.17,
             23.57,
             14.56,
             17.63,
             20.21,
             22.87,
             17.29,
             20.4,
             17.63
            ],
            "coloraxis": "coloraxis",
            "opacity": 1,
            "symbol": "circle"
           },
           "mode": "markers+text",
           "name": "",
           "showlegend": false,
           "text": [
            "20.0 °C",
            "18.3 °C",
            "19.2 °C",
            "16.3 °C",
            "17.5 °C",
            "17.2 °C",
            "18.7 °C",
            "20.1 °C",
            "15.0 °C",
            "16.7 °C",
            "15.4 °C",
            "19.1 °C",
            "18.4 °C",
            "17.6 °C",
            "18.6 °C",
            "15.4 °C",
            "19.2 °C",
            "23.6 °C",
            "14.6 °C",
            "17.6 °C",
            "20.2 °C",
            "22.9 °C",
            "17.3 °C",
            "20.4 °C",
            "17.6 °C"
           ],
           "type": "scattergeo"
          }
         ],
         "name": "2022-08-27 03:00:00"
        },
        {
         "data": [
          {
           "customdata": [
            [
             "Berlin",
             "☁️",
             "20.4 °C",
             "Bedeckt",
             "wear light clothes and don't forget your sunnies!<br>"
            ],
            [
             "Dresden",
             "☁️",
             "19.4 °C",
             "Bedeckt",
             "wear light clothes and don't forget your sunnies!<br>"
            ],
            [
             "Frankfurt am Main",
             "☁️",
             "19.3 °C",
             "Bedeckt",
             "wear light clothes and don't forget your sunnies!<br>"
            ],
            [
             "Freiburg im Breisgau",
             "🌦️",
             "17.9 °C",
             "Leichter Regen",
             "wear light clothes and don't forget your sunnies!<br>take an umbrella or a rain jacket with you<br>"
            ],
            [
             "Kiel",
             "☁️",
             "17.6 °C",
             "Bedeckt",
             "wear light clothes and don't forget your sunnies!<br>"
            ],
            [
             "Köln",
             "☁️",
             "17.7 °C",
             "Mäßig bewölkt",
             "wear light clothes and don't forget your sunnies!<br>"
            ],
            [
             "Leipzig",
             "☁️",
             "18.8 °C",
             "Bedeckt",
             "wear light clothes and don't forget your sunnies!<br>"
            ],
            [
             "Mannheim",
             "☁️",
             "20.1 °C",
             "Bedeckt",
             "wear light clothes and don't forget your sunnies!<br>"
            ],
            [
             "München",
             "🌦️",
             "16.5 °C",
             "Leichter Regen",
             "wear light clothes and don't forget your sunnies!<br>take an umbrella or a rain jacket with you<br>"
            ],
            [
             "Münster",
             "☁️",
             "17.6 °C",
             "Bedeckt",
             "wear light clothes and don't forget your sunnies!<br>"
            ],
            [
             "Ravensburg",
             "🌦️",
             "16.8 °C",
             "Leichter Regen",
             "wear light clothes and don't forget your sunnies!<br>take an umbrella or a rain jacket with you<br>"
            ],
            [
             "Rostock",
             "🌦️",
             "19.5 °C",
             "Leichter Regen",
             "wear light clothes and don't forget your sunnies!<br>take an umbrella or a rain jacket with you<br>"
            ],
            [
             "Stuttgart",
             "☁️",
             "19.0 °C",
             "Überwiegend bewölkt",
             "wear light clothes and don't forget your sunnies!<br>"
            ],
            [
             "Paris",
             "☁️",
             "17.1 °C",
             "Bedeckt",
             "wear light clothes and don't forget your sunnies!<br>"
            ],
            [
             "London",
             "☁️",
             "18.2 °C",
             "Bedeckt",
             "wear light clothes and don't forget your sunnies!<br>"
            ],
            [
             "Zürich",
             "🌦️",
             "16.4 °C",
             "Leichter Regen",
             "wear light clothes and don't forget your sunnies!<br>take an umbrella or a rain jacket with you<br>"
            ],
            [
             "Wien",
             "☁️",
             "20.5 °C",
             "Überwiegend bewölkt",
             "wear light clothes and don't forget your sunnies!<br>"
            ],
            [
             "Rom",
             "🌦️",
             "24.8 °C",
             "Leichter Regen",
             "wear light clothes and don't forget your sunnies!<br>take an umbrella or a rain jacket with you<br>"
            ],
            [
             "Amsterdam",
             "🌤️",
             "15.4 °C",
             "Ein paar Wolken",
             "wear light clothes and don't forget your sunnies!<br>"
            ],
            [
             "Prag",
             "🌦️",
             "19.3 °C",
             "Leichter Regen",
             "wear light clothes and don't forget your sunnies!<br>take an umbrella or a rain jacket with you<br>"
            ],
            [
             "Mailand",
             "🌦️",
             "20.4 °C",
             "Leichter Regen",
             "wear light clothes and don't forget your sunnies!<br>take an umbrella or a rain jacket with you<br>"
            ],
            [
             "Arrondissement de Marseille",
             "☁️",
             "22.8 °C",
             "Überwiegend bewölkt",
             "wear light clothes and don't forget your sunnies!<br>"
            ],
            [
             "City of Brussels",
             "☁️",
             "17.3 °C",
             "Bedeckt",
             "wear light clothes and don't forget your sunnies!<br>"
            ],
            [
             "Warschau",
             "☀️",
             "23.2 °C",
             "Klarer Himmel",
             "wear light clothes and don't forget your sunnies!<br>"
            ],
            [
             "Hamburg",
             "☁️",
             "17.9 °C",
             "Bedeckt",
             "wear light clothes and don't forget your sunnies!<br>"
            ]
           ],
           "geo": "geo",
           "hovertemplate": "<b>%{customdata[0]}</b><br><br>%{customdata[1]}, %{customdata[2]}<br>%{customdata[3]}<br>%{customdata[4]}<br>",
           "hovertext": [
            "Berlin",
            "Dresden",
            "Frankfurt am Main",
            "Freiburg im Breisgau",
            "Kiel",
            "Köln",
            "Leipzig",
            "Mannheim",
            "München",
            "Münster",
            "Ravensburg",
            "Rostock",
            "Stuttgart",
            "Paris",
            "London",
            "Zürich",
            "Wien",
            "Rom",
            "Amsterdam",
            "Prag",
            "Mailand",
            "Arrondissement de Marseille",
            "City of Brussels",
            "Warschau",
            "Hamburg"
           ],
           "ids": [
            "Berlin",
            "Dresden",
            "Frankfurt am Main",
            "Freiburg im Breisgau",
            "Kiel",
            "Köln",
            "Leipzig",
            "Mannheim",
            "München",
            "Münster",
            "Ravensburg",
            "Rostock",
            "Stuttgart",
            "Paris",
            "London",
            "Zürich",
            "Wien",
            "Rom",
            "Amsterdam",
            "Prag",
            "Mailand",
            "Arrondissement de Marseille",
            "City of Brussels",
            "Warschau",
            "Hamburg"
           ],
           "lat": [
            52.5244,
            51.0509,
            50.1167,
            47.9959,
            54.3213,
            50.9333,
            51.342,
            49.4883,
            48.1374,
            51.9624,
            47.7833,
            54.0887,
            48.7823,
            48.8534,
            51.5085,
            47.3667,
            48.2085,
            41.8947,
            52.374,
            50.088,
            45.4643,
            43.3333,
            50.8504,
            52.2298,
            53.55
           ],
           "legendgroup": "",
           "lon": [
            13.4105,
            13.7383,
            8.6833,
            7.8522,
            10.1349,
            6.95,
            12.375,
            8.4647,
            11.5755,
            7.6257,
            9.6167,
            12.1405,
            9.177,
            2.3488,
            -0.1257,
            8.55,
            16.3721,
            12.4839,
            4.8897,
            14.4208,
            9.1895,
            5.5,
            4.3488,
            21.0118,
            10
           ],
           "marker": {
            "color": [
             20.41,
             19.44,
             19.29,
             17.9,
             17.59,
             17.68,
             18.82,
             20.12,
             16.49,
             17.58,
             16.83,
             19.47,
             18.97,
             17.11,
             18.17,
             16.44,
             20.54,
             24.85,
             15.45,
             19.26,
             20.35,
             22.85,
             17.32,
             23.23,
             17.91
            ],
            "coloraxis": "coloraxis",
            "opacity": 1,
            "symbol": "circle"
           },
           "mode": "markers+text",
           "name": "",
           "showlegend": false,
           "text": [
            "20.4 °C",
            "19.4 °C",
            "19.3 °C",
            "17.9 °C",
            "17.6 °C",
            "17.7 °C",
            "18.8 °C",
            "20.1 °C",
            "16.5 °C",
            "17.6 °C",
            "16.8 °C",
            "19.5 °C",
            "19.0 °C",
            "17.1 °C",
            "18.2 °C",
            "16.4 °C",
            "20.5 °C",
            "24.8 °C",
            "15.4 °C",
            "19.3 °C",
            "20.4 °C",
            "22.8 °C",
            "17.3 °C",
            "23.2 °C",
            "17.9 °C"
           ],
           "type": "scattergeo"
          }
         ],
         "name": "2022-08-27 06:00:00"
        },
        {
         "data": [
          {
           "customdata": [
            [
             "Berlin",
             "☁️",
             "22.3 °C",
             "Bedeckt",
             "wear light clothes and don't forget your sunnies!<br>"
            ],
            [
             "Dresden",
             "🌦️",
             "21.1 °C",
             "Leichter Regen",
             "wear light clothes and don't forget your sunnies!<br>take an umbrella or a rain jacket with you<br>"
            ],
            [
             "Frankfurt am Main",
             "☁️",
             "23.5 °C",
             "Überwiegend bewölkt",
             "wear light clothes and don't forget your sunnies!<br>"
            ],
            [
             "Freiburg im Breisgau",
             "🌦️",
             "22.6 °C",
             "Leichter Regen",
             "wear light clothes and don't forget your sunnies!<br>take an umbrella or a rain jacket with you<br>"
            ],
            [
             "Kiel",
             "🌦️",
             "18.8 °C",
             "Leichter Regen",
             "wear light clothes and don't forget your sunnies!<br>take an umbrella or a rain jacket with you<br>"
            ],
            [
             "Köln",
             "☁️",
             "19.4 °C",
             "Bedeckt",
             "wear light clothes and don't forget your sunnies!<br>"
            ],
            [
             "Leipzig",
             "☁️",
             "19.4 °C",
             "Bedeckt",
             "wear light clothes and don't forget your sunnies!<br>"
            ],
            [
             "Mannheim",
             "☀️",
             "24.5 °C",
             "Klarer Himmel",
             "wear light clothes and don't forget your sunnies!<br>"
            ],
            [
             "München",
             "🌦️",
             "21.9 °C",
             "Leichter Regen",
             "wear light clothes and don't forget your sunnies!<br>take an umbrella or a rain jacket with you<br>"
            ],
            [
             "Münster",
             "☁️",
             "19.6 °C",
             "Bedeckt",
             "wear light clothes and don't forget your sunnies!<br>"
            ],
            [
             "Ravensburg",
             "🌦️",
             "22.6 °C",
             "Leichter Regen",
             "wear light clothes and don't forget your sunnies!<br>take an umbrella or a rain jacket with you<br>"
            ],
            [
             "Rostock",
             "🌦️",
             "20.2 °C",
             "Leichter Regen",
             "wear light clothes and don't forget your sunnies!<br>take an umbrella or a rain jacket with you<br>"
            ],
            [
             "Stuttgart",
             "🌦️",
             "23.7 °C",
             "Leichter Regen",
             "wear light clothes and don't forget your sunnies!<br>take an umbrella or a rain jacket with you<br>"
            ],
            [
             "Paris",
             "☁️",
             "21.2 °C",
             "Bedeckt",
             "wear light clothes and don't forget your sunnies!<br>"
            ],
            [
             "London",
             "🌦️",
             "19.7 °C",
             "Leichter Regen",
             "wear light clothes and don't forget your sunnies!<br>take an umbrella or a rain jacket with you<br>"
            ],
            [
             "Zürich",
             "🌤️",
             "22.8 °C",
             "Ein paar Wolken",
             "wear light clothes and don't forget your sunnies!<br>"
            ],
            [
             "Wien",
             "☁️",
             "25.5 °C",
             "Mäßig bewölkt",
             "wear light clothes, drink a lot of water and don't forget suncream<br>"
            ],
            [
             "Rom",
             "☁️",
             "29.9 °C",
             "Mäßig bewölkt",
             "wear light clothes, drink a lot of water and don't forget suncream<br>"
            ],
            [
             "Amsterdam",
             "🌤️",
             "20.2 °C",
             "Ein paar Wolken",
             "wear light clothes and don't forget your sunnies!<br>"
            ],
            [
             "Prag",
             "🌦️",
             "21.9 °C",
             "Leichter Regen",
             "wear light clothes and don't forget your sunnies!<br>take an umbrella or a rain jacket with you<br>"
            ],
            [
             "Mailand",
             "🌦️",
             "25.2 °C",
             "Leichter Regen",
             "wear light clothes, drink a lot of water and don't forget suncream<br>take an umbrella or a rain jacket with you<br>"
            ],
            [
             "Arrondissement de Marseille",
             "☁️",
             "26.0 °C",
             "Überwiegend bewölkt",
             "wear light clothes, drink a lot of water and don't forget suncream<br>"
            ],
            [
             "City of Brussels",
             "☁️",
             "20.6 °C",
             "Bedeckt",
             "wear light clothes and don't forget your sunnies!<br>"
            ],
            [
             "Warschau",
             "🌤️",
             "30.2 °C",
             "Ein paar Wolken",
             "wear light clothes, drink a lot of water and don't forget suncream<br>"
            ],
            [
             "Hamburg",
             "☁️",
             "18.8 °C",
             "Bedeckt",
             "wear light clothes and don't forget your sunnies!<br>"
            ]
           ],
           "geo": "geo",
           "hovertemplate": "<b>%{customdata[0]}</b><br><br>%{customdata[1]}, %{customdata[2]}<br>%{customdata[3]}<br>%{customdata[4]}<br>",
           "hovertext": [
            "Berlin",
            "Dresden",
            "Frankfurt am Main",
            "Freiburg im Breisgau",
            "Kiel",
            "Köln",
            "Leipzig",
            "Mannheim",
            "München",
            "Münster",
            "Ravensburg",
            "Rostock",
            "Stuttgart",
            "Paris",
            "London",
            "Zürich",
            "Wien",
            "Rom",
            "Amsterdam",
            "Prag",
            "Mailand",
            "Arrondissement de Marseille",
            "City of Brussels",
            "Warschau",
            "Hamburg"
           ],
           "ids": [
            "Berlin",
            "Dresden",
            "Frankfurt am Main",
            "Freiburg im Breisgau",
            "Kiel",
            "Köln",
            "Leipzig",
            "Mannheim",
            "München",
            "Münster",
            "Ravensburg",
            "Rostock",
            "Stuttgart",
            "Paris",
            "London",
            "Zürich",
            "Wien",
            "Rom",
            "Amsterdam",
            "Prag",
            "Mailand",
            "Arrondissement de Marseille",
            "City of Brussels",
            "Warschau",
            "Hamburg"
           ],
           "lat": [
            52.5244,
            51.0509,
            50.1167,
            47.9959,
            54.3213,
            50.9333,
            51.342,
            49.4883,
            48.1374,
            51.9624,
            47.7833,
            54.0887,
            48.7823,
            48.8534,
            51.5085,
            47.3667,
            48.2085,
            41.8947,
            52.374,
            50.088,
            45.4643,
            43.3333,
            50.8504,
            52.2298,
            53.55
           ],
           "legendgroup": "",
           "lon": [
            13.4105,
            13.7383,
            8.6833,
            7.8522,
            10.1349,
            6.95,
            12.375,
            8.4647,
            11.5755,
            7.6257,
            9.6167,
            12.1405,
            9.177,
            2.3488,
            -0.1257,
            8.55,
            16.3721,
            12.4839,
            4.8897,
            14.4208,
            9.1895,
            5.5,
            4.3488,
            21.0118,
            10
           ],
           "marker": {
            "color": [
             22.33,
             21.11,
             23.46,
             22.61,
             18.78,
             19.45,
             19.36,
             24.53,
             21.86,
             19.59,
             22.55,
             20.25,
             23.73,
             21.17,
             19.71,
             22.82,
             25.53,
             29.9,
             20.25,
             21.9,
             25.24,
             26.05,
             20.62,
             30.15,
             18.78
            ],
            "coloraxis": "coloraxis",
            "opacity": 1,
            "symbol": "circle"
           },
           "mode": "markers+text",
           "name": "",
           "showlegend": false,
           "text": [
            "22.3 °C",
            "21.1 °C",
            "23.5 °C",
            "22.6 °C",
            "18.8 °C",
            "19.4 °C",
            "19.4 °C",
            "24.5 °C",
            "21.9 °C",
            "19.6 °C",
            "22.6 °C",
            "20.2 °C",
            "23.7 °C",
            "21.2 °C",
            "19.7 °C",
            "22.8 °C",
            "25.5 °C",
            "29.9 °C",
            "20.2 °C",
            "21.9 °C",
            "25.2 °C",
            "26.0 °C",
            "20.6 °C",
            "30.2 °C",
            "18.8 °C"
           ],
           "type": "scattergeo"
          }
         ],
         "name": "2022-08-27 09:00:00"
        },
        {
         "data": [
          {
           "customdata": [
            [
             "Berlin",
             "☁️",
             "21.9 °C",
             "Bedeckt",
             "wear light clothes and don't forget your sunnies!<br>"
            ],
            [
             "Dresden",
             "🌦️",
             "19.9 °C",
             "Leichter Regen",
             "wear light clothes and don't forget your sunnies!<br>take an umbrella or a rain jacket with you<br>"
            ],
            [
             "Frankfurt am Main",
             "☁️",
             "25.0 °C",
             "Überwiegend bewölkt",
             "wear light clothes and don't forget your sunnies!<br>"
            ],
            [
             "Freiburg im Breisgau",
             "🌦️",
             "27.4 °C",
             "Leichter Regen",
             "wear light clothes, drink a lot of water and don't forget suncream<br>take an umbrella or a rain jacket with you<br>"
            ],
            [
             "Kiel",
             "☁️",
             "21.4 °C",
             "Bedeckt",
             "wear light clothes and don't forget your sunnies!<br>"
            ],
            [
             "Köln",
             "☁️",
             "21.2 °C",
             "Bedeckt",
             "wear light clothes and don't forget your sunnies!<br>"
            ],
            [
             "Leipzig",
             "☁️",
             "21.3 °C",
             "Bedeckt",
             "wear light clothes and don't forget your sunnies!<br>"
            ],
            [
             "Mannheim",
             "☁️",
             "28.5 °C",
             "Mäßig bewölkt",
             "wear light clothes, drink a lot of water and don't forget suncream<br>"
            ],
            [
             "München",
             "☁️",
             "25.4 °C",
             "Überwiegend bewölkt",
             "wear light clothes, drink a lot of water and don't forget suncream<br>"
            ],
            [
             "Münster",
             "☁️",
             "24.7 °C",
             "Überwiegend bewölkt",
             "wear light clothes and don't forget your sunnies!<br>"
            ],
            [
             "Ravensburg",
             "🌦️",
             "25.4 °C",
             "Leichter Regen",
             "wear light clothes, drink a lot of water and don't forget suncream<br>take an umbrella or a rain jacket with you<br>"
            ],
            [
             "Rostock",
             "🌦️",
             "20.6 °C",
             "Leichter Regen",
             "wear light clothes and don't forget your sunnies!<br>take an umbrella or a rain jacket with you<br>watch out - your hat may get blown off<br>"
            ],
            [
             "Stuttgart",
             "🌦️",
             "26.1 °C",
             "Leichter Regen",
             "wear light clothes, drink a lot of water and don't forget suncream<br>take an umbrella or a rain jacket with you<br>"
            ],
            [
             "Paris",
             "☁️",
             "25.2 °C",
             "Bedeckt",
             "wear light clothes, drink a lot of water and don't forget suncream<br>"
            ],
            [
             "London",
             "🌦️",
             "19.6 °C",
             "Leichter Regen",
             "wear light clothes and don't forget your sunnies!<br>take an umbrella or a rain jacket with you<br>"
            ],
            [
             "Zürich",
             "🌦️",
             "26.9 °C",
             "Leichter Regen",
             "wear light clothes, drink a lot of water and don't forget suncream<br>take an umbrella or a rain jacket with you<br>"
            ],
            [
             "Wien",
             "☁️",
             "28.7 °C",
             "Mäßig bewölkt",
             "wear light clothes, drink a lot of water and don't forget suncream<br>"
            ],
            [
             "Rom",
             "☁️",
             "32.2 °C",
             "Überwiegend bewölkt",
             "wear light clothes, drink a lot of water and don't forget suncream<br>"
            ],
            [
             "Amsterdam",
             "🌤️",
             "22.0 °C",
             "Ein paar Wolken",
             "wear light clothes and don't forget your sunnies!<br>"
            ],
            [
             "Prag",
             "🌦️",
             "22.6 °C",
             "Leichter Regen",
             "wear light clothes and don't forget your sunnies!<br>take an umbrella or a rain jacket with you<br>"
            ],
            [
             "Mailand",
             "☁️",
             "30.3 °C",
             "Bedeckt",
             "wear light clothes, drink a lot of water and don't forget suncream<br>"
            ],
            [
             "Arrondissement de Marseille",
             "☁️",
             "27.2 °C",
             "Bedeckt",
             "wear light clothes, drink a lot of water and don't forget suncream<br>"
            ],
            [
             "City of Brussels",
             "☁️",
             "24.4 °C",
             "Überwiegend bewölkt",
             "wear light clothes and don't forget your sunnies!<br>"
            ],
            [
             "Warschau",
             "🌤️",
             "33.2 °C",
             "Ein paar Wolken",
             "wear light clothes, drink a lot of water and don't forget suncream<br>"
            ],
            [
             "Hamburg",
             "☁️",
             "22.2 °C",
             "Bedeckt",
             "wear light clothes and don't forget your sunnies!<br>"
            ]
           ],
           "geo": "geo",
           "hovertemplate": "<b>%{customdata[0]}</b><br><br>%{customdata[1]}, %{customdata[2]}<br>%{customdata[3]}<br>%{customdata[4]}<br>",
           "hovertext": [
            "Berlin",
            "Dresden",
            "Frankfurt am Main",
            "Freiburg im Breisgau",
            "Kiel",
            "Köln",
            "Leipzig",
            "Mannheim",
            "München",
            "Münster",
            "Ravensburg",
            "Rostock",
            "Stuttgart",
            "Paris",
            "London",
            "Zürich",
            "Wien",
            "Rom",
            "Amsterdam",
            "Prag",
            "Mailand",
            "Arrondissement de Marseille",
            "City of Brussels",
            "Warschau",
            "Hamburg"
           ],
           "ids": [
            "Berlin",
            "Dresden",
            "Frankfurt am Main",
            "Freiburg im Breisgau",
            "Kiel",
            "Köln",
            "Leipzig",
            "Mannheim",
            "München",
            "Münster",
            "Ravensburg",
            "Rostock",
            "Stuttgart",
            "Paris",
            "London",
            "Zürich",
            "Wien",
            "Rom",
            "Amsterdam",
            "Prag",
            "Mailand",
            "Arrondissement de Marseille",
            "City of Brussels",
            "Warschau",
            "Hamburg"
           ],
           "lat": [
            52.5244,
            51.0509,
            50.1167,
            47.9959,
            54.3213,
            50.9333,
            51.342,
            49.4883,
            48.1374,
            51.9624,
            47.7833,
            54.0887,
            48.7823,
            48.8534,
            51.5085,
            47.3667,
            48.2085,
            41.8947,
            52.374,
            50.088,
            45.4643,
            43.3333,
            50.8504,
            52.2298,
            53.55
           ],
           "legendgroup": "",
           "lon": [
            13.4105,
            13.7383,
            8.6833,
            7.8522,
            10.1349,
            6.95,
            12.375,
            8.4647,
            11.5755,
            7.6257,
            9.6167,
            12.1405,
            9.177,
            2.3488,
            -0.1257,
            8.55,
            16.3721,
            12.4839,
            4.8897,
            14.4208,
            9.1895,
            5.5,
            4.3488,
            21.0118,
            10
           ],
           "marker": {
            "color": [
             21.88,
             19.88,
             24.95,
             27.38,
             21.39,
             21.16,
             21.3,
             28.48,
             25.45,
             24.73,
             25.4,
             20.61,
             26.08,
             25.23,
             19.59,
             26.88,
             28.68,
             32.17,
             22,
             22.62,
             30.31,
             27.21,
             24.37,
             33.2,
             22.16
            ],
            "coloraxis": "coloraxis",
            "opacity": 1,
            "symbol": "circle"
           },
           "mode": "markers+text",
           "name": "",
           "showlegend": false,
           "text": [
            "21.9 °C",
            "19.9 °C",
            "25.0 °C",
            "27.4 °C",
            "21.4 °C",
            "21.2 °C",
            "21.3 °C",
            "28.5 °C",
            "25.4 °C",
            "24.7 °C",
            "25.4 °C",
            "20.6 °C",
            "26.1 °C",
            "25.2 °C",
            "19.6 °C",
            "26.9 °C",
            "28.7 °C",
            "32.2 °C",
            "22.0 °C",
            "22.6 °C",
            "30.3 °C",
            "27.2 °C",
            "24.4 °C",
            "33.2 °C",
            "22.2 °C"
           ],
           "type": "scattergeo"
          }
         ],
         "name": "2022-08-27 12:00:00"
        },
        {
         "data": [
          {
           "customdata": [
            [
             "Berlin",
             "☁️",
             "21.9 °C",
             "Bedeckt",
             "wear light clothes and don't forget your sunnies!<br>"
            ],
            [
             "Dresden",
             "🌦️",
             "18.7 °C",
             "Leichter Regen",
             "wear light clothes and don't forget your sunnies!<br>take an umbrella or a rain jacket with you<br>"
            ],
            [
             "Frankfurt am Main",
             "☁️",
             "25.7 °C",
             "Bedeckt",
             "wear light clothes, drink a lot of water and don't forget suncream<br>"
            ],
            [
             "Freiburg im Breisgau",
             "🌤️",
             "28.4 °C",
             "Ein paar Wolken",
             "wear light clothes, drink a lot of water and don't forget suncream<br>"
            ],
            [
             "Kiel",
             "☁️",
             "23.5 °C",
             "Überwiegend bewölkt",
             "wear light clothes and don't forget your sunnies!<br>watch out - your hat may get blown off<br>"
            ],
            [
             "Köln",
             "☁️",
             "23.8 °C",
             "Bedeckt",
             "wear light clothes and don't forget your sunnies!<br>"
            ],
            [
             "Leipzig",
             "☁️",
             "21.7 °C",
             "Bedeckt",
             "wear light clothes and don't forget your sunnies!<br>"
            ],
            [
             "Mannheim",
             "☁️",
             "27.3 °C",
             "Überwiegend bewölkt",
             "wear light clothes, drink a lot of water and don't forget suncream<br>"
            ],
            [
             "München",
             "🌦️",
             "23.6 °C",
             "Leichter Regen",
             "wear light clothes and don't forget your sunnies!<br>take an umbrella or a rain jacket with you<br>"
            ],
            [
             "Münster",
             "☁️",
             "26.0 °C",
             "Überwiegend bewölkt",
             "wear light clothes, drink a lot of water and don't forget suncream<br>"
            ],
            [
             "Ravensburg",
             "🌦️",
             "23.2 °C",
             "Leichter Regen",
             "wear light clothes and don't forget your sunnies!<br>take an umbrella or a rain jacket with you<br>"
            ],
            [
             "Rostock",
             "☁️",
             "20.1 °C",
             "Bedeckt",
             "wear light clothes and don't forget your sunnies!<br>watch out - your hat may get blown off<br>"
            ],
            [
             "Stuttgart",
             "☁️",
             "27.6 °C",
             "Überwiegend bewölkt",
             "wear light clothes, drink a lot of water and don't forget suncream<br>"
            ],
            [
             "Paris",
             "☁️",
             "27.4 °C",
             "Bedeckt",
             "wear light clothes, drink a lot of water and don't forget suncream<br>"
            ],
            [
             "London",
             "🌦️",
             "20.8 °C",
             "Leichter Regen",
             "wear light clothes and don't forget your sunnies!<br>take an umbrella or a rain jacket with you<br>"
            ],
            [
             "Zürich",
             "🌦️",
             "26.1 °C",
             "Leichter Regen",
             "wear light clothes, drink a lot of water and don't forget suncream<br>take an umbrella or a rain jacket with you<br>"
            ],
            [
             "Wien",
             "☁️",
             "28.7 °C",
             "Überwiegend bewölkt",
             "wear light clothes, drink a lot of water and don't forget suncream<br>"
            ],
            [
             "Rom",
             "☁️",
             "30.1 °C",
             "Überwiegend bewölkt",
             "wear light clothes, drink a lot of water and don't forget suncream<br>"
            ],
            [
             "Amsterdam",
             "☀️",
             "21.6 °C",
             "Klarer Himmel",
             "wear light clothes and don't forget your sunnies!<br>watch out - your hat may get blown off<br>"
            ],
            [
             "Prag",
             "🌦️",
             "19.5 °C",
             "Mäßiger Regen",
             "wear light clothes and don't forget your sunnies!<br>take an umbrella or a rain jacket with you<br>"
            ],
            [
             "Mailand",
             "☁️",
             "30.6 °C",
             "Bedeckt",
             "wear light clothes, drink a lot of water and don't forget suncream<br>"
            ],
            [
             "Arrondissement de Marseille",
             "☁️",
             "27.1 °C",
             "Bedeckt",
             "wear light clothes, drink a lot of water and don't forget suncream<br>"
            ],
            [
             "City of Brussels",
             "☀️",
             "25.8 °C",
             "Klarer Himmel",
             "wear light clothes, drink a lot of water and don't forget suncream<br>"
            ],
            [
             "Warschau",
             "🌤️",
             "33.3 °C",
             "Ein paar Wolken",
             "wear light clothes, drink a lot of water and don't forget suncream<br>"
            ],
            [
             "Hamburg",
             "☁️",
             "22.8 °C",
             "Mäßig bewölkt",
             "wear light clothes and don't forget your sunnies!<br>watch out - your hat may get blown off<br>"
            ]
           ],
           "geo": "geo",
           "hovertemplate": "<b>%{customdata[0]}</b><br><br>%{customdata[1]}, %{customdata[2]}<br>%{customdata[3]}<br>%{customdata[4]}<br>",
           "hovertext": [
            "Berlin",
            "Dresden",
            "Frankfurt am Main",
            "Freiburg im Breisgau",
            "Kiel",
            "Köln",
            "Leipzig",
            "Mannheim",
            "München",
            "Münster",
            "Ravensburg",
            "Rostock",
            "Stuttgart",
            "Paris",
            "London",
            "Zürich",
            "Wien",
            "Rom",
            "Amsterdam",
            "Prag",
            "Mailand",
            "Arrondissement de Marseille",
            "City of Brussels",
            "Warschau",
            "Hamburg"
           ],
           "ids": [
            "Berlin",
            "Dresden",
            "Frankfurt am Main",
            "Freiburg im Breisgau",
            "Kiel",
            "Köln",
            "Leipzig",
            "Mannheim",
            "München",
            "Münster",
            "Ravensburg",
            "Rostock",
            "Stuttgart",
            "Paris",
            "London",
            "Zürich",
            "Wien",
            "Rom",
            "Amsterdam",
            "Prag",
            "Mailand",
            "Arrondissement de Marseille",
            "City of Brussels",
            "Warschau",
            "Hamburg"
           ],
           "lat": [
            52.5244,
            51.0509,
            50.1167,
            47.9959,
            54.3213,
            50.9333,
            51.342,
            49.4883,
            48.1374,
            51.9624,
            47.7833,
            54.0887,
            48.7823,
            48.8534,
            51.5085,
            47.3667,
            48.2085,
            41.8947,
            52.374,
            50.088,
            45.4643,
            43.3333,
            50.8504,
            52.2298,
            53.55
           ],
           "legendgroup": "",
           "lon": [
            13.4105,
            13.7383,
            8.6833,
            7.8522,
            10.1349,
            6.95,
            12.375,
            8.4647,
            11.5755,
            7.6257,
            9.6167,
            12.1405,
            9.177,
            2.3488,
            -0.1257,
            8.55,
            16.3721,
            12.4839,
            4.8897,
            14.4208,
            9.1895,
            5.5,
            4.3488,
            21.0118,
            10
           ],
           "marker": {
            "color": [
             21.86,
             18.67,
             25.72,
             28.38,
             23.49,
             23.84,
             21.72,
             27.27,
             23.61,
             26.04,
             23.2,
             20.12,
             27.57,
             27.44,
             20.8,
             26.08,
             28.67,
             30.1,
             21.55,
             19.5,
             30.55,
             27.09,
             25.75,
             33.29,
             22.77
            ],
            "coloraxis": "coloraxis",
            "opacity": 1,
            "symbol": "circle"
           },
           "mode": "markers+text",
           "name": "",
           "showlegend": false,
           "text": [
            "21.9 °C",
            "18.7 °C",
            "25.7 °C",
            "28.4 °C",
            "23.5 °C",
            "23.8 °C",
            "21.7 °C",
            "27.3 °C",
            "23.6 °C",
            "26.0 °C",
            "23.2 °C",
            "20.1 °C",
            "27.6 °C",
            "27.4 °C",
            "20.8 °C",
            "26.1 °C",
            "28.7 °C",
            "30.1 °C",
            "21.6 °C",
            "19.5 °C",
            "30.6 °C",
            "27.1 °C",
            "25.8 °C",
            "33.3 °C",
            "22.8 °C"
           ],
           "type": "scattergeo"
          }
         ],
         "name": "2022-08-27 15:00:00"
        },
        {
         "data": [
          {
           "customdata": [
            [
             "Berlin",
             "☁️",
             "20.5 °C",
             "Bedeckt",
             "wear light clothes and don't forget your sunnies!<br>"
            ],
            [
             "Dresden",
             "🌦️",
             "18.6 °C",
             "Mäßiger Regen",
             "wear light clothes and don't forget your sunnies!<br>take an umbrella or a rain jacket with you<br>"
            ],
            [
             "Frankfurt am Main",
             "☁️",
             "23.2 °C",
             "Überwiegend bewölkt",
             "wear light clothes and don't forget your sunnies!<br>"
            ],
            [
             "Freiburg im Breisgau",
             "☁️",
             "22.6 °C",
             "Mäßig bewölkt",
             "wear light clothes and don't forget your sunnies!<br>"
            ],
            [
             "Kiel",
             "☁️",
             "18.1 °C",
             "Überwiegend bewölkt",
             "wear light clothes and don't forget your sunnies!<br>watch out - your hat may get blown off<br>"
            ],
            [
             "Köln",
             "☁️",
             "22.0 °C",
             "Überwiegend bewölkt",
             "wear light clothes and don't forget your sunnies!<br>"
            ],
            [
             "Leipzig",
             "☁️",
             "19.7 °C",
             "Bedeckt",
             "wear light clothes and don't forget your sunnies!<br>"
            ],
            [
             "Mannheim",
             "☁️",
             "25.0 °C",
             "Überwiegend bewölkt",
             "wear light clothes and don't forget your sunnies!<br>"
            ],
            [
             "München",
             "🌦️",
             "18.9 °C",
             "Mäßiger Regen",
             "wear light clothes and don't forget your sunnies!<br>take an umbrella or a rain jacket with you<br>"
            ],
            [
             "Münster",
             "☁️",
             "21.4 °C",
             "Überwiegend bewölkt",
             "wear light clothes and don't forget your sunnies!<br>watch out - your hat may get blown off<br>"
            ],
            [
             "Ravensburg",
             "🌦️",
             "18.6 °C",
             "Leichter Regen",
             "wear light clothes and don't forget your sunnies!<br>take an umbrella or a rain jacket with you<br>"
            ],
            [
             "Rostock",
             "☁️",
             "19.4 °C",
             "Bedeckt",
             "wear light clothes and don't forget your sunnies!<br>"
            ],
            [
             "Stuttgart",
             "🌦️",
             "22.8 °C",
             "Leichter Regen",
             "wear light clothes and don't forget your sunnies!<br>take an umbrella or a rain jacket with you<br>"
            ],
            [
             "Paris",
             "☁️",
             "26.2 °C",
             "Überwiegend bewölkt",
             "wear light clothes, drink a lot of water and don't forget suncream<br>"
            ],
            [
             "London",
             "☁️",
             "19.8 °C",
             "Überwiegend bewölkt",
             "wear light clothes and don't forget your sunnies!<br>"
            ],
            [
             "Zürich",
             "🌦️",
             "20.6 °C",
             "Leichter Regen",
             "wear light clothes and don't forget your sunnies!<br>take an umbrella or a rain jacket with you<br>"
            ],
            [
             "Wien",
             "☁️🌙",
             "25.1 °C",
             "Überwiegend bewölkt",
             "it's bedtime"
            ],
            [
             "Rom",
             "🌧️🌙",
             "26.5 °C",
             "Leichter Regen",
             "it's bedtime"
            ],
            [
             "Amsterdam",
             "☀️",
             "18.0 °C",
             "Klarer Himmel",
             "wear light clothes and don't forget your sunnies!<br>"
            ],
            [
             "Prag",
             "🌧️🌙",
             "18.4 °C",
             "Mäßiger Regen",
             "it's bedtime"
            ],
            [
             "Mailand",
             "☁️",
             "26.5 °C",
             "Überwiegend bewölkt",
             "wear light clothes, drink a lot of water and don't forget suncream<br>"
            ],
            [
             "Arrondissement de Marseille",
             "☁️",
             "25.2 °C",
             "Überwiegend bewölkt",
             "wear light clothes, drink a lot of water and don't forget suncream<br>"
            ],
            [
             "City of Brussels",
             "☀️",
             "21.3 °C",
             "Klarer Himmel",
             "wear light clothes and don't forget your sunnies!<br>watch out - your hat may get blown off<br>"
            ],
            [
             "Warschau",
             "☁️🌙",
             "28.3 °C",
             "Ein paar Wolken",
             "it's bedtime"
            ],
            [
             "Hamburg",
             "☁️",
             "17.6 °C",
             "Mäßig bewölkt",
             "wear light clothes and don't forget your sunnies!<br>"
            ]
           ],
           "geo": "geo",
           "hovertemplate": "<b>%{customdata[0]}</b><br><br>%{customdata[1]}, %{customdata[2]}<br>%{customdata[3]}<br>%{customdata[4]}<br>",
           "hovertext": [
            "Berlin",
            "Dresden",
            "Frankfurt am Main",
            "Freiburg im Breisgau",
            "Kiel",
            "Köln",
            "Leipzig",
            "Mannheim",
            "München",
            "Münster",
            "Ravensburg",
            "Rostock",
            "Stuttgart",
            "Paris",
            "London",
            "Zürich",
            "Wien",
            "Rom",
            "Amsterdam",
            "Prag",
            "Mailand",
            "Arrondissement de Marseille",
            "City of Brussels",
            "Warschau",
            "Hamburg"
           ],
           "ids": [
            "Berlin",
            "Dresden",
            "Frankfurt am Main",
            "Freiburg im Breisgau",
            "Kiel",
            "Köln",
            "Leipzig",
            "Mannheim",
            "München",
            "Münster",
            "Ravensburg",
            "Rostock",
            "Stuttgart",
            "Paris",
            "London",
            "Zürich",
            "Wien",
            "Rom",
            "Amsterdam",
            "Prag",
            "Mailand",
            "Arrondissement de Marseille",
            "City of Brussels",
            "Warschau",
            "Hamburg"
           ],
           "lat": [
            52.5244,
            51.0509,
            50.1167,
            47.9959,
            54.3213,
            50.9333,
            51.342,
            49.4883,
            48.1374,
            51.9624,
            47.7833,
            54.0887,
            48.7823,
            48.8534,
            51.5085,
            47.3667,
            48.2085,
            41.8947,
            52.374,
            50.088,
            45.4643,
            43.3333,
            50.8504,
            52.2298,
            53.55
           ],
           "legendgroup": "",
           "lon": [
            13.4105,
            13.7383,
            8.6833,
            7.8522,
            10.1349,
            6.95,
            12.375,
            8.4647,
            11.5755,
            7.6257,
            9.6167,
            12.1405,
            9.177,
            2.3488,
            -0.1257,
            8.55,
            16.3721,
            12.4839,
            4.8897,
            14.4208,
            9.1895,
            5.5,
            4.3488,
            21.0118,
            10
           ],
           "marker": {
            "color": [
             20.47,
             18.63,
             23.15,
             22.6,
             18.09,
             21.96,
             19.69,
             24.98,
             18.87,
             21.39,
             18.55,
             19.43,
             22.83,
             26.21,
             19.8,
             20.61,
             25.13,
             26.51,
             18,
             18.44,
             26.48,
             25.24,
             21.29,
             28.28,
             17.65
            ],
            "coloraxis": "coloraxis",
            "opacity": 1,
            "symbol": "circle"
           },
           "mode": "markers+text",
           "name": "",
           "showlegend": false,
           "text": [
            "20.5 °C",
            "18.6 °C",
            "23.2 °C",
            "22.6 °C",
            "18.1 °C",
            "22.0 °C",
            "19.7 °C",
            "25.0 °C",
            "18.9 °C",
            "21.4 °C",
            "18.6 °C",
            "19.4 °C",
            "22.8 °C",
            "26.2 °C",
            "19.8 °C",
            "20.6 °C",
            "25.1 °C",
            "26.5 °C",
            "18.0 °C",
            "18.4 °C",
            "26.5 °C",
            "25.2 °C",
            "21.3 °C",
            "28.3 °C",
            "17.6 °C"
           ],
           "type": "scattergeo"
          }
         ],
         "name": "2022-08-27 18:00:00"
        },
        {
         "data": [
          {
           "customdata": [
            [
             "Berlin",
             "☁️🌙",
             "19.9 °C",
             "Bedeckt",
             "it's bedtime"
            ],
            [
             "Dresden",
             "🌧️🌙",
             "17.9 °C",
             "Leichter Regen",
             "it's bedtime"
            ],
            [
             "Frankfurt am Main",
             "☁️🌙",
             "20.0 °C",
             "Bedeckt",
             "it's bedtime"
            ],
            [
             "Freiburg im Breisgau",
             "☁️🌙",
             "19.7 °C",
             "Überwiegend bewölkt",
             "it's bedtime"
            ],
            [
             "Kiel",
             "☁️🌙",
             "14.8 °C",
             "Überwiegend bewölkt",
             "it's bedtime"
            ],
            [
             "Köln",
             "☁️🌙",
             "19.1 °C",
             "Ein paar Wolken",
             "it's bedtime"
            ],
            [
             "Leipzig",
             "☁️🌙",
             "17.4 °C",
             "Mäßig bewölkt",
             "it's bedtime"
            ],
            [
             "Mannheim",
             "☁️🌙",
             "22.4 °C",
             "Überwiegend bewölkt",
             "it's bedtime"
            ],
            [
             "München",
             "🌧️🌙",
             "16.9 °C",
             "Leichter Regen",
             "it's bedtime"
            ],
            [
             "Münster",
             "🌕",
             "15.2 °C",
             "Klarer Himmel",
             "it's bedtime"
            ],
            [
             "Ravensburg",
             "🌧️🌙",
             "16.9 °C",
             "Leichter Regen",
             "it's bedtime"
            ],
            [
             "Rostock",
             "☁️🌙",
             "18.2 °C",
             "Bedeckt",
             "it's bedtime"
            ],
            [
             "Stuttgart",
             "🌧️🌙",
             "19.6 °C",
             "Leichter Regen",
             "it's bedtime"
            ],
            [
             "Paris",
             "🌕",
             "22.6 °C",
             "Klarer Himmel",
             "it's bedtime"
            ],
            [
             "London",
             "☁️🌙",
             "17.4 °C",
             "Mäßig bewölkt",
             "it's bedtime"
            ],
            [
             "Zürich",
             "🌧️🌙",
             "17.3 °C",
             "Leichter Regen",
             "it's bedtime"
            ],
            [
             "Wien",
             "🌧️🌙",
             "21.1 °C",
             "Leichter Regen",
             "it's bedtime"
            ],
            [
             "Rom",
             "☁️🌙",
             "23.8 °C",
             "Mäßig bewölkt",
             "it's bedtime"
            ],
            [
             "Amsterdam",
             "🌕",
             "15.5 °C",
             "Klarer Himmel",
             "it's bedtime"
            ],
            [
             "Prag",
             "☁️🌙",
             "18.0 °C",
             "Bedeckt",
             "it's bedtime"
            ],
            [
             "Mailand",
             "☁️🌙",
             "23.6 °C",
             "Ein paar Wolken",
             "it's bedtime"
            ],
            [
             "Arrondissement de Marseille",
             "🌕",
             "24.0 °C",
             "Klarer Himmel",
             "it's bedtime"
            ],
            [
             "City of Brussels",
             "🌕",
             "17.1 °C",
             "Klarer Himmel",
             "it's bedtime"
            ],
            [
             "Warschau",
             "🌧️🌙",
             "23.6 °C",
             "Leichter Regen",
             "it's bedtime"
            ],
            [
             "Hamburg",
             "☁️🌙",
             "14.7 °C",
             "Bedeckt",
             "it's bedtime"
            ]
           ],
           "geo": "geo",
           "hovertemplate": "<b>%{customdata[0]}</b><br><br>%{customdata[1]}, %{customdata[2]}<br>%{customdata[3]}<br>%{customdata[4]}<br>",
           "hovertext": [
            "Berlin",
            "Dresden",
            "Frankfurt am Main",
            "Freiburg im Breisgau",
            "Kiel",
            "Köln",
            "Leipzig",
            "Mannheim",
            "München",
            "Münster",
            "Ravensburg",
            "Rostock",
            "Stuttgart",
            "Paris",
            "London",
            "Zürich",
            "Wien",
            "Rom",
            "Amsterdam",
            "Prag",
            "Mailand",
            "Arrondissement de Marseille",
            "City of Brussels",
            "Warschau",
            "Hamburg"
           ],
           "ids": [
            "Berlin",
            "Dresden",
            "Frankfurt am Main",
            "Freiburg im Breisgau",
            "Kiel",
            "Köln",
            "Leipzig",
            "Mannheim",
            "München",
            "Münster",
            "Ravensburg",
            "Rostock",
            "Stuttgart",
            "Paris",
            "London",
            "Zürich",
            "Wien",
            "Rom",
            "Amsterdam",
            "Prag",
            "Mailand",
            "Arrondissement de Marseille",
            "City of Brussels",
            "Warschau",
            "Hamburg"
           ],
           "lat": [
            52.5244,
            51.0509,
            50.1167,
            47.9959,
            54.3213,
            50.9333,
            51.342,
            49.4883,
            48.1374,
            51.9624,
            47.7833,
            54.0887,
            48.7823,
            48.8534,
            51.5085,
            47.3667,
            48.2085,
            41.8947,
            52.374,
            50.088,
            45.4643,
            43.3333,
            50.8504,
            52.2298,
            53.55
           ],
           "legendgroup": "",
           "lon": [
            13.4105,
            13.7383,
            8.6833,
            7.8522,
            10.1349,
            6.95,
            12.375,
            8.4647,
            11.5755,
            7.6257,
            9.6167,
            12.1405,
            9.177,
            2.3488,
            -0.1257,
            8.55,
            16.3721,
            12.4839,
            4.8897,
            14.4208,
            9.1895,
            5.5,
            4.3488,
            21.0118,
            10
           ],
           "marker": {
            "color": [
             19.92,
             17.93,
             20.05,
             19.68,
             14.84,
             19.09,
             17.37,
             22.39,
             16.92,
             15.17,
             16.92,
             18.2,
             19.59,
             22.57,
             17.41,
             17.31,
             21.11,
             23.79,
             15.5,
             17.97,
             23.58,
             24.05,
             17.1,
             23.59,
             14.74
            ],
            "coloraxis": "coloraxis",
            "opacity": 1,
            "symbol": "circle"
           },
           "mode": "markers+text",
           "name": "",
           "showlegend": false,
           "text": [
            "19.9 °C",
            "17.9 °C",
            "20.0 °C",
            "19.7 °C",
            "14.8 °C",
            "19.1 °C",
            "17.4 °C",
            "22.4 °C",
            "16.9 °C",
            "15.2 °C",
            "16.9 °C",
            "18.2 °C",
            "19.6 °C",
            "22.6 °C",
            "17.4 °C",
            "17.3 °C",
            "21.1 °C",
            "23.8 °C",
            "15.5 °C",
            "18.0 °C",
            "23.6 °C",
            "24.0 °C",
            "17.1 °C",
            "23.6 °C",
            "14.7 °C"
           ],
           "type": "scattergeo"
          }
         ],
         "name": "2022-08-27 21:00:00"
        },
        {
         "data": [
          {
           "customdata": [
            [
             "Berlin",
             "☁️🌙",
             "18.1 °C",
             "Bedeckt",
             "it's bedtime"
            ],
            [
             "Dresden",
             "☁️🌙",
             "16.4 °C",
             "Überwiegend bewölkt",
             "it's bedtime"
            ],
            [
             "Frankfurt am Main",
             "☁️🌙",
             "18.2 °C",
             "Überwiegend bewölkt",
             "it's bedtime"
            ],
            [
             "Freiburg im Breisgau",
             "☁️🌙",
             "17.9 °C",
             "Mäßig bewölkt",
             "it's bedtime"
            ],
            [
             "Kiel",
             "☁️🌙",
             "12.2 °C",
             "Mäßig bewölkt",
             "it's bedtime"
            ],
            [
             "Köln",
             "☁️🌙",
             "16.7 °C",
             "Ein paar Wolken",
             "it's bedtime"
            ],
            [
             "Leipzig",
             "☁️🌙",
             "16.5 °C",
             "Mäßig bewölkt",
             "it's bedtime"
            ],
            [
             "Mannheim",
             "☁️🌙",
             "21.1 °C",
             "Überwiegend bewölkt",
             "it's bedtime"
            ],
            [
             "München",
             "🌧️🌙",
             "15.9 °C",
             "Mäßiger Regen",
             "it's bedtime"
            ],
            [
             "Münster",
             "🌕",
             "11.5 °C",
             "Klarer Himmel",
             "it's bedtime"
            ],
            [
             "Ravensburg",
             "☁️🌙",
             "15.5 °C",
             "Bedeckt",
             "it's bedtime"
            ],
            [
             "Rostock",
             "☁️🌙",
             "16.5 °C",
             "Bedeckt",
             "it's bedtime"
            ],
            [
             "Stuttgart",
             "☁️🌙",
             "18.1 °C",
             "Mäßig bewölkt",
             "it's bedtime"
            ],
            [
             "Paris",
             "🌕",
             "19.3 °C",
             "Klarer Himmel",
             "it's bedtime"
            ],
            [
             "London",
             "☁️🌙",
             "16.3 °C",
             "Mäßig bewölkt",
             "it's bedtime"
            ],
            [
             "Zürich",
             "☁️🌙",
             "15.6 °C",
             "Überwiegend bewölkt",
             "it's bedtime"
            ],
            [
             "Wien",
             "🌧️🌙",
             "19.5 °C",
             "Leichter Regen",
             "it's bedtime"
            ],
            [
             "Rom",
             "☁️🌙",
             "22.7 °C",
             "Ein paar Wolken",
             "it's bedtime"
            ],
            [
             "Amsterdam",
             "🌕",
             "14.4 °C",
             "Klarer Himmel",
             "it's bedtime"
            ],
            [
             "Prag",
             "☁️🌙",
             "16.4 °C",
             "Überwiegend bewölkt",
             "it's bedtime"
            ],
            [
             "Mailand",
             "🌧️🌙",
             "22.2 °C",
             "Leichter Regen",
             "it's bedtime"
            ],
            [
             "Arrondissement de Marseille",
             "🌕",
             "23.3 °C",
             "Klarer Himmel",
             "it's bedtime"
            ],
            [
             "City of Brussels",
             "🌕",
             "14.4 °C",
             "Klarer Himmel",
             "it's bedtime"
            ],
            [
             "Warschau",
             "🌕",
             "22.0 °C",
             "Klarer Himmel",
             "it's bedtime"
            ],
            [
             "Hamburg",
             "☁️🌙",
             "12.1 °C",
             "Mäßig bewölkt",
             "it's bedtime"
            ]
           ],
           "geo": "geo",
           "hovertemplate": "<b>%{customdata[0]}</b><br><br>%{customdata[1]}, %{customdata[2]}<br>%{customdata[3]}<br>%{customdata[4]}<br>",
           "hovertext": [
            "Berlin",
            "Dresden",
            "Frankfurt am Main",
            "Freiburg im Breisgau",
            "Kiel",
            "Köln",
            "Leipzig",
            "Mannheim",
            "München",
            "Münster",
            "Ravensburg",
            "Rostock",
            "Stuttgart",
            "Paris",
            "London",
            "Zürich",
            "Wien",
            "Rom",
            "Amsterdam",
            "Prag",
            "Mailand",
            "Arrondissement de Marseille",
            "City of Brussels",
            "Warschau",
            "Hamburg"
           ],
           "ids": [
            "Berlin",
            "Dresden",
            "Frankfurt am Main",
            "Freiburg im Breisgau",
            "Kiel",
            "Köln",
            "Leipzig",
            "Mannheim",
            "München",
            "Münster",
            "Ravensburg",
            "Rostock",
            "Stuttgart",
            "Paris",
            "London",
            "Zürich",
            "Wien",
            "Rom",
            "Amsterdam",
            "Prag",
            "Mailand",
            "Arrondissement de Marseille",
            "City of Brussels",
            "Warschau",
            "Hamburg"
           ],
           "lat": [
            52.5244,
            51.0509,
            50.1167,
            47.9959,
            54.3213,
            50.9333,
            51.342,
            49.4883,
            48.1374,
            51.9624,
            47.7833,
            54.0887,
            48.7823,
            48.8534,
            51.5085,
            47.3667,
            48.2085,
            41.8947,
            52.374,
            50.088,
            45.4643,
            43.3333,
            50.8504,
            52.2298,
            53.55
           ],
           "legendgroup": "",
           "lon": [
            13.4105,
            13.7383,
            8.6833,
            7.8522,
            10.1349,
            6.95,
            12.375,
            8.4647,
            11.5755,
            7.6257,
            9.6167,
            12.1405,
            9.177,
            2.3488,
            -0.1257,
            8.55,
            16.3721,
            12.4839,
            4.8897,
            14.4208,
            9.1895,
            5.5,
            4.3488,
            21.0118,
            10
           ],
           "marker": {
            "color": [
             18.12,
             16.35,
             18.25,
             17.89,
             12.22,
             16.73,
             16.48,
             21.13,
             15.93,
             11.5,
             15.51,
             16.52,
             18.08,
             19.31,
             16.34,
             15.64,
             19.51,
             22.71,
             14.45,
             16.41,
             22.23,
             23.28,
             14.4,
             22.01,
             12.07
            ],
            "coloraxis": "coloraxis",
            "opacity": 1,
            "symbol": "circle"
           },
           "mode": "markers+text",
           "name": "",
           "showlegend": false,
           "text": [
            "18.1 °C",
            "16.4 °C",
            "18.2 °C",
            "17.9 °C",
            "12.2 °C",
            "16.7 °C",
            "16.5 °C",
            "21.1 °C",
            "15.9 °C",
            "11.5 °C",
            "15.5 °C",
            "16.5 °C",
            "18.1 °C",
            "19.3 °C",
            "16.3 °C",
            "15.6 °C",
            "19.5 °C",
            "22.7 °C",
            "14.4 °C",
            "16.4 °C",
            "22.2 °C",
            "23.3 °C",
            "14.4 °C",
            "22.0 °C",
            "12.1 °C"
           ],
           "type": "scattergeo"
          }
         ],
         "name": "2022-08-28 00:00:00"
        },
        {
         "data": [
          {
           "customdata": [
            [
             "Berlin",
             "☁️🌙",
             "15.2 °C",
             "Mäßig bewölkt",
             "it's bedtime"
            ],
            [
             "Dresden",
             "☁️🌙",
             "16.1 °C",
             "Mäßig bewölkt",
             "it's bedtime"
            ],
            [
             "Frankfurt am Main",
             "☁️🌙",
             "16.4 °C",
             "Mäßig bewölkt",
             "it's bedtime"
            ],
            [
             "Freiburg im Breisgau",
             "🌕",
             "16.8 °C",
             "Klarer Himmel",
             "it's bedtime"
            ],
            [
             "Kiel",
             "🌕",
             "11.5 °C",
             "Klarer Himmel",
             "it's bedtime"
            ],
            [
             "Köln",
             "🌕",
             "14.8 °C",
             "Klarer Himmel",
             "it's bedtime"
            ],
            [
             "Leipzig",
             "🌕",
             "13.9 °C",
             "Klarer Himmel",
             "it's bedtime"
            ],
            [
             "Mannheim",
             "🌕",
             "19.4 °C",
             "Klarer Himmel",
             "it's bedtime"
            ],
            [
             "München",
             "🌧️🌙",
             "15.7 °C",
             "Leichter Regen",
             "it's bedtime"
            ],
            [
             "Münster",
             "🌕",
             "10.4 °C",
             "Klarer Himmel",
             "it's bedtime"
            ],
            [
             "Ravensburg",
             "☁️🌙",
             "14.5 °C",
             "Überwiegend bewölkt",
             "it's bedtime"
            ],
            [
             "Rostock",
             "☁️🌙",
             "15.1 °C",
             "Überwiegend bewölkt",
             "it's bedtime"
            ],
            [
             "Stuttgart",
             "☁️🌙",
             "17.0 °C",
             "Ein paar Wolken",
             "it's bedtime"
            ],
            [
             "Paris",
             "🌕",
             "17.4 °C",
             "Klarer Himmel",
             "it's bedtime"
            ],
            [
             "London",
             "☁️🌙",
             "15.5 °C",
             "Ein paar Wolken",
             "it's bedtime"
            ],
            [
             "Zürich",
             "☁️🌙",
             "14.6 °C",
             "Mäßig bewölkt",
             "it's bedtime"
            ],
            [
             "Wien",
             "☁️🌙",
             "19.0 °C",
             "Bedeckt",
             "it's bedtime"
            ],
            [
             "Rom",
             "🌕",
             "22.1 °C",
             "Klarer Himmel",
             "it's bedtime"
            ],
            [
             "Amsterdam",
             "🌕",
             "13.8 °C",
             "Klarer Himmel",
             "it's bedtime"
            ],
            [
             "Prag",
             "☁️🌙",
             "15.6 °C",
             "Ein paar Wolken",
             "it's bedtime"
            ],
            [
             "Mailand",
             "☁️🌙",
             "21.3 °C",
             "Bedeckt",
             "it's bedtime"
            ],
            [
             "Arrondissement de Marseille",
             "☁️🌙",
             "22.6 °C",
             "Mäßig bewölkt",
             "it's bedtime"
            ],
            [
             "City of Brussels",
             "🌕",
             "12.6 °C",
             "Klarer Himmel",
             "it's bedtime"
            ],
            [
             "Warschau",
             "🌕",
             "20.7 °C",
             "Klarer Himmel",
             "it's bedtime"
            ],
            [
             "Hamburg",
             "🌕",
             "11.2 °C",
             "Klarer Himmel",
             "it's bedtime"
            ]
           ],
           "geo": "geo",
           "hovertemplate": "<b>%{customdata[0]}</b><br><br>%{customdata[1]}, %{customdata[2]}<br>%{customdata[3]}<br>%{customdata[4]}<br>",
           "hovertext": [
            "Berlin",
            "Dresden",
            "Frankfurt am Main",
            "Freiburg im Breisgau",
            "Kiel",
            "Köln",
            "Leipzig",
            "Mannheim",
            "München",
            "Münster",
            "Ravensburg",
            "Rostock",
            "Stuttgart",
            "Paris",
            "London",
            "Zürich",
            "Wien",
            "Rom",
            "Amsterdam",
            "Prag",
            "Mailand",
            "Arrondissement de Marseille",
            "City of Brussels",
            "Warschau",
            "Hamburg"
           ],
           "ids": [
            "Berlin",
            "Dresden",
            "Frankfurt am Main",
            "Freiburg im Breisgau",
            "Kiel",
            "Köln",
            "Leipzig",
            "Mannheim",
            "München",
            "Münster",
            "Ravensburg",
            "Rostock",
            "Stuttgart",
            "Paris",
            "London",
            "Zürich",
            "Wien",
            "Rom",
            "Amsterdam",
            "Prag",
            "Mailand",
            "Arrondissement de Marseille",
            "City of Brussels",
            "Warschau",
            "Hamburg"
           ],
           "lat": [
            52.5244,
            51.0509,
            50.1167,
            47.9959,
            54.3213,
            50.9333,
            51.342,
            49.4883,
            48.1374,
            51.9624,
            47.7833,
            54.0887,
            48.7823,
            48.8534,
            51.5085,
            47.3667,
            48.2085,
            41.8947,
            52.374,
            50.088,
            45.4643,
            43.3333,
            50.8504,
            52.2298,
            53.55
           ],
           "legendgroup": "",
           "lon": [
            13.4105,
            13.7383,
            8.6833,
            7.8522,
            10.1349,
            6.95,
            12.375,
            8.4647,
            11.5755,
            7.6257,
            9.6167,
            12.1405,
            9.177,
            2.3488,
            -0.1257,
            8.55,
            16.3721,
            12.4839,
            4.8897,
            14.4208,
            9.1895,
            5.5,
            4.3488,
            21.0118,
            10
           ],
           "marker": {
            "color": [
             15.21,
             16.11,
             16.36,
             16.77,
             11.51,
             14.79,
             13.88,
             19.42,
             15.66,
             10.4,
             14.54,
             15.07,
             17.01,
             17.44,
             15.52,
             14.63,
             19.02,
             22.09,
             13.75,
             15.64,
             21.26,
             22.58,
             12.64,
             20.73,
             11.16
            ],
            "coloraxis": "coloraxis",
            "opacity": 1,
            "symbol": "circle"
           },
           "mode": "markers+text",
           "name": "",
           "showlegend": false,
           "text": [
            "15.2 °C",
            "16.1 °C",
            "16.4 °C",
            "16.8 °C",
            "11.5 °C",
            "14.8 °C",
            "13.9 °C",
            "19.4 °C",
            "15.7 °C",
            "10.4 °C",
            "14.5 °C",
            "15.1 °C",
            "17.0 °C",
            "17.4 °C",
            "15.5 °C",
            "14.6 °C",
            "19.0 °C",
            "22.1 °C",
            "13.8 °C",
            "15.6 °C",
            "21.3 °C",
            "22.6 °C",
            "12.6 °C",
            "20.7 °C",
            "11.2 °C"
           ],
           "type": "scattergeo"
          }
         ],
         "name": "2022-08-28 03:00:00"
        },
        {
         "data": [
          {
           "customdata": [
            [
             "Berlin",
             "☁️",
             "15.1 °C",
             "Mäßig bewölkt",
             "wear light clothes and don't forget your sunnies!<br>"
            ],
            [
             "Dresden",
             "☁️",
             "15.9 °C",
             "Überwiegend bewölkt",
             "wear light clothes and don't forget your sunnies!<br>"
            ],
            [
             "Frankfurt am Main",
             "☁️",
             "16.1 °C",
             "Überwiegend bewölkt",
             "wear light clothes and don't forget your sunnies!<br>"
            ],
            [
             "Freiburg im Breisgau",
             "☀️",
             "18.2 °C",
             "Klarer Himmel",
             "wear light clothes and don't forget your sunnies!<br>"
            ],
            [
             "Kiel",
             "☀️",
             "14.0 °C",
             "Klarer Himmel",
             "it's the perfect temperature to do something outside!<br>"
            ],
            [
             "Köln",
             "☀️",
             "14.9 °C",
             "Klarer Himmel",
             "it's the perfect temperature to do something outside!<br>"
            ],
            [
             "Leipzig",
             "☀️",
             "14.7 °C",
             "Klarer Himmel",
             "it's the perfect temperature to do something outside!<br>"
            ],
            [
             "Mannheim",
             "☁️",
             "18.7 °C",
             "Mäßig bewölkt",
             "wear light clothes and don't forget your sunnies!<br>"
            ],
            [
             "München",
             "🌦️",
             "16.6 °C",
             "Leichter Regen",
             "wear light clothes and don't forget your sunnies!<br>take an umbrella or a rain jacket with you<br>"
            ],
            [
             "Münster",
             "☀️",
             "12.5 °C",
             "Klarer Himmel",
             "it's the perfect temperature to do something outside!<br>"
            ],
            [
             "Ravensburg",
             "☁️",
             "15.8 °C",
             "Überwiegend bewölkt",
             "wear light clothes and don't forget your sunnies!<br>"
            ],
            [
             "Rostock",
             "☁️",
             "16.1 °C",
             "Mäßig bewölkt",
             "wear light clothes and don't forget your sunnies!<br>watch out - your hat may get blown off<br>"
            ],
            [
             "Stuttgart",
             "🌤️",
             "18.1 °C",
             "Ein paar Wolken",
             "wear light clothes and don't forget your sunnies!<br>"
            ],
            [
             "Paris",
             "☀️",
             "16.9 °C",
             "Klarer Himmel",
             "wear light clothes and don't forget your sunnies!<br>"
            ],
            [
             "London",
             "☁️",
             "15.4 °C",
             "Mäßig bewölkt",
             "wear light clothes and don't forget your sunnies!<br>"
            ],
            [
             "Zürich",
             "🌤️",
             "15.9 °C",
             "Ein paar Wolken",
             "wear light clothes and don't forget your sunnies!<br>"
            ],
            [
             "Wien",
             "☁️",
             "19.4 °C",
             "Bedeckt",
             "wear light clothes and don't forget your sunnies!<br>"
            ],
            [
             "Rom",
             "☁️",
             "23.7 °C",
             "Mäßig bewölkt",
             "wear light clothes and don't forget your sunnies!<br>"
            ],
            [
             "Amsterdam",
             "☀️",
             "14.8 °C",
             "Klarer Himmel",
             "it's the perfect temperature to do something outside!<br>"
            ],
            [
             "Prag",
             "☁️",
             "17.2 °C",
             "Überwiegend bewölkt",
             "wear light clothes and don't forget your sunnies!<br>"
            ],
            [
             "Mailand",
             "☁️",
             "22.0 °C",
             "Bedeckt",
             "wear light clothes and don't forget your sunnies!<br>"
            ],
            [
             "Arrondissement de Marseille",
             "☁️",
             "22.5 °C",
             "Mäßig bewölkt",
             "wear light clothes and don't forget your sunnies!<br>"
            ],
            [
             "City of Brussels",
             "☀️",
             "12.9 °C",
             "Klarer Himmel",
             "it's the perfect temperature to do something outside!<br>"
            ],
            [
             "Warschau",
             "🌤️",
             "22.6 °C",
             "Ein paar Wolken",
             "wear light clothes and don't forget your sunnies!<br>"
            ],
            [
             "Hamburg",
             "☀️",
             "14.0 °C",
             "Klarer Himmel",
             "it's the perfect temperature to do something outside!<br>"
            ]
           ],
           "geo": "geo",
           "hovertemplate": "<b>%{customdata[0]}</b><br><br>%{customdata[1]}, %{customdata[2]}<br>%{customdata[3]}<br>%{customdata[4]}<br>",
           "hovertext": [
            "Berlin",
            "Dresden",
            "Frankfurt am Main",
            "Freiburg im Breisgau",
            "Kiel",
            "Köln",
            "Leipzig",
            "Mannheim",
            "München",
            "Münster",
            "Ravensburg",
            "Rostock",
            "Stuttgart",
            "Paris",
            "London",
            "Zürich",
            "Wien",
            "Rom",
            "Amsterdam",
            "Prag",
            "Mailand",
            "Arrondissement de Marseille",
            "City of Brussels",
            "Warschau",
            "Hamburg"
           ],
           "ids": [
            "Berlin",
            "Dresden",
            "Frankfurt am Main",
            "Freiburg im Breisgau",
            "Kiel",
            "Köln",
            "Leipzig",
            "Mannheim",
            "München",
            "Münster",
            "Ravensburg",
            "Rostock",
            "Stuttgart",
            "Paris",
            "London",
            "Zürich",
            "Wien",
            "Rom",
            "Amsterdam",
            "Prag",
            "Mailand",
            "Arrondissement de Marseille",
            "City of Brussels",
            "Warschau",
            "Hamburg"
           ],
           "lat": [
            52.5244,
            51.0509,
            50.1167,
            47.9959,
            54.3213,
            50.9333,
            51.342,
            49.4883,
            48.1374,
            51.9624,
            47.7833,
            54.0887,
            48.7823,
            48.8534,
            51.5085,
            47.3667,
            48.2085,
            41.8947,
            52.374,
            50.088,
            45.4643,
            43.3333,
            50.8504,
            52.2298,
            53.55
           ],
           "legendgroup": "",
           "lon": [
            13.4105,
            13.7383,
            8.6833,
            7.8522,
            10.1349,
            6.95,
            12.375,
            8.4647,
            11.5755,
            7.6257,
            9.6167,
            12.1405,
            9.177,
            2.3488,
            -0.1257,
            8.55,
            16.3721,
            12.4839,
            4.8897,
            14.4208,
            9.1895,
            5.5,
            4.3488,
            21.0118,
            10
           ],
           "marker": {
            "color": [
             15.13,
             15.86,
             16.1,
             18.19,
             14.02,
             14.92,
             14.68,
             18.71,
             16.55,
             12.51,
             15.83,
             16.11,
             18.06,
             16.87,
             15.39,
             15.94,
             19.37,
             23.69,
             14.78,
             17.21,
             21.96,
             22.53,
             12.9,
             22.56,
             13.96
            ],
            "coloraxis": "coloraxis",
            "opacity": 1,
            "symbol": "circle"
           },
           "mode": "markers+text",
           "name": "",
           "showlegend": false,
           "text": [
            "15.1 °C",
            "15.9 °C",
            "16.1 °C",
            "18.2 °C",
            "14.0 °C",
            "14.9 °C",
            "14.7 °C",
            "18.7 °C",
            "16.6 °C",
            "12.5 °C",
            "15.8 °C",
            "16.1 °C",
            "18.1 °C",
            "16.9 °C",
            "15.4 °C",
            "15.9 °C",
            "19.4 °C",
            "23.7 °C",
            "14.8 °C",
            "17.2 °C",
            "22.0 °C",
            "22.5 °C",
            "12.9 °C",
            "22.6 °C",
            "14.0 °C"
           ],
           "type": "scattergeo"
          }
         ],
         "name": "2022-08-28 06:00:00"
        },
        {
         "data": [
          {
           "customdata": [
            [
             "Berlin",
             "☀️",
             "19.6 °C",
             "Klarer Himmel",
             "wear light clothes and don't forget your sunnies!<br>"
            ],
            [
             "Dresden",
             "🌤️",
             "19.0 °C",
             "Ein paar Wolken",
             "wear light clothes and don't forget your sunnies!<br>"
            ],
            [
             "Frankfurt am Main",
             "☀️",
             "21.9 °C",
             "Klarer Himmel",
             "wear light clothes and don't forget your sunnies!<br>"
            ],
            [
             "Freiburg im Breisgau",
             "☁️",
             "23.8 °C",
             "Mäßig bewölkt",
             "wear light clothes and don't forget your sunnies!<br>"
            ],
            [
             "Kiel",
             "☀️",
             "19.0 °C",
             "Klarer Himmel",
             "wear light clothes and don't forget your sunnies!<br>watch out - your hat may get blown off<br>"
            ],
            [
             "Köln",
             "☀️",
             "20.2 °C",
             "Klarer Himmel",
             "wear light clothes and don't forget your sunnies!<br>"
            ],
            [
             "Leipzig",
             "🌤️",
             "19.1 °C",
             "Ein paar Wolken",
             "wear light clothes and don't forget your sunnies!<br>"
            ],
            [
             "Mannheim",
             "☁️",
             "23.3 °C",
             "Überwiegend bewölkt",
             "wear light clothes and don't forget your sunnies!<br>"
            ],
            [
             "München",
             "☁️",
             "20.5 °C",
             "Überwiegend bewölkt",
             "wear light clothes and don't forget your sunnies!<br>"
            ],
            [
             "Münster",
             "☀️",
             "19.4 °C",
             "Klarer Himmel",
             "wear light clothes and don't forget your sunnies!<br>"
            ],
            [
             "Ravensburg",
             "🌤️",
             "22.2 °C",
             "Ein paar Wolken",
             "wear light clothes and don't forget your sunnies!<br>"
            ],
            [
             "Rostock",
             "☀️",
             "18.0 °C",
             "Klarer Himmel",
             "wear light clothes and don't forget your sunnies!<br>watch out - your hat may get blown off<br>"
            ],
            [
             "Stuttgart",
             "☁️",
             "23.1 °C",
             "Mäßig bewölkt",
             "wear light clothes and don't forget your sunnies!<br>"
            ],
            [
             "Paris",
             "🌤️",
             "22.7 °C",
             "Ein paar Wolken",
             "wear light clothes and don't forget your sunnies!<br>"
            ],
            [
             "London",
             "☁️",
             "19.3 °C",
             "Überwiegend bewölkt",
             "wear light clothes and don't forget your sunnies!<br>"
            ],
            [
             "Zürich",
             "☀️",
             "22.3 °C",
             "Klarer Himmel",
             "wear light clothes and don't forget your sunnies!<br>"
            ],
            [
             "Wien",
             "☁️",
             "21.5 °C",
             "Bedeckt",
             "wear light clothes and don't forget your sunnies!<br>"
            ],
            [
             "Rom",
             "☁️",
             "29.6 °C",
             "Mäßig bewölkt",
             "wear light clothes, drink a lot of water and don't forget suncream<br>"
            ],
            [
             "Amsterdam",
             "☀️",
             "19.8 °C",
             "Klarer Himmel",
             "wear light clothes and don't forget your sunnies!<br>"
            ],
            [
             "Prag",
             "☁️",
             "21.1 °C",
             "Überwiegend bewölkt",
             "wear light clothes and don't forget your sunnies!<br>"
            ],
            [
             "Mailand",
             "☁️",
             "27.3 °C",
             "Überwiegend bewölkt",
             "wear light clothes, drink a lot of water and don't forget suncream<br>"
            ],
            [
             "Arrondissement de Marseille",
             "☁️",
             "25.7 °C",
             "Bedeckt",
             "wear light clothes, drink a lot of water and don't forget suncream<br>"
            ],
            [
             "City of Brussels",
             "☀️",
             "19.7 °C",
             "Klarer Himmel",
             "wear light clothes and don't forget your sunnies!<br>watch out - your hat may get blown off<br>"
            ],
            [
             "Warschau",
             "☁️",
             "26.7 °C",
             "Überwiegend bewölkt",
             "wear light clothes, drink a lot of water and don't forget suncream<br>watch out - your hat may get blown off<br>"
            ],
            [
             "Hamburg",
             "☀️",
             "19.8 °C",
             "Klarer Himmel",
             "wear light clothes and don't forget your sunnies!<br>"
            ]
           ],
           "geo": "geo",
           "hovertemplate": "<b>%{customdata[0]}</b><br><br>%{customdata[1]}, %{customdata[2]}<br>%{customdata[3]}<br>%{customdata[4]}<br>",
           "hovertext": [
            "Berlin",
            "Dresden",
            "Frankfurt am Main",
            "Freiburg im Breisgau",
            "Kiel",
            "Köln",
            "Leipzig",
            "Mannheim",
            "München",
            "Münster",
            "Ravensburg",
            "Rostock",
            "Stuttgart",
            "Paris",
            "London",
            "Zürich",
            "Wien",
            "Rom",
            "Amsterdam",
            "Prag",
            "Mailand",
            "Arrondissement de Marseille",
            "City of Brussels",
            "Warschau",
            "Hamburg"
           ],
           "ids": [
            "Berlin",
            "Dresden",
            "Frankfurt am Main",
            "Freiburg im Breisgau",
            "Kiel",
            "Köln",
            "Leipzig",
            "Mannheim",
            "München",
            "Münster",
            "Ravensburg",
            "Rostock",
            "Stuttgart",
            "Paris",
            "London",
            "Zürich",
            "Wien",
            "Rom",
            "Amsterdam",
            "Prag",
            "Mailand",
            "Arrondissement de Marseille",
            "City of Brussels",
            "Warschau",
            "Hamburg"
           ],
           "lat": [
            52.5244,
            51.0509,
            50.1167,
            47.9959,
            54.3213,
            50.9333,
            51.342,
            49.4883,
            48.1374,
            51.9624,
            47.7833,
            54.0887,
            48.7823,
            48.8534,
            51.5085,
            47.3667,
            48.2085,
            41.8947,
            52.374,
            50.088,
            45.4643,
            43.3333,
            50.8504,
            52.2298,
            53.55
           ],
           "legendgroup": "",
           "lon": [
            13.4105,
            13.7383,
            8.6833,
            7.8522,
            10.1349,
            6.95,
            12.375,
            8.4647,
            11.5755,
            7.6257,
            9.6167,
            12.1405,
            9.177,
            2.3488,
            -0.1257,
            8.55,
            16.3721,
            12.4839,
            4.8897,
            14.4208,
            9.1895,
            5.5,
            4.3488,
            21.0118,
            10
           ],
           "marker": {
            "color": [
             19.57,
             18.97,
             21.9,
             23.81,
             18.96,
             20.17,
             19.08,
             23.31,
             20.53,
             19.42,
             22.21,
             18.05,
             23.09,
             22.71,
             19.31,
             22.33,
             21.54,
             29.6,
             19.8,
             21.11,
             27.31,
             25.72,
             19.74,
             26.72,
             19.79
            ],
            "coloraxis": "coloraxis",
            "opacity": 1,
            "symbol": "circle"
           },
           "mode": "markers+text",
           "name": "",
           "showlegend": false,
           "text": [
            "19.6 °C",
            "19.0 °C",
            "21.9 °C",
            "23.8 °C",
            "19.0 °C",
            "20.2 °C",
            "19.1 °C",
            "23.3 °C",
            "20.5 °C",
            "19.4 °C",
            "22.2 °C",
            "18.0 °C",
            "23.1 °C",
            "22.7 °C",
            "19.3 °C",
            "22.3 °C",
            "21.5 °C",
            "29.6 °C",
            "19.8 °C",
            "21.1 °C",
            "27.3 °C",
            "25.7 °C",
            "19.7 °C",
            "26.7 °C",
            "19.8 °C"
           ],
           "type": "scattergeo"
          }
         ],
         "name": "2022-08-28 09:00:00"
        },
        {
         "data": [
          {
           "customdata": [
            [
             "Berlin",
             "☀️",
             "23.1 °C",
             "Klarer Himmel",
             "wear light clothes and don't forget your sunnies!<br>"
            ],
            [
             "Dresden",
             "☀️",
             "22.0 °C",
             "Klarer Himmel",
             "wear light clothes and don't forget your sunnies!<br>"
            ],
            [
             "Frankfurt am Main",
             "☀️",
             "26.1 °C",
             "Klarer Himmel",
             "wear light clothes, drink a lot of water and don't forget suncream<br>"
            ],
            [
             "Freiburg im Breisgau",
             "☁️",
             "27.4 °C",
             "Mäßig bewölkt",
             "wear light clothes, drink a lot of water and don't forget suncream<br>"
            ],
            [
             "Kiel",
             "☀️",
             "20.4 °C",
             "Klarer Himmel",
             "wear light clothes and don't forget your sunnies!<br>watch out - your hat may get blown off<br>"
            ],
            [
             "Köln",
             "☀️",
             "24.0 °C",
             "Klarer Himmel",
             "wear light clothes and don't forget your sunnies!<br>"
            ],
            [
             "Leipzig",
             "☀️",
             "22.7 °C",
             "Klarer Himmel",
             "wear light clothes and don't forget your sunnies!<br>"
            ],
            [
             "Mannheim",
             "☁️",
             "27.6 °C",
             "Mäßig bewölkt",
             "wear light clothes, drink a lot of water and don't forget suncream<br>"
            ],
            [
             "München",
             "☁️",
             "24.4 °C",
             "Überwiegend bewölkt",
             "wear light clothes and don't forget your sunnies!<br>"
            ],
            [
             "Münster",
             "☀️",
             "23.6 °C",
             "Klarer Himmel",
             "wear light clothes and don't forget your sunnies!<br>"
            ],
            [
             "Ravensburg",
             "☀️",
             "25.4 °C",
             "Klarer Himmel",
             "wear light clothes, drink a lot of water and don't forget suncream<br>"
            ],
            [
             "Rostock",
             "☀️",
             "20.3 °C",
             "Klarer Himmel",
             "wear light clothes and don't forget your sunnies!<br>watch out - your hat may get blown off<br>"
            ],
            [
             "Stuttgart",
             "☁️",
             "27.2 °C",
             "Überwiegend bewölkt",
             "wear light clothes, drink a lot of water and don't forget suncream<br>"
            ],
            [
             "Paris",
             "☁️",
             "27.4 °C",
             "Überwiegend bewölkt",
             "wear light clothes, drink a lot of water and don't forget suncream<br>"
            ],
            [
             "London",
             "☁️",
             "22.1 °C",
             "Bedeckt",
             "wear light clothes and don't forget your sunnies!<br>"
            ],
            [
             "Zürich",
             "🌤️",
             "26.6 °C",
             "Ein paar Wolken",
             "wear light clothes, drink a lot of water and don't forget suncream<br>"
            ],
            [
             "Wien",
             "☁️",
             "24.8 °C",
             "Bedeckt",
             "wear light clothes and don't forget your sunnies!<br>"
            ],
            [
             "Rom",
             "☁️",
             "31.7 °C",
             "Überwiegend bewölkt",
             "wear light clothes, drink a lot of water and don't forget suncream<br>"
            ],
            [
             "Amsterdam",
             "☁️",
             "19.8 °C",
             "Mäßig bewölkt",
             "wear light clothes and don't forget your sunnies!<br>"
            ],
            [
             "Prag",
             "☁️",
             "22.5 °C",
             "Überwiegend bewölkt",
             "wear light clothes and don't forget your sunnies!<br>"
            ],
            [
             "Mailand",
             "☁️",
             "31.2 °C",
             "Überwiegend bewölkt",
             "wear light clothes, drink a lot of water and don't forget suncream<br>"
            ],
            [
             "Arrondissement de Marseille",
             "☁️",
             "26.2 °C",
             "Bedeckt",
             "wear light clothes, drink a lot of water and don't forget suncream<br>"
            ],
            [
             "City of Brussels",
             "🌤️",
             "24.1 °C",
             "Ein paar Wolken",
             "wear light clothes and don't forget your sunnies!<br>watch out - your hat may get blown off<br>"
            ],
            [
             "Warschau",
             "🌦️",
             "22.0 °C",
             "Leichter Regen",
             "wear light clothes and don't forget your sunnies!<br>take an umbrella or a rain jacket with you<br>"
            ],
            [
             "Hamburg",
             "☀️",
             "19.5 °C",
             "Klarer Himmel",
             "wear light clothes and don't forget your sunnies!<br>watch out - your hat may get blown off<br>"
            ]
           ],
           "geo": "geo",
           "hovertemplate": "<b>%{customdata[0]}</b><br><br>%{customdata[1]}, %{customdata[2]}<br>%{customdata[3]}<br>%{customdata[4]}<br>",
           "hovertext": [
            "Berlin",
            "Dresden",
            "Frankfurt am Main",
            "Freiburg im Breisgau",
            "Kiel",
            "Köln",
            "Leipzig",
            "Mannheim",
            "München",
            "Münster",
            "Ravensburg",
            "Rostock",
            "Stuttgart",
            "Paris",
            "London",
            "Zürich",
            "Wien",
            "Rom",
            "Amsterdam",
            "Prag",
            "Mailand",
            "Arrondissement de Marseille",
            "City of Brussels",
            "Warschau",
            "Hamburg"
           ],
           "ids": [
            "Berlin",
            "Dresden",
            "Frankfurt am Main",
            "Freiburg im Breisgau",
            "Kiel",
            "Köln",
            "Leipzig",
            "Mannheim",
            "München",
            "Münster",
            "Ravensburg",
            "Rostock",
            "Stuttgart",
            "Paris",
            "London",
            "Zürich",
            "Wien",
            "Rom",
            "Amsterdam",
            "Prag",
            "Mailand",
            "Arrondissement de Marseille",
            "City of Brussels",
            "Warschau",
            "Hamburg"
           ],
           "lat": [
            52.5244,
            51.0509,
            50.1167,
            47.9959,
            54.3213,
            50.9333,
            51.342,
            49.4883,
            48.1374,
            51.9624,
            47.7833,
            54.0887,
            48.7823,
            48.8534,
            51.5085,
            47.3667,
            48.2085,
            41.8947,
            52.374,
            50.088,
            45.4643,
            43.3333,
            50.8504,
            52.2298,
            53.55
           ],
           "legendgroup": "",
           "lon": [
            13.4105,
            13.7383,
            8.6833,
            7.8522,
            10.1349,
            6.95,
            12.375,
            8.4647,
            11.5755,
            7.6257,
            9.6167,
            12.1405,
            9.177,
            2.3488,
            -0.1257,
            8.55,
            16.3721,
            12.4839,
            4.8897,
            14.4208,
            9.1895,
            5.5,
            4.3488,
            21.0118,
            10
           ],
           "marker": {
            "color": [
             23.06,
             22.05,
             26.12,
             27.44,
             20.38,
             24.05,
             22.66,
             27.55,
             24.4,
             23.57,
             25.38,
             20.27,
             27.18,
             27.42,
             22.07,
             26.57,
             24.78,
             31.71,
             19.85,
             22.48,
             31.23,
             26.21,
             24.08,
             22.05,
             19.46
            ],
            "coloraxis": "coloraxis",
            "opacity": 1,
            "symbol": "circle"
           },
           "mode": "markers+text",
           "name": "",
           "showlegend": false,
           "text": [
            "23.1 °C",
            "22.0 °C",
            "26.1 °C",
            "27.4 °C",
            "20.4 °C",
            "24.0 °C",
            "22.7 °C",
            "27.6 °C",
            "24.4 °C",
            "23.6 °C",
            "25.4 °C",
            "20.3 °C",
            "27.2 °C",
            "27.4 °C",
            "22.1 °C",
            "26.6 °C",
            "24.8 °C",
            "31.7 °C",
            "19.8 °C",
            "22.5 °C",
            "31.2 °C",
            "26.2 °C",
            "24.1 °C",
            "22.0 °C",
            "19.5 °C"
           ],
           "type": "scattergeo"
          }
         ],
         "name": "2022-08-28 12:00:00"
        },
        {
         "data": [
          {
           "customdata": [
            [
             "Berlin",
             "☀️",
             "23.5 °C",
             "Klarer Himmel",
             "wear light clothes and don't forget your sunnies!<br>"
            ],
            [
             "Dresden",
             "☀️",
             "22.5 °C",
             "Klarer Himmel",
             "wear light clothes and don't forget your sunnies!<br>"
            ],
            [
             "Frankfurt am Main",
             "☀️",
             "27.2 °C",
             "Klarer Himmel",
             "wear light clothes, drink a lot of water and don't forget suncream<br>"
            ],
            [
             "Freiburg im Breisgau",
             "🌦️",
             "27.1 °C",
             "Leichter Regen",
             "wear light clothes, drink a lot of water and don't forget suncream<br>take an umbrella or a rain jacket with you<br>"
            ],
            [
             "Kiel",
             "☀️",
             "19.7 °C",
             "Klarer Himmel",
             "wear light clothes and don't forget your sunnies!<br>watch out - your hat may get blown off<br>"
            ],
            [
             "Köln",
             "☀️",
             "25.0 °C",
             "Klarer Himmel",
             "wear light clothes, drink a lot of water and don't forget suncream<br>"
            ],
            [
             "Leipzig",
             "☀️",
             "23.7 °C",
             "Klarer Himmel",
             "wear light clothes and don't forget your sunnies!<br>"
            ],
            [
             "Mannheim",
             "☀️",
             "28.7 °C",
             "Klarer Himmel",
             "wear light clothes, drink a lot of water and don't forget suncream<br>"
            ],
            [
             "München",
             "🌤️",
             "24.6 °C",
             "Ein paar Wolken",
             "wear light clothes and don't forget your sunnies!<br>"
            ],
            [
             "Münster",
             "☀️",
             "22.9 °C",
             "Klarer Himmel",
             "wear light clothes and don't forget your sunnies!<br>watch out - your hat may get blown off<br>"
            ],
            [
             "Ravensburg",
             "☀️",
             "25.0 °C",
             "Klarer Himmel",
             "wear light clothes and don't forget your sunnies!<br>"
            ],
            [
             "Rostock",
             "☀️",
             "20.4 °C",
             "Klarer Himmel",
             "wear light clothes and don't forget your sunnies!<br>watch out - your hat may get blown off<br>"
            ],
            [
             "Stuttgart",
             "☁️",
             "28.0 °C",
             "Mäßig bewölkt",
             "wear light clothes, drink a lot of water and don't forget suncream<br>"
            ],
            [
             "Paris",
             "☁️",
             "29.1 °C",
             "Bedeckt",
             "wear light clothes, drink a lot of water and don't forget suncream<br>"
            ],
            [
             "London",
             "☁️",
             "22.2 °C",
             "Bedeckt",
             "wear light clothes and don't forget your sunnies!<br>"
            ],
            [
             "Zürich",
             "🌤️",
             "27.2 °C",
             "Ein paar Wolken",
             "wear light clothes, drink a lot of water and don't forget suncream<br>"
            ],
            [
             "Wien",
             "☁️",
             "25.5 °C",
             "Bedeckt",
             "wear light clothes, drink a lot of water and don't forget suncream<br>"
            ],
            [
             "Rom",
             "☁️",
             "30.0 °C",
             "Mäßig bewölkt",
             "wear light clothes, drink a lot of water and don't forget suncream<br>watch out - your hat may get blown off<br>"
            ],
            [
             "Amsterdam",
             "☁️",
             "19.2 °C",
             "Bedeckt",
             "wear light clothes and don't forget your sunnies!<br>"
            ],
            [
             "Prag",
             "☁️",
             "23.1 °C",
             "Bedeckt",
             "wear light clothes and don't forget your sunnies!<br>"
            ],
            [
             "Mailand",
             "☀️",
             "32.0 °C",
             "Klarer Himmel",
             "wear light clothes, drink a lot of water and don't forget suncream<br>"
            ],
            [
             "Arrondissement de Marseille",
             "☁️",
             "26.4 °C",
             "Überwiegend bewölkt",
             "wear light clothes, drink a lot of water and don't forget suncream<br>"
            ],
            [
             "City of Brussels",
             "☁️",
             "24.9 °C",
             "Überwiegend bewölkt",
             "wear light clothes and don't forget your sunnies!<br>"
            ],
            [
             "Warschau",
             "☁️",
             "20.6 °C",
             "Bedeckt",
             "wear light clothes and don't forget your sunnies!<br>"
            ],
            [
             "Hamburg",
             "☁️",
             "17.8 °C",
             "Überwiegend bewölkt",
             "wear light clothes and don't forget your sunnies!<br>watch out - your hat may get blown off<br>"
            ]
           ],
           "geo": "geo",
           "hovertemplate": "<b>%{customdata[0]}</b><br><br>%{customdata[1]}, %{customdata[2]}<br>%{customdata[3]}<br>%{customdata[4]}<br>",
           "hovertext": [
            "Berlin",
            "Dresden",
            "Frankfurt am Main",
            "Freiburg im Breisgau",
            "Kiel",
            "Köln",
            "Leipzig",
            "Mannheim",
            "München",
            "Münster",
            "Ravensburg",
            "Rostock",
            "Stuttgart",
            "Paris",
            "London",
            "Zürich",
            "Wien",
            "Rom",
            "Amsterdam",
            "Prag",
            "Mailand",
            "Arrondissement de Marseille",
            "City of Brussels",
            "Warschau",
            "Hamburg"
           ],
           "ids": [
            "Berlin",
            "Dresden",
            "Frankfurt am Main",
            "Freiburg im Breisgau",
            "Kiel",
            "Köln",
            "Leipzig",
            "Mannheim",
            "München",
            "Münster",
            "Ravensburg",
            "Rostock",
            "Stuttgart",
            "Paris",
            "London",
            "Zürich",
            "Wien",
            "Rom",
            "Amsterdam",
            "Prag",
            "Mailand",
            "Arrondissement de Marseille",
            "City of Brussels",
            "Warschau",
            "Hamburg"
           ],
           "lat": [
            52.5244,
            51.0509,
            50.1167,
            47.9959,
            54.3213,
            50.9333,
            51.342,
            49.4883,
            48.1374,
            51.9624,
            47.7833,
            54.0887,
            48.7823,
            48.8534,
            51.5085,
            47.3667,
            48.2085,
            41.8947,
            52.374,
            50.088,
            45.4643,
            43.3333,
            50.8504,
            52.2298,
            53.55
           ],
           "legendgroup": "",
           "lon": [
            13.4105,
            13.7383,
            8.6833,
            7.8522,
            10.1349,
            6.95,
            12.375,
            8.4647,
            11.5755,
            7.6257,
            9.6167,
            12.1405,
            9.177,
            2.3488,
            -0.1257,
            8.55,
            16.3721,
            12.4839,
            4.8897,
            14.4208,
            9.1895,
            5.5,
            4.3488,
            21.0118,
            10
           ],
           "marker": {
            "color": [
             23.53,
             22.51,
             27.15,
             27.14,
             19.66,
             25.05,
             23.71,
             28.7,
             24.63,
             22.88,
             25,
             20.4,
             27.98,
             29.14,
             22.16,
             27.16,
             25.49,
             30.02,
             19.18,
             23.14,
             32.05,
             26.35,
             24.92,
             20.64,
             17.84
            ],
            "coloraxis": "coloraxis",
            "opacity": 1,
            "symbol": "circle"
           },
           "mode": "markers+text",
           "name": "",
           "showlegend": false,
           "text": [
            "23.5 °C",
            "22.5 °C",
            "27.2 °C",
            "27.1 °C",
            "19.7 °C",
            "25.0 °C",
            "23.7 °C",
            "28.7 °C",
            "24.6 °C",
            "22.9 °C",
            "25.0 °C",
            "20.4 °C",
            "28.0 °C",
            "29.1 °C",
            "22.2 °C",
            "27.2 °C",
            "25.5 °C",
            "30.0 °C",
            "19.2 °C",
            "23.1 °C",
            "32.0 °C",
            "26.4 °C",
            "24.9 °C",
            "20.6 °C",
            "17.8 °C"
           ],
           "type": "scattergeo"
          }
         ],
         "name": "2022-08-28 15:00:00"
        },
        {
         "data": [
          {
           "customdata": [
            [
             "Berlin",
             "☀️",
             "20.5 °C",
             "Klarer Himmel",
             "wear light clothes and don't forget your sunnies!<br>"
            ],
            [
             "Dresden",
             "☀️",
             "18.5 °C",
             "Klarer Himmel",
             "wear light clothes and don't forget your sunnies!<br>"
            ],
            [
             "Frankfurt am Main",
             "☀️",
             "23.5 °C",
             "Klarer Himmel",
             "wear light clothes and don't forget your sunnies!<br>"
            ],
            [
             "Freiburg im Breisgau",
             "☁️",
             "21.9 °C",
             "Mäßig bewölkt",
             "wear light clothes and don't forget your sunnies!<br>"
            ],
            [
             "Kiel",
             "☀️",
             "16.1 °C",
             "Klarer Himmel",
             "wear light clothes and don't forget your sunnies!<br>watch out - your hat may get blown off<br>"
            ],
            [
             "Köln",
             "🌤️",
             "22.0 °C",
             "Ein paar Wolken",
             "wear light clothes and don't forget your sunnies!<br>"
            ],
            [
             "Leipzig",
             "☀️",
             "19.3 °C",
             "Klarer Himmel",
             "wear light clothes and don't forget your sunnies!<br>"
            ],
            [
             "Mannheim",
             "☀️",
             "25.6 °C",
             "Klarer Himmel",
             "wear light clothes, drink a lot of water and don't forget suncream<br>"
            ],
            [
             "München",
             "🌤️",
             "19.2 °C",
             "Ein paar Wolken",
             "wear light clothes and don't forget your sunnies!<br>"
            ],
            [
             "Münster",
             "☀️",
             "17.8 °C",
             "Klarer Himmel",
             "wear light clothes and don't forget your sunnies!<br>watch out - your hat may get blown off<br>"
            ],
            [
             "Ravensburg",
             "☀️",
             "19.5 °C",
             "Klarer Himmel",
             "wear light clothes and don't forget your sunnies!<br>"
            ],
            [
             "Rostock",
             "☀️",
             "17.5 °C",
             "Klarer Himmel",
             "wear light clothes and don't forget your sunnies!<br>watch out - your hat may get blown off<br>"
            ],
            [
             "Stuttgart",
             "☁️",
             "23.6 °C",
             "Überwiegend bewölkt",
             "wear light clothes and don't forget your sunnies!<br>"
            ],
            [
             "Paris",
             "☁️",
             "26.8 °C",
             "Bedeckt",
             "wear light clothes, drink a lot of water and don't forget suncream<br>"
            ],
            [
             "London",
             "☁️",
             "19.5 °C",
             "Bedeckt",
             "wear light clothes and don't forget your sunnies!<br>"
            ],
            [
             "Zürich",
             "☀️",
             "20.6 °C",
             "Klarer Himmel",
             "wear light clothes and don't forget your sunnies!<br>"
            ],
            [
             "Wien",
             "☁️🌙",
             "22.4 °C",
             "Bedeckt",
             "it's bedtime"
            ],
            [
             "Rom",
             "☁️🌙",
             "26.5 °C",
             "Mäßig bewölkt",
             "it's bedtime"
            ],
            [
             "Amsterdam",
             "☁️",
             "17.3 °C",
             "Überwiegend bewölkt",
             "wear light clothes and don't forget your sunnies!<br>"
            ],
            [
             "Prag",
             "☁️🌙",
             "19.0 °C",
             "Überwiegend bewölkt",
             "it's bedtime"
            ],
            [
             "Mailand",
             "☀️",
             "27.6 °C",
             "Klarer Himmel",
             "wear light clothes, drink a lot of water and don't forget suncream<br>"
            ],
            [
             "Arrondissement de Marseille",
             "☁️",
             "24.8 °C",
             "Mäßig bewölkt",
             "wear light clothes and don't forget your sunnies!<br>"
            ],
            [
             "City of Brussels",
             "☁️",
             "21.7 °C",
             "Überwiegend bewölkt",
             "wear light clothes and don't forget your sunnies!<br>watch out - your hat may get blown off<br>"
            ],
            [
             "Warschau",
             "☁️🌙",
             "20.4 °C",
             "Bedeckt",
             "it's bedtime"
            ],
            [
             "Hamburg",
             "☁️",
             "15.6 °C",
             "Überwiegend bewölkt",
             "wear light clothes and don't forget your sunnies!<br>"
            ]
           ],
           "geo": "geo",
           "hovertemplate": "<b>%{customdata[0]}</b><br><br>%{customdata[1]}, %{customdata[2]}<br>%{customdata[3]}<br>%{customdata[4]}<br>",
           "hovertext": [
            "Berlin",
            "Dresden",
            "Frankfurt am Main",
            "Freiburg im Breisgau",
            "Kiel",
            "Köln",
            "Leipzig",
            "Mannheim",
            "München",
            "Münster",
            "Ravensburg",
            "Rostock",
            "Stuttgart",
            "Paris",
            "London",
            "Zürich",
            "Wien",
            "Rom",
            "Amsterdam",
            "Prag",
            "Mailand",
            "Arrondissement de Marseille",
            "City of Brussels",
            "Warschau",
            "Hamburg"
           ],
           "ids": [
            "Berlin",
            "Dresden",
            "Frankfurt am Main",
            "Freiburg im Breisgau",
            "Kiel",
            "Köln",
            "Leipzig",
            "Mannheim",
            "München",
            "Münster",
            "Ravensburg",
            "Rostock",
            "Stuttgart",
            "Paris",
            "London",
            "Zürich",
            "Wien",
            "Rom",
            "Amsterdam",
            "Prag",
            "Mailand",
            "Arrondissement de Marseille",
            "City of Brussels",
            "Warschau",
            "Hamburg"
           ],
           "lat": [
            52.5244,
            51.0509,
            50.1167,
            47.9959,
            54.3213,
            50.9333,
            51.342,
            49.4883,
            48.1374,
            51.9624,
            47.7833,
            54.0887,
            48.7823,
            48.8534,
            51.5085,
            47.3667,
            48.2085,
            41.8947,
            52.374,
            50.088,
            45.4643,
            43.3333,
            50.8504,
            52.2298,
            53.55
           ],
           "legendgroup": "",
           "lon": [
            13.4105,
            13.7383,
            8.6833,
            7.8522,
            10.1349,
            6.95,
            12.375,
            8.4647,
            11.5755,
            7.6257,
            9.6167,
            12.1405,
            9.177,
            2.3488,
            -0.1257,
            8.55,
            16.3721,
            12.4839,
            4.8897,
            14.4208,
            9.1895,
            5.5,
            4.3488,
            21.0118,
            10
           ],
           "marker": {
            "color": [
             20.53,
             18.52,
             23.46,
             21.88,
             16.06,
             22.05,
             19.29,
             25.58,
             19.23,
             17.81,
             19.46,
             17.51,
             23.61,
             26.75,
             19.46,
             20.59,
             22.38,
             26.46,
             17.29,
             19.02,
             27.57,
             24.75,
             21.74,
             20.43,
             15.6
            ],
            "coloraxis": "coloraxis",
            "opacity": 1,
            "symbol": "circle"
           },
           "mode": "markers+text",
           "name": "",
           "showlegend": false,
           "text": [
            "20.5 °C",
            "18.5 °C",
            "23.5 °C",
            "21.9 °C",
            "16.1 °C",
            "22.0 °C",
            "19.3 °C",
            "25.6 °C",
            "19.2 °C",
            "17.8 °C",
            "19.5 °C",
            "17.5 °C",
            "23.6 °C",
            "26.8 °C",
            "19.5 °C",
            "20.6 °C",
            "22.4 °C",
            "26.5 °C",
            "17.3 °C",
            "19.0 °C",
            "27.6 °C",
            "24.8 °C",
            "21.7 °C",
            "20.4 °C",
            "15.6 °C"
           ],
           "type": "scattergeo"
          }
         ],
         "name": "2022-08-28 18:00:00"
        },
        {
         "data": [
          {
           "customdata": [
            [
             "Berlin",
             "🌕",
             "16.6 °C",
             "Klarer Himmel",
             "it's bedtime"
            ],
            [
             "Dresden",
             "🌕",
             "16.8 °C",
             "Klarer Himmel",
             "it's bedtime"
            ],
            [
             "Frankfurt am Main",
             "☁️🌙",
             "19.0 °C",
             "Mäßig bewölkt",
             "it's bedtime"
            ],
            [
             "Freiburg im Breisgau",
             "☁️🌙",
             "19.3 °C",
             "Überwiegend bewölkt",
             "it's bedtime"
            ],
            [
             "Kiel",
             "☁️🌙",
             "15.6 °C",
             "Bedeckt",
             "it's bedtime"
            ],
            [
             "Köln",
             "☁️🌙",
             "17.9 °C",
             "Bedeckt",
             "it's bedtime"
            ],
            [
             "Leipzig",
             "🌕",
             "16.1 °C",
             "Klarer Himmel",
             "it's bedtime"
            ],
            [
             "Mannheim",
             "☁️🌙",
             "22.3 °C",
             "Mäßig bewölkt",
             "it's bedtime"
            ],
            [
             "München",
             "🌕",
             "17.0 °C",
             "Klarer Himmel",
             "it's bedtime"
            ],
            [
             "Münster",
             "🌕",
             "12.2 °C",
             "Klarer Himmel",
             "it's bedtime"
            ],
            [
             "Ravensburg",
             "🌕",
             "16.4 °C",
             "Klarer Himmel",
             "it's bedtime"
            ],
            [
             "Rostock",
             "☁️🌙",
             "15.5 °C",
             "Ein paar Wolken",
             "it's bedtime"
            ],
            [
             "Stuttgart",
             "🌧️🌙",
             "21.4 °C",
             "Leichter Regen",
             "it's bedtime"
            ],
            [
             "Paris",
             "☁️🌙",
             "23.1 °C",
             "Bedeckt",
             "it's bedtime"
            ],
            [
             "London",
             "☁️🌙",
             "17.7 °C",
             "Bedeckt",
             "it's bedtime"
            ],
            [
             "Zürich",
             "🌕",
             "17.1 °C",
             "Klarer Himmel",
             "it's bedtime"
            ],
            [
             "Wien",
             "☁️🌙",
             "20.7 °C",
             "Bedeckt",
             "it's bedtime"
            ],
            [
             "Rom",
             "🌕",
             "24.6 °C",
             "Klarer Himmel",
             "it's bedtime"
            ],
            [
             "Amsterdam",
             "☁️🌙",
             "14.3 °C",
             "Überwiegend bewölkt",
             "it's bedtime"
            ],
            [
             "Prag",
             "🌕",
             "16.6 °C",
             "Klarer Himmel",
             "it's bedtime"
            ],
            [
             "Mailand",
             "🌧️🌙",
             "25.2 °C",
             "Leichter Regen",
             "it's bedtime"
            ],
            [
             "Arrondissement de Marseille",
             "🌕",
             "23.6 °C",
             "Klarer Himmel",
             "it's bedtime"
            ],
            [
             "City of Brussels",
             "☁️🌙",
             "17.0 °C",
             "Bedeckt",
             "it's bedtime"
            ],
            [
             "Warschau",
             "☁️🌙",
             "19.2 °C",
             "Bedeckt",
             "it's bedtime"
            ],
            [
             "Hamburg",
             "☁️🌙",
             "14.9 °C",
             "Mäßig bewölkt",
             "it's bedtime"
            ]
           ],
           "geo": "geo",
           "hovertemplate": "<b>%{customdata[0]}</b><br><br>%{customdata[1]}, %{customdata[2]}<br>%{customdata[3]}<br>%{customdata[4]}<br>",
           "hovertext": [
            "Berlin",
            "Dresden",
            "Frankfurt am Main",
            "Freiburg im Breisgau",
            "Kiel",
            "Köln",
            "Leipzig",
            "Mannheim",
            "München",
            "Münster",
            "Ravensburg",
            "Rostock",
            "Stuttgart",
            "Paris",
            "London",
            "Zürich",
            "Wien",
            "Rom",
            "Amsterdam",
            "Prag",
            "Mailand",
            "Arrondissement de Marseille",
            "City of Brussels",
            "Warschau",
            "Hamburg"
           ],
           "ids": [
            "Berlin",
            "Dresden",
            "Frankfurt am Main",
            "Freiburg im Breisgau",
            "Kiel",
            "Köln",
            "Leipzig",
            "Mannheim",
            "München",
            "Münster",
            "Ravensburg",
            "Rostock",
            "Stuttgart",
            "Paris",
            "London",
            "Zürich",
            "Wien",
            "Rom",
            "Amsterdam",
            "Prag",
            "Mailand",
            "Arrondissement de Marseille",
            "City of Brussels",
            "Warschau",
            "Hamburg"
           ],
           "lat": [
            52.5244,
            51.0509,
            50.1167,
            47.9959,
            54.3213,
            50.9333,
            51.342,
            49.4883,
            48.1374,
            51.9624,
            47.7833,
            54.0887,
            48.7823,
            48.8534,
            51.5085,
            47.3667,
            48.2085,
            41.8947,
            52.374,
            50.088,
            45.4643,
            43.3333,
            50.8504,
            52.2298,
            53.55
           ],
           "legendgroup": "",
           "lon": [
            13.4105,
            13.7383,
            8.6833,
            7.8522,
            10.1349,
            6.95,
            12.375,
            8.4647,
            11.5755,
            7.6257,
            9.6167,
            12.1405,
            9.177,
            2.3488,
            -0.1257,
            8.55,
            16.3721,
            12.4839,
            4.8897,
            14.4208,
            9.1895,
            5.5,
            4.3488,
            21.0118,
            10
           ],
           "marker": {
            "color": [
             16.64,
             16.8,
             18.97,
             19.26,
             15.59,
             17.89,
             16.07,
             22.33,
             16.97,
             12.15,
             16.36,
             15.51,
             21.43,
             23.14,
             17.7,
             17.1,
             20.67,
             24.55,
             14.34,
             16.59,
             25.19,
             23.58,
             16.96,
             19.16,
             14.91
            ],
            "coloraxis": "coloraxis",
            "opacity": 1,
            "symbol": "circle"
           },
           "mode": "markers+text",
           "name": "",
           "showlegend": false,
           "text": [
            "16.6 °C",
            "16.8 °C",
            "19.0 °C",
            "19.3 °C",
            "15.6 °C",
            "17.9 °C",
            "16.1 °C",
            "22.3 °C",
            "17.0 °C",
            "12.2 °C",
            "16.4 °C",
            "15.5 °C",
            "21.4 °C",
            "23.1 °C",
            "17.7 °C",
            "17.1 °C",
            "20.7 °C",
            "24.6 °C",
            "14.3 °C",
            "16.6 °C",
            "25.2 °C",
            "23.6 °C",
            "17.0 °C",
            "19.2 °C",
            "14.9 °C"
           ],
           "type": "scattergeo"
          }
         ],
         "name": "2022-08-28 21:00:00"
        },
        {
         "data": [
          {
           "customdata": [
            [
             "Berlin",
             "🌕",
             "13.9 °C",
             "Klarer Himmel",
             "it's bedtime"
            ],
            [
             "Dresden",
             "🌕",
             "14.8 °C",
             "Klarer Himmel",
             "it's bedtime"
            ],
            [
             "Frankfurt am Main",
             "☁️🌙",
             "16.3 °C",
             "Überwiegend bewölkt",
             "it's bedtime"
            ],
            [
             "Freiburg im Breisgau",
             "☁️🌙",
             "18.0 °C",
             "Überwiegend bewölkt",
             "it's bedtime"
            ],
            [
             "Kiel",
             "☁️🌙",
             "16.0 °C",
             "Bedeckt",
             "it's bedtime"
            ],
            [
             "Köln",
             "☁️🌙",
             "15.2 °C",
             "Bedeckt",
             "it's bedtime"
            ],
            [
             "Leipzig",
             "🌕",
             "13.1 °C",
             "Klarer Himmel",
             "it's bedtime"
            ],
            [
             "Mannheim",
             "☁️🌙",
             "20.1 °C",
             "Überwiegend bewölkt",
             "it's bedtime"
            ],
            [
             "München",
             "🌕",
             "15.8 °C",
             "Klarer Himmel",
             "it's bedtime"
            ],
            [
             "Münster",
             "☁️🌙",
             "10.2 °C",
             "Mäßig bewölkt",
             "it's bedtime"
            ],
            [
             "Ravensburg",
             "🌕",
             "14.9 °C",
             "Klarer Himmel",
             "it's bedtime"
            ],
            [
             "Rostock",
             "🌧️🌙",
             "16.6 °C",
             "Leichter Regen",
             "it's bedtime"
            ],
            [
             "Stuttgart",
             "🌧️🌙",
             "19.3 °C",
             "Leichter Regen",
             "it's bedtime"
            ],
            [
             "Paris",
             "☁️🌙",
             "20.1 °C",
             "Überwiegend bewölkt",
             "it's bedtime"
            ],
            [
             "London",
             "☁️🌙",
             "16.8 °C",
             "Bedeckt",
             "it's bedtime"
            ],
            [
             "Zürich",
             "🌕",
             "15.5 °C",
             "Klarer Himmel",
             "it's bedtime"
            ],
            [
             "Wien",
             "☁️🌙",
             "19.2 °C",
             "Bedeckt",
             "it's bedtime"
            ],
            [
             "Rom",
             "🌧️🌙",
             "23.1 °C",
             "Leichter Regen",
             "it's bedtime"
            ],
            [
             "Amsterdam",
             "☁️🌙",
             "13.9 °C",
             "Überwiegend bewölkt",
             "it's bedtime"
            ],
            [
             "Prag",
             "🌕",
             "15.4 °C",
             "Klarer Himmel",
             "it's bedtime"
            ],
            [
             "Mailand",
             "🌧️🌙",
             "21.3 °C",
             "Leichter Regen",
             "it's bedtime"
            ],
            [
             "Arrondissement de Marseille",
             "🌕",
             "23.3 °C",
             "Klarer Himmel",
             "it's bedtime"
            ],
            [
             "City of Brussels",
             "☁️🌙",
             "14.4 °C",
             "Bedeckt",
             "it's bedtime"
            ],
            [
             "Warschau",
             "☁️🌙",
             "17.7 °C",
             "Überwiegend bewölkt",
             "it's bedtime"
            ],
            [
             "Hamburg",
             "☁️🌙",
             "15.1 °C",
             "Mäßig bewölkt",
             "it's bedtime"
            ]
           ],
           "geo": "geo",
           "hovertemplate": "<b>%{customdata[0]}</b><br><br>%{customdata[1]}, %{customdata[2]}<br>%{customdata[3]}<br>%{customdata[4]}<br>",
           "hovertext": [
            "Berlin",
            "Dresden",
            "Frankfurt am Main",
            "Freiburg im Breisgau",
            "Kiel",
            "Köln",
            "Leipzig",
            "Mannheim",
            "München",
            "Münster",
            "Ravensburg",
            "Rostock",
            "Stuttgart",
            "Paris",
            "London",
            "Zürich",
            "Wien",
            "Rom",
            "Amsterdam",
            "Prag",
            "Mailand",
            "Arrondissement de Marseille",
            "City of Brussels",
            "Warschau",
            "Hamburg"
           ],
           "ids": [
            "Berlin",
            "Dresden",
            "Frankfurt am Main",
            "Freiburg im Breisgau",
            "Kiel",
            "Köln",
            "Leipzig",
            "Mannheim",
            "München",
            "Münster",
            "Ravensburg",
            "Rostock",
            "Stuttgart",
            "Paris",
            "London",
            "Zürich",
            "Wien",
            "Rom",
            "Amsterdam",
            "Prag",
            "Mailand",
            "Arrondissement de Marseille",
            "City of Brussels",
            "Warschau",
            "Hamburg"
           ],
           "lat": [
            52.5244,
            51.0509,
            50.1167,
            47.9959,
            54.3213,
            50.9333,
            51.342,
            49.4883,
            48.1374,
            51.9624,
            47.7833,
            54.0887,
            48.7823,
            48.8534,
            51.5085,
            47.3667,
            48.2085,
            41.8947,
            52.374,
            50.088,
            45.4643,
            43.3333,
            50.8504,
            52.2298,
            53.55
           ],
           "legendgroup": "",
           "lon": [
            13.4105,
            13.7383,
            8.6833,
            7.8522,
            10.1349,
            6.95,
            12.375,
            8.4647,
            11.5755,
            7.6257,
            9.6167,
            12.1405,
            9.177,
            2.3488,
            -0.1257,
            8.55,
            16.3721,
            12.4839,
            4.8897,
            14.4208,
            9.1895,
            5.5,
            4.3488,
            21.0118,
            10
           ],
           "marker": {
            "color": [
             13.91,
             14.76,
             16.26,
             18.04,
             16.05,
             15.24,
             13.09,
             20.09,
             15.8,
             10.17,
             14.89,
             16.55,
             19.29,
             20.11,
             16.85,
             15.5,
             19.17,
             23.06,
             13.87,
             15.41,
             21.32,
             23.32,
             14.44,
             17.68,
             15.06
            ],
            "coloraxis": "coloraxis",
            "opacity": 1,
            "symbol": "circle"
           },
           "mode": "markers+text",
           "name": "",
           "showlegend": false,
           "text": [
            "13.9 °C",
            "14.8 °C",
            "16.3 °C",
            "18.0 °C",
            "16.0 °C",
            "15.2 °C",
            "13.1 °C",
            "20.1 °C",
            "15.8 °C",
            "10.2 °C",
            "14.9 °C",
            "16.6 °C",
            "19.3 °C",
            "20.1 °C",
            "16.8 °C",
            "15.5 °C",
            "19.2 °C",
            "23.1 °C",
            "13.9 °C",
            "15.4 °C",
            "21.3 °C",
            "23.3 °C",
            "14.4 °C",
            "17.7 °C",
            "15.1 °C"
           ],
           "type": "scattergeo"
          }
         ],
         "name": "2022-08-29 00:00:00"
        },
        {
         "data": [
          {
           "customdata": [
            [
             "Berlin",
             "🌕",
             "12.5 °C",
             "Klarer Himmel",
             "it's bedtime"
            ],
            [
             "Dresden",
             "🌕",
             "12.7 °C",
             "Klarer Himmel",
             "it's bedtime"
            ],
            [
             "Frankfurt am Main",
             "☁️🌙",
             "14.5 °C",
             "Bedeckt",
             "it's bedtime"
            ],
            [
             "Freiburg im Breisgau",
             "☁️🌙",
             "17.3 °C",
             "Bedeckt",
             "it's bedtime"
            ],
            [
             "Kiel",
             "🌧️🌙",
             "15.3 °C",
             "Leichter Regen",
             "it's bedtime"
            ],
            [
             "Köln",
             "☁️🌙",
             "13.6 °C",
             "Bedeckt",
             "it's bedtime"
            ],
            [
             "Leipzig",
             "☁️🌙",
             "11.5 °C",
             "Ein paar Wolken",
             "it's bedtime"
            ],
            [
             "Mannheim",
             "☁️🌙",
             "18.1 °C",
             "Bedeckt",
             "it's bedtime"
            ],
            [
             "München",
             "🌕",
             "14.9 °C",
             "Klarer Himmel",
             "it's bedtime"
            ],
            [
             "Münster",
             "☁️🌙",
             "9.5 °C",
             "Überwiegend bewölkt",
             "it's bedtime"
            ],
            [
             "Ravensburg",
             "☁️🌙",
             "13.9 °C",
             "Ein paar Wolken",
             "it's bedtime"
            ],
            [
             "Rostock",
             "🌧️🌙",
             "16.9 °C",
             "Leichter Regen",
             "it's bedtime"
            ],
            [
             "Stuttgart",
             "☁️🌙",
             "17.8 °C",
             "Bedeckt",
             "it's bedtime"
            ],
            [
             "Paris",
             "☁️🌙",
             "17.8 °C",
             "Mäßig bewölkt",
             "it's bedtime"
            ],
            [
             "London",
             "☁️🌙",
             "16.1 °C",
             "Bedeckt",
             "it's bedtime"
            ],
            [
             "Zürich",
             "☁️🌙",
             "14.6 °C",
             "Ein paar Wolken",
             "it's bedtime"
            ],
            [
             "Wien",
             "☁️🌙",
             "18.7 °C",
             "Bedeckt",
             "it's bedtime"
            ],
            [
             "Rom",
             "🌕",
             "22.2 °C",
             "Klarer Himmel",
             "it's bedtime"
            ],
            [
             "Amsterdam",
             "☁️🌙",
             "13.1 °C",
             "Bedeckt",
             "it's bedtime"
            ],
            [
             "Prag",
             "🌕",
             "14.2 °C",
             "Klarer Himmel",
             "it's bedtime"
            ],
            [
             "Mailand",
             "🌧️🌙",
             "20.0 °C",
             "Mäßiger Regen",
             "it's bedtime"
            ],
            [
             "Arrondissement de Marseille",
             "🌕",
             "22.4 °C",
             "Klarer Himmel",
             "it's bedtime"
            ],
            [
             "City of Brussels",
             "☁️🌙",
             "12.5 °C",
             "Bedeckt",
             "it's bedtime"
            ],
            [
             "Warschau",
             "☁️🌙",
             "16.6 °C",
             "Mäßig bewölkt",
             "it's bedtime"
            ],
            [
             "Hamburg",
             "🌧️🌙",
             "14.7 °C",
             "Leichter Regen",
             "it's bedtime"
            ]
           ],
           "geo": "geo",
           "hovertemplate": "<b>%{customdata[0]}</b><br><br>%{customdata[1]}, %{customdata[2]}<br>%{customdata[3]}<br>%{customdata[4]}<br>",
           "hovertext": [
            "Berlin",
            "Dresden",
            "Frankfurt am Main",
            "Freiburg im Breisgau",
            "Kiel",
            "Köln",
            "Leipzig",
            "Mannheim",
            "München",
            "Münster",
            "Ravensburg",
            "Rostock",
            "Stuttgart",
            "Paris",
            "London",
            "Zürich",
            "Wien",
            "Rom",
            "Amsterdam",
            "Prag",
            "Mailand",
            "Arrondissement de Marseille",
            "City of Brussels",
            "Warschau",
            "Hamburg"
           ],
           "ids": [
            "Berlin",
            "Dresden",
            "Frankfurt am Main",
            "Freiburg im Breisgau",
            "Kiel",
            "Köln",
            "Leipzig",
            "Mannheim",
            "München",
            "Münster",
            "Ravensburg",
            "Rostock",
            "Stuttgart",
            "Paris",
            "London",
            "Zürich",
            "Wien",
            "Rom",
            "Amsterdam",
            "Prag",
            "Mailand",
            "Arrondissement de Marseille",
            "City of Brussels",
            "Warschau",
            "Hamburg"
           ],
           "lat": [
            52.5244,
            51.0509,
            50.1167,
            47.9959,
            54.3213,
            50.9333,
            51.342,
            49.4883,
            48.1374,
            51.9624,
            47.7833,
            54.0887,
            48.7823,
            48.8534,
            51.5085,
            47.3667,
            48.2085,
            41.8947,
            52.374,
            50.088,
            45.4643,
            43.3333,
            50.8504,
            52.2298,
            53.55
           ],
           "legendgroup": "",
           "lon": [
            13.4105,
            13.7383,
            8.6833,
            7.8522,
            10.1349,
            6.95,
            12.375,
            8.4647,
            11.5755,
            7.6257,
            9.6167,
            12.1405,
            9.177,
            2.3488,
            -0.1257,
            8.55,
            16.3721,
            12.4839,
            4.8897,
            14.4208,
            9.1895,
            5.5,
            4.3488,
            21.0118,
            10
           ],
           "marker": {
            "color": [
             12.5,
             12.72,
             14.46,
             17.28,
             15.33,
             13.64,
             11.52,
             18.12,
             14.89,
             9.52,
             13.92,
             16.88,
             17.77,
             17.83,
             16.13,
             14.56,
             18.71,
             22.24,
             13.07,
             14.24,
             19.97,
             22.38,
             12.52,
             16.62,
             14.67
            ],
            "coloraxis": "coloraxis",
            "opacity": 1,
            "symbol": "circle"
           },
           "mode": "markers+text",
           "name": "",
           "showlegend": false,
           "text": [
            "12.5 °C",
            "12.7 °C",
            "14.5 °C",
            "17.3 °C",
            "15.3 °C",
            "13.6 °C",
            "11.5 °C",
            "18.1 °C",
            "14.9 °C",
            "9.5 °C",
            "13.9 °C",
            "16.9 °C",
            "17.8 °C",
            "17.8 °C",
            "16.1 °C",
            "14.6 °C",
            "18.7 °C",
            "22.2 °C",
            "13.1 °C",
            "14.2 °C",
            "20.0 °C",
            "22.4 °C",
            "12.5 °C",
            "16.6 °C",
            "14.7 °C"
           ],
           "type": "scattergeo"
          }
         ],
         "name": "2022-08-29 03:00:00"
        },
        {
         "data": [
          {
           "customdata": [
            [
             "Berlin",
             "🌤️",
             "14.1 °C",
             "Ein paar Wolken",
             "it's the perfect temperature to do something outside!<br>"
            ],
            [
             "Dresden",
             "☀️",
             "14.2 °C",
             "Klarer Himmel",
             "it's the perfect temperature to do something outside!<br>"
            ],
            [
             "Frankfurt am Main",
             "☁️",
             "14.8 °C",
             "Bedeckt",
             "it's the perfect temperature to do something outside!<br>"
            ],
            [
             "Freiburg im Breisgau",
             "☁️",
             "18.6 °C",
             "Bedeckt",
             "wear light clothes and don't forget your sunnies!<br>"
            ],
            [
             "Kiel",
             "🌦️",
             "16.3 °C",
             "Leichter Regen",
             "wear light clothes and don't forget your sunnies!<br>take an umbrella or a rain jacket with you<br>"
            ],
            [
             "Köln",
             "☁️",
             "14.3 °C",
             "Bedeckt",
             "it's the perfect temperature to do something outside!<br>"
            ],
            [
             "Leipzig",
             "🌤️",
             "13.5 °C",
             "Ein paar Wolken",
             "it's the perfect temperature to do something outside!<br>"
            ],
            [
             "Mannheim",
             "☁️",
             "17.6 °C",
             "Bedeckt",
             "wear light clothes and don't forget your sunnies!<br>"
            ],
            [
             "München",
             "🌤️",
             "16.6 °C",
             "Ein paar Wolken",
             "wear light clothes and don't forget your sunnies!<br>"
            ],
            [
             "Münster",
             "☁️",
             "11.6 °C",
             "Bedeckt",
             "it's the perfect temperature to do something outside!<br>"
            ],
            [
             "Ravensburg",
             "☁️",
             "15.9 °C",
             "Mäßig bewölkt",
             "wear light clothes and don't forget your sunnies!<br>"
            ],
            [
             "Rostock",
             "🌦️",
             "16.8 °C",
             "Leichter Regen",
             "wear light clothes and don't forget your sunnies!<br>take an umbrella or a rain jacket with you<br>"
            ],
            [
             "Stuttgart",
             "☁️",
             "18.6 °C",
             "Bedeckt",
             "wear light clothes and don't forget your sunnies!<br>"
            ],
            [
             "Paris",
             "☁️",
             "16.9 °C",
             "Überwiegend bewölkt",
             "wear light clothes and don't forget your sunnies!<br>"
            ],
            [
             "London",
             "☁️",
             "15.7 °C",
             "Bedeckt",
             "wear light clothes and don't forget your sunnies!<br>"
            ],
            [
             "Zürich",
             "☁️",
             "16.1 °C",
             "Überwiegend bewölkt",
             "wear light clothes and don't forget your sunnies!<br>"
            ],
            [
             "Wien",
             "☁️",
             "19.1 °C",
             "Bedeckt",
             "wear light clothes and don't forget your sunnies!<br>"
            ],
            [
             "Rom",
             "☀️",
             "23.5 °C",
             "Klarer Himmel",
             "wear light clothes and don't forget your sunnies!<br>"
            ],
            [
             "Amsterdam",
             "☁️",
             "14.6 °C",
             "Bedeckt",
             "it's the perfect temperature to do something outside!<br>"
            ],
            [
             "Prag",
             "☀️",
             "16.2 °C",
             "Klarer Himmel",
             "wear light clothes and don't forget your sunnies!<br>"
            ],
            [
             "Mailand",
             "🌦️",
             "20.7 °C",
             "Leichter Regen",
             "wear light clothes and don't forget your sunnies!<br>take an umbrella or a rain jacket with you<br>"
            ],
            [
             "Arrondissement de Marseille",
             "☁️",
             "22.3 °C",
             "Überwiegend bewölkt",
             "wear light clothes and don't forget your sunnies!<br>"
            ],
            [
             "City of Brussels",
             "☁️",
             "12.6 °C",
             "Überwiegend bewölkt",
             "it's the perfect temperature to do something outside!<br>"
            ],
            [
             "Warschau",
             "🌤️",
             "17.4 °C",
             "Ein paar Wolken",
             "wear light clothes and don't forget your sunnies!<br>"
            ],
            [
             "Hamburg",
             "🌦️",
             "14.7 °C",
             "Leichter Regen",
             "it's the perfect temperature to do something outside!<br>take an umbrella or a rain jacket with you<br>"
            ]
           ],
           "geo": "geo",
           "hovertemplate": "<b>%{customdata[0]}</b><br><br>%{customdata[1]}, %{customdata[2]}<br>%{customdata[3]}<br>%{customdata[4]}<br>",
           "hovertext": [
            "Berlin",
            "Dresden",
            "Frankfurt am Main",
            "Freiburg im Breisgau",
            "Kiel",
            "Köln",
            "Leipzig",
            "Mannheim",
            "München",
            "Münster",
            "Ravensburg",
            "Rostock",
            "Stuttgart",
            "Paris",
            "London",
            "Zürich",
            "Wien",
            "Rom",
            "Amsterdam",
            "Prag",
            "Mailand",
            "Arrondissement de Marseille",
            "City of Brussels",
            "Warschau",
            "Hamburg"
           ],
           "ids": [
            "Berlin",
            "Dresden",
            "Frankfurt am Main",
            "Freiburg im Breisgau",
            "Kiel",
            "Köln",
            "Leipzig",
            "Mannheim",
            "München",
            "Münster",
            "Ravensburg",
            "Rostock",
            "Stuttgart",
            "Paris",
            "London",
            "Zürich",
            "Wien",
            "Rom",
            "Amsterdam",
            "Prag",
            "Mailand",
            "Arrondissement de Marseille",
            "City of Brussels",
            "Warschau",
            "Hamburg"
           ],
           "lat": [
            52.5244,
            51.0509,
            50.1167,
            47.9959,
            54.3213,
            50.9333,
            51.342,
            49.4883,
            48.1374,
            51.9624,
            47.7833,
            54.0887,
            48.7823,
            48.8534,
            51.5085,
            47.3667,
            48.2085,
            41.8947,
            52.374,
            50.088,
            45.4643,
            43.3333,
            50.8504,
            52.2298,
            53.55
           ],
           "legendgroup": "",
           "lon": [
            13.4105,
            13.7383,
            8.6833,
            7.8522,
            10.1349,
            6.95,
            12.375,
            8.4647,
            11.5755,
            7.6257,
            9.6167,
            12.1405,
            9.177,
            2.3488,
            -0.1257,
            8.55,
            16.3721,
            12.4839,
            4.8897,
            14.4208,
            9.1895,
            5.5,
            4.3488,
            21.0118,
            10
           ],
           "marker": {
            "color": [
             14.09,
             14.19,
             14.78,
             18.58,
             16.26,
             14.33,
             13.48,
             17.56,
             16.58,
             11.58,
             15.91,
             16.79,
             18.56,
             16.92,
             15.72,
             16.14,
             19.12,
             23.49,
             14.61,
             16.15,
             20.66,
             22.27,
             12.64,
             17.39,
             14.69
            ],
            "coloraxis": "coloraxis",
            "opacity": 1,
            "symbol": "circle"
           },
           "mode": "markers+text",
           "name": "",
           "showlegend": false,
           "text": [
            "14.1 °C",
            "14.2 °C",
            "14.8 °C",
            "18.6 °C",
            "16.3 °C",
            "14.3 °C",
            "13.5 °C",
            "17.6 °C",
            "16.6 °C",
            "11.6 °C",
            "15.9 °C",
            "16.8 °C",
            "18.6 °C",
            "16.9 °C",
            "15.7 °C",
            "16.1 °C",
            "19.1 °C",
            "23.5 °C",
            "14.6 °C",
            "16.2 °C",
            "20.7 °C",
            "22.3 °C",
            "12.6 °C",
            "17.4 °C",
            "14.7 °C"
           ],
           "type": "scattergeo"
          }
         ],
         "name": "2022-08-29 06:00:00"
        },
        {
         "data": [
          {
           "customdata": [
            [
             "Berlin",
             "☁️",
             "17.0 °C",
             "Bedeckt",
             "wear light clothes and don't forget your sunnies!<br>"
            ],
            [
             "Dresden",
             "☁️",
             "18.3 °C",
             "Überwiegend bewölkt",
             "wear light clothes and don't forget your sunnies!<br>"
            ],
            [
             "Frankfurt am Main",
             "☁️",
             "21.6 °C",
             "Bedeckt",
             "wear light clothes and don't forget your sunnies!<br>"
            ],
            [
             "Freiburg im Breisgau",
             "☁️",
             "24.3 °C",
             "Bedeckt",
             "wear light clothes and don't forget your sunnies!<br>"
            ],
            [
             "Kiel",
             "☁️",
             "18.0 °C",
             "Bedeckt",
             "wear light clothes and don't forget your sunnies!<br>"
            ],
            [
             "Köln",
             "☁️",
             "20.2 °C",
             "Mäßig bewölkt",
             "wear light clothes and don't forget your sunnies!<br>"
            ],
            [
             "Leipzig",
             "☁️",
             "18.2 °C",
             "Bedeckt",
             "wear light clothes and don't forget your sunnies!<br>"
            ],
            [
             "Mannheim",
             "☁️",
             "23.5 °C",
             "Bedeckt",
             "wear light clothes and don't forget your sunnies!<br>"
            ],
            [
             "München",
             "☁️",
             "23.1 °C",
             "Mäßig bewölkt",
             "wear light clothes and don't forget your sunnies!<br>"
            ],
            [
             "Münster",
             "☁️",
             "18.0 °C",
             "Bedeckt",
             "wear light clothes and don't forget your sunnies!<br>"
            ],
            [
             "Ravensburg",
             "☁️",
             "22.8 °C",
             "Bedeckt",
             "wear light clothes and don't forget your sunnies!<br>"
            ],
            [
             "Rostock",
             "☁️",
             "17.4 °C",
             "Bedeckt",
             "wear light clothes and don't forget your sunnies!<br>watch out - your hat may get blown off<br>"
            ],
            [
             "Stuttgart",
             "☁️",
             "23.8 °C",
             "Bedeckt",
             "wear light clothes and don't forget your sunnies!<br>"
            ],
            [
             "Paris",
             "☁️",
             "22.4 °C",
             "Bedeckt",
             "wear light clothes and don't forget your sunnies!<br>"
            ],
            [
             "London",
             "☁️",
             "18.8 °C",
             "Bedeckt",
             "wear light clothes and don't forget your sunnies!<br>"
            ],
            [
             "Zürich",
             "☁️",
             "23.7 °C",
             "Überwiegend bewölkt",
             "wear light clothes and don't forget your sunnies!<br>"
            ],
            [
             "Wien",
             "🌤️",
             "23.5 °C",
             "Ein paar Wolken",
             "wear light clothes and don't forget your sunnies!<br>"
            ],
            [
             "Rom",
             "☀️",
             "29.9 °C",
             "Klarer Himmel",
             "wear light clothes, drink a lot of water and don't forget suncream<br>"
            ],
            [
             "Amsterdam",
             "☁️",
             "17.5 °C",
             "Bedeckt",
             "wear light clothes and don't forget your sunnies!<br>"
            ],
            [
             "Prag",
             "🌤️",
             "20.9 °C",
             "Ein paar Wolken",
             "wear light clothes and don't forget your sunnies!<br>"
            ],
            [
             "Mailand",
             "🌤️",
             "25.8 °C",
             "Ein paar Wolken",
             "wear light clothes, drink a lot of water and don't forget suncream<br>"
            ],
            [
             "Arrondissement de Marseille",
             "☁️",
             "26.4 °C",
             "Überwiegend bewölkt",
             "wear light clothes, drink a lot of water and don't forget suncream<br>"
            ],
            [
             "City of Brussels",
             "☁️",
             "19.3 °C",
             "Mäßig bewölkt",
             "wear light clothes and don't forget your sunnies!<br>watch out - your hat may get blown off<br>"
            ],
            [
             "Warschau",
             "☀️",
             "22.2 °C",
             "Klarer Himmel",
             "wear light clothes and don't forget your sunnies!<br>"
            ],
            [
             "Hamburg",
             "☁️",
             "16.6 °C",
             "Bedeckt",
             "wear light clothes and don't forget your sunnies!<br>"
            ]
           ],
           "geo": "geo",
           "hovertemplate": "<b>%{customdata[0]}</b><br><br>%{customdata[1]}, %{customdata[2]}<br>%{customdata[3]}<br>%{customdata[4]}<br>",
           "hovertext": [
            "Berlin",
            "Dresden",
            "Frankfurt am Main",
            "Freiburg im Breisgau",
            "Kiel",
            "Köln",
            "Leipzig",
            "Mannheim",
            "München",
            "Münster",
            "Ravensburg",
            "Rostock",
            "Stuttgart",
            "Paris",
            "London",
            "Zürich",
            "Wien",
            "Rom",
            "Amsterdam",
            "Prag",
            "Mailand",
            "Arrondissement de Marseille",
            "City of Brussels",
            "Warschau",
            "Hamburg"
           ],
           "ids": [
            "Berlin",
            "Dresden",
            "Frankfurt am Main",
            "Freiburg im Breisgau",
            "Kiel",
            "Köln",
            "Leipzig",
            "Mannheim",
            "München",
            "Münster",
            "Ravensburg",
            "Rostock",
            "Stuttgart",
            "Paris",
            "London",
            "Zürich",
            "Wien",
            "Rom",
            "Amsterdam",
            "Prag",
            "Mailand",
            "Arrondissement de Marseille",
            "City of Brussels",
            "Warschau",
            "Hamburg"
           ],
           "lat": [
            52.5244,
            51.0509,
            50.1167,
            47.9959,
            54.3213,
            50.9333,
            51.342,
            49.4883,
            48.1374,
            51.9624,
            47.7833,
            54.0887,
            48.7823,
            48.8534,
            51.5085,
            47.3667,
            48.2085,
            41.8947,
            52.374,
            50.088,
            45.4643,
            43.3333,
            50.8504,
            52.2298,
            53.55
           ],
           "legendgroup": "",
           "lon": [
            13.4105,
            13.7383,
            8.6833,
            7.8522,
            10.1349,
            6.95,
            12.375,
            8.4647,
            11.5755,
            7.6257,
            9.6167,
            12.1405,
            9.177,
            2.3488,
            -0.1257,
            8.55,
            16.3721,
            12.4839,
            4.8897,
            14.4208,
            9.1895,
            5.5,
            4.3488,
            21.0118,
            10
           ],
           "marker": {
            "color": [
             17.04,
             18.31,
             21.6,
             24.29,
             18.02,
             20.2,
             18.17,
             23.52,
             23.11,
             17.98,
             22.82,
             17.44,
             23.77,
             22.44,
             18.85,
             23.66,
             23.47,
             29.88,
             17.51,
             20.88,
             25.77,
             26.4,
             19.27,
             22.21,
             16.61
            ],
            "coloraxis": "coloraxis",
            "opacity": 1,
            "symbol": "circle"
           },
           "mode": "markers+text",
           "name": "",
           "showlegend": false,
           "text": [
            "17.0 °C",
            "18.3 °C",
            "21.6 °C",
            "24.3 °C",
            "18.0 °C",
            "20.2 °C",
            "18.2 °C",
            "23.5 °C",
            "23.1 °C",
            "18.0 °C",
            "22.8 °C",
            "17.4 °C",
            "23.8 °C",
            "22.4 °C",
            "18.8 °C",
            "23.7 °C",
            "23.5 °C",
            "29.9 °C",
            "17.5 °C",
            "20.9 °C",
            "25.8 °C",
            "26.4 °C",
            "19.3 °C",
            "22.2 °C",
            "16.6 °C"
           ],
           "type": "scattergeo"
          }
         ],
         "name": "2022-08-29 09:00:00"
        },
        {
         "data": [
          {
           "customdata": [
            [
             "Berlin",
             "☁️",
             "20.8 °C",
             "Bedeckt",
             "wear light clothes and don't forget your sunnies!<br>"
            ],
            [
             "Dresden",
             "☁️",
             "21.6 °C",
             "Überwiegend bewölkt",
             "wear light clothes and don't forget your sunnies!<br>"
            ],
            [
             "Frankfurt am Main",
             "☁️",
             "27.2 °C",
             "Überwiegend bewölkt",
             "wear light clothes, drink a lot of water and don't forget suncream<br>"
            ],
            [
             "Freiburg im Breisgau",
             "☁️",
             "28.6 °C",
             "Überwiegend bewölkt",
             "wear light clothes, drink a lot of water and don't forget suncream<br>"
            ],
            [
             "Kiel",
             "☁️",
             "20.8 °C",
             "Überwiegend bewölkt",
             "wear light clothes and don't forget your sunnies!<br>"
            ],
            [
             "Köln",
             "☁️",
             "24.7 °C",
             "Mäßig bewölkt",
             "wear light clothes and don't forget your sunnies!<br>"
            ],
            [
             "Leipzig",
             "☁️",
             "22.0 °C",
             "Bedeckt",
             "wear light clothes and don't forget your sunnies!<br>"
            ],
            [
             "Mannheim",
             "☁️",
             "29.4 °C",
             "Überwiegend bewölkt",
             "wear light clothes, drink a lot of water and don't forget suncream<br>"
            ],
            [
             "München",
             "☁️",
             "25.9 °C",
             "Überwiegend bewölkt",
             "wear light clothes, drink a lot of water and don't forget suncream<br>"
            ],
            [
             "Münster",
             "☁️",
             "22.7 °C",
             "Überwiegend bewölkt",
             "wear light clothes and don't forget your sunnies!<br>"
            ],
            [
             "Ravensburg",
             "☁️",
             "26.6 °C",
             "Bedeckt",
             "wear light clothes, drink a lot of water and don't forget suncream<br>"
            ],
            [
             "Rostock",
             "☁️",
             "19.2 °C",
             "Bedeckt",
             "wear light clothes and don't forget your sunnies!<br>"
            ],
            [
             "Stuttgart",
             "☁️",
             "29.0 °C",
             "Bedeckt",
             "wear light clothes, drink a lot of water and don't forget suncream<br>"
            ],
            [
             "Paris",
             "☁️",
             "28.6 °C",
             "Bedeckt",
             "wear light clothes, drink a lot of water and don't forget suncream<br>"
            ],
            [
             "London",
             "☁️",
             "21.6 °C",
             "Überwiegend bewölkt",
             "wear light clothes and don't forget your sunnies!<br>"
            ],
            [
             "Zürich",
             "☁️",
             "28.5 °C",
             "Bedeckt",
             "wear light clothes, drink a lot of water and don't forget suncream<br>"
            ],
            [
             "Wien",
             "☀️",
             "26.4 °C",
             "Klarer Himmel",
             "wear light clothes, drink a lot of water and don't forget suncream<br>"
            ],
            [
             "Rom",
             "☀️",
             "32.9 °C",
             "Klarer Himmel",
             "wear light clothes, drink a lot of water and don't forget suncream<br>"
            ],
            [
             "Amsterdam",
             "☁️",
             "19.2 °C",
             "Bedeckt",
             "wear light clothes and don't forget your sunnies!<br>"
            ],
            [
             "Prag",
             "🌤️",
             "23.9 °C",
             "Ein paar Wolken",
             "wear light clothes and don't forget your sunnies!<br>"
            ],
            [
             "Mailand",
             "☁️",
             "29.6 °C",
             "Überwiegend bewölkt",
             "wear light clothes, drink a lot of water and don't forget suncream<br>"
            ],
            [
             "Arrondissement de Marseille",
             "☁️",
             "24.4 °C",
             "Bedeckt",
             "wear light clothes and don't forget your sunnies!<br>watch out - your hat may get blown off<br>"
            ],
            [
             "City of Brussels",
             "☁️",
             "23.7 °C",
             "Mäßig bewölkt",
             "wear light clothes and don't forget your sunnies!<br>"
            ],
            [
             "Warschau",
             "☀️",
             "24.9 °C",
             "Klarer Himmel",
             "wear light clothes and don't forget your sunnies!<br>watch out - your hat may get blown off<br>"
            ],
            [
             "Hamburg",
             "🌦️",
             "21.0 °C",
             "Leichter Regen",
             "wear light clothes and don't forget your sunnies!<br>take an umbrella or a rain jacket with you<br>"
            ]
           ],
           "geo": "geo",
           "hovertemplate": "<b>%{customdata[0]}</b><br><br>%{customdata[1]}, %{customdata[2]}<br>%{customdata[3]}<br>%{customdata[4]}<br>",
           "hovertext": [
            "Berlin",
            "Dresden",
            "Frankfurt am Main",
            "Freiburg im Breisgau",
            "Kiel",
            "Köln",
            "Leipzig",
            "Mannheim",
            "München",
            "Münster",
            "Ravensburg",
            "Rostock",
            "Stuttgart",
            "Paris",
            "London",
            "Zürich",
            "Wien",
            "Rom",
            "Amsterdam",
            "Prag",
            "Mailand",
            "Arrondissement de Marseille",
            "City of Brussels",
            "Warschau",
            "Hamburg"
           ],
           "ids": [
            "Berlin",
            "Dresden",
            "Frankfurt am Main",
            "Freiburg im Breisgau",
            "Kiel",
            "Köln",
            "Leipzig",
            "Mannheim",
            "München",
            "Münster",
            "Ravensburg",
            "Rostock",
            "Stuttgart",
            "Paris",
            "London",
            "Zürich",
            "Wien",
            "Rom",
            "Amsterdam",
            "Prag",
            "Mailand",
            "Arrondissement de Marseille",
            "City of Brussels",
            "Warschau",
            "Hamburg"
           ],
           "lat": [
            52.5244,
            51.0509,
            50.1167,
            47.9959,
            54.3213,
            50.9333,
            51.342,
            49.4883,
            48.1374,
            51.9624,
            47.7833,
            54.0887,
            48.7823,
            48.8534,
            51.5085,
            47.3667,
            48.2085,
            41.8947,
            52.374,
            50.088,
            45.4643,
            43.3333,
            50.8504,
            52.2298,
            53.55
           ],
           "legendgroup": "",
           "lon": [
            13.4105,
            13.7383,
            8.6833,
            7.8522,
            10.1349,
            6.95,
            12.375,
            8.4647,
            11.5755,
            7.6257,
            9.6167,
            12.1405,
            9.177,
            2.3488,
            -0.1257,
            8.55,
            16.3721,
            12.4839,
            4.8897,
            14.4208,
            9.1895,
            5.5,
            4.3488,
            21.0118,
            10
           ],
           "marker": {
            "color": [
             20.75,
             21.56,
             27.24,
             28.63,
             20.77,
             24.73,
             21.99,
             29.35,
             25.91,
             22.74,
             26.65,
             19.2,
             28.95,
             28.61,
             21.61,
             28.5,
             26.42,
             32.89,
             19.17,
             23.92,
             29.61,
             24.43,
             23.7,
             24.87,
             21.04
            ],
            "coloraxis": "coloraxis",
            "opacity": 1,
            "symbol": "circle"
           },
           "mode": "markers+text",
           "name": "",
           "showlegend": false,
           "text": [
            "20.8 °C",
            "21.6 °C",
            "27.2 °C",
            "28.6 °C",
            "20.8 °C",
            "24.7 °C",
            "22.0 °C",
            "29.4 °C",
            "25.9 °C",
            "22.7 °C",
            "26.6 °C",
            "19.2 °C",
            "29.0 °C",
            "28.6 °C",
            "21.6 °C",
            "28.5 °C",
            "26.4 °C",
            "32.9 °C",
            "19.2 °C",
            "23.9 °C",
            "29.6 °C",
            "24.4 °C",
            "23.7 °C",
            "24.9 °C",
            "21.0 °C"
           ],
           "type": "scattergeo"
          }
         ],
         "name": "2022-08-29 12:00:00"
        },
        {
         "data": [
          {
           "customdata": [
            [
             "Berlin",
             "☁️",
             "22.0 °C",
             "Überwiegend bewölkt",
             "wear light clothes and don't forget your sunnies!<br>"
            ],
            [
             "Dresden",
             "☁️",
             "22.5 °C",
             "Mäßig bewölkt",
             "wear light clothes and don't forget your sunnies!<br>"
            ],
            [
             "Frankfurt am Main",
             "☁️",
             "28.4 °C",
             "Überwiegend bewölkt",
             "wear light clothes, drink a lot of water and don't forget suncream<br>"
            ],
            [
             "Freiburg im Breisgau",
             "☀️",
             "30.2 °C",
             "Klarer Himmel",
             "wear light clothes, drink a lot of water and don't forget suncream<br>"
            ],
            [
             "Kiel",
             "☁️",
             "20.4 °C",
             "Mäßig bewölkt",
             "wear light clothes and don't forget your sunnies!<br>"
            ],
            [
             "Köln",
             "☁️",
             "25.8 °C",
             "Bedeckt",
             "wear light clothes, drink a lot of water and don't forget suncream<br>"
            ],
            [
             "Leipzig",
             "☁️",
             "23.0 °C",
             "Bedeckt",
             "wear light clothes and don't forget your sunnies!<br>"
            ],
            [
             "Mannheim",
             "🌤️",
             "30.8 °C",
             "Ein paar Wolken",
             "wear light clothes, drink a lot of water and don't forget suncream<br>"
            ],
            [
             "München",
             "☁️",
             "25.9 °C",
             "Überwiegend bewölkt",
             "wear light clothes, drink a lot of water and don't forget suncream<br>"
            ],
            [
             "Münster",
             "☁️",
             "24.8 °C",
             "Mäßig bewölkt",
             "wear light clothes and don't forget your sunnies!<br>"
            ],
            [
             "Ravensburg",
             "☁️",
             "26.3 °C",
             "Überwiegend bewölkt",
             "wear light clothes, drink a lot of water and don't forget suncream<br>"
            ],
            [
             "Rostock",
             "☁️",
             "19.8 °C",
             "Überwiegend bewölkt",
             "wear light clothes and don't forget your sunnies!<br>"
            ],
            [
             "Stuttgart",
             "☁️",
             "29.4 °C",
             "Mäßig bewölkt",
             "wear light clothes, drink a lot of water and don't forget suncream<br>"
            ],
            [
             "Paris",
             "☁️",
             "30.9 °C",
             "Bedeckt",
             "wear light clothes, drink a lot of water and don't forget suncream<br>"
            ],
            [
             "London",
             "☀️",
             "22.3 °C",
             "Klarer Himmel",
             "wear light clothes and don't forget your sunnies!<br>"
            ],
            [
             "Zürich",
             "🌤️",
             "29.0 °C",
             "Ein paar Wolken",
             "wear light clothes, drink a lot of water and don't forget suncream<br>"
            ],
            [
             "Wien",
             "☀️",
             "26.8 °C",
             "Klarer Himmel",
             "wear light clothes, drink a lot of water and don't forget suncream<br>"
            ],
            [
             "Rom",
             "☀️",
             "30.8 °C",
             "Klarer Himmel",
             "wear light clothes, drink a lot of water and don't forget suncream<br>"
            ],
            [
             "Amsterdam",
             "☁️",
             "20.5 °C",
             "Überwiegend bewölkt",
             "wear light clothes and don't forget your sunnies!<br>"
            ],
            [
             "Prag",
             "☁️",
             "24.0 °C",
             "Bedeckt",
             "wear light clothes and don't forget your sunnies!<br>"
            ],
            [
             "Mailand",
             "☁️",
             "30.4 °C",
             "Bedeckt",
             "wear light clothes, drink a lot of water and don't forget suncream<br>"
            ],
            [
             "Arrondissement de Marseille",
             "☁️",
             "26.3 °C",
             "Bedeckt",
             "wear light clothes, drink a lot of water and don't forget suncream<br>watch out - your hat may get blown off<br>"
            ],
            [
             "City of Brussels",
             "☁️",
             "24.9 °C",
             "Bedeckt",
             "wear light clothes and don't forget your sunnies!<br>"
            ],
            [
             "Warschau",
             "🌤️",
             "24.1 °C",
             "Ein paar Wolken",
             "wear light clothes and don't forget your sunnies!<br>watch out - your hat may get blown off<br>"
            ],
            [
             "Hamburg",
             "🌦️",
             "22.2 °C",
             "Leichter Regen",
             "wear light clothes and don't forget your sunnies!<br>take an umbrella or a rain jacket with you<br>"
            ]
           ],
           "geo": "geo",
           "hovertemplate": "<b>%{customdata[0]}</b><br><br>%{customdata[1]}, %{customdata[2]}<br>%{customdata[3]}<br>%{customdata[4]}<br>",
           "hovertext": [
            "Berlin",
            "Dresden",
            "Frankfurt am Main",
            "Freiburg im Breisgau",
            "Kiel",
            "Köln",
            "Leipzig",
            "Mannheim",
            "München",
            "Münster",
            "Ravensburg",
            "Rostock",
            "Stuttgart",
            "Paris",
            "London",
            "Zürich",
            "Wien",
            "Rom",
            "Amsterdam",
            "Prag",
            "Mailand",
            "Arrondissement de Marseille",
            "City of Brussels",
            "Warschau",
            "Hamburg"
           ],
           "ids": [
            "Berlin",
            "Dresden",
            "Frankfurt am Main",
            "Freiburg im Breisgau",
            "Kiel",
            "Köln",
            "Leipzig",
            "Mannheim",
            "München",
            "Münster",
            "Ravensburg",
            "Rostock",
            "Stuttgart",
            "Paris",
            "London",
            "Zürich",
            "Wien",
            "Rom",
            "Amsterdam",
            "Prag",
            "Mailand",
            "Arrondissement de Marseille",
            "City of Brussels",
            "Warschau",
            "Hamburg"
           ],
           "lat": [
            52.5244,
            51.0509,
            50.1167,
            47.9959,
            54.3213,
            50.9333,
            51.342,
            49.4883,
            48.1374,
            51.9624,
            47.7833,
            54.0887,
            48.7823,
            48.8534,
            51.5085,
            47.3667,
            48.2085,
            41.8947,
            52.374,
            50.088,
            45.4643,
            43.3333,
            50.8504,
            52.2298,
            53.55
           ],
           "legendgroup": "",
           "lon": [
            13.4105,
            13.7383,
            8.6833,
            7.8522,
            10.1349,
            6.95,
            12.375,
            8.4647,
            11.5755,
            7.6257,
            9.6167,
            12.1405,
            9.177,
            2.3488,
            -0.1257,
            8.55,
            16.3721,
            12.4839,
            4.8897,
            14.4208,
            9.1895,
            5.5,
            4.3488,
            21.0118,
            10
           ],
           "marker": {
            "color": [
             21.98,
             22.46,
             28.43,
             30.15,
             20.44,
             25.77,
             23.02,
             30.85,
             25.93,
             24.85,
             26.34,
             19.78,
             29.45,
             30.89,
             22.32,
             28.97,
             26.76,
             30.79,
             20.48,
             24.01,
             30.35,
             26.3,
             24.93,
             24.14,
             22.22
            ],
            "coloraxis": "coloraxis",
            "opacity": 1,
            "symbol": "circle"
           },
           "mode": "markers+text",
           "name": "",
           "showlegend": false,
           "text": [
            "22.0 °C",
            "22.5 °C",
            "28.4 °C",
            "30.2 °C",
            "20.4 °C",
            "25.8 °C",
            "23.0 °C",
            "30.8 °C",
            "25.9 °C",
            "24.8 °C",
            "26.3 °C",
            "19.8 °C",
            "29.4 °C",
            "30.9 °C",
            "22.3 °C",
            "29.0 °C",
            "26.8 °C",
            "30.8 °C",
            "20.5 °C",
            "24.0 °C",
            "30.4 °C",
            "26.3 °C",
            "24.9 °C",
            "24.1 °C",
            "22.2 °C"
           ],
           "type": "scattergeo"
          }
         ],
         "name": "2022-08-29 15:00:00"
        }
       ],
       "layout": {
        "coloraxis": {
         "cmax": 45,
         "cmin": -15,
         "colorbar": {
          "title": {
           "text": "Temperature in °C"
          }
         },
         "colorscale": [
          [
           0,
           "rgb(5,48,97)"
          ],
          [
           0.1,
           "rgb(33,102,172)"
          ],
          [
           0.2,
           "rgb(67,147,195)"
          ],
          [
           0.3,
           "rgb(146,197,222)"
          ],
          [
           0.4,
           "rgb(209,229,240)"
          ],
          [
           0.5,
           "rgb(247,247,247)"
          ],
          [
           0.6,
           "rgb(253,219,199)"
          ],
          [
           0.7,
           "rgb(244,165,130)"
          ],
          [
           0.8,
           "rgb(214,96,77)"
          ],
          [
           0.9,
           "rgb(178,24,43)"
          ],
          [
           1,
           "rgb(103,0,31)"
          ]
         ]
        },
        "font": {
         "size": 8
        },
        "geo": {
         "center": {
          "lat": 52.09527553652381,
          "lon": 7.277942642232536
         },
         "coastlinecolor": "black",
         "domain": {
          "x": [
           0,
           1
          ],
          "y": [
           0,
           1
          ]
         },
         "landcolor": "#CAEEC2",
         "oceancolor": "#d8e8f1",
         "projection": {
          "scale": 2.2973967099940698
         },
         "resolution": 50,
         "scope": "europe",
         "showcoastlines": true,
         "showland": true,
         "showocean": true
        },
        "height": 600,
        "legend": {
         "tracegroupgap": 0
        },
        "margin": {
         "b": 0,
         "l": 0,
         "r": 0,
         "t": 0
        },
        "sliders": [
         {
          "active": 0,
          "currentvalue": {
           "prefix": "Forecast for="
          },
          "len": 0.9,
          "pad": {
           "b": 10,
           "t": 60
          },
          "steps": [
           {
            "args": [
             [
              "2022-08-25 12:00:00"
             ],
             {
              "frame": {
               "duration": 0,
               "redraw": true
              },
              "fromcurrent": true,
              "mode": "immediate",
              "transition": {
               "duration": 0,
               "easing": "linear"
              }
             }
            ],
            "label": "2022-08-25 12:00:00",
            "method": "animate"
           },
           {
            "args": [
             [
              "2022-08-25 15:00:00"
             ],
             {
              "frame": {
               "duration": 0,
               "redraw": true
              },
              "fromcurrent": true,
              "mode": "immediate",
              "transition": {
               "duration": 0,
               "easing": "linear"
              }
             }
            ],
            "label": "2022-08-25 15:00:00",
            "method": "animate"
           },
           {
            "args": [
             [
              "2022-08-25 18:00:00"
             ],
             {
              "frame": {
               "duration": 0,
               "redraw": true
              },
              "fromcurrent": true,
              "mode": "immediate",
              "transition": {
               "duration": 0,
               "easing": "linear"
              }
             }
            ],
            "label": "2022-08-25 18:00:00",
            "method": "animate"
           },
           {
            "args": [
             [
              "2022-08-25 21:00:00"
             ],
             {
              "frame": {
               "duration": 0,
               "redraw": true
              },
              "fromcurrent": true,
              "mode": "immediate",
              "transition": {
               "duration": 0,
               "easing": "linear"
              }
             }
            ],
            "label": "2022-08-25 21:00:00",
            "method": "animate"
           },
           {
            "args": [
             [
              "2022-08-26 00:00:00"
             ],
             {
              "frame": {
               "duration": 0,
               "redraw": true
              },
              "fromcurrent": true,
              "mode": "immediate",
              "transition": {
               "duration": 0,
               "easing": "linear"
              }
             }
            ],
            "label": "2022-08-26 00:00:00",
            "method": "animate"
           },
           {
            "args": [
             [
              "2022-08-26 03:00:00"
             ],
             {
              "frame": {
               "duration": 0,
               "redraw": true
              },
              "fromcurrent": true,
              "mode": "immediate",
              "transition": {
               "duration": 0,
               "easing": "linear"
              }
             }
            ],
            "label": "2022-08-26 03:00:00",
            "method": "animate"
           },
           {
            "args": [
             [
              "2022-08-26 06:00:00"
             ],
             {
              "frame": {
               "duration": 0,
               "redraw": true
              },
              "fromcurrent": true,
              "mode": "immediate",
              "transition": {
               "duration": 0,
               "easing": "linear"
              }
             }
            ],
            "label": "2022-08-26 06:00:00",
            "method": "animate"
           },
           {
            "args": [
             [
              "2022-08-26 09:00:00"
             ],
             {
              "frame": {
               "duration": 0,
               "redraw": true
              },
              "fromcurrent": true,
              "mode": "immediate",
              "transition": {
               "duration": 0,
               "easing": "linear"
              }
             }
            ],
            "label": "2022-08-26 09:00:00",
            "method": "animate"
           },
           {
            "args": [
             [
              "2022-08-26 12:00:00"
             ],
             {
              "frame": {
               "duration": 0,
               "redraw": true
              },
              "fromcurrent": true,
              "mode": "immediate",
              "transition": {
               "duration": 0,
               "easing": "linear"
              }
             }
            ],
            "label": "2022-08-26 12:00:00",
            "method": "animate"
           },
           {
            "args": [
             [
              "2022-08-26 15:00:00"
             ],
             {
              "frame": {
               "duration": 0,
               "redraw": true
              },
              "fromcurrent": true,
              "mode": "immediate",
              "transition": {
               "duration": 0,
               "easing": "linear"
              }
             }
            ],
            "label": "2022-08-26 15:00:00",
            "method": "animate"
           },
           {
            "args": [
             [
              "2022-08-26 18:00:00"
             ],
             {
              "frame": {
               "duration": 0,
               "redraw": true
              },
              "fromcurrent": true,
              "mode": "immediate",
              "transition": {
               "duration": 0,
               "easing": "linear"
              }
             }
            ],
            "label": "2022-08-26 18:00:00",
            "method": "animate"
           },
           {
            "args": [
             [
              "2022-08-26 21:00:00"
             ],
             {
              "frame": {
               "duration": 0,
               "redraw": true
              },
              "fromcurrent": true,
              "mode": "immediate",
              "transition": {
               "duration": 0,
               "easing": "linear"
              }
             }
            ],
            "label": "2022-08-26 21:00:00",
            "method": "animate"
           },
           {
            "args": [
             [
              "2022-08-27 00:00:00"
             ],
             {
              "frame": {
               "duration": 0,
               "redraw": true
              },
              "fromcurrent": true,
              "mode": "immediate",
              "transition": {
               "duration": 0,
               "easing": "linear"
              }
             }
            ],
            "label": "2022-08-27 00:00:00",
            "method": "animate"
           },
           {
            "args": [
             [
              "2022-08-27 03:00:00"
             ],
             {
              "frame": {
               "duration": 0,
               "redraw": true
              },
              "fromcurrent": true,
              "mode": "immediate",
              "transition": {
               "duration": 0,
               "easing": "linear"
              }
             }
            ],
            "label": "2022-08-27 03:00:00",
            "method": "animate"
           },
           {
            "args": [
             [
              "2022-08-27 06:00:00"
             ],
             {
              "frame": {
               "duration": 0,
               "redraw": true
              },
              "fromcurrent": true,
              "mode": "immediate",
              "transition": {
               "duration": 0,
               "easing": "linear"
              }
             }
            ],
            "label": "2022-08-27 06:00:00",
            "method": "animate"
           },
           {
            "args": [
             [
              "2022-08-27 09:00:00"
             ],
             {
              "frame": {
               "duration": 0,
               "redraw": true
              },
              "fromcurrent": true,
              "mode": "immediate",
              "transition": {
               "duration": 0,
               "easing": "linear"
              }
             }
            ],
            "label": "2022-08-27 09:00:00",
            "method": "animate"
           },
           {
            "args": [
             [
              "2022-08-27 12:00:00"
             ],
             {
              "frame": {
               "duration": 0,
               "redraw": true
              },
              "fromcurrent": true,
              "mode": "immediate",
              "transition": {
               "duration": 0,
               "easing": "linear"
              }
             }
            ],
            "label": "2022-08-27 12:00:00",
            "method": "animate"
           },
           {
            "args": [
             [
              "2022-08-27 15:00:00"
             ],
             {
              "frame": {
               "duration": 0,
               "redraw": true
              },
              "fromcurrent": true,
              "mode": "immediate",
              "transition": {
               "duration": 0,
               "easing": "linear"
              }
             }
            ],
            "label": "2022-08-27 15:00:00",
            "method": "animate"
           },
           {
            "args": [
             [
              "2022-08-27 18:00:00"
             ],
             {
              "frame": {
               "duration": 0,
               "redraw": true
              },
              "fromcurrent": true,
              "mode": "immediate",
              "transition": {
               "duration": 0,
               "easing": "linear"
              }
             }
            ],
            "label": "2022-08-27 18:00:00",
            "method": "animate"
           },
           {
            "args": [
             [
              "2022-08-27 21:00:00"
             ],
             {
              "frame": {
               "duration": 0,
               "redraw": true
              },
              "fromcurrent": true,
              "mode": "immediate",
              "transition": {
               "duration": 0,
               "easing": "linear"
              }
             }
            ],
            "label": "2022-08-27 21:00:00",
            "method": "animate"
           },
           {
            "args": [
             [
              "2022-08-28 00:00:00"
             ],
             {
              "frame": {
               "duration": 0,
               "redraw": true
              },
              "fromcurrent": true,
              "mode": "immediate",
              "transition": {
               "duration": 0,
               "easing": "linear"
              }
             }
            ],
            "label": "2022-08-28 00:00:00",
            "method": "animate"
           },
           {
            "args": [
             [
              "2022-08-28 03:00:00"
             ],
             {
              "frame": {
               "duration": 0,
               "redraw": true
              },
              "fromcurrent": true,
              "mode": "immediate",
              "transition": {
               "duration": 0,
               "easing": "linear"
              }
             }
            ],
            "label": "2022-08-28 03:00:00",
            "method": "animate"
           },
           {
            "args": [
             [
              "2022-08-28 06:00:00"
             ],
             {
              "frame": {
               "duration": 0,
               "redraw": true
              },
              "fromcurrent": true,
              "mode": "immediate",
              "transition": {
               "duration": 0,
               "easing": "linear"
              }
             }
            ],
            "label": "2022-08-28 06:00:00",
            "method": "animate"
           },
           {
            "args": [
             [
              "2022-08-28 09:00:00"
             ],
             {
              "frame": {
               "duration": 0,
               "redraw": true
              },
              "fromcurrent": true,
              "mode": "immediate",
              "transition": {
               "duration": 0,
               "easing": "linear"
              }
             }
            ],
            "label": "2022-08-28 09:00:00",
            "method": "animate"
           },
           {
            "args": [
             [
              "2022-08-28 12:00:00"
             ],
             {
              "frame": {
               "duration": 0,
               "redraw": true
              },
              "fromcurrent": true,
              "mode": "immediate",
              "transition": {
               "duration": 0,
               "easing": "linear"
              }
             }
            ],
            "label": "2022-08-28 12:00:00",
            "method": "animate"
           },
           {
            "args": [
             [
              "2022-08-28 15:00:00"
             ],
             {
              "frame": {
               "duration": 0,
               "redraw": true
              },
              "fromcurrent": true,
              "mode": "immediate",
              "transition": {
               "duration": 0,
               "easing": "linear"
              }
             }
            ],
            "label": "2022-08-28 15:00:00",
            "method": "animate"
           },
           {
            "args": [
             [
              "2022-08-28 18:00:00"
             ],
             {
              "frame": {
               "duration": 0,
               "redraw": true
              },
              "fromcurrent": true,
              "mode": "immediate",
              "transition": {
               "duration": 0,
               "easing": "linear"
              }
             }
            ],
            "label": "2022-08-28 18:00:00",
            "method": "animate"
           },
           {
            "args": [
             [
              "2022-08-28 21:00:00"
             ],
             {
              "frame": {
               "duration": 0,
               "redraw": true
              },
              "fromcurrent": true,
              "mode": "immediate",
              "transition": {
               "duration": 0,
               "easing": "linear"
              }
             }
            ],
            "label": "2022-08-28 21:00:00",
            "method": "animate"
           },
           {
            "args": [
             [
              "2022-08-29 00:00:00"
             ],
             {
              "frame": {
               "duration": 0,
               "redraw": true
              },
              "fromcurrent": true,
              "mode": "immediate",
              "transition": {
               "duration": 0,
               "easing": "linear"
              }
             }
            ],
            "label": "2022-08-29 00:00:00",
            "method": "animate"
           },
           {
            "args": [
             [
              "2022-08-29 03:00:00"
             ],
             {
              "frame": {
               "duration": 0,
               "redraw": true
              },
              "fromcurrent": true,
              "mode": "immediate",
              "transition": {
               "duration": 0,
               "easing": "linear"
              }
             }
            ],
            "label": "2022-08-29 03:00:00",
            "method": "animate"
           },
           {
            "args": [
             [
              "2022-08-29 06:00:00"
             ],
             {
              "frame": {
               "duration": 0,
               "redraw": true
              },
              "fromcurrent": true,
              "mode": "immediate",
              "transition": {
               "duration": 0,
               "easing": "linear"
              }
             }
            ],
            "label": "2022-08-29 06:00:00",
            "method": "animate"
           },
           {
            "args": [
             [
              "2022-08-29 09:00:00"
             ],
             {
              "frame": {
               "duration": 0,
               "redraw": true
              },
              "fromcurrent": true,
              "mode": "immediate",
              "transition": {
               "duration": 0,
               "easing": "linear"
              }
             }
            ],
            "label": "2022-08-29 09:00:00",
            "method": "animate"
           },
           {
            "args": [
             [
              "2022-08-29 12:00:00"
             ],
             {
              "frame": {
               "duration": 0,
               "redraw": true
              },
              "fromcurrent": true,
              "mode": "immediate",
              "transition": {
               "duration": 0,
               "easing": "linear"
              }
             }
            ],
            "label": "2022-08-29 12:00:00",
            "method": "animate"
           },
           {
            "args": [
             [
              "2022-08-29 15:00:00"
             ],
             {
              "frame": {
               "duration": 0,
               "redraw": true
              },
              "fromcurrent": true,
              "mode": "immediate",
              "transition": {
               "duration": 0,
               "easing": "linear"
              }
             }
            ],
            "label": "2022-08-29 15:00:00",
            "method": "animate"
           }
          ],
          "x": 0.1,
          "xanchor": "left",
          "y": 0,
          "yanchor": "top"
         }
        ],
        "template": {
         "data": {
          "bar": [
           {
            "error_x": {
             "color": "#2a3f5f"
            },
            "error_y": {
             "color": "#2a3f5f"
            },
            "marker": {
             "line": {
              "color": "#E5ECF6",
              "width": 0.5
             },
             "pattern": {
              "fillmode": "overlay",
              "size": 10,
              "solidity": 0.2
             }
            },
            "type": "bar"
           }
          ],
          "barpolar": [
           {
            "marker": {
             "line": {
              "color": "#E5ECF6",
              "width": 0.5
             },
             "pattern": {
              "fillmode": "overlay",
              "size": 10,
              "solidity": 0.2
             }
            },
            "type": "barpolar"
           }
          ],
          "carpet": [
           {
            "aaxis": {
             "endlinecolor": "#2a3f5f",
             "gridcolor": "white",
             "linecolor": "white",
             "minorgridcolor": "white",
             "startlinecolor": "#2a3f5f"
            },
            "baxis": {
             "endlinecolor": "#2a3f5f",
             "gridcolor": "white",
             "linecolor": "white",
             "minorgridcolor": "white",
             "startlinecolor": "#2a3f5f"
            },
            "type": "carpet"
           }
          ],
          "choropleth": [
           {
            "colorbar": {
             "outlinewidth": 0,
             "ticks": ""
            },
            "type": "choropleth"
           }
          ],
          "contour": [
           {
            "colorbar": {
             "outlinewidth": 0,
             "ticks": ""
            },
            "colorscale": [
             [
              0,
              "#0d0887"
             ],
             [
              0.1111111111111111,
              "#46039f"
             ],
             [
              0.2222222222222222,
              "#7201a8"
             ],
             [
              0.3333333333333333,
              "#9c179e"
             ],
             [
              0.4444444444444444,
              "#bd3786"
             ],
             [
              0.5555555555555556,
              "#d8576b"
             ],
             [
              0.6666666666666666,
              "#ed7953"
             ],
             [
              0.7777777777777778,
              "#fb9f3a"
             ],
             [
              0.8888888888888888,
              "#fdca26"
             ],
             [
              1,
              "#f0f921"
             ]
            ],
            "type": "contour"
           }
          ],
          "contourcarpet": [
           {
            "colorbar": {
             "outlinewidth": 0,
             "ticks": ""
            },
            "type": "contourcarpet"
           }
          ],
          "heatmap": [
           {
            "colorbar": {
             "outlinewidth": 0,
             "ticks": ""
            },
            "colorscale": [
             [
              0,
              "#0d0887"
             ],
             [
              0.1111111111111111,
              "#46039f"
             ],
             [
              0.2222222222222222,
              "#7201a8"
             ],
             [
              0.3333333333333333,
              "#9c179e"
             ],
             [
              0.4444444444444444,
              "#bd3786"
             ],
             [
              0.5555555555555556,
              "#d8576b"
             ],
             [
              0.6666666666666666,
              "#ed7953"
             ],
             [
              0.7777777777777778,
              "#fb9f3a"
             ],
             [
              0.8888888888888888,
              "#fdca26"
             ],
             [
              1,
              "#f0f921"
             ]
            ],
            "type": "heatmap"
           }
          ],
          "heatmapgl": [
           {
            "colorbar": {
             "outlinewidth": 0,
             "ticks": ""
            },
            "colorscale": [
             [
              0,
              "#0d0887"
             ],
             [
              0.1111111111111111,
              "#46039f"
             ],
             [
              0.2222222222222222,
              "#7201a8"
             ],
             [
              0.3333333333333333,
              "#9c179e"
             ],
             [
              0.4444444444444444,
              "#bd3786"
             ],
             [
              0.5555555555555556,
              "#d8576b"
             ],
             [
              0.6666666666666666,
              "#ed7953"
             ],
             [
              0.7777777777777778,
              "#fb9f3a"
             ],
             [
              0.8888888888888888,
              "#fdca26"
             ],
             [
              1,
              "#f0f921"
             ]
            ],
            "type": "heatmapgl"
           }
          ],
          "histogram": [
           {
            "marker": {
             "pattern": {
              "fillmode": "overlay",
              "size": 10,
              "solidity": 0.2
             }
            },
            "type": "histogram"
           }
          ],
          "histogram2d": [
           {
            "colorbar": {
             "outlinewidth": 0,
             "ticks": ""
            },
            "colorscale": [
             [
              0,
              "#0d0887"
             ],
             [
              0.1111111111111111,
              "#46039f"
             ],
             [
              0.2222222222222222,
              "#7201a8"
             ],
             [
              0.3333333333333333,
              "#9c179e"
             ],
             [
              0.4444444444444444,
              "#bd3786"
             ],
             [
              0.5555555555555556,
              "#d8576b"
             ],
             [
              0.6666666666666666,
              "#ed7953"
             ],
             [
              0.7777777777777778,
              "#fb9f3a"
             ],
             [
              0.8888888888888888,
              "#fdca26"
             ],
             [
              1,
              "#f0f921"
             ]
            ],
            "type": "histogram2d"
           }
          ],
          "histogram2dcontour": [
           {
            "colorbar": {
             "outlinewidth": 0,
             "ticks": ""
            },
            "colorscale": [
             [
              0,
              "#0d0887"
             ],
             [
              0.1111111111111111,
              "#46039f"
             ],
             [
              0.2222222222222222,
              "#7201a8"
             ],
             [
              0.3333333333333333,
              "#9c179e"
             ],
             [
              0.4444444444444444,
              "#bd3786"
             ],
             [
              0.5555555555555556,
              "#d8576b"
             ],
             [
              0.6666666666666666,
              "#ed7953"
             ],
             [
              0.7777777777777778,
              "#fb9f3a"
             ],
             [
              0.8888888888888888,
              "#fdca26"
             ],
             [
              1,
              "#f0f921"
             ]
            ],
            "type": "histogram2dcontour"
           }
          ],
          "mesh3d": [
           {
            "colorbar": {
             "outlinewidth": 0,
             "ticks": ""
            },
            "type": "mesh3d"
           }
          ],
          "parcoords": [
           {
            "line": {
             "colorbar": {
              "outlinewidth": 0,
              "ticks": ""
             }
            },
            "type": "parcoords"
           }
          ],
          "pie": [
           {
            "automargin": true,
            "type": "pie"
           }
          ],
          "scatter": [
           {
            "fillpattern": {
             "fillmode": "overlay",
             "size": 10,
             "solidity": 0.2
            },
            "type": "scatter"
           }
          ],
          "scatter3d": [
           {
            "line": {
             "colorbar": {
              "outlinewidth": 0,
              "ticks": ""
             }
            },
            "marker": {
             "colorbar": {
              "outlinewidth": 0,
              "ticks": ""
             }
            },
            "type": "scatter3d"
           }
          ],
          "scattercarpet": [
           {
            "marker": {
             "colorbar": {
              "outlinewidth": 0,
              "ticks": ""
             }
            },
            "type": "scattercarpet"
           }
          ],
          "scattergeo": [
           {
            "marker": {
             "colorbar": {
              "outlinewidth": 0,
              "ticks": ""
             }
            },
            "type": "scattergeo"
           }
          ],
          "scattergl": [
           {
            "marker": {
             "colorbar": {
              "outlinewidth": 0,
              "ticks": ""
             }
            },
            "type": "scattergl"
           }
          ],
          "scattermapbox": [
           {
            "marker": {
             "colorbar": {
              "outlinewidth": 0,
              "ticks": ""
             }
            },
            "type": "scattermapbox"
           }
          ],
          "scatterpolar": [
           {
            "marker": {
             "colorbar": {
              "outlinewidth": 0,
              "ticks": ""
             }
            },
            "type": "scatterpolar"
           }
          ],
          "scatterpolargl": [
           {
            "marker": {
             "colorbar": {
              "outlinewidth": 0,
              "ticks": ""
             }
            },
            "type": "scatterpolargl"
           }
          ],
          "scatterternary": [
           {
            "marker": {
             "colorbar": {
              "outlinewidth": 0,
              "ticks": ""
             }
            },
            "type": "scatterternary"
           }
          ],
          "surface": [
           {
            "colorbar": {
             "outlinewidth": 0,
             "ticks": ""
            },
            "colorscale": [
             [
              0,
              "#0d0887"
             ],
             [
              0.1111111111111111,
              "#46039f"
             ],
             [
              0.2222222222222222,
              "#7201a8"
             ],
             [
              0.3333333333333333,
              "#9c179e"
             ],
             [
              0.4444444444444444,
              "#bd3786"
             ],
             [
              0.5555555555555556,
              "#d8576b"
             ],
             [
              0.6666666666666666,
              "#ed7953"
             ],
             [
              0.7777777777777778,
              "#fb9f3a"
             ],
             [
              0.8888888888888888,
              "#fdca26"
             ],
             [
              1,
              "#f0f921"
             ]
            ],
            "type": "surface"
           }
          ],
          "table": [
           {
            "cells": {
             "fill": {
              "color": "#EBF0F8"
             },
             "line": {
              "color": "white"
             }
            },
            "header": {
             "fill": {
              "color": "#C8D4E3"
             },
             "line": {
              "color": "white"
             }
            },
            "type": "table"
           }
          ]
         },
         "layout": {
          "annotationdefaults": {
           "arrowcolor": "#2a3f5f",
           "arrowhead": 0,
           "arrowwidth": 1
          },
          "autotypenumbers": "strict",
          "coloraxis": {
           "colorbar": {
            "outlinewidth": 0,
            "ticks": ""
           }
          },
          "colorscale": {
           "diverging": [
            [
             0,
             "#8e0152"
            ],
            [
             0.1,
             "#c51b7d"
            ],
            [
             0.2,
             "#de77ae"
            ],
            [
             0.3,
             "#f1b6da"
            ],
            [
             0.4,
             "#fde0ef"
            ],
            [
             0.5,
             "#f7f7f7"
            ],
            [
             0.6,
             "#e6f5d0"
            ],
            [
             0.7,
             "#b8e186"
            ],
            [
             0.8,
             "#7fbc41"
            ],
            [
             0.9,
             "#4d9221"
            ],
            [
             1,
             "#276419"
            ]
           ],
           "sequential": [
            [
             0,
             "#0d0887"
            ],
            [
             0.1111111111111111,
             "#46039f"
            ],
            [
             0.2222222222222222,
             "#7201a8"
            ],
            [
             0.3333333333333333,
             "#9c179e"
            ],
            [
             0.4444444444444444,
             "#bd3786"
            ],
            [
             0.5555555555555556,
             "#d8576b"
            ],
            [
             0.6666666666666666,
             "#ed7953"
            ],
            [
             0.7777777777777778,
             "#fb9f3a"
            ],
            [
             0.8888888888888888,
             "#fdca26"
            ],
            [
             1,
             "#f0f921"
            ]
           ],
           "sequentialminus": [
            [
             0,
             "#0d0887"
            ],
            [
             0.1111111111111111,
             "#46039f"
            ],
            [
             0.2222222222222222,
             "#7201a8"
            ],
            [
             0.3333333333333333,
             "#9c179e"
            ],
            [
             0.4444444444444444,
             "#bd3786"
            ],
            [
             0.5555555555555556,
             "#d8576b"
            ],
            [
             0.6666666666666666,
             "#ed7953"
            ],
            [
             0.7777777777777778,
             "#fb9f3a"
            ],
            [
             0.8888888888888888,
             "#fdca26"
            ],
            [
             1,
             "#f0f921"
            ]
           ]
          },
          "colorway": [
           "#636efa",
           "#EF553B",
           "#00cc96",
           "#ab63fa",
           "#FFA15A",
           "#19d3f3",
           "#FF6692",
           "#B6E880",
           "#FF97FF",
           "#FECB52"
          ],
          "font": {
           "color": "#2a3f5f"
          },
          "geo": {
           "bgcolor": "white",
           "lakecolor": "white",
           "landcolor": "#E5ECF6",
           "showlakes": true,
           "showland": true,
           "subunitcolor": "white"
          },
          "hoverlabel": {
           "align": "left"
          },
          "hovermode": "closest",
          "mapbox": {
           "style": "light"
          },
          "paper_bgcolor": "white",
          "plot_bgcolor": "#E5ECF6",
          "polar": {
           "angularaxis": {
            "gridcolor": "white",
            "linecolor": "white",
            "ticks": ""
           },
           "bgcolor": "#E5ECF6",
           "radialaxis": {
            "gridcolor": "white",
            "linecolor": "white",
            "ticks": ""
           }
          },
          "scene": {
           "xaxis": {
            "backgroundcolor": "#E5ECF6",
            "gridcolor": "white",
            "gridwidth": 2,
            "linecolor": "white",
            "showbackground": true,
            "ticks": "",
            "zerolinecolor": "white"
           },
           "yaxis": {
            "backgroundcolor": "#E5ECF6",
            "gridcolor": "white",
            "gridwidth": 2,
            "linecolor": "white",
            "showbackground": true,
            "ticks": "",
            "zerolinecolor": "white"
           },
           "zaxis": {
            "backgroundcolor": "#E5ECF6",
            "gridcolor": "white",
            "gridwidth": 2,
            "linecolor": "white",
            "showbackground": true,
            "ticks": "",
            "zerolinecolor": "white"
           }
          },
          "shapedefaults": {
           "line": {
            "color": "#2a3f5f"
           }
          },
          "ternary": {
           "aaxis": {
            "gridcolor": "white",
            "linecolor": "white",
            "ticks": ""
           },
           "baxis": {
            "gridcolor": "white",
            "linecolor": "white",
            "ticks": ""
           },
           "bgcolor": "#E5ECF6",
           "caxis": {
            "gridcolor": "white",
            "linecolor": "white",
            "ticks": ""
           }
          },
          "title": {
           "x": 0.05
          },
          "xaxis": {
           "automargin": true,
           "gridcolor": "white",
           "linecolor": "white",
           "ticks": "",
           "title": {
            "standoff": 15
           },
           "zerolinecolor": "white",
           "zerolinewidth": 2
          },
          "yaxis": {
           "automargin": true,
           "gridcolor": "white",
           "linecolor": "white",
           "ticks": "",
           "title": {
            "standoff": 15
           },
           "zerolinecolor": "white",
           "zerolinewidth": 2
          }
         }
        },
        "updatemenus": [
         {
          "buttons": [
           {
            "args": [
             null,
             {
              "frame": {
               "duration": 500,
               "redraw": true
              },
              "fromcurrent": true,
              "mode": "immediate",
              "transition": {
               "duration": 500,
               "easing": "linear"
              }
             }
            ],
            "label": "&#9654;",
            "method": "animate"
           },
           {
            "args": [
             [
              null
             ],
             {
              "frame": {
               "duration": 0,
               "redraw": true
              },
              "fromcurrent": true,
              "mode": "immediate",
              "transition": {
               "duration": 0,
               "easing": "linear"
              }
             }
            ],
            "label": "&#9724;",
            "method": "animate"
           }
          ],
          "direction": "left",
          "pad": {
           "r": 10,
           "t": 70
          },
          "showactive": false,
          "type": "buttons",
          "x": 0.1,
          "xanchor": "right",
          "y": 0,
          "yanchor": "top"
         }
        ],
        "width": 900
       }
      },
      "text/html": [
       "<div>                            <div id=\"6e24c0ec-4dae-4cb4-9e64-2a1ccba77462\" class=\"plotly-graph-div\" style=\"height:600px; width:900px;\"></div>            <script type=\"text/javascript\">                require([\"plotly\"], function(Plotly) {                    window.PLOTLYENV=window.PLOTLYENV || {};                                    if (document.getElementById(\"6e24c0ec-4dae-4cb4-9e64-2a1ccba77462\")) {                    Plotly.newPlot(                        \"6e24c0ec-4dae-4cb4-9e64-2a1ccba77462\",                        [{\"customdata\":[[\"Berlin\",\"\\u2601\\ufe0f\",\"28.8 \\u00b0C\",\"\\u00dcberwiegend bew\\u00f6lkt\",\"wear light clothes, drink a lot of water and don't forget suncream<br>\"],[\"Dresden\",\"\\ud83c\\udf26\\ufe0f\",\"28.2 \\u00b0C\",\"Leichter Regen\",\"wear light clothes, drink a lot of water and don't forget suncream<br>take an umbrella or a rain jacket with you<br>\"],[\"Frankfurt am Main\",\"\\ud83c\\udf24\\ufe0f\",\"30.7 \\u00b0C\",\"Ein paar Wolken\",\"wear light clothes, drink a lot of water and don't forget suncream<br>\"],[\"Freiburg im Breisgau\",\"\\ud83c\\udf24\\ufe0f\",\"28.3 \\u00b0C\",\"Ein paar Wolken\",\"wear light clothes, drink a lot of water and don't forget suncream<br>\"],[\"Kiel\",\"\\ud83c\\udf24\\ufe0f\",\"25.9 \\u00b0C\",\"Ein paar Wolken\",\"wear light clothes, drink a lot of water and don't forget suncream<br>watch out - your hat may get blown off<br>\"],[\"K\\u00f6ln\",\"\\u2600\\ufe0f\",\"32.0 \\u00b0C\",\"Klarer Himmel\",\"wear light clothes, drink a lot of water and don't forget suncream<br>\"],[\"Leipzig\",\"\\u2601\\ufe0f\",\"29.2 \\u00b0C\",\"M\\u00e4\\u00dfig bew\\u00f6lkt\",\"wear light clothes, drink a lot of water and don't forget suncream<br>\"],[\"Mannheim\",\"\\u2601\\ufe0f\",\"31.3 \\u00b0C\",\"M\\u00e4\\u00dfig bew\\u00f6lkt\",\"wear light clothes, drink a lot of water and don't forget suncream<br>\"],[\"M\\u00fcnchen\",\"\\u2600\\ufe0f\",\"26.1 \\u00b0C\",\"Klarer Himmel\",\"wear light clothes, drink a lot of water and don't forget suncream<br>\"],[\"M\\u00fcnster\",\"\\u2600\\ufe0f\",\"32.1 \\u00b0C\",\"Klarer Himmel\",\"wear light clothes, drink a lot of water and don't forget suncream<br>\"],[\"Ravensburg\",\"\\ud83c\\udf24\\ufe0f\",\"25.8 \\u00b0C\",\"Ein paar Wolken\",\"wear light clothes, drink a lot of water and don't forget suncream<br>\"],[\"Rostock\",\"\\ud83c\\udf26\\ufe0f\",\"23.6 \\u00b0C\",\"Leichter Regen\",\"wear light clothes and don't forget your sunnies!<br>take an umbrella or a rain jacket with you<br>watch out - your hat may get blown off<br>\"],[\"Stuttgart\",\"\\ud83c\\udf24\\ufe0f\",\"28.7 \\u00b0C\",\"Ein paar Wolken\",\"wear light clothes, drink a lot of water and don't forget suncream<br>\"],[\"Paris\",\"\\u2601\\ufe0f\",\"32.6 \\u00b0C\",\"Bedeckt\",\"wear light clothes, drink a lot of water and don't forget suncream<br>\"],[\"London\",\"\\ud83c\\udf26\\ufe0f\",\"18.5 \\u00b0C\",\"M\\u00e4\\u00dfiger Regen\",\"wear light clothes and don't forget your sunnies!<br>take an umbrella or a rain jacket with you<br>\"],[\"Z\\u00fcrich\",\"\\u2600\\ufe0f\",\"27.2 \\u00b0C\",\"Klarer Himmel\",\"wear light clothes, drink a lot of water and don't forget suncream<br>\"],[\"Wien\",\"\\u2601\\ufe0f\",\"28.2 \\u00b0C\",\"M\\u00e4\\u00dfig bew\\u00f6lkt\",\"wear light clothes, drink a lot of water and don't forget suncream<br>\"],[\"Rom\",\"\\u2600\\ufe0f\",\"32.6 \\u00b0C\",\"Klarer Himmel\",\"wear light clothes, drink a lot of water and don't forget suncream<br>\"],[\"Amsterdam\",\"\\u2601\\ufe0f\",\"31.2 \\u00b0C\",\"M\\u00e4\\u00dfig bew\\u00f6lkt\",\"wear light clothes, drink a lot of water and don't forget suncream<br>\"],[\"Prag\",\"\\u2601\\ufe0f\",\"28.0 \\u00b0C\",\"M\\u00e4\\u00dfig bew\\u00f6lkt\",\"wear light clothes, drink a lot of water and don't forget suncream<br>\"],[\"Mailand\",\"\\u2600\\ufe0f\",\"31.8 \\u00b0C\",\"Klarer Himmel\",\"wear light clothes, drink a lot of water and don't forget suncream<br>\"],[\"Arrondissement de Marseille\",\"\\u2601\\ufe0f\",\"27.5 \\u00b0C\",\"M\\u00e4\\u00dfig bew\\u00f6lkt\",\"wear light clothes, drink a lot of water and don't forget suncream<br>\"],[\"City of Brussels\",\"\\u2600\\ufe0f\",\"33.9 \\u00b0C\",\"Klarer Himmel\",\"wear light clothes, drink a lot of water and don't forget suncream<br>\"],[\"Warschau\",\"\\u2601\\ufe0f\",\"33.4 \\u00b0C\",\"Bedeckt\",\"wear light clothes, drink a lot of water and don't forget suncream<br>\"],[\"Hamburg\",\"\\u2600\\ufe0f\",\"29.1 \\u00b0C\",\"Klarer Himmel\",\"wear light clothes, drink a lot of water and don't forget suncream<br>\"]],\"geo\":\"geo\",\"hovertemplate\":\"<b>%{customdata[0]}</b><br><br>%{customdata[1]}, %{customdata[2]}<br>%{customdata[3]}<br>%{customdata[4]}<br>\",\"hovertext\":[\"Berlin\",\"Dresden\",\"Frankfurt am Main\",\"Freiburg im Breisgau\",\"Kiel\",\"K\\u00f6ln\",\"Leipzig\",\"Mannheim\",\"M\\u00fcnchen\",\"M\\u00fcnster\",\"Ravensburg\",\"Rostock\",\"Stuttgart\",\"Paris\",\"London\",\"Z\\u00fcrich\",\"Wien\",\"Rom\",\"Amsterdam\",\"Prag\",\"Mailand\",\"Arrondissement de Marseille\",\"City of Brussels\",\"Warschau\",\"Hamburg\"],\"ids\":[\"Berlin\",\"Dresden\",\"Frankfurt am Main\",\"Freiburg im Breisgau\",\"Kiel\",\"K\\u00f6ln\",\"Leipzig\",\"Mannheim\",\"M\\u00fcnchen\",\"M\\u00fcnster\",\"Ravensburg\",\"Rostock\",\"Stuttgart\",\"Paris\",\"London\",\"Z\\u00fcrich\",\"Wien\",\"Rom\",\"Amsterdam\",\"Prag\",\"Mailand\",\"Arrondissement de Marseille\",\"City of Brussels\",\"Warschau\",\"Hamburg\"],\"lat\":[52.5244,51.0509,50.1167,47.9959,54.3213,50.9333,51.342,49.4883,48.1374,51.9624,47.7833,54.0887,48.7823,48.8534,51.5085,47.3667,48.2085,41.8947,52.374,50.088,45.4643,43.3333,50.8504,52.2298,53.55],\"legendgroup\":\"\",\"lon\":[13.4105,13.7383,8.6833,7.8522,10.1349,6.95,12.375,8.4647,11.5755,7.6257,9.6167,12.1405,9.177,2.3488,-0.1257,8.55,16.3721,12.4839,4.8897,14.4208,9.1895,5.5,4.3488,21.0118,10.0],\"marker\":{\"color\":[28.8,28.21,30.68,28.26,25.86,32.01,29.18,31.26,26.07,32.13,25.84,23.59,28.74,32.55,18.49,27.24,28.15,32.61,31.17,27.97,31.79,27.51,33.93,33.42,29.12],\"coloraxis\":\"coloraxis\",\"opacity\":1,\"symbol\":\"circle\",\"size\":25},\"mode\":\"markers+text\",\"name\":\"\",\"showlegend\":false,\"text\":[\"28.8 \\u00b0C\",\"28.2 \\u00b0C\",\"30.7 \\u00b0C\",\"28.3 \\u00b0C\",\"25.9 \\u00b0C\",\"32.0 \\u00b0C\",\"29.2 \\u00b0C\",\"31.3 \\u00b0C\",\"26.1 \\u00b0C\",\"32.1 \\u00b0C\",\"25.8 \\u00b0C\",\"23.6 \\u00b0C\",\"28.7 \\u00b0C\",\"32.6 \\u00b0C\",\"18.5 \\u00b0C\",\"27.2 \\u00b0C\",\"28.2 \\u00b0C\",\"32.6 \\u00b0C\",\"31.2 \\u00b0C\",\"28.0 \\u00b0C\",\"31.8 \\u00b0C\",\"27.5 \\u00b0C\",\"33.9 \\u00b0C\",\"33.4 \\u00b0C\",\"29.1 \\u00b0C\"],\"type\":\"scattergeo\"}],                        {\"template\":{\"data\":{\"histogram2dcontour\":[{\"type\":\"histogram2dcontour\",\"colorbar\":{\"outlinewidth\":0,\"ticks\":\"\"},\"colorscale\":[[0.0,\"#0d0887\"],[0.1111111111111111,\"#46039f\"],[0.2222222222222222,\"#7201a8\"],[0.3333333333333333,\"#9c179e\"],[0.4444444444444444,\"#bd3786\"],[0.5555555555555556,\"#d8576b\"],[0.6666666666666666,\"#ed7953\"],[0.7777777777777778,\"#fb9f3a\"],[0.8888888888888888,\"#fdca26\"],[1.0,\"#f0f921\"]]}],\"choropleth\":[{\"type\":\"choropleth\",\"colorbar\":{\"outlinewidth\":0,\"ticks\":\"\"}}],\"histogram2d\":[{\"type\":\"histogram2d\",\"colorbar\":{\"outlinewidth\":0,\"ticks\":\"\"},\"colorscale\":[[0.0,\"#0d0887\"],[0.1111111111111111,\"#46039f\"],[0.2222222222222222,\"#7201a8\"],[0.3333333333333333,\"#9c179e\"],[0.4444444444444444,\"#bd3786\"],[0.5555555555555556,\"#d8576b\"],[0.6666666666666666,\"#ed7953\"],[0.7777777777777778,\"#fb9f3a\"],[0.8888888888888888,\"#fdca26\"],[1.0,\"#f0f921\"]]}],\"heatmap\":[{\"type\":\"heatmap\",\"colorbar\":{\"outlinewidth\":0,\"ticks\":\"\"},\"colorscale\":[[0.0,\"#0d0887\"],[0.1111111111111111,\"#46039f\"],[0.2222222222222222,\"#7201a8\"],[0.3333333333333333,\"#9c179e\"],[0.4444444444444444,\"#bd3786\"],[0.5555555555555556,\"#d8576b\"],[0.6666666666666666,\"#ed7953\"],[0.7777777777777778,\"#fb9f3a\"],[0.8888888888888888,\"#fdca26\"],[1.0,\"#f0f921\"]]}],\"heatmapgl\":[{\"type\":\"heatmapgl\",\"colorbar\":{\"outlinewidth\":0,\"ticks\":\"\"},\"colorscale\":[[0.0,\"#0d0887\"],[0.1111111111111111,\"#46039f\"],[0.2222222222222222,\"#7201a8\"],[0.3333333333333333,\"#9c179e\"],[0.4444444444444444,\"#bd3786\"],[0.5555555555555556,\"#d8576b\"],[0.6666666666666666,\"#ed7953\"],[0.7777777777777778,\"#fb9f3a\"],[0.8888888888888888,\"#fdca26\"],[1.0,\"#f0f921\"]]}],\"contourcarpet\":[{\"type\":\"contourcarpet\",\"colorbar\":{\"outlinewidth\":0,\"ticks\":\"\"}}],\"contour\":[{\"type\":\"contour\",\"colorbar\":{\"outlinewidth\":0,\"ticks\":\"\"},\"colorscale\":[[0.0,\"#0d0887\"],[0.1111111111111111,\"#46039f\"],[0.2222222222222222,\"#7201a8\"],[0.3333333333333333,\"#9c179e\"],[0.4444444444444444,\"#bd3786\"],[0.5555555555555556,\"#d8576b\"],[0.6666666666666666,\"#ed7953\"],[0.7777777777777778,\"#fb9f3a\"],[0.8888888888888888,\"#fdca26\"],[1.0,\"#f0f921\"]]}],\"surface\":[{\"type\":\"surface\",\"colorbar\":{\"outlinewidth\":0,\"ticks\":\"\"},\"colorscale\":[[0.0,\"#0d0887\"],[0.1111111111111111,\"#46039f\"],[0.2222222222222222,\"#7201a8\"],[0.3333333333333333,\"#9c179e\"],[0.4444444444444444,\"#bd3786\"],[0.5555555555555556,\"#d8576b\"],[0.6666666666666666,\"#ed7953\"],[0.7777777777777778,\"#fb9f3a\"],[0.8888888888888888,\"#fdca26\"],[1.0,\"#f0f921\"]]}],\"mesh3d\":[{\"type\":\"mesh3d\",\"colorbar\":{\"outlinewidth\":0,\"ticks\":\"\"}}],\"scatter\":[{\"fillpattern\":{\"fillmode\":\"overlay\",\"size\":10,\"solidity\":0.2},\"type\":\"scatter\"}],\"parcoords\":[{\"type\":\"parcoords\",\"line\":{\"colorbar\":{\"outlinewidth\":0,\"ticks\":\"\"}}}],\"scatterpolargl\":[{\"type\":\"scatterpolargl\",\"marker\":{\"colorbar\":{\"outlinewidth\":0,\"ticks\":\"\"}}}],\"bar\":[{\"error_x\":{\"color\":\"#2a3f5f\"},\"error_y\":{\"color\":\"#2a3f5f\"},\"marker\":{\"line\":{\"color\":\"#E5ECF6\",\"width\":0.5},\"pattern\":{\"fillmode\":\"overlay\",\"size\":10,\"solidity\":0.2}},\"type\":\"bar\"}],\"scattergeo\":[{\"type\":\"scattergeo\",\"marker\":{\"colorbar\":{\"outlinewidth\":0,\"ticks\":\"\"}}}],\"scatterpolar\":[{\"type\":\"scatterpolar\",\"marker\":{\"colorbar\":{\"outlinewidth\":0,\"ticks\":\"\"}}}],\"histogram\":[{\"marker\":{\"pattern\":{\"fillmode\":\"overlay\",\"size\":10,\"solidity\":0.2}},\"type\":\"histogram\"}],\"scattergl\":[{\"type\":\"scattergl\",\"marker\":{\"colorbar\":{\"outlinewidth\":0,\"ticks\":\"\"}}}],\"scatter3d\":[{\"type\":\"scatter3d\",\"line\":{\"colorbar\":{\"outlinewidth\":0,\"ticks\":\"\"}},\"marker\":{\"colorbar\":{\"outlinewidth\":0,\"ticks\":\"\"}}}],\"scattermapbox\":[{\"type\":\"scattermapbox\",\"marker\":{\"colorbar\":{\"outlinewidth\":0,\"ticks\":\"\"}}}],\"scatterternary\":[{\"type\":\"scatterternary\",\"marker\":{\"colorbar\":{\"outlinewidth\":0,\"ticks\":\"\"}}}],\"scattercarpet\":[{\"type\":\"scattercarpet\",\"marker\":{\"colorbar\":{\"outlinewidth\":0,\"ticks\":\"\"}}}],\"carpet\":[{\"aaxis\":{\"endlinecolor\":\"#2a3f5f\",\"gridcolor\":\"white\",\"linecolor\":\"white\",\"minorgridcolor\":\"white\",\"startlinecolor\":\"#2a3f5f\"},\"baxis\":{\"endlinecolor\":\"#2a3f5f\",\"gridcolor\":\"white\",\"linecolor\":\"white\",\"minorgridcolor\":\"white\",\"startlinecolor\":\"#2a3f5f\"},\"type\":\"carpet\"}],\"table\":[{\"cells\":{\"fill\":{\"color\":\"#EBF0F8\"},\"line\":{\"color\":\"white\"}},\"header\":{\"fill\":{\"color\":\"#C8D4E3\"},\"line\":{\"color\":\"white\"}},\"type\":\"table\"}],\"barpolar\":[{\"marker\":{\"line\":{\"color\":\"#E5ECF6\",\"width\":0.5},\"pattern\":{\"fillmode\":\"overlay\",\"size\":10,\"solidity\":0.2}},\"type\":\"barpolar\"}],\"pie\":[{\"automargin\":true,\"type\":\"pie\"}]},\"layout\":{\"autotypenumbers\":\"strict\",\"colorway\":[\"#636efa\",\"#EF553B\",\"#00cc96\",\"#ab63fa\",\"#FFA15A\",\"#19d3f3\",\"#FF6692\",\"#B6E880\",\"#FF97FF\",\"#FECB52\"],\"font\":{\"color\":\"#2a3f5f\"},\"hovermode\":\"closest\",\"hoverlabel\":{\"align\":\"left\"},\"paper_bgcolor\":\"white\",\"plot_bgcolor\":\"#E5ECF6\",\"polar\":{\"bgcolor\":\"#E5ECF6\",\"angularaxis\":{\"gridcolor\":\"white\",\"linecolor\":\"white\",\"ticks\":\"\"},\"radialaxis\":{\"gridcolor\":\"white\",\"linecolor\":\"white\",\"ticks\":\"\"}},\"ternary\":{\"bgcolor\":\"#E5ECF6\",\"aaxis\":{\"gridcolor\":\"white\",\"linecolor\":\"white\",\"ticks\":\"\"},\"baxis\":{\"gridcolor\":\"white\",\"linecolor\":\"white\",\"ticks\":\"\"},\"caxis\":{\"gridcolor\":\"white\",\"linecolor\":\"white\",\"ticks\":\"\"}},\"coloraxis\":{\"colorbar\":{\"outlinewidth\":0,\"ticks\":\"\"}},\"colorscale\":{\"sequential\":[[0.0,\"#0d0887\"],[0.1111111111111111,\"#46039f\"],[0.2222222222222222,\"#7201a8\"],[0.3333333333333333,\"#9c179e\"],[0.4444444444444444,\"#bd3786\"],[0.5555555555555556,\"#d8576b\"],[0.6666666666666666,\"#ed7953\"],[0.7777777777777778,\"#fb9f3a\"],[0.8888888888888888,\"#fdca26\"],[1.0,\"#f0f921\"]],\"sequentialminus\":[[0.0,\"#0d0887\"],[0.1111111111111111,\"#46039f\"],[0.2222222222222222,\"#7201a8\"],[0.3333333333333333,\"#9c179e\"],[0.4444444444444444,\"#bd3786\"],[0.5555555555555556,\"#d8576b\"],[0.6666666666666666,\"#ed7953\"],[0.7777777777777778,\"#fb9f3a\"],[0.8888888888888888,\"#fdca26\"],[1.0,\"#f0f921\"]],\"diverging\":[[0,\"#8e0152\"],[0.1,\"#c51b7d\"],[0.2,\"#de77ae\"],[0.3,\"#f1b6da\"],[0.4,\"#fde0ef\"],[0.5,\"#f7f7f7\"],[0.6,\"#e6f5d0\"],[0.7,\"#b8e186\"],[0.8,\"#7fbc41\"],[0.9,\"#4d9221\"],[1,\"#276419\"]]},\"xaxis\":{\"gridcolor\":\"white\",\"linecolor\":\"white\",\"ticks\":\"\",\"title\":{\"standoff\":15},\"zerolinecolor\":\"white\",\"automargin\":true,\"zerolinewidth\":2},\"yaxis\":{\"gridcolor\":\"white\",\"linecolor\":\"white\",\"ticks\":\"\",\"title\":{\"standoff\":15},\"zerolinecolor\":\"white\",\"automargin\":true,\"zerolinewidth\":2},\"scene\":{\"xaxis\":{\"backgroundcolor\":\"#E5ECF6\",\"gridcolor\":\"white\",\"linecolor\":\"white\",\"showbackground\":true,\"ticks\":\"\",\"zerolinecolor\":\"white\",\"gridwidth\":2},\"yaxis\":{\"backgroundcolor\":\"#E5ECF6\",\"gridcolor\":\"white\",\"linecolor\":\"white\",\"showbackground\":true,\"ticks\":\"\",\"zerolinecolor\":\"white\",\"gridwidth\":2},\"zaxis\":{\"backgroundcolor\":\"#E5ECF6\",\"gridcolor\":\"white\",\"linecolor\":\"white\",\"showbackground\":true,\"ticks\":\"\",\"zerolinecolor\":\"white\",\"gridwidth\":2}},\"shapedefaults\":{\"line\":{\"color\":\"#2a3f5f\"}},\"annotationdefaults\":{\"arrowcolor\":\"#2a3f5f\",\"arrowhead\":0,\"arrowwidth\":1},\"geo\":{\"bgcolor\":\"white\",\"landcolor\":\"#E5ECF6\",\"subunitcolor\":\"white\",\"showland\":true,\"showlakes\":true,\"lakecolor\":\"white\"},\"title\":{\"x\":0.05},\"mapbox\":{\"style\":\"light\"}}},\"geo\":{\"domain\":{\"x\":[0.0,1.0],\"y\":[0.0,1.0]},\"center\":{\"lat\":48.78,\"lon\":9.17},\"scope\":\"europe\",\"projection\":{\"scale\":4},\"resolution\":50,\"showcoastlines\":true,\"coastlinecolor\":\"black\",\"showland\":true,\"landcolor\":\"#CAEEC2\",\"showocean\":true,\"oceancolor\":\"#d8e8f1\"},\"coloraxis\":{\"colorbar\":{\"title\":{\"text\":\"Temperature in \\u00b0C\"}},\"colorscale\":[[0.0,\"rgb(5,48,97)\"],[0.1,\"rgb(33,102,172)\"],[0.2,\"rgb(67,147,195)\"],[0.3,\"rgb(146,197,222)\"],[0.4,\"rgb(209,229,240)\"],[0.5,\"rgb(247,247,247)\"],[0.6,\"rgb(253,219,199)\"],[0.7,\"rgb(244,165,130)\"],[0.8,\"rgb(214,96,77)\"],[0.9,\"rgb(178,24,43)\"],[1.0,\"rgb(103,0,31)\"]],\"cmin\":-15,\"cmax\":45},\"legend\":{\"tracegroupgap\":0},\"margin\":{\"t\":0,\"r\":0,\"l\":0,\"b\":0},\"height\":600,\"width\":900,\"updatemenus\":[{\"buttons\":[{\"args\":[null,{\"frame\":{\"duration\":500,\"redraw\":true},\"mode\":\"immediate\",\"fromcurrent\":true,\"transition\":{\"duration\":500,\"easing\":\"linear\"}}],\"label\":\"&#9654;\",\"method\":\"animate\"},{\"args\":[[null],{\"frame\":{\"duration\":0,\"redraw\":true},\"mode\":\"immediate\",\"fromcurrent\":true,\"transition\":{\"duration\":0,\"easing\":\"linear\"}}],\"label\":\"&#9724;\",\"method\":\"animate\"}],\"direction\":\"left\",\"pad\":{\"r\":10,\"t\":70},\"showactive\":false,\"type\":\"buttons\",\"x\":0.1,\"xanchor\":\"right\",\"y\":0,\"yanchor\":\"top\"}],\"sliders\":[{\"active\":0,\"currentvalue\":{\"prefix\":\"Forecast for=\"},\"len\":0.9,\"pad\":{\"b\":10,\"t\":60},\"steps\":[{\"args\":[[\"2022-08-25 12:00:00\"],{\"frame\":{\"duration\":0,\"redraw\":true},\"mode\":\"immediate\",\"fromcurrent\":true,\"transition\":{\"duration\":0,\"easing\":\"linear\"}}],\"label\":\"2022-08-25 12:00:00\",\"method\":\"animate\"},{\"args\":[[\"2022-08-25 15:00:00\"],{\"frame\":{\"duration\":0,\"redraw\":true},\"mode\":\"immediate\",\"fromcurrent\":true,\"transition\":{\"duration\":0,\"easing\":\"linear\"}}],\"label\":\"2022-08-25 15:00:00\",\"method\":\"animate\"},{\"args\":[[\"2022-08-25 18:00:00\"],{\"frame\":{\"duration\":0,\"redraw\":true},\"mode\":\"immediate\",\"fromcurrent\":true,\"transition\":{\"duration\":0,\"easing\":\"linear\"}}],\"label\":\"2022-08-25 18:00:00\",\"method\":\"animate\"},{\"args\":[[\"2022-08-25 21:00:00\"],{\"frame\":{\"duration\":0,\"redraw\":true},\"mode\":\"immediate\",\"fromcurrent\":true,\"transition\":{\"duration\":0,\"easing\":\"linear\"}}],\"label\":\"2022-08-25 21:00:00\",\"method\":\"animate\"},{\"args\":[[\"2022-08-26 00:00:00\"],{\"frame\":{\"duration\":0,\"redraw\":true},\"mode\":\"immediate\",\"fromcurrent\":true,\"transition\":{\"duration\":0,\"easing\":\"linear\"}}],\"label\":\"2022-08-26 00:00:00\",\"method\":\"animate\"},{\"args\":[[\"2022-08-26 03:00:00\"],{\"frame\":{\"duration\":0,\"redraw\":true},\"mode\":\"immediate\",\"fromcurrent\":true,\"transition\":{\"duration\":0,\"easing\":\"linear\"}}],\"label\":\"2022-08-26 03:00:00\",\"method\":\"animate\"},{\"args\":[[\"2022-08-26 06:00:00\"],{\"frame\":{\"duration\":0,\"redraw\":true},\"mode\":\"immediate\",\"fromcurrent\":true,\"transition\":{\"duration\":0,\"easing\":\"linear\"}}],\"label\":\"2022-08-26 06:00:00\",\"method\":\"animate\"},{\"args\":[[\"2022-08-26 09:00:00\"],{\"frame\":{\"duration\":0,\"redraw\":true},\"mode\":\"immediate\",\"fromcurrent\":true,\"transition\":{\"duration\":0,\"easing\":\"linear\"}}],\"label\":\"2022-08-26 09:00:00\",\"method\":\"animate\"},{\"args\":[[\"2022-08-26 12:00:00\"],{\"frame\":{\"duration\":0,\"redraw\":true},\"mode\":\"immediate\",\"fromcurrent\":true,\"transition\":{\"duration\":0,\"easing\":\"linear\"}}],\"label\":\"2022-08-26 12:00:00\",\"method\":\"animate\"},{\"args\":[[\"2022-08-26 15:00:00\"],{\"frame\":{\"duration\":0,\"redraw\":true},\"mode\":\"immediate\",\"fromcurrent\":true,\"transition\":{\"duration\":0,\"easing\":\"linear\"}}],\"label\":\"2022-08-26 15:00:00\",\"method\":\"animate\"},{\"args\":[[\"2022-08-26 18:00:00\"],{\"frame\":{\"duration\":0,\"redraw\":true},\"mode\":\"immediate\",\"fromcurrent\":true,\"transition\":{\"duration\":0,\"easing\":\"linear\"}}],\"label\":\"2022-08-26 18:00:00\",\"method\":\"animate\"},{\"args\":[[\"2022-08-26 21:00:00\"],{\"frame\":{\"duration\":0,\"redraw\":true},\"mode\":\"immediate\",\"fromcurrent\":true,\"transition\":{\"duration\":0,\"easing\":\"linear\"}}],\"label\":\"2022-08-26 21:00:00\",\"method\":\"animate\"},{\"args\":[[\"2022-08-27 00:00:00\"],{\"frame\":{\"duration\":0,\"redraw\":true},\"mode\":\"immediate\",\"fromcurrent\":true,\"transition\":{\"duration\":0,\"easing\":\"linear\"}}],\"label\":\"2022-08-27 00:00:00\",\"method\":\"animate\"},{\"args\":[[\"2022-08-27 03:00:00\"],{\"frame\":{\"duration\":0,\"redraw\":true},\"mode\":\"immediate\",\"fromcurrent\":true,\"transition\":{\"duration\":0,\"easing\":\"linear\"}}],\"label\":\"2022-08-27 03:00:00\",\"method\":\"animate\"},{\"args\":[[\"2022-08-27 06:00:00\"],{\"frame\":{\"duration\":0,\"redraw\":true},\"mode\":\"immediate\",\"fromcurrent\":true,\"transition\":{\"duration\":0,\"easing\":\"linear\"}}],\"label\":\"2022-08-27 06:00:00\",\"method\":\"animate\"},{\"args\":[[\"2022-08-27 09:00:00\"],{\"frame\":{\"duration\":0,\"redraw\":true},\"mode\":\"immediate\",\"fromcurrent\":true,\"transition\":{\"duration\":0,\"easing\":\"linear\"}}],\"label\":\"2022-08-27 09:00:00\",\"method\":\"animate\"},{\"args\":[[\"2022-08-27 12:00:00\"],{\"frame\":{\"duration\":0,\"redraw\":true},\"mode\":\"immediate\",\"fromcurrent\":true,\"transition\":{\"duration\":0,\"easing\":\"linear\"}}],\"label\":\"2022-08-27 12:00:00\",\"method\":\"animate\"},{\"args\":[[\"2022-08-27 15:00:00\"],{\"frame\":{\"duration\":0,\"redraw\":true},\"mode\":\"immediate\",\"fromcurrent\":true,\"transition\":{\"duration\":0,\"easing\":\"linear\"}}],\"label\":\"2022-08-27 15:00:00\",\"method\":\"animate\"},{\"args\":[[\"2022-08-27 18:00:00\"],{\"frame\":{\"duration\":0,\"redraw\":true},\"mode\":\"immediate\",\"fromcurrent\":true,\"transition\":{\"duration\":0,\"easing\":\"linear\"}}],\"label\":\"2022-08-27 18:00:00\",\"method\":\"animate\"},{\"args\":[[\"2022-08-27 21:00:00\"],{\"frame\":{\"duration\":0,\"redraw\":true},\"mode\":\"immediate\",\"fromcurrent\":true,\"transition\":{\"duration\":0,\"easing\":\"linear\"}}],\"label\":\"2022-08-27 21:00:00\",\"method\":\"animate\"},{\"args\":[[\"2022-08-28 00:00:00\"],{\"frame\":{\"duration\":0,\"redraw\":true},\"mode\":\"immediate\",\"fromcurrent\":true,\"transition\":{\"duration\":0,\"easing\":\"linear\"}}],\"label\":\"2022-08-28 00:00:00\",\"method\":\"animate\"},{\"args\":[[\"2022-08-28 03:00:00\"],{\"frame\":{\"duration\":0,\"redraw\":true},\"mode\":\"immediate\",\"fromcurrent\":true,\"transition\":{\"duration\":0,\"easing\":\"linear\"}}],\"label\":\"2022-08-28 03:00:00\",\"method\":\"animate\"},{\"args\":[[\"2022-08-28 06:00:00\"],{\"frame\":{\"duration\":0,\"redraw\":true},\"mode\":\"immediate\",\"fromcurrent\":true,\"transition\":{\"duration\":0,\"easing\":\"linear\"}}],\"label\":\"2022-08-28 06:00:00\",\"method\":\"animate\"},{\"args\":[[\"2022-08-28 09:00:00\"],{\"frame\":{\"duration\":0,\"redraw\":true},\"mode\":\"immediate\",\"fromcurrent\":true,\"transition\":{\"duration\":0,\"easing\":\"linear\"}}],\"label\":\"2022-08-28 09:00:00\",\"method\":\"animate\"},{\"args\":[[\"2022-08-28 12:00:00\"],{\"frame\":{\"duration\":0,\"redraw\":true},\"mode\":\"immediate\",\"fromcurrent\":true,\"transition\":{\"duration\":0,\"easing\":\"linear\"}}],\"label\":\"2022-08-28 12:00:00\",\"method\":\"animate\"},{\"args\":[[\"2022-08-28 15:00:00\"],{\"frame\":{\"duration\":0,\"redraw\":true},\"mode\":\"immediate\",\"fromcurrent\":true,\"transition\":{\"duration\":0,\"easing\":\"linear\"}}],\"label\":\"2022-08-28 15:00:00\",\"method\":\"animate\"},{\"args\":[[\"2022-08-28 18:00:00\"],{\"frame\":{\"duration\":0,\"redraw\":true},\"mode\":\"immediate\",\"fromcurrent\":true,\"transition\":{\"duration\":0,\"easing\":\"linear\"}}],\"label\":\"2022-08-28 18:00:00\",\"method\":\"animate\"},{\"args\":[[\"2022-08-28 21:00:00\"],{\"frame\":{\"duration\":0,\"redraw\":true},\"mode\":\"immediate\",\"fromcurrent\":true,\"transition\":{\"duration\":0,\"easing\":\"linear\"}}],\"label\":\"2022-08-28 21:00:00\",\"method\":\"animate\"},{\"args\":[[\"2022-08-29 00:00:00\"],{\"frame\":{\"duration\":0,\"redraw\":true},\"mode\":\"immediate\",\"fromcurrent\":true,\"transition\":{\"duration\":0,\"easing\":\"linear\"}}],\"label\":\"2022-08-29 00:00:00\",\"method\":\"animate\"},{\"args\":[[\"2022-08-29 03:00:00\"],{\"frame\":{\"duration\":0,\"redraw\":true},\"mode\":\"immediate\",\"fromcurrent\":true,\"transition\":{\"duration\":0,\"easing\":\"linear\"}}],\"label\":\"2022-08-29 03:00:00\",\"method\":\"animate\"},{\"args\":[[\"2022-08-29 06:00:00\"],{\"frame\":{\"duration\":0,\"redraw\":true},\"mode\":\"immediate\",\"fromcurrent\":true,\"transition\":{\"duration\":0,\"easing\":\"linear\"}}],\"label\":\"2022-08-29 06:00:00\",\"method\":\"animate\"},{\"args\":[[\"2022-08-29 09:00:00\"],{\"frame\":{\"duration\":0,\"redraw\":true},\"mode\":\"immediate\",\"fromcurrent\":true,\"transition\":{\"duration\":0,\"easing\":\"linear\"}}],\"label\":\"2022-08-29 09:00:00\",\"method\":\"animate\"},{\"args\":[[\"2022-08-29 12:00:00\"],{\"frame\":{\"duration\":0,\"redraw\":true},\"mode\":\"immediate\",\"fromcurrent\":true,\"transition\":{\"duration\":0,\"easing\":\"linear\"}}],\"label\":\"2022-08-29 12:00:00\",\"method\":\"animate\"},{\"args\":[[\"2022-08-29 15:00:00\"],{\"frame\":{\"duration\":0,\"redraw\":true},\"mode\":\"immediate\",\"fromcurrent\":true,\"transition\":{\"duration\":0,\"easing\":\"linear\"}}],\"label\":\"2022-08-29 15:00:00\",\"method\":\"animate\"}],\"x\":0.1,\"xanchor\":\"left\",\"y\":0,\"yanchor\":\"top\"}],\"font\":{\"size\":8}},                        {\"responsive\": true}                    ).then(function(){\n",
       "                            Plotly.addFrames('6e24c0ec-4dae-4cb4-9e64-2a1ccba77462', [{\"data\":[{\"customdata\":[[\"Berlin\",\"\\u2601\\ufe0f\",\"28.8 \\u00b0C\",\"\\u00dcberwiegend bew\\u00f6lkt\",\"wear light clothes, drink a lot of water and don't forget suncream<br>\"],[\"Dresden\",\"\\ud83c\\udf26\\ufe0f\",\"28.2 \\u00b0C\",\"Leichter Regen\",\"wear light clothes, drink a lot of water and don't forget suncream<br>take an umbrella or a rain jacket with you<br>\"],[\"Frankfurt am Main\",\"\\ud83c\\udf24\\ufe0f\",\"30.7 \\u00b0C\",\"Ein paar Wolken\",\"wear light clothes, drink a lot of water and don't forget suncream<br>\"],[\"Freiburg im Breisgau\",\"\\ud83c\\udf24\\ufe0f\",\"28.3 \\u00b0C\",\"Ein paar Wolken\",\"wear light clothes, drink a lot of water and don't forget suncream<br>\"],[\"Kiel\",\"\\ud83c\\udf24\\ufe0f\",\"25.9 \\u00b0C\",\"Ein paar Wolken\",\"wear light clothes, drink a lot of water and don't forget suncream<br>watch out - your hat may get blown off<br>\"],[\"K\\u00f6ln\",\"\\u2600\\ufe0f\",\"32.0 \\u00b0C\",\"Klarer Himmel\",\"wear light clothes, drink a lot of water and don't forget suncream<br>\"],[\"Leipzig\",\"\\u2601\\ufe0f\",\"29.2 \\u00b0C\",\"M\\u00e4\\u00dfig bew\\u00f6lkt\",\"wear light clothes, drink a lot of water and don't forget suncream<br>\"],[\"Mannheim\",\"\\u2601\\ufe0f\",\"31.3 \\u00b0C\",\"M\\u00e4\\u00dfig bew\\u00f6lkt\",\"wear light clothes, drink a lot of water and don't forget suncream<br>\"],[\"M\\u00fcnchen\",\"\\u2600\\ufe0f\",\"26.1 \\u00b0C\",\"Klarer Himmel\",\"wear light clothes, drink a lot of water and don't forget suncream<br>\"],[\"M\\u00fcnster\",\"\\u2600\\ufe0f\",\"32.1 \\u00b0C\",\"Klarer Himmel\",\"wear light clothes, drink a lot of water and don't forget suncream<br>\"],[\"Ravensburg\",\"\\ud83c\\udf24\\ufe0f\",\"25.8 \\u00b0C\",\"Ein paar Wolken\",\"wear light clothes, drink a lot of water and don't forget suncream<br>\"],[\"Rostock\",\"\\ud83c\\udf26\\ufe0f\",\"23.6 \\u00b0C\",\"Leichter Regen\",\"wear light clothes and don't forget your sunnies!<br>take an umbrella or a rain jacket with you<br>watch out - your hat may get blown off<br>\"],[\"Stuttgart\",\"\\ud83c\\udf24\\ufe0f\",\"28.7 \\u00b0C\",\"Ein paar Wolken\",\"wear light clothes, drink a lot of water and don't forget suncream<br>\"],[\"Paris\",\"\\u2601\\ufe0f\",\"32.6 \\u00b0C\",\"Bedeckt\",\"wear light clothes, drink a lot of water and don't forget suncream<br>\"],[\"London\",\"\\ud83c\\udf26\\ufe0f\",\"18.5 \\u00b0C\",\"M\\u00e4\\u00dfiger Regen\",\"wear light clothes and don't forget your sunnies!<br>take an umbrella or a rain jacket with you<br>\"],[\"Z\\u00fcrich\",\"\\u2600\\ufe0f\",\"27.2 \\u00b0C\",\"Klarer Himmel\",\"wear light clothes, drink a lot of water and don't forget suncream<br>\"],[\"Wien\",\"\\u2601\\ufe0f\",\"28.2 \\u00b0C\",\"M\\u00e4\\u00dfig bew\\u00f6lkt\",\"wear light clothes, drink a lot of water and don't forget suncream<br>\"],[\"Rom\",\"\\u2600\\ufe0f\",\"32.6 \\u00b0C\",\"Klarer Himmel\",\"wear light clothes, drink a lot of water and don't forget suncream<br>\"],[\"Amsterdam\",\"\\u2601\\ufe0f\",\"31.2 \\u00b0C\",\"M\\u00e4\\u00dfig bew\\u00f6lkt\",\"wear light clothes, drink a lot of water and don't forget suncream<br>\"],[\"Prag\",\"\\u2601\\ufe0f\",\"28.0 \\u00b0C\",\"M\\u00e4\\u00dfig bew\\u00f6lkt\",\"wear light clothes, drink a lot of water and don't forget suncream<br>\"],[\"Mailand\",\"\\u2600\\ufe0f\",\"31.8 \\u00b0C\",\"Klarer Himmel\",\"wear light clothes, drink a lot of water and don't forget suncream<br>\"],[\"Arrondissement de Marseille\",\"\\u2601\\ufe0f\",\"27.5 \\u00b0C\",\"M\\u00e4\\u00dfig bew\\u00f6lkt\",\"wear light clothes, drink a lot of water and don't forget suncream<br>\"],[\"City of Brussels\",\"\\u2600\\ufe0f\",\"33.9 \\u00b0C\",\"Klarer Himmel\",\"wear light clothes, drink a lot of water and don't forget suncream<br>\"],[\"Warschau\",\"\\u2601\\ufe0f\",\"33.4 \\u00b0C\",\"Bedeckt\",\"wear light clothes, drink a lot of water and don't forget suncream<br>\"],[\"Hamburg\",\"\\u2600\\ufe0f\",\"29.1 \\u00b0C\",\"Klarer Himmel\",\"wear light clothes, drink a lot of water and don't forget suncream<br>\"]],\"geo\":\"geo\",\"hovertemplate\":\"<b>%{customdata[0]}</b><br><br>%{customdata[1]}, %{customdata[2]}<br>%{customdata[3]}<br>%{customdata[4]}<br>\",\"hovertext\":[\"Berlin\",\"Dresden\",\"Frankfurt am Main\",\"Freiburg im Breisgau\",\"Kiel\",\"K\\u00f6ln\",\"Leipzig\",\"Mannheim\",\"M\\u00fcnchen\",\"M\\u00fcnster\",\"Ravensburg\",\"Rostock\",\"Stuttgart\",\"Paris\",\"London\",\"Z\\u00fcrich\",\"Wien\",\"Rom\",\"Amsterdam\",\"Prag\",\"Mailand\",\"Arrondissement de Marseille\",\"City of Brussels\",\"Warschau\",\"Hamburg\"],\"ids\":[\"Berlin\",\"Dresden\",\"Frankfurt am Main\",\"Freiburg im Breisgau\",\"Kiel\",\"K\\u00f6ln\",\"Leipzig\",\"Mannheim\",\"M\\u00fcnchen\",\"M\\u00fcnster\",\"Ravensburg\",\"Rostock\",\"Stuttgart\",\"Paris\",\"London\",\"Z\\u00fcrich\",\"Wien\",\"Rom\",\"Amsterdam\",\"Prag\",\"Mailand\",\"Arrondissement de Marseille\",\"City of Brussels\",\"Warschau\",\"Hamburg\"],\"lat\":[52.5244,51.0509,50.1167,47.9959,54.3213,50.9333,51.342,49.4883,48.1374,51.9624,47.7833,54.0887,48.7823,48.8534,51.5085,47.3667,48.2085,41.8947,52.374,50.088,45.4643,43.3333,50.8504,52.2298,53.55],\"legendgroup\":\"\",\"lon\":[13.4105,13.7383,8.6833,7.8522,10.1349,6.95,12.375,8.4647,11.5755,7.6257,9.6167,12.1405,9.177,2.3488,-0.1257,8.55,16.3721,12.4839,4.8897,14.4208,9.1895,5.5,4.3488,21.0118,10.0],\"marker\":{\"color\":[28.8,28.21,30.68,28.26,25.86,32.01,29.18,31.26,26.07,32.13,25.84,23.59,28.74,32.55,18.49,27.24,28.15,32.61,31.17,27.97,31.79,27.51,33.93,33.42,29.12],\"coloraxis\":\"coloraxis\",\"opacity\":1,\"symbol\":\"circle\"},\"mode\":\"markers+text\",\"name\":\"\",\"showlegend\":false,\"text\":[\"28.8 \\u00b0C\",\"28.2 \\u00b0C\",\"30.7 \\u00b0C\",\"28.3 \\u00b0C\",\"25.9 \\u00b0C\",\"32.0 \\u00b0C\",\"29.2 \\u00b0C\",\"31.3 \\u00b0C\",\"26.1 \\u00b0C\",\"32.1 \\u00b0C\",\"25.8 \\u00b0C\",\"23.6 \\u00b0C\",\"28.7 \\u00b0C\",\"32.6 \\u00b0C\",\"18.5 \\u00b0C\",\"27.2 \\u00b0C\",\"28.2 \\u00b0C\",\"32.6 \\u00b0C\",\"31.2 \\u00b0C\",\"28.0 \\u00b0C\",\"31.8 \\u00b0C\",\"27.5 \\u00b0C\",\"33.9 \\u00b0C\",\"33.4 \\u00b0C\",\"29.1 \\u00b0C\"],\"type\":\"scattergeo\"}],\"name\":\"2022-08-25 12:00:00\"},{\"data\":[{\"customdata\":[[\"Berlin\",\"\\u2601\\ufe0f\",\"27.3 \\u00b0C\",\"Bedeckt\",\"wear light clothes, drink a lot of water and don't forget suncream<br>\"],[\"Dresden\",\"\\ud83c\\udf26\\ufe0f\",\"28.4 \\u00b0C\",\"Leichter Regen\",\"wear light clothes, drink a lot of water and don't forget suncream<br>take an umbrella or a rain jacket with you<br>\"],[\"Frankfurt am Main\",\"\\u2600\\ufe0f\",\"31.9 \\u00b0C\",\"Klarer Himmel\",\"wear light clothes, drink a lot of water and don't forget suncream<br>\"],[\"Freiburg im Breisgau\",\"\\u2601\\ufe0f\",\"28.2 \\u00b0C\",\"\\u00dcberwiegend bew\\u00f6lkt\",\"wear light clothes, drink a lot of water and don't forget suncream<br>\"],[\"Kiel\",\"\\u2601\\ufe0f\",\"24.5 \\u00b0C\",\"M\\u00e4\\u00dfig bew\\u00f6lkt\",\"wear light clothes and don't forget your sunnies!<br>watch out - your hat may get blown off<br>\"],[\"K\\u00f6ln\",\"\\u2600\\ufe0f\",\"33.0 \\u00b0C\",\"Klarer Himmel\",\"wear light clothes, drink a lot of water and don't forget suncream<br>\"],[\"Leipzig\",\"\\u2601\\ufe0f\",\"29.8 \\u00b0C\",\"M\\u00e4\\u00dfig bew\\u00f6lkt\",\"wear light clothes, drink a lot of water and don't forget suncream<br>\"],[\"Mannheim\",\"\\u2600\\ufe0f\",\"32.9 \\u00b0C\",\"Klarer Himmel\",\"wear light clothes, drink a lot of water and don't forget suncream<br>\"],[\"M\\u00fcnchen\",\"\\u2600\\ufe0f\",\"26.9 \\u00b0C\",\"Klarer Himmel\",\"wear light clothes, drink a lot of water and don't forget suncream<br>\"],[\"M\\u00fcnster\",\"\\u2600\\ufe0f\",\"32.9 \\u00b0C\",\"Klarer Himmel\",\"wear light clothes, drink a lot of water and don't forget suncream<br>\"],[\"Ravensburg\",\"\\u2600\\ufe0f\",\"26.0 \\u00b0C\",\"Klarer Himmel\",\"wear light clothes, drink a lot of water and don't forget suncream<br>\"],[\"Rostock\",\"\\u2601\\ufe0f\",\"24.3 \\u00b0C\",\"\\u00dcberwiegend bew\\u00f6lkt\",\"wear light clothes and don't forget your sunnies!<br>watch out - your hat may get blown off<br>\"],[\"Stuttgart\",\"\\u2601\\ufe0f\",\"29.6 \\u00b0C\",\"M\\u00e4\\u00dfig bew\\u00f6lkt\",\"wear light clothes, drink a lot of water and don't forget suncream<br>\"],[\"Paris\",\"\\u2601\\ufe0f\",\"30.5 \\u00b0C\",\"Bedeckt\",\"wear light clothes, drink a lot of water and don't forget suncream<br>watch out - your hat may get blown off<br>\"],[\"London\",\"\\ud83c\\udf26\\ufe0f\",\"20.1 \\u00b0C\",\"Leichter Regen\",\"wear light clothes and don't forget your sunnies!<br>take an umbrella or a rain jacket with you<br>\"],[\"Z\\u00fcrich\",\"\\u2601\\ufe0f\",\"27.7 \\u00b0C\",\"M\\u00e4\\u00dfig bew\\u00f6lkt\",\"wear light clothes, drink a lot of water and don't forget suncream<br>\"],[\"Wien\",\"\\u2601\\ufe0f\",\"28.6 \\u00b0C\",\"\\u00dcberwiegend bew\\u00f6lkt\",\"wear light clothes, drink a lot of water and don't forget suncream<br>\"],[\"Rom\",\"\\u2600\\ufe0f\",\"31.4 \\u00b0C\",\"Klarer Himmel\",\"wear light clothes, drink a lot of water and don't forget suncream<br>\"],[\"Amsterdam\",\"\\u2601\\ufe0f\",\"26.2 \\u00b0C\",\"\\u00dcberwiegend bew\\u00f6lkt\",\"wear light clothes, drink a lot of water and don't forget suncream<br>watch out - your hat may get blown off<br>\"],[\"Prag\",\"\\u2601\\ufe0f\",\"27.4 \\u00b0C\",\"Bedeckt\",\"wear light clothes, drink a lot of water and don't forget suncream<br>\"],[\"Mailand\",\"\\u2600\\ufe0f\",\"32.6 \\u00b0C\",\"Klarer Himmel\",\"wear light clothes, drink a lot of water and don't forget suncream<br>\"],[\"Arrondissement de Marseille\",\"\\u2601\\ufe0f\",\"27.1 \\u00b0C\",\"\\u00dcberwiegend bew\\u00f6lkt\",\"wear light clothes, drink a lot of water and don't forget suncream<br>\"],[\"City of Brussels\",\"\\u2601\\ufe0f\",\"26.3 \\u00b0C\",\"\\u00dcberwiegend bew\\u00f6lkt\",\"wear light clothes, drink a lot of water and don't forget suncream<br>watch out - your hat may get blown off<br>\"],[\"Warschau\",\"\\u2601\\ufe0f\",\"33.7 \\u00b0C\",\"\\u00dcberwiegend bew\\u00f6lkt\",\"wear light clothes, drink a lot of water and don't forget suncream<br>\"],[\"Hamburg\",\"\\u2601\\ufe0f\",\"29.4 \\u00b0C\",\"Bedeckt\",\"wear light clothes, drink a lot of water and don't forget suncream<br>\"]],\"geo\":\"geo\",\"hovertemplate\":\"<b>%{customdata[0]}</b><br><br>%{customdata[1]}, %{customdata[2]}<br>%{customdata[3]}<br>%{customdata[4]}<br>\",\"hovertext\":[\"Berlin\",\"Dresden\",\"Frankfurt am Main\",\"Freiburg im Breisgau\",\"Kiel\",\"K\\u00f6ln\",\"Leipzig\",\"Mannheim\",\"M\\u00fcnchen\",\"M\\u00fcnster\",\"Ravensburg\",\"Rostock\",\"Stuttgart\",\"Paris\",\"London\",\"Z\\u00fcrich\",\"Wien\",\"Rom\",\"Amsterdam\",\"Prag\",\"Mailand\",\"Arrondissement de Marseille\",\"City of Brussels\",\"Warschau\",\"Hamburg\"],\"ids\":[\"Berlin\",\"Dresden\",\"Frankfurt am Main\",\"Freiburg im Breisgau\",\"Kiel\",\"K\\u00f6ln\",\"Leipzig\",\"Mannheim\",\"M\\u00fcnchen\",\"M\\u00fcnster\",\"Ravensburg\",\"Rostock\",\"Stuttgart\",\"Paris\",\"London\",\"Z\\u00fcrich\",\"Wien\",\"Rom\",\"Amsterdam\",\"Prag\",\"Mailand\",\"Arrondissement de Marseille\",\"City of Brussels\",\"Warschau\",\"Hamburg\"],\"lat\":[52.5244,51.0509,50.1167,47.9959,54.3213,50.9333,51.342,49.4883,48.1374,51.9624,47.7833,54.0887,48.7823,48.8534,51.5085,47.3667,48.2085,41.8947,52.374,50.088,45.4643,43.3333,50.8504,52.2298,53.55],\"legendgroup\":\"\",\"lon\":[13.4105,13.7383,8.6833,7.8522,10.1349,6.95,12.375,8.4647,11.5755,7.6257,9.6167,12.1405,9.177,2.3488,-0.1257,8.55,16.3721,12.4839,4.8897,14.4208,9.1895,5.5,4.3488,21.0118,10.0],\"marker\":{\"color\":[27.27,28.38,31.91,28.21,24.53,33.0,29.77,32.89,26.91,32.87,26.0,24.34,29.62,30.47,20.09,27.71,28.63,31.35,26.2,27.36,32.58,27.07,26.26,33.68,29.38],\"coloraxis\":\"coloraxis\",\"opacity\":1,\"symbol\":\"circle\"},\"mode\":\"markers+text\",\"name\":\"\",\"showlegend\":false,\"text\":[\"27.3 \\u00b0C\",\"28.4 \\u00b0C\",\"31.9 \\u00b0C\",\"28.2 \\u00b0C\",\"24.5 \\u00b0C\",\"33.0 \\u00b0C\",\"29.8 \\u00b0C\",\"32.9 \\u00b0C\",\"26.9 \\u00b0C\",\"32.9 \\u00b0C\",\"26.0 \\u00b0C\",\"24.3 \\u00b0C\",\"29.6 \\u00b0C\",\"30.5 \\u00b0C\",\"20.1 \\u00b0C\",\"27.7 \\u00b0C\",\"28.6 \\u00b0C\",\"31.4 \\u00b0C\",\"26.2 \\u00b0C\",\"27.4 \\u00b0C\",\"32.6 \\u00b0C\",\"27.1 \\u00b0C\",\"26.3 \\u00b0C\",\"33.7 \\u00b0C\",\"29.4 \\u00b0C\"],\"type\":\"scattergeo\"}],\"name\":\"2022-08-25 15:00:00\"},{\"data\":[{\"customdata\":[[\"Berlin\",\"\\ud83c\\udf26\\ufe0f\",\"24.0 \\u00b0C\",\"Leichter Regen\",\"wear light clothes and don't forget your sunnies!<br>take an umbrella or a rain jacket with you<br>\"],[\"Dresden\",\"\\ud83c\\udf26\\ufe0f\",\"24.7 \\u00b0C\",\"Leichter Regen\",\"wear light clothes and don't forget your sunnies!<br>take an umbrella or a rain jacket with you<br>\"],[\"Frankfurt am Main\",\"\\ud83c\\udf24\\ufe0f\",\"28.4 \\u00b0C\",\"Ein paar Wolken\",\"wear light clothes, drink a lot of water and don't forget suncream<br>\"],[\"Freiburg im Breisgau\",\"\\u2601\\ufe0f\",\"23.1 \\u00b0C\",\"\\u00dcberwiegend bew\\u00f6lkt\",\"wear light clothes and don't forget your sunnies!<br>\"],[\"Kiel\",\"\\u2601\\ufe0f\",\"21.0 \\u00b0C\",\"\\u00dcberwiegend bew\\u00f6lkt\",\"wear light clothes and don't forget your sunnies!<br>watch out - your hat may get blown off<br>\"],[\"K\\u00f6ln\",\"\\u2600\\ufe0f\",\"29.4 \\u00b0C\",\"Klarer Himmel\",\"wear light clothes, drink a lot of water and don't forget suncream<br>\"],[\"Leipzig\",\"\\u2601\\ufe0f\",\"24.7 \\u00b0C\",\"M\\u00e4\\u00dfig bew\\u00f6lkt\",\"wear light clothes and don't forget your sunnies!<br>\"],[\"Mannheim\",\"\\u2601\\ufe0f\",\"30.2 \\u00b0C\",\"M\\u00e4\\u00dfig bew\\u00f6lkt\",\"wear light clothes, drink a lot of water and don't forget suncream<br>\"],[\"M\\u00fcnchen\",\"\\u2600\\ufe0f\",\"21.2 \\u00b0C\",\"Klarer Himmel\",\"wear light clothes and don't forget your sunnies!<br>\"],[\"M\\u00fcnster\",\"\\u2600\\ufe0f\",\"29.0 \\u00b0C\",\"Klarer Himmel\",\"wear light clothes, drink a lot of water and don't forget suncream<br>\"],[\"Ravensburg\",\"\\u2600\\ufe0f\",\"20.1 \\u00b0C\",\"Klarer Himmel\",\"wear light clothes and don't forget your sunnies!<br>\"],[\"Rostock\",\"\\u2601\\ufe0f\",\"21.1 \\u00b0C\",\"\\u00dcberwiegend bew\\u00f6lkt\",\"wear light clothes and don't forget your sunnies!<br>watch out - your hat may get blown off<br>\"],[\"Stuttgart\",\"\\u2601\\ufe0f\",\"25.4 \\u00b0C\",\"M\\u00e4\\u00dfig bew\\u00f6lkt\",\"wear light clothes, drink a lot of water and don't forget suncream<br>\"],[\"Paris\",\"\\u2601\\ufe0f\",\"26.8 \\u00b0C\",\"Bedeckt\",\"wear light clothes, drink a lot of water and don't forget suncream<br>watch out - your hat may get blown off<br>\"],[\"London\",\"\\ud83c\\udf26\\ufe0f\",\"19.2 \\u00b0C\",\"Leichter Regen\",\"wear light clothes and don't forget your sunnies!<br>take an umbrella or a rain jacket with you<br>\"],[\"Z\\u00fcrich\",\"\\u2601\\ufe0f\",\"21.4 \\u00b0C\",\"M\\u00e4\\u00dfig bew\\u00f6lkt\",\"wear light clothes and don't forget your sunnies!<br>\"],[\"Wien\",\"\\u2601\\ufe0f\\ud83c\\udf19\",\"25.0 \\u00b0C\",\"\\u00dcberwiegend bew\\u00f6lkt\",\"it's bedtime\"],[\"Rom\",\"\\ud83c\\udf15\",\"27.2 \\u00b0C\",\"Klarer Himmel\",\"it's bedtime\"],[\"Amsterdam\",\"\\u2601\\ufe0f\",\"21.0 \\u00b0C\",\"\\u00dcberwiegend bew\\u00f6lkt\",\"wear light clothes and don't forget your sunnies!<br>watch out - your hat may get blown off<br>\"],[\"Prag\",\"\\u2601\\ufe0f\",\"24.0 \\u00b0C\",\"\\u00dcberwiegend bew\\u00f6lkt\",\"wear light clothes and don't forget your sunnies!<br>\"],[\"Mailand\",\"\\u2600\\ufe0f\",\"28.0 \\u00b0C\",\"Klarer Himmel\",\"wear light clothes, drink a lot of water and don't forget suncream<br>\"],[\"Arrondissement de Marseille\",\"\\u2601\\ufe0f\",\"24.9 \\u00b0C\",\"\\u00dcberwiegend bew\\u00f6lkt\",\"wear light clothes and don't forget your sunnies!<br>\"],[\"City of Brussels\",\"\\u2601\\ufe0f\",\"22.5 \\u00b0C\",\"Bedeckt\",\"wear light clothes and don't forget your sunnies!<br>watch out - your hat may get blown off<br>\"],[\"Warschau\",\"\\u2601\\ufe0f\\ud83c\\udf19\",\"28.8 \\u00b0C\",\"M\\u00e4\\u00dfig bew\\u00f6lkt\",\"it's bedtime\"],[\"Hamburg\",\"\\u2601\\ufe0f\",\"24.8 \\u00b0C\",\"Bedeckt\",\"wear light clothes and don't forget your sunnies!<br>\"]],\"geo\":\"geo\",\"hovertemplate\":\"<b>%{customdata[0]}</b><br><br>%{customdata[1]}, %{customdata[2]}<br>%{customdata[3]}<br>%{customdata[4]}<br>\",\"hovertext\":[\"Berlin\",\"Dresden\",\"Frankfurt am Main\",\"Freiburg im Breisgau\",\"Kiel\",\"K\\u00f6ln\",\"Leipzig\",\"Mannheim\",\"M\\u00fcnchen\",\"M\\u00fcnster\",\"Ravensburg\",\"Rostock\",\"Stuttgart\",\"Paris\",\"London\",\"Z\\u00fcrich\",\"Wien\",\"Rom\",\"Amsterdam\",\"Prag\",\"Mailand\",\"Arrondissement de Marseille\",\"City of Brussels\",\"Warschau\",\"Hamburg\"],\"ids\":[\"Berlin\",\"Dresden\",\"Frankfurt am Main\",\"Freiburg im Breisgau\",\"Kiel\",\"K\\u00f6ln\",\"Leipzig\",\"Mannheim\",\"M\\u00fcnchen\",\"M\\u00fcnster\",\"Ravensburg\",\"Rostock\",\"Stuttgart\",\"Paris\",\"London\",\"Z\\u00fcrich\",\"Wien\",\"Rom\",\"Amsterdam\",\"Prag\",\"Mailand\",\"Arrondissement de Marseille\",\"City of Brussels\",\"Warschau\",\"Hamburg\"],\"lat\":[52.5244,51.0509,50.1167,47.9959,54.3213,50.9333,51.342,49.4883,48.1374,51.9624,47.7833,54.0887,48.7823,48.8534,51.5085,47.3667,48.2085,41.8947,52.374,50.088,45.4643,43.3333,50.8504,52.2298,53.55],\"legendgroup\":\"\",\"lon\":[13.4105,13.7383,8.6833,7.8522,10.1349,6.95,12.375,8.4647,11.5755,7.6257,9.6167,12.1405,9.177,2.3488,-0.1257,8.55,16.3721,12.4839,4.8897,14.4208,9.1895,5.5,4.3488,21.0118,10.0],\"marker\":{\"color\":[23.96,24.73,28.45,23.13,21.01,29.43,24.72,30.15,21.2,29.03,20.07,21.09,25.43,26.77,19.19,21.4,24.99,27.23,20.98,23.97,28.01,24.87,22.5,28.77,24.77],\"coloraxis\":\"coloraxis\",\"opacity\":1,\"symbol\":\"circle\"},\"mode\":\"markers+text\",\"name\":\"\",\"showlegend\":false,\"text\":[\"24.0 \\u00b0C\",\"24.7 \\u00b0C\",\"28.4 \\u00b0C\",\"23.1 \\u00b0C\",\"21.0 \\u00b0C\",\"29.4 \\u00b0C\",\"24.7 \\u00b0C\",\"30.2 \\u00b0C\",\"21.2 \\u00b0C\",\"29.0 \\u00b0C\",\"20.1 \\u00b0C\",\"21.1 \\u00b0C\",\"25.4 \\u00b0C\",\"26.8 \\u00b0C\",\"19.2 \\u00b0C\",\"21.4 \\u00b0C\",\"25.0 \\u00b0C\",\"27.2 \\u00b0C\",\"21.0 \\u00b0C\",\"24.0 \\u00b0C\",\"28.0 \\u00b0C\",\"24.9 \\u00b0C\",\"22.5 \\u00b0C\",\"28.8 \\u00b0C\",\"24.8 \\u00b0C\"],\"type\":\"scattergeo\"}],\"name\":\"2022-08-25 18:00:00\"},{\"data\":[{\"customdata\":[[\"Berlin\",\"\\ud83c\\udf27\\ufe0f\\ud83c\\udf19\",\"22.0 \\u00b0C\",\"Leichter Regen\",\"it's bedtime\"],[\"Dresden\",\"\\u2601\\ufe0f\\ud83c\\udf19\",\"22.8 \\u00b0C\",\"\\u00dcberwiegend bew\\u00f6lkt\",\"it's bedtime\"],[\"Frankfurt am Main\",\"\\u2601\\ufe0f\\ud83c\\udf19\",\"24.8 \\u00b0C\",\"Ein paar Wolken\",\"it's bedtime\"],[\"Freiburg im Breisgau\",\"\\u2601\\ufe0f\\ud83c\\udf19\",\"20.5 \\u00b0C\",\"Ein paar Wolken\",\"it's bedtime\"],[\"Kiel\",\"\\u2601\\ufe0f\\ud83c\\udf19\",\"19.2 \\u00b0C\",\"\\u00dcberwiegend bew\\u00f6lkt\",\"it's bedtime\"],[\"K\\u00f6ln\",\"\\u2601\\ufe0f\\ud83c\\udf19\",\"24.9 \\u00b0C\",\"\\u00dcberwiegend bew\\u00f6lkt\",\"it's bedtime\"],[\"Leipzig\",\"\\u2601\\ufe0f\\ud83c\\udf19\",\"22.5 \\u00b0C\",\"Ein paar Wolken\",\"it's bedtime\"],[\"Mannheim\",\"\\u2601\\ufe0f\\ud83c\\udf19\",\"27.1 \\u00b0C\",\"Bedeckt\",\"it's bedtime\"],[\"M\\u00fcnchen\",\"\\ud83c\\udf15\",\"18.3 \\u00b0C\",\"Klarer Himmel\",\"it's bedtime\"],[\"M\\u00fcnster\",\"\\u2601\\ufe0f\\ud83c\\udf19\",\"22.9 \\u00b0C\",\"Ein paar Wolken\",\"it's bedtime\"],[\"Ravensburg\",\"\\ud83c\\udf15\",\"17.3 \\u00b0C\",\"Klarer Himmel\",\"it's bedtime\"],[\"Rostock\",\"\\u2601\\ufe0f\\ud83c\\udf19\",\"20.0 \\u00b0C\",\"\\u00dcberwiegend bew\\u00f6lkt\",\"it's bedtime\"],[\"Stuttgart\",\"\\u2601\\ufe0f\\ud83c\\udf19\",\"22.0 \\u00b0C\",\"Ein paar Wolken\",\"it's bedtime\"],[\"Paris\",\"\\u2601\\ufe0f\\ud83c\\udf19\",\"23.2 \\u00b0C\",\"Bedeckt\",\"it's bedtime\"],[\"London\",\"\\u2601\\ufe0f\\ud83c\\udf19\",\"18.2 \\u00b0C\",\"\\u00dcberwiegend bew\\u00f6lkt\",\"it's bedtime\"],[\"Z\\u00fcrich\",\"\\u2601\\ufe0f\\ud83c\\udf19\",\"18.1 \\u00b0C\",\"M\\u00e4\\u00dfig bew\\u00f6lkt\",\"it's bedtime\"],[\"Wien\",\"\\ud83c\\udf27\\ufe0f\\ud83c\\udf19\",\"22.8 \\u00b0C\",\"Leichter Regen\",\"it's bedtime\"],[\"Rom\",\"\\u2601\\ufe0f\\ud83c\\udf19\",\"25.4 \\u00b0C\",\"M\\u00e4\\u00dfig bew\\u00f6lkt\",\"it's bedtime\"],[\"Amsterdam\",\"\\ud83c\\udf27\\ufe0f\\ud83c\\udf19\",\"19.6 \\u00b0C\",\"Leichter Regen\",\"it's bedtime\"],[\"Prag\",\"\\ud83c\\udf27\\ufe0f\\ud83c\\udf19\",\"21.9 \\u00b0C\",\"Leichter Regen\",\"it's bedtime\"],[\"Mailand\",\"\\ud83c\\udf15\",\"25.0 \\u00b0C\",\"Klarer Himmel\",\"it's bedtime\"],[\"Arrondissement de Marseille\",\"\\u2601\\ufe0f\\ud83c\\udf19\",\"24.1 \\u00b0C\",\"\\u00dcberwiegend bew\\u00f6lkt\",\"it's bedtime\"],[\"City of Brussels\",\"\\u2601\\ufe0f\\ud83c\\udf19\",\"20.3 \\u00b0C\",\"Bedeckt\",\"it's bedtime\"],[\"Warschau\",\"\\u2601\\ufe0f\\ud83c\\udf19\",\"25.5 \\u00b0C\",\"Bedeckt\",\"it's bedtime\"],[\"Hamburg\",\"\\u2601\\ufe0f\\ud83c\\udf19\",\"23.1 \\u00b0C\",\"Bedeckt\",\"it's bedtime\"]],\"geo\":\"geo\",\"hovertemplate\":\"<b>%{customdata[0]}</b><br><br>%{customdata[1]}, %{customdata[2]}<br>%{customdata[3]}<br>%{customdata[4]}<br>\",\"hovertext\":[\"Berlin\",\"Dresden\",\"Frankfurt am Main\",\"Freiburg im Breisgau\",\"Kiel\",\"K\\u00f6ln\",\"Leipzig\",\"Mannheim\",\"M\\u00fcnchen\",\"M\\u00fcnster\",\"Ravensburg\",\"Rostock\",\"Stuttgart\",\"Paris\",\"London\",\"Z\\u00fcrich\",\"Wien\",\"Rom\",\"Amsterdam\",\"Prag\",\"Mailand\",\"Arrondissement de Marseille\",\"City of Brussels\",\"Warschau\",\"Hamburg\"],\"ids\":[\"Berlin\",\"Dresden\",\"Frankfurt am Main\",\"Freiburg im Breisgau\",\"Kiel\",\"K\\u00f6ln\",\"Leipzig\",\"Mannheim\",\"M\\u00fcnchen\",\"M\\u00fcnster\",\"Ravensburg\",\"Rostock\",\"Stuttgart\",\"Paris\",\"London\",\"Z\\u00fcrich\",\"Wien\",\"Rom\",\"Amsterdam\",\"Prag\",\"Mailand\",\"Arrondissement de Marseille\",\"City of Brussels\",\"Warschau\",\"Hamburg\"],\"lat\":[52.5244,51.0509,50.1167,47.9959,54.3213,50.9333,51.342,49.4883,48.1374,51.9624,47.7833,54.0887,48.7823,48.8534,51.5085,47.3667,48.2085,41.8947,52.374,50.088,45.4643,43.3333,50.8504,52.2298,53.55],\"legendgroup\":\"\",\"lon\":[13.4105,13.7383,8.6833,7.8522,10.1349,6.95,12.375,8.4647,11.5755,7.6257,9.6167,12.1405,9.177,2.3488,-0.1257,8.55,16.3721,12.4839,4.8897,14.4208,9.1895,5.5,4.3488,21.0118,10.0],\"marker\":{\"color\":[21.99,22.81,24.81,20.51,19.18,24.89,22.54,27.12,18.29,22.87,17.27,19.97,22.0,23.16,18.2,18.08,22.77,25.42,19.64,21.94,24.95,24.08,20.26,25.47,23.11],\"coloraxis\":\"coloraxis\",\"opacity\":1,\"symbol\":\"circle\"},\"mode\":\"markers+text\",\"name\":\"\",\"showlegend\":false,\"text\":[\"22.0 \\u00b0C\",\"22.8 \\u00b0C\",\"24.8 \\u00b0C\",\"20.5 \\u00b0C\",\"19.2 \\u00b0C\",\"24.9 \\u00b0C\",\"22.5 \\u00b0C\",\"27.1 \\u00b0C\",\"18.3 \\u00b0C\",\"22.9 \\u00b0C\",\"17.3 \\u00b0C\",\"20.0 \\u00b0C\",\"22.0 \\u00b0C\",\"23.2 \\u00b0C\",\"18.2 \\u00b0C\",\"18.1 \\u00b0C\",\"22.8 \\u00b0C\",\"25.4 \\u00b0C\",\"19.6 \\u00b0C\",\"21.9 \\u00b0C\",\"25.0 \\u00b0C\",\"24.1 \\u00b0C\",\"20.3 \\u00b0C\",\"25.5 \\u00b0C\",\"23.1 \\u00b0C\"],\"type\":\"scattergeo\"}],\"name\":\"2022-08-25 21:00:00\"},{\"data\":[{\"customdata\":[[\"Berlin\",\"\\ud83c\\udf27\\ufe0f\\ud83c\\udf19\",\"20.4 \\u00b0C\",\"Leichter Regen\",\"it's bedtime\"],[\"Dresden\",\"\\ud83c\\udf27\\ufe0f\\ud83c\\udf19\",\"21.1 \\u00b0C\",\"Leichter Regen\",\"it's bedtime\"],[\"Frankfurt am Main\",\"\\u2601\\ufe0f\\ud83c\\udf19\",\"22.7 \\u00b0C\",\"Ein paar Wolken\",\"it's bedtime\"],[\"Freiburg im Breisgau\",\"\\u2601\\ufe0f\\ud83c\\udf19\",\"19.4 \\u00b0C\",\"Ein paar Wolken\",\"it's bedtime\"],[\"Kiel\",\"\\u2601\\ufe0f\\ud83c\\udf19\",\"19.6 \\u00b0C\",\"\\u00dcberwiegend bew\\u00f6lkt\",\"it's bedtime\"],[\"K\\u00f6ln\",\"\\u2601\\ufe0f\\ud83c\\udf19\",\"21.2 \\u00b0C\",\"\\u00dcberwiegend bew\\u00f6lkt\",\"it's bedtime\"],[\"Leipzig\",\"\\u2601\\ufe0f\\ud83c\\udf19\",\"21.2 \\u00b0C\",\"M\\u00e4\\u00dfig bew\\u00f6lkt\",\"it's bedtime\"],[\"Mannheim\",\"\\u2601\\ufe0f\\ud83c\\udf19\",\"25.4 \\u00b0C\",\"\\u00dcberwiegend bew\\u00f6lkt\",\"it's bedtime\"],[\"M\\u00fcnchen\",\"\\ud83c\\udf15\",\"16.6 \\u00b0C\",\"Klarer Himmel\",\"it's bedtime\"],[\"M\\u00fcnster\",\"\\u2601\\ufe0f\\ud83c\\udf19\",\"21.8 \\u00b0C\",\"Ein paar Wolken\",\"it's bedtime\"],[\"Ravensburg\",\"\\ud83c\\udf15\",\"16.0 \\u00b0C\",\"Klarer Himmel\",\"it's bedtime\"],[\"Rostock\",\"\\u2601\\ufe0f\\ud83c\\udf19\",\"20.1 \\u00b0C\",\"\\u00dcberwiegend bew\\u00f6lkt\",\"it's bedtime\"],[\"Stuttgart\",\"\\u2601\\ufe0f\\ud83c\\udf19\",\"20.3 \\u00b0C\",\"Ein paar Wolken\",\"it's bedtime\"],[\"Paris\",\"\\u2601\\ufe0f\\ud83c\\udf19\",\"20.3 \\u00b0C\",\"Bedeckt\",\"it's bedtime\"],[\"London\",\"\\u2601\\ufe0f\\ud83c\\udf19\",\"17.2 \\u00b0C\",\"\\u00dcberwiegend bew\\u00f6lkt\",\"it's bedtime\"],[\"Z\\u00fcrich\",\"\\u2601\\ufe0f\\ud83c\\udf19\",\"16.4 \\u00b0C\",\"M\\u00e4\\u00dfig bew\\u00f6lkt\",\"it's bedtime\"],[\"Wien\",\"\\u2601\\ufe0f\\ud83c\\udf19\",\"21.0 \\u00b0C\",\"M\\u00e4\\u00dfig bew\\u00f6lkt\",\"it's bedtime\"],[\"Rom\",\"\\u2601\\ufe0f\\ud83c\\udf19\",\"24.6 \\u00b0C\",\"M\\u00e4\\u00dfig bew\\u00f6lkt\",\"it's bedtime\"],[\"Amsterdam\",\"\\ud83c\\udf27\\ufe0f\\ud83c\\udf19\",\"19.1 \\u00b0C\",\"Leichter Regen\",\"it's bedtime\"],[\"Prag\",\"\\ud83c\\udf27\\ufe0f\\ud83c\\udf19\",\"19.8 \\u00b0C\",\"Leichter Regen\",\"it's bedtime\"],[\"Mailand\",\"\\u2601\\ufe0f\\ud83c\\udf19\",\"23.3 \\u00b0C\",\"Ein paar Wolken\",\"it's bedtime\"],[\"Arrondissement de Marseille\",\"\\u2601\\ufe0f\\ud83c\\udf19\",\"24.0 \\u00b0C\",\"\\u00dcberwiegend bew\\u00f6lkt\",\"it's bedtime\"],[\"City of Brussels\",\"\\ud83c\\udf27\\ufe0f\\ud83c\\udf19\",\"19.1 \\u00b0C\",\"Leichter Regen\",\"it's bedtime\"],[\"Warschau\",\"\\u2601\\ufe0f\\ud83c\\udf19\",\"23.4 \\u00b0C\",\"\\u00dcberwiegend bew\\u00f6lkt\",\"it's bedtime\"],[\"Hamburg\",\"\\u2601\\ufe0f\\ud83c\\udf19\",\"21.9 \\u00b0C\",\"Bedeckt\",\"it's bedtime\"]],\"geo\":\"geo\",\"hovertemplate\":\"<b>%{customdata[0]}</b><br><br>%{customdata[1]}, %{customdata[2]}<br>%{customdata[3]}<br>%{customdata[4]}<br>\",\"hovertext\":[\"Berlin\",\"Dresden\",\"Frankfurt am Main\",\"Freiburg im Breisgau\",\"Kiel\",\"K\\u00f6ln\",\"Leipzig\",\"Mannheim\",\"M\\u00fcnchen\",\"M\\u00fcnster\",\"Ravensburg\",\"Rostock\",\"Stuttgart\",\"Paris\",\"London\",\"Z\\u00fcrich\",\"Wien\",\"Rom\",\"Amsterdam\",\"Prag\",\"Mailand\",\"Arrondissement de Marseille\",\"City of Brussels\",\"Warschau\",\"Hamburg\"],\"ids\":[\"Berlin\",\"Dresden\",\"Frankfurt am Main\",\"Freiburg im Breisgau\",\"Kiel\",\"K\\u00f6ln\",\"Leipzig\",\"Mannheim\",\"M\\u00fcnchen\",\"M\\u00fcnster\",\"Ravensburg\",\"Rostock\",\"Stuttgart\",\"Paris\",\"London\",\"Z\\u00fcrich\",\"Wien\",\"Rom\",\"Amsterdam\",\"Prag\",\"Mailand\",\"Arrondissement de Marseille\",\"City of Brussels\",\"Warschau\",\"Hamburg\"],\"lat\":[52.5244,51.0509,50.1167,47.9959,54.3213,50.9333,51.342,49.4883,48.1374,51.9624,47.7833,54.0887,48.7823,48.8534,51.5085,47.3667,48.2085,41.8947,52.374,50.088,45.4643,43.3333,50.8504,52.2298,53.55],\"legendgroup\":\"\",\"lon\":[13.4105,13.7383,8.6833,7.8522,10.1349,6.95,12.375,8.4647,11.5755,7.6257,9.6167,12.1405,9.177,2.3488,-0.1257,8.55,16.3721,12.4839,4.8897,14.4208,9.1895,5.5,4.3488,21.0118,10.0],\"marker\":{\"color\":[20.44,21.07,22.68,19.45,19.65,21.23,21.15,25.43,16.63,21.81,15.97,20.12,20.28,20.33,17.22,16.43,20.99,24.56,19.09,19.79,23.34,23.99,19.14,23.45,21.87],\"coloraxis\":\"coloraxis\",\"opacity\":1,\"symbol\":\"circle\"},\"mode\":\"markers+text\",\"name\":\"\",\"showlegend\":false,\"text\":[\"20.4 \\u00b0C\",\"21.1 \\u00b0C\",\"22.7 \\u00b0C\",\"19.4 \\u00b0C\",\"19.6 \\u00b0C\",\"21.2 \\u00b0C\",\"21.2 \\u00b0C\",\"25.4 \\u00b0C\",\"16.6 \\u00b0C\",\"21.8 \\u00b0C\",\"16.0 \\u00b0C\",\"20.1 \\u00b0C\",\"20.3 \\u00b0C\",\"20.3 \\u00b0C\",\"17.2 \\u00b0C\",\"16.4 \\u00b0C\",\"21.0 \\u00b0C\",\"24.6 \\u00b0C\",\"19.1 \\u00b0C\",\"19.8 \\u00b0C\",\"23.3 \\u00b0C\",\"24.0 \\u00b0C\",\"19.1 \\u00b0C\",\"23.4 \\u00b0C\",\"21.9 \\u00b0C\"],\"type\":\"scattergeo\"}],\"name\":\"2022-08-26 00:00:00\"},{\"data\":[{\"customdata\":[[\"Berlin\",\"\\ud83c\\udf27\\ufe0f\\ud83c\\udf19\",\"19.8 \\u00b0C\",\"Leichter Regen\",\"it's bedtime\"],[\"Dresden\",\"\\u2601\\ufe0f\\ud83c\\udf19\",\"20.1 \\u00b0C\",\"Bedeckt\",\"it's bedtime\"],[\"Frankfurt am Main\",\"\\ud83c\\udf15\",\"21.3 \\u00b0C\",\"Klarer Himmel\",\"it's bedtime\"],[\"Freiburg im Breisgau\",\"\\u2601\\ufe0f\\ud83c\\udf19\",\"19.2 \\u00b0C\",\"Bedeckt\",\"it's bedtime\"],[\"Kiel\",\"\\u2601\\ufe0f\\ud83c\\udf19\",\"19.6 \\u00b0C\",\"\\u00dcberwiegend bew\\u00f6lkt\",\"it's bedtime\"],[\"K\\u00f6ln\",\"\\u2601\\ufe0f\\ud83c\\udf19\",\"19.3 \\u00b0C\",\"Bedeckt\",\"it's bedtime\"],[\"Leipzig\",\"\\u2601\\ufe0f\\ud83c\\udf19\",\"20.3 \\u00b0C\",\"Bedeckt\",\"it's bedtime\"],[\"Mannheim\",\"\\u2601\\ufe0f\\ud83c\\udf19\",\"23.8 \\u00b0C\",\"Ein paar Wolken\",\"it's bedtime\"],[\"M\\u00fcnchen\",\"\\ud83c\\udf15\",\"15.5 \\u00b0C\",\"Klarer Himmel\",\"it's bedtime\"],[\"M\\u00fcnster\",\"\\u2601\\ufe0f\\ud83c\\udf19\",\"17.3 \\u00b0C\",\"\\u00dcberwiegend bew\\u00f6lkt\",\"it's bedtime\"],[\"Ravensburg\",\"\\ud83c\\udf15\",\"15.0 \\u00b0C\",\"Klarer Himmel\",\"it's bedtime\"],[\"Rostock\",\"\\u2601\\ufe0f\\ud83c\\udf19\",\"19.4 \\u00b0C\",\"\\u00dcberwiegend bew\\u00f6lkt\",\"it's bedtime\"],[\"Stuttgart\",\"\\u2601\\ufe0f\\ud83c\\udf19\",\"19.7 \\u00b0C\",\"\\u00dcberwiegend bew\\u00f6lkt\",\"it's bedtime\"],[\"Paris\",\"\\u2601\\ufe0f\\ud83c\\udf19\",\"19.5 \\u00b0C\",\"\\u00dcberwiegend bew\\u00f6lkt\",\"it's bedtime\"],[\"London\",\"\\u2601\\ufe0f\\ud83c\\udf19\",\"16.4 \\u00b0C\",\"\\u00dcberwiegend bew\\u00f6lkt\",\"it's bedtime\"],[\"Z\\u00fcrich\",\"\\u2601\\ufe0f\\ud83c\\udf19\",\"15.4 \\u00b0C\",\"Bedeckt\",\"it's bedtime\"],[\"Wien\",\"\\ud83c\\udf15\",\"20.0 \\u00b0C\",\"Klarer Himmel\",\"it's bedtime\"],[\"Rom\",\"\\ud83c\\udf15\",\"23.3 \\u00b0C\",\"Klarer Himmel\",\"it's bedtime\"],[\"Amsterdam\",\"\\ud83c\\udf27\\ufe0f\\ud83c\\udf19\",\"18.8 \\u00b0C\",\"Leichter Regen\",\"it's bedtime\"],[\"Prag\",\"\\u2601\\ufe0f\\ud83c\\udf19\",\"18.9 \\u00b0C\",\"\\u00dcberwiegend bew\\u00f6lkt\",\"it's bedtime\"],[\"Mailand\",\"\\u2601\\ufe0f\\ud83c\\udf19\",\"22.2 \\u00b0C\",\"M\\u00e4\\u00dfig bew\\u00f6lkt\",\"it's bedtime\"],[\"Arrondissement de Marseille\",\"\\u2601\\ufe0f\\ud83c\\udf19\",\"23.4 \\u00b0C\",\"\\u00dcberwiegend bew\\u00f6lkt\",\"it's bedtime\"],[\"City of Brussels\",\"\\ud83c\\udf27\\ufe0f\\ud83c\\udf19\",\"18.6 \\u00b0C\",\"Leichter Regen\",\"it's bedtime\"],[\"Warschau\",\"\\u2601\\ufe0f\\ud83c\\udf19\",\"22.1 \\u00b0C\",\"\\u00dcberwiegend bew\\u00f6lkt\",\"it's bedtime\"],[\"Hamburg\",\"\\u2601\\ufe0f\\ud83c\\udf19\",\"19.6 \\u00b0C\",\"Bedeckt\",\"it's bedtime\"]],\"geo\":\"geo\",\"hovertemplate\":\"<b>%{customdata[0]}</b><br><br>%{customdata[1]}, %{customdata[2]}<br>%{customdata[3]}<br>%{customdata[4]}<br>\",\"hovertext\":[\"Berlin\",\"Dresden\",\"Frankfurt am Main\",\"Freiburg im Breisgau\",\"Kiel\",\"K\\u00f6ln\",\"Leipzig\",\"Mannheim\",\"M\\u00fcnchen\",\"M\\u00fcnster\",\"Ravensburg\",\"Rostock\",\"Stuttgart\",\"Paris\",\"London\",\"Z\\u00fcrich\",\"Wien\",\"Rom\",\"Amsterdam\",\"Prag\",\"Mailand\",\"Arrondissement de Marseille\",\"City of Brussels\",\"Warschau\",\"Hamburg\"],\"ids\":[\"Berlin\",\"Dresden\",\"Frankfurt am Main\",\"Freiburg im Breisgau\",\"Kiel\",\"K\\u00f6ln\",\"Leipzig\",\"Mannheim\",\"M\\u00fcnchen\",\"M\\u00fcnster\",\"Ravensburg\",\"Rostock\",\"Stuttgart\",\"Paris\",\"London\",\"Z\\u00fcrich\",\"Wien\",\"Rom\",\"Amsterdam\",\"Prag\",\"Mailand\",\"Arrondissement de Marseille\",\"City of Brussels\",\"Warschau\",\"Hamburg\"],\"lat\":[52.5244,51.0509,50.1167,47.9959,54.3213,50.9333,51.342,49.4883,48.1374,51.9624,47.7833,54.0887,48.7823,48.8534,51.5085,47.3667,48.2085,41.8947,52.374,50.088,45.4643,43.3333,50.8504,52.2298,53.55],\"legendgroup\":\"\",\"lon\":[13.4105,13.7383,8.6833,7.8522,10.1349,6.95,12.375,8.4647,11.5755,7.6257,9.6167,12.1405,9.177,2.3488,-0.1257,8.55,16.3721,12.4839,4.8897,14.4208,9.1895,5.5,4.3488,21.0118,10.0],\"marker\":{\"color\":[19.81,20.13,21.3,19.18,19.61,19.26,20.28,23.83,15.47,17.27,15.04,19.39,19.7,19.53,16.38,15.45,19.95,23.28,18.81,18.91,22.16,23.36,18.58,22.1,19.64],\"coloraxis\":\"coloraxis\",\"opacity\":1,\"symbol\":\"circle\"},\"mode\":\"markers+text\",\"name\":\"\",\"showlegend\":false,\"text\":[\"19.8 \\u00b0C\",\"20.1 \\u00b0C\",\"21.3 \\u00b0C\",\"19.2 \\u00b0C\",\"19.6 \\u00b0C\",\"19.3 \\u00b0C\",\"20.3 \\u00b0C\",\"23.8 \\u00b0C\",\"15.5 \\u00b0C\",\"17.3 \\u00b0C\",\"15.0 \\u00b0C\",\"19.4 \\u00b0C\",\"19.7 \\u00b0C\",\"19.5 \\u00b0C\",\"16.4 \\u00b0C\",\"15.4 \\u00b0C\",\"20.0 \\u00b0C\",\"23.3 \\u00b0C\",\"18.8 \\u00b0C\",\"18.9 \\u00b0C\",\"22.2 \\u00b0C\",\"23.4 \\u00b0C\",\"18.6 \\u00b0C\",\"22.1 \\u00b0C\",\"19.6 \\u00b0C\"],\"type\":\"scattergeo\"}],\"name\":\"2022-08-26 03:00:00\"},{\"data\":[{\"customdata\":[[\"Berlin\",\"\\ud83c\\udf26\\ufe0f\",\"21.3 \\u00b0C\",\"Leichter Regen\",\"wear light clothes and don't forget your sunnies!<br>take an umbrella or a rain jacket with you<br>\"],[\"Dresden\",\"\\u2601\\ufe0f\",\"22.1 \\u00b0C\",\"\\u00dcberwiegend bew\\u00f6lkt\",\"wear light clothes and don't forget your sunnies!<br>\"],[\"Frankfurt am Main\",\"\\u2601\\ufe0f\",\"22.7 \\u00b0C\",\"M\\u00e4\\u00dfig bew\\u00f6lkt\",\"wear light clothes and don't forget your sunnies!<br>\"],[\"Freiburg im Breisgau\",\"\\u2601\\ufe0f\",\"20.5 \\u00b0C\",\"Bedeckt\",\"wear light clothes and don't forget your sunnies!<br>\"],[\"Kiel\",\"\\u2601\\ufe0f\",\"20.8 \\u00b0C\",\"Bedeckt\",\"wear light clothes and don't forget your sunnies!<br>\"],[\"K\\u00f6ln\",\"\\ud83c\\udf26\\ufe0f\",\"20.2 \\u00b0C\",\"Leichter Regen\",\"wear light clothes and don't forget your sunnies!<br>take an umbrella or a rain jacket with you<br>\"],[\"Leipzig\",\"\\u2601\\ufe0f\",\"22.2 \\u00b0C\",\"Bedeckt\",\"wear light clothes and don't forget your sunnies!<br>\"],[\"Mannheim\",\"\\u2601\\ufe0f\",\"24.1 \\u00b0C\",\"\\u00dcberwiegend bew\\u00f6lkt\",\"wear light clothes and don't forget your sunnies!<br>\"],[\"M\\u00fcnchen\",\"\\u2600\\ufe0f\",\"17.6 \\u00b0C\",\"Klarer Himmel\",\"wear light clothes and don't forget your sunnies!<br>\"],[\"M\\u00fcnster\",\"\\u2601\\ufe0f\",\"18.8 \\u00b0C\",\"\\u00dcberwiegend bew\\u00f6lkt\",\"wear light clothes and don't forget your sunnies!<br>\"],[\"Ravensburg\",\"\\u2601\\ufe0f\",\"16.9 \\u00b0C\",\"M\\u00e4\\u00dfig bew\\u00f6lkt\",\"wear light clothes and don't forget your sunnies!<br>\"],[\"Rostock\",\"\\ud83c\\udf26\\ufe0f\",\"20.2 \\u00b0C\",\"Leichter Regen\",\"wear light clothes and don't forget your sunnies!<br>take an umbrella or a rain jacket with you<br>\"],[\"Stuttgart\",\"\\u2601\\ufe0f\",\"20.8 \\u00b0C\",\"\\u00dcberwiegend bew\\u00f6lkt\",\"wear light clothes and don't forget your sunnies!<br>\"],[\"Paris\",\"\\u2601\\ufe0f\",\"19.1 \\u00b0C\",\"Bedeckt\",\"wear light clothes and don't forget your sunnies!<br>\"],[\"London\",\"\\u2601\\ufe0f\",\"16.0 \\u00b0C\",\"\\u00dcberwiegend bew\\u00f6lkt\",\"wear light clothes and don't forget your sunnies!<br>\"],[\"Z\\u00fcrich\",\"\\u2601\\ufe0f\",\"17.5 \\u00b0C\",\"\\u00dcberwiegend bew\\u00f6lkt\",\"wear light clothes and don't forget your sunnies!<br>\"],[\"Wien\",\"\\u2600\\ufe0f\",\"21.5 \\u00b0C\",\"Klarer Himmel\",\"wear light clothes and don't forget your sunnies!<br>\"],[\"Rom\",\"\\u2600\\ufe0f\",\"24.4 \\u00b0C\",\"Klarer Himmel\",\"wear light clothes and don't forget your sunnies!<br>\"],[\"Amsterdam\",\"\\u2601\\ufe0f\",\"18.7 \\u00b0C\",\"Bedeckt\",\"wear light clothes and don't forget your sunnies!<br>\"],[\"Prag\",\"\\u2601\\ufe0f\",\"20.8 \\u00b0C\",\"\\u00dcberwiegend bew\\u00f6lkt\",\"wear light clothes and don't forget your sunnies!<br>\"],[\"Mailand\",\"\\u2601\\ufe0f\",\"22.9 \\u00b0C\",\"\\u00dcberwiegend bew\\u00f6lkt\",\"wear light clothes and don't forget your sunnies!<br>\"],[\"Arrondissement de Marseille\",\"\\u2601\\ufe0f\",\"23.2 \\u00b0C\",\"\\u00dcberwiegend bew\\u00f6lkt\",\"wear light clothes and don't forget your sunnies!<br>\"],[\"City of Brussels\",\"\\u2601\\ufe0f\",\"18.2 \\u00b0C\",\"Bedeckt\",\"wear light clothes and don't forget your sunnies!<br>\"],[\"Warschau\",\"\\u2601\\ufe0f\",\"24.5 \\u00b0C\",\"M\\u00e4\\u00dfig bew\\u00f6lkt\",\"wear light clothes and don't forget your sunnies!<br>\"],[\"Hamburg\",\"\\u2601\\ufe0f\",\"21.1 \\u00b0C\",\"Bedeckt\",\"wear light clothes and don't forget your sunnies!<br>\"]],\"geo\":\"geo\",\"hovertemplate\":\"<b>%{customdata[0]}</b><br><br>%{customdata[1]}, %{customdata[2]}<br>%{customdata[3]}<br>%{customdata[4]}<br>\",\"hovertext\":[\"Berlin\",\"Dresden\",\"Frankfurt am Main\",\"Freiburg im Breisgau\",\"Kiel\",\"K\\u00f6ln\",\"Leipzig\",\"Mannheim\",\"M\\u00fcnchen\",\"M\\u00fcnster\",\"Ravensburg\",\"Rostock\",\"Stuttgart\",\"Paris\",\"London\",\"Z\\u00fcrich\",\"Wien\",\"Rom\",\"Amsterdam\",\"Prag\",\"Mailand\",\"Arrondissement de Marseille\",\"City of Brussels\",\"Warschau\",\"Hamburg\"],\"ids\":[\"Berlin\",\"Dresden\",\"Frankfurt am Main\",\"Freiburg im Breisgau\",\"Kiel\",\"K\\u00f6ln\",\"Leipzig\",\"Mannheim\",\"M\\u00fcnchen\",\"M\\u00fcnster\",\"Ravensburg\",\"Rostock\",\"Stuttgart\",\"Paris\",\"London\",\"Z\\u00fcrich\",\"Wien\",\"Rom\",\"Amsterdam\",\"Prag\",\"Mailand\",\"Arrondissement de Marseille\",\"City of Brussels\",\"Warschau\",\"Hamburg\"],\"lat\":[52.5244,51.0509,50.1167,47.9959,54.3213,50.9333,51.342,49.4883,48.1374,51.9624,47.7833,54.0887,48.7823,48.8534,51.5085,47.3667,48.2085,41.8947,52.374,50.088,45.4643,43.3333,50.8504,52.2298,53.55],\"legendgroup\":\"\",\"lon\":[13.4105,13.7383,8.6833,7.8522,10.1349,6.95,12.375,8.4647,11.5755,7.6257,9.6167,12.1405,9.177,2.3488,-0.1257,8.55,16.3721,12.4839,4.8897,14.4208,9.1895,5.5,4.3488,21.0118,10.0],\"marker\":{\"color\":[21.29,22.08,22.68,20.5,20.83,20.22,22.15,24.13,17.65,18.76,16.9,20.24,20.8,19.12,16.03,17.47,21.46,24.37,18.74,20.81,22.92,23.17,18.22,24.48,21.1],\"coloraxis\":\"coloraxis\",\"opacity\":1,\"symbol\":\"circle\"},\"mode\":\"markers+text\",\"name\":\"\",\"showlegend\":false,\"text\":[\"21.3 \\u00b0C\",\"22.1 \\u00b0C\",\"22.7 \\u00b0C\",\"20.5 \\u00b0C\",\"20.8 \\u00b0C\",\"20.2 \\u00b0C\",\"22.2 \\u00b0C\",\"24.1 \\u00b0C\",\"17.6 \\u00b0C\",\"18.8 \\u00b0C\",\"16.9 \\u00b0C\",\"20.2 \\u00b0C\",\"20.8 \\u00b0C\",\"19.1 \\u00b0C\",\"16.0 \\u00b0C\",\"17.5 \\u00b0C\",\"21.5 \\u00b0C\",\"24.4 \\u00b0C\",\"18.7 \\u00b0C\",\"20.8 \\u00b0C\",\"22.9 \\u00b0C\",\"23.2 \\u00b0C\",\"18.2 \\u00b0C\",\"24.5 \\u00b0C\",\"21.1 \\u00b0C\"],\"type\":\"scattergeo\"}],\"name\":\"2022-08-26 06:00:00\"},{\"data\":[{\"customdata\":[[\"Berlin\",\"\\u2601\\ufe0f\",\"26.4 \\u00b0C\",\"Bedeckt\",\"wear light clothes, drink a lot of water and don't forget suncream<br>\"],[\"Dresden\",\"\\u2601\\ufe0f\",\"27.6 \\u00b0C\",\"M\\u00e4\\u00dfig bew\\u00f6lkt\",\"wear light clothes, drink a lot of water and don't forget suncream<br>\"],[\"Frankfurt am Main\",\"\\u2601\\ufe0f\",\"27.5 \\u00b0C\",\"Bedeckt\",\"wear light clothes, drink a lot of water and don't forget suncream<br>\"],[\"Freiburg im Breisgau\",\"\\u2601\\ufe0f\",\"25.0 \\u00b0C\",\"Bedeckt\",\"wear light clothes, drink a lot of water and don't forget suncream<br>\"],[\"Kiel\",\"\\u2601\\ufe0f\",\"22.6 \\u00b0C\",\"Bedeckt\",\"wear light clothes and don't forget your sunnies!<br>\"],[\"K\\u00f6ln\",\"\\ud83c\\udf26\\ufe0f\",\"23.1 \\u00b0C\",\"Leichter Regen\",\"wear light clothes and don't forget your sunnies!<br>take an umbrella or a rain jacket with you<br>\"],[\"Leipzig\",\"\\u2601\\ufe0f\",\"27.0 \\u00b0C\",\"Bedeckt\",\"wear light clothes, drink a lot of water and don't forget suncream<br>\"],[\"Mannheim\",\"\\u2601\\ufe0f\",\"27.8 \\u00b0C\",\"Bedeckt\",\"wear light clothes, drink a lot of water and don't forget suncream<br>\"],[\"M\\u00fcnchen\",\"\\u2600\\ufe0f\",\"24.5 \\u00b0C\",\"Klarer Himmel\",\"wear light clothes and don't forget your sunnies!<br>\"],[\"M\\u00fcnster\",\"\\u2601\\ufe0f\",\"24.7 \\u00b0C\",\"Bedeckt\",\"wear light clothes and don't forget your sunnies!<br>\"],[\"Ravensburg\",\"\\u2601\\ufe0f\",\"23.4 \\u00b0C\",\"Bedeckt\",\"wear light clothes and don't forget your sunnies!<br>\"],[\"Rostock\",\"\\ud83c\\udf26\\ufe0f\",\"24.6 \\u00b0C\",\"Leichter Regen\",\"wear light clothes and don't forget your sunnies!<br>take an umbrella or a rain jacket with you<br>\"],[\"Stuttgart\",\"\\u2601\\ufe0f\",\"24.5 \\u00b0C\",\"Bedeckt\",\"wear light clothes and don't forget your sunnies!<br>\"],[\"Paris\",\"\\ud83c\\udf24\\ufe0f\",\"23.2 \\u00b0C\",\"Ein paar Wolken\",\"wear light clothes and don't forget your sunnies!<br>\"],[\"London\",\"\\u2601\\ufe0f\",\"19.7 \\u00b0C\",\"M\\u00e4\\u00dfig bew\\u00f6lkt\",\"wear light clothes and don't forget your sunnies!<br>\"],[\"Z\\u00fcrich\",\"\\u2601\\ufe0f\",\"24.5 \\u00b0C\",\"\\u00dcberwiegend bew\\u00f6lkt\",\"wear light clothes and don't forget your sunnies!<br>\"],[\"Wien\",\"\\u2600\\ufe0f\",\"26.3 \\u00b0C\",\"Klarer Himmel\",\"wear light clothes, drink a lot of water and don't forget suncream<br>\"],[\"Rom\",\"\\u2600\\ufe0f\",\"30.5 \\u00b0C\",\"Klarer Himmel\",\"wear light clothes, drink a lot of water and don't forget suncream<br>\"],[\"Amsterdam\",\"\\u2601\\ufe0f\",\"19.9 \\u00b0C\",\"Bedeckt\",\"wear light clothes and don't forget your sunnies!<br>\"],[\"Prag\",\"\\u2600\\ufe0f\",\"25.8 \\u00b0C\",\"Klarer Himmel\",\"wear light clothes, drink a lot of water and don't forget suncream<br>\"],[\"Mailand\",\"\\u2601\\ufe0f\",\"28.1 \\u00b0C\",\"Bedeckt\",\"wear light clothes, drink a lot of water and don't forget suncream<br>\"],[\"Arrondissement de Marseille\",\"\\u2601\\ufe0f\",\"26.2 \\u00b0C\",\"\\u00dcberwiegend bew\\u00f6lkt\",\"wear light clothes, drink a lot of water and don't forget suncream<br>\"],[\"City of Brussels\",\"\\u2601\\ufe0f\",\"22.2 \\u00b0C\",\"Bedeckt\",\"wear light clothes and don't forget your sunnies!<br>\"],[\"Warschau\",\"\\ud83c\\udf24\\ufe0f\",\"30.5 \\u00b0C\",\"Ein paar Wolken\",\"wear light clothes, drink a lot of water and don't forget suncream<br>\"],[\"Hamburg\",\"\\u2601\\ufe0f\",\"27.0 \\u00b0C\",\"Bedeckt\",\"wear light clothes, drink a lot of water and don't forget suncream<br>\"]],\"geo\":\"geo\",\"hovertemplate\":\"<b>%{customdata[0]}</b><br><br>%{customdata[1]}, %{customdata[2]}<br>%{customdata[3]}<br>%{customdata[4]}<br>\",\"hovertext\":[\"Berlin\",\"Dresden\",\"Frankfurt am Main\",\"Freiburg im Breisgau\",\"Kiel\",\"K\\u00f6ln\",\"Leipzig\",\"Mannheim\",\"M\\u00fcnchen\",\"M\\u00fcnster\",\"Ravensburg\",\"Rostock\",\"Stuttgart\",\"Paris\",\"London\",\"Z\\u00fcrich\",\"Wien\",\"Rom\",\"Amsterdam\",\"Prag\",\"Mailand\",\"Arrondissement de Marseille\",\"City of Brussels\",\"Warschau\",\"Hamburg\"],\"ids\":[\"Berlin\",\"Dresden\",\"Frankfurt am Main\",\"Freiburg im Breisgau\",\"Kiel\",\"K\\u00f6ln\",\"Leipzig\",\"Mannheim\",\"M\\u00fcnchen\",\"M\\u00fcnster\",\"Ravensburg\",\"Rostock\",\"Stuttgart\",\"Paris\",\"London\",\"Z\\u00fcrich\",\"Wien\",\"Rom\",\"Amsterdam\",\"Prag\",\"Mailand\",\"Arrondissement de Marseille\",\"City of Brussels\",\"Warschau\",\"Hamburg\"],\"lat\":[52.5244,51.0509,50.1167,47.9959,54.3213,50.9333,51.342,49.4883,48.1374,51.9624,47.7833,54.0887,48.7823,48.8534,51.5085,47.3667,48.2085,41.8947,52.374,50.088,45.4643,43.3333,50.8504,52.2298,53.55],\"legendgroup\":\"\",\"lon\":[13.4105,13.7383,8.6833,7.8522,10.1349,6.95,12.375,8.4647,11.5755,7.6257,9.6167,12.1405,9.177,2.3488,-0.1257,8.55,16.3721,12.4839,4.8897,14.4208,9.1895,5.5,4.3488,21.0118,10.0],\"marker\":{\"color\":[26.39,27.56,27.5,25.05,22.64,23.14,26.95,27.76,24.52,24.66,23.41,24.64,24.48,23.24,19.73,24.48,26.34,30.52,19.92,25.85,28.11,26.21,22.21,30.51,26.97],\"coloraxis\":\"coloraxis\",\"opacity\":1,\"symbol\":\"circle\"},\"mode\":\"markers+text\",\"name\":\"\",\"showlegend\":false,\"text\":[\"26.4 \\u00b0C\",\"27.6 \\u00b0C\",\"27.5 \\u00b0C\",\"25.0 \\u00b0C\",\"22.6 \\u00b0C\",\"23.1 \\u00b0C\",\"27.0 \\u00b0C\",\"27.8 \\u00b0C\",\"24.5 \\u00b0C\",\"24.7 \\u00b0C\",\"23.4 \\u00b0C\",\"24.6 \\u00b0C\",\"24.5 \\u00b0C\",\"23.2 \\u00b0C\",\"19.7 \\u00b0C\",\"24.5 \\u00b0C\",\"26.3 \\u00b0C\",\"30.5 \\u00b0C\",\"19.9 \\u00b0C\",\"25.8 \\u00b0C\",\"28.1 \\u00b0C\",\"26.2 \\u00b0C\",\"22.2 \\u00b0C\",\"30.5 \\u00b0C\",\"27.0 \\u00b0C\"],\"type\":\"scattergeo\"}],\"name\":\"2022-08-26 09:00:00\"},{\"data\":[{\"customdata\":[[\"Berlin\",\"\\u2601\\ufe0f\",\"31.1 \\u00b0C\",\"\\u00dcberwiegend bew\\u00f6lkt\",\"wear light clothes, drink a lot of water and don't forget suncream<br>\"],[\"Dresden\",\"\\ud83c\\udf24\\ufe0f\",\"30.6 \\u00b0C\",\"Ein paar Wolken\",\"wear light clothes, drink a lot of water and don't forget suncream<br>\"],[\"Frankfurt am Main\",\"\\u2601\\ufe0f\",\"29.9 \\u00b0C\",\"Bedeckt\",\"wear light clothes, drink a lot of water and don't forget suncream<br>\"],[\"Freiburg im Breisgau\",\"\\u2601\\ufe0f\",\"26.7 \\u00b0C\",\"Bedeckt\",\"wear light clothes, drink a lot of water and don't forget suncream<br>\"],[\"Kiel\",\"\\u2601\\ufe0f\",\"28.1 \\u00b0C\",\"Bedeckt\",\"wear light clothes, drink a lot of water and don't forget suncream<br>\"],[\"K\\u00f6ln\",\"\\u2601\\ufe0f\",\"25.9 \\u00b0C\",\"Bedeckt\",\"wear light clothes, drink a lot of water and don't forget suncream<br>\"],[\"Leipzig\",\"\\u2601\\ufe0f\",\"29.7 \\u00b0C\",\"Bedeckt\",\"wear light clothes, drink a lot of water and don't forget suncream<br>\"],[\"Mannheim\",\"\\u2601\\ufe0f\",\"30.7 \\u00b0C\",\"Bedeckt\",\"wear light clothes, drink a lot of water and don't forget suncream<br>\"],[\"M\\u00fcnchen\",\"\\ud83c\\udf26\\ufe0f\",\"27.3 \\u00b0C\",\"Leichter Regen\",\"wear light clothes, drink a lot of water and don't forget suncream<br>take an umbrella or a rain jacket with you<br>\"],[\"M\\u00fcnster\",\"\\u2601\\ufe0f\",\"25.0 \\u00b0C\",\"Bedeckt\",\"wear light clothes, drink a lot of water and don't forget suncream<br>watch out - your hat may get blown off<br>\"],[\"Ravensburg\",\"\\ud83c\\udf26\\ufe0f\",\"27.1 \\u00b0C\",\"Leichter Regen\",\"wear light clothes, drink a lot of water and don't forget suncream<br>take an umbrella or a rain jacket with you<br>\"],[\"Rostock\",\"\\ud83c\\udf26\\ufe0f\",\"27.4 \\u00b0C\",\"Leichter Regen\",\"wear light clothes, drink a lot of water and don't forget suncream<br>take an umbrella or a rain jacket with you<br>\"],[\"Stuttgart\",\"\\u2601\\ufe0f\",\"26.3 \\u00b0C\",\"Bedeckt\",\"wear light clothes, drink a lot of water and don't forget suncream<br>\"],[\"Paris\",\"\\u2601\\ufe0f\",\"26.6 \\u00b0C\",\"M\\u00e4\\u00dfig bew\\u00f6lkt\",\"wear light clothes, drink a lot of water and don't forget suncream<br>\"],[\"London\",\"\\u2601\\ufe0f\",\"23.2 \\u00b0C\",\"M\\u00e4\\u00dfig bew\\u00f6lkt\",\"wear light clothes and don't forget your sunnies!<br>\"],[\"Z\\u00fcrich\",\"\\u2601\\ufe0f\",\"28.0 \\u00b0C\",\"\\u00dcberwiegend bew\\u00f6lkt\",\"wear light clothes, drink a lot of water and don't forget suncream<br>\"],[\"Wien\",\"\\u2600\\ufe0f\",\"29.9 \\u00b0C\",\"Klarer Himmel\",\"wear light clothes, drink a lot of water and don't forget suncream<br>\"],[\"Rom\",\"\\u2600\\ufe0f\",\"33.4 \\u00b0C\",\"Klarer Himmel\",\"wear light clothes, drink a lot of water and don't forget suncream<br>\"],[\"Amsterdam\",\"\\u2601\\ufe0f\",\"20.7 \\u00b0C\",\"Bedeckt\",\"wear light clothes and don't forget your sunnies!<br>\"],[\"Prag\",\"\\ud83c\\udf26\\ufe0f\",\"28.8 \\u00b0C\",\"Leichter Regen\",\"wear light clothes, drink a lot of water and don't forget suncream<br>take an umbrella or a rain jacket with you<br>\"],[\"Mailand\",\"\\u2601\\ufe0f\",\"32.2 \\u00b0C\",\"Bedeckt\",\"wear light clothes, drink a lot of water and don't forget suncream<br>\"],[\"Arrondissement de Marseille\",\"\\u2601\\ufe0f\",\"27.9 \\u00b0C\",\"Bedeckt\",\"wear light clothes, drink a lot of water and don't forget suncream<br>\"],[\"City of Brussels\",\"\\u2601\\ufe0f\",\"24.2 \\u00b0C\",\"\\u00dcberwiegend bew\\u00f6lkt\",\"wear light clothes and don't forget your sunnies!<br>\"],[\"Warschau\",\"\\ud83c\\udf24\\ufe0f\",\"33.6 \\u00b0C\",\"Ein paar Wolken\",\"wear light clothes, drink a lot of water and don't forget suncream<br>\"],[\"Hamburg\",\"\\u2601\\ufe0f\",\"32.2 \\u00b0C\",\"\\u00dcberwiegend bew\\u00f6lkt\",\"wear light clothes, drink a lot of water and don't forget suncream<br>\"]],\"geo\":\"geo\",\"hovertemplate\":\"<b>%{customdata[0]}</b><br><br>%{customdata[1]}, %{customdata[2]}<br>%{customdata[3]}<br>%{customdata[4]}<br>\",\"hovertext\":[\"Berlin\",\"Dresden\",\"Frankfurt am Main\",\"Freiburg im Breisgau\",\"Kiel\",\"K\\u00f6ln\",\"Leipzig\",\"Mannheim\",\"M\\u00fcnchen\",\"M\\u00fcnster\",\"Ravensburg\",\"Rostock\",\"Stuttgart\",\"Paris\",\"London\",\"Z\\u00fcrich\",\"Wien\",\"Rom\",\"Amsterdam\",\"Prag\",\"Mailand\",\"Arrondissement de Marseille\",\"City of Brussels\",\"Warschau\",\"Hamburg\"],\"ids\":[\"Berlin\",\"Dresden\",\"Frankfurt am Main\",\"Freiburg im Breisgau\",\"Kiel\",\"K\\u00f6ln\",\"Leipzig\",\"Mannheim\",\"M\\u00fcnchen\",\"M\\u00fcnster\",\"Ravensburg\",\"Rostock\",\"Stuttgart\",\"Paris\",\"London\",\"Z\\u00fcrich\",\"Wien\",\"Rom\",\"Amsterdam\",\"Prag\",\"Mailand\",\"Arrondissement de Marseille\",\"City of Brussels\",\"Warschau\",\"Hamburg\"],\"lat\":[52.5244,51.0509,50.1167,47.9959,54.3213,50.9333,51.342,49.4883,48.1374,51.9624,47.7833,54.0887,48.7823,48.8534,51.5085,47.3667,48.2085,41.8947,52.374,50.088,45.4643,43.3333,50.8504,52.2298,53.55],\"legendgroup\":\"\",\"lon\":[13.4105,13.7383,8.6833,7.8522,10.1349,6.95,12.375,8.4647,11.5755,7.6257,9.6167,12.1405,9.177,2.3488,-0.1257,8.55,16.3721,12.4839,4.8897,14.4208,9.1895,5.5,4.3488,21.0118,10.0],\"marker\":{\"color\":[31.1,30.6,29.92,26.71,28.08,25.9,29.73,30.66,27.34,25.03,27.1,27.37,26.28,26.64,23.25,28.01,29.94,33.39,20.74,28.81,32.24,27.87,24.2,33.59,32.25],\"coloraxis\":\"coloraxis\",\"opacity\":1,\"symbol\":\"circle\"},\"mode\":\"markers+text\",\"name\":\"\",\"showlegend\":false,\"text\":[\"31.1 \\u00b0C\",\"30.6 \\u00b0C\",\"29.9 \\u00b0C\",\"26.7 \\u00b0C\",\"28.1 \\u00b0C\",\"25.9 \\u00b0C\",\"29.7 \\u00b0C\",\"30.7 \\u00b0C\",\"27.3 \\u00b0C\",\"25.0 \\u00b0C\",\"27.1 \\u00b0C\",\"27.4 \\u00b0C\",\"26.3 \\u00b0C\",\"26.6 \\u00b0C\",\"23.2 \\u00b0C\",\"28.0 \\u00b0C\",\"29.9 \\u00b0C\",\"33.4 \\u00b0C\",\"20.7 \\u00b0C\",\"28.8 \\u00b0C\",\"32.2 \\u00b0C\",\"27.9 \\u00b0C\",\"24.2 \\u00b0C\",\"33.6 \\u00b0C\",\"32.2 \\u00b0C\"],\"type\":\"scattergeo\"}],\"name\":\"2022-08-26 12:00:00\"},{\"data\":[{\"customdata\":[[\"Berlin\",\"\\u2601\\ufe0f\",\"32.0 \\u00b0C\",\"M\\u00e4\\u00dfig bew\\u00f6lkt\",\"wear light clothes, drink a lot of water and don't forget suncream<br>\"],[\"Dresden\",\"\\ud83c\\udf26\\ufe0f\",\"26.8 \\u00b0C\",\"Leichter Regen\",\"wear light clothes, drink a lot of water and don't forget suncream<br>take an umbrella or a rain jacket with you<br>\"],[\"Frankfurt am Main\",\"\\u2601\\ufe0f\",\"30.6 \\u00b0C\",\"Bedeckt\",\"wear light clothes, drink a lot of water and don't forget suncream<br>\"],[\"Freiburg im Breisgau\",\"\\u2601\\ufe0f\",\"27.4 \\u00b0C\",\"Bedeckt\",\"wear light clothes, drink a lot of water and don't forget suncream<br>\"],[\"Kiel\",\"\\u2601\\ufe0f\",\"26.4 \\u00b0C\",\"\\u00dcberwiegend bew\\u00f6lkt\",\"wear light clothes, drink a lot of water and don't forget suncream<br>\"],[\"K\\u00f6ln\",\"\\u2601\\ufe0f\",\"27.5 \\u00b0C\",\"Bedeckt\",\"wear light clothes, drink a lot of water and don't forget suncream<br>\"],[\"Leipzig\",\"\\u2601\\ufe0f\",\"29.0 \\u00b0C\",\"Bedeckt\",\"wear light clothes, drink a lot of water and don't forget suncream<br>\"],[\"Mannheim\",\"\\u2601\\ufe0f\",\"31.0 \\u00b0C\",\"Bedeckt\",\"wear light clothes, drink a lot of water and don't forget suncream<br>\"],[\"M\\u00fcnchen\",\"\\u2601\\ufe0f\",\"25.9 \\u00b0C\",\"M\\u00e4\\u00dfig bew\\u00f6lkt\",\"wear light clothes, drink a lot of water and don't forget suncream<br>\"],[\"M\\u00fcnster\",\"\\u2601\\ufe0f\",\"23.4 \\u00b0C\",\"Bedeckt\",\"wear light clothes and don't forget your sunnies!<br>\"],[\"Ravensburg\",\"\\ud83c\\udf26\\ufe0f\",\"25.7 \\u00b0C\",\"Leichter Regen\",\"wear light clothes, drink a lot of water and don't forget suncream<br>take an umbrella or a rain jacket with you<br>\"],[\"Rostock\",\"\\ud83c\\udf26\\ufe0f\",\"27.6 \\u00b0C\",\"Leichter Regen\",\"wear light clothes, drink a lot of water and don't forget suncream<br>take an umbrella or a rain jacket with you<br>\"],[\"Stuttgart\",\"\\u2601\\ufe0f\",\"28.7 \\u00b0C\",\"Bedeckt\",\"wear light clothes, drink a lot of water and don't forget suncream<br>\"],[\"Paris\",\"\\u2601\\ufe0f\",\"26.0 \\u00b0C\",\"Bedeckt\",\"wear light clothes, drink a lot of water and don't forget suncream<br>\"],[\"London\",\"\\u2601\\ufe0f\",\"24.6 \\u00b0C\",\"M\\u00e4\\u00dfig bew\\u00f6lkt\",\"wear light clothes and don't forget your sunnies!<br>\"],[\"Z\\u00fcrich\",\"\\u2601\\ufe0f\",\"27.2 \\u00b0C\",\"Bedeckt\",\"wear light clothes, drink a lot of water and don't forget suncream<br>\"],[\"Wien\",\"\\ud83c\\udf26\\ufe0f\",\"29.9 \\u00b0C\",\"Leichter Regen\",\"wear light clothes, drink a lot of water and don't forget suncream<br>take an umbrella or a rain jacket with you<br>\"],[\"Rom\",\"\\u2600\\ufe0f\",\"31.8 \\u00b0C\",\"Klarer Himmel\",\"wear light clothes, drink a lot of water and don't forget suncream<br>watch out - your hat may get blown off<br>\"],[\"Amsterdam\",\"\\u2601\\ufe0f\",\"20.3 \\u00b0C\",\"Bedeckt\",\"wear light clothes and don't forget your sunnies!<br>\"],[\"Prag\",\"\\ud83c\\udf26\\ufe0f\",\"26.0 \\u00b0C\",\"Leichter Regen\",\"wear light clothes, drink a lot of water and don't forget suncream<br>take an umbrella or a rain jacket with you<br>\"],[\"Mailand\",\"\\u2601\\ufe0f\",\"32.6 \\u00b0C\",\"Bedeckt\",\"wear light clothes, drink a lot of water and don't forget suncream<br>\"],[\"Arrondissement de Marseille\",\"\\u2601\\ufe0f\",\"28.3 \\u00b0C\",\"M\\u00e4\\u00dfig bew\\u00f6lkt\",\"wear light clothes, drink a lot of water and don't forget suncream<br>\"],[\"City of Brussels\",\"\\u2601\\ufe0f\",\"23.4 \\u00b0C\",\"Bedeckt\",\"wear light clothes and don't forget your sunnies!<br>\"],[\"Warschau\",\"\\u2600\\ufe0f\",\"33.1 \\u00b0C\",\"Klarer Himmel\",\"wear light clothes, drink a lot of water and don't forget suncream<br>\"],[\"Hamburg\",\"\\ud83c\\udf26\\ufe0f\",\"21.9 \\u00b0C\",\"Leichter Regen\",\"wear light clothes and don't forget your sunnies!<br>take an umbrella or a rain jacket with you<br>watch out - your hat may get blown off<br>\"]],\"geo\":\"geo\",\"hovertemplate\":\"<b>%{customdata[0]}</b><br><br>%{customdata[1]}, %{customdata[2]}<br>%{customdata[3]}<br>%{customdata[4]}<br>\",\"hovertext\":[\"Berlin\",\"Dresden\",\"Frankfurt am Main\",\"Freiburg im Breisgau\",\"Kiel\",\"K\\u00f6ln\",\"Leipzig\",\"Mannheim\",\"M\\u00fcnchen\",\"M\\u00fcnster\",\"Ravensburg\",\"Rostock\",\"Stuttgart\",\"Paris\",\"London\",\"Z\\u00fcrich\",\"Wien\",\"Rom\",\"Amsterdam\",\"Prag\",\"Mailand\",\"Arrondissement de Marseille\",\"City of Brussels\",\"Warschau\",\"Hamburg\"],\"ids\":[\"Berlin\",\"Dresden\",\"Frankfurt am Main\",\"Freiburg im Breisgau\",\"Kiel\",\"K\\u00f6ln\",\"Leipzig\",\"Mannheim\",\"M\\u00fcnchen\",\"M\\u00fcnster\",\"Ravensburg\",\"Rostock\",\"Stuttgart\",\"Paris\",\"London\",\"Z\\u00fcrich\",\"Wien\",\"Rom\",\"Amsterdam\",\"Prag\",\"Mailand\",\"Arrondissement de Marseille\",\"City of Brussels\",\"Warschau\",\"Hamburg\"],\"lat\":[52.5244,51.0509,50.1167,47.9959,54.3213,50.9333,51.342,49.4883,48.1374,51.9624,47.7833,54.0887,48.7823,48.8534,51.5085,47.3667,48.2085,41.8947,52.374,50.088,45.4643,43.3333,50.8504,52.2298,53.55],\"legendgroup\":\"\",\"lon\":[13.4105,13.7383,8.6833,7.8522,10.1349,6.95,12.375,8.4647,11.5755,7.6257,9.6167,12.1405,9.177,2.3488,-0.1257,8.55,16.3721,12.4839,4.8897,14.4208,9.1895,5.5,4.3488,21.0118,10.0],\"marker\":{\"color\":[32.02,26.81,30.59,27.36,26.44,27.49,28.99,31.05,25.93,23.37,25.69,27.61,28.72,25.99,24.61,27.18,29.87,31.82,20.29,25.95,32.55,28.26,23.37,33.11,21.92],\"coloraxis\":\"coloraxis\",\"opacity\":1,\"symbol\":\"circle\"},\"mode\":\"markers+text\",\"name\":\"\",\"showlegend\":false,\"text\":[\"32.0 \\u00b0C\",\"26.8 \\u00b0C\",\"30.6 \\u00b0C\",\"27.4 \\u00b0C\",\"26.4 \\u00b0C\",\"27.5 \\u00b0C\",\"29.0 \\u00b0C\",\"31.0 \\u00b0C\",\"25.9 \\u00b0C\",\"23.4 \\u00b0C\",\"25.7 \\u00b0C\",\"27.6 \\u00b0C\",\"28.7 \\u00b0C\",\"26.0 \\u00b0C\",\"24.6 \\u00b0C\",\"27.2 \\u00b0C\",\"29.9 \\u00b0C\",\"31.8 \\u00b0C\",\"20.3 \\u00b0C\",\"26.0 \\u00b0C\",\"32.6 \\u00b0C\",\"28.3 \\u00b0C\",\"23.4 \\u00b0C\",\"33.1 \\u00b0C\",\"21.9 \\u00b0C\"],\"type\":\"scattergeo\"}],\"name\":\"2022-08-26 15:00:00\"},{\"data\":[{\"customdata\":[[\"Berlin\",\"\\ud83c\\udf26\\ufe0f\",\"27.3 \\u00b0C\",\"Leichter Regen\",\"wear light clothes, drink a lot of water and don't forget suncream<br>take an umbrella or a rain jacket with you<br>\"],[\"Dresden\",\"\\ud83c\\udf26\\ufe0f\",\"20.5 \\u00b0C\",\"M\\u00e4\\u00dfiger Regen\",\"wear light clothes and don't forget your sunnies!<br>take an umbrella or a rain jacket with you<br>\"],[\"Frankfurt am Main\",\"\\ud83c\\udf26\\ufe0f\",\"24.4 \\u00b0C\",\"Leichter Regen\",\"wear light clothes and don't forget your sunnies!<br>take an umbrella or a rain jacket with you<br>\"],[\"Freiburg im Breisgau\",\"\\ud83c\\udf26\\ufe0f\",\"22.6 \\u00b0C\",\"Leichter Regen\",\"wear light clothes and don't forget your sunnies!<br>take an umbrella or a rain jacket with you<br>\"],[\"Kiel\",\"\\ud83c\\udf26\\ufe0f\",\"20.6 \\u00b0C\",\"M\\u00e4\\u00dfiger Regen\",\"wear light clothes and don't forget your sunnies!<br>take an umbrella or a rain jacket with you<br>\"],[\"K\\u00f6ln\",\"\\u2601\\ufe0f\",\"24.8 \\u00b0C\",\"Bedeckt\",\"wear light clothes and don't forget your sunnies!<br>\"],[\"Leipzig\",\"\\ud83c\\udf26\\ufe0f\",\"21.3 \\u00b0C\",\"M\\u00e4\\u00dfiger Regen\",\"wear light clothes and don't forget your sunnies!<br>take an umbrella or a rain jacket with you<br>\"],[\"Mannheim\",\"\\ud83c\\udf26\\ufe0f\",\"22.7 \\u00b0C\",\"Leichter Regen\",\"wear light clothes and don't forget your sunnies!<br>take an umbrella or a rain jacket with you<br>watch out - your hat may get blown off<br>\"],[\"M\\u00fcnchen\",\"\\ud83c\\udf26\\ufe0f\",\"19.6 \\u00b0C\",\"Leichter Regen\",\"wear light clothes and don't forget your sunnies!<br>take an umbrella or a rain jacket with you<br>\"],[\"M\\u00fcnster\",\"\\ud83c\\udf26\\ufe0f\",\"23.2 \\u00b0C\",\"Leichter Regen\",\"wear light clothes and don't forget your sunnies!<br>take an umbrella or a rain jacket with you<br>\"],[\"Ravensburg\",\"\\ud83c\\udf26\\ufe0f\",\"19.3 \\u00b0C\",\"Leichter Regen\",\"wear light clothes and don't forget your sunnies!<br>take an umbrella or a rain jacket with you<br>\"],[\"Rostock\",\"\\ud83c\\udf26\\ufe0f\",\"22.8 \\u00b0C\",\"Leichter Regen\",\"wear light clothes and don't forget your sunnies!<br>take an umbrella or a rain jacket with you<br>\"],[\"Stuttgart\",\"\\u2601\\ufe0f\",\"24.4 \\u00b0C\",\"Bedeckt\",\"wear light clothes and don't forget your sunnies!<br>\"],[\"Paris\",\"\\u2601\\ufe0f\",\"24.5 \\u00b0C\",\"Bedeckt\",\"wear light clothes and don't forget your sunnies!<br>\"],[\"London\",\"\\u2601\\ufe0f\",\"22.9 \\u00b0C\",\"\\u00dcberwiegend bew\\u00f6lkt\",\"wear light clothes and don't forget your sunnies!<br>\"],[\"Z\\u00fcrich\",\"\\ud83c\\udf26\\ufe0f\",\"21.6 \\u00b0C\",\"Leichter Regen\",\"wear light clothes and don't forget your sunnies!<br>take an umbrella or a rain jacket with you<br>\"],[\"Wien\",\"\\ud83c\\udf27\\ufe0f\\ud83c\\udf19\",\"22.1 \\u00b0C\",\"Leichter Regen\",\"it's bedtime\"],[\"Rom\",\"\\u2601\\ufe0f\\ud83c\\udf19\",\"28.0 \\u00b0C\",\"Ein paar Wolken\",\"it's bedtime\"],[\"Amsterdam\",\"\\u2601\\ufe0f\",\"18.8 \\u00b0C\",\"Bedeckt\",\"wear light clothes and don't forget your sunnies!<br>\"],[\"Prag\",\"\\ud83c\\udf26\\ufe0f\",\"22.3 \\u00b0C\",\"Leichter Regen\",\"wear light clothes and don't forget your sunnies!<br>take an umbrella or a rain jacket with you<br>\"],[\"Mailand\",\"\\u2601\\ufe0f\",\"28.9 \\u00b0C\",\"Bedeckt\",\"wear light clothes, drink a lot of water and don't forget suncream<br>\"],[\"Arrondissement de Marseille\",\"\\ud83c\\udf24\\ufe0f\",\"26.7 \\u00b0C\",\"Ein paar Wolken\",\"wear light clothes, drink a lot of water and don't forget suncream<br>\"],[\"City of Brussels\",\"\\u2601\\ufe0f\",\"20.5 \\u00b0C\",\"Bedeckt\",\"wear light clothes and don't forget your sunnies!<br>\"],[\"Warschau\",\"\\ud83c\\udf15\",\"27.9 \\u00b0C\",\"Klarer Himmel\",\"it's bedtime\"],[\"Hamburg\",\"\\ud83c\\udf26\\ufe0f\",\"20.5 \\u00b0C\",\"Leichter Regen\",\"wear light clothes and don't forget your sunnies!<br>take an umbrella or a rain jacket with you<br>\"]],\"geo\":\"geo\",\"hovertemplate\":\"<b>%{customdata[0]}</b><br><br>%{customdata[1]}, %{customdata[2]}<br>%{customdata[3]}<br>%{customdata[4]}<br>\",\"hovertext\":[\"Berlin\",\"Dresden\",\"Frankfurt am Main\",\"Freiburg im Breisgau\",\"Kiel\",\"K\\u00f6ln\",\"Leipzig\",\"Mannheim\",\"M\\u00fcnchen\",\"M\\u00fcnster\",\"Ravensburg\",\"Rostock\",\"Stuttgart\",\"Paris\",\"London\",\"Z\\u00fcrich\",\"Wien\",\"Rom\",\"Amsterdam\",\"Prag\",\"Mailand\",\"Arrondissement de Marseille\",\"City of Brussels\",\"Warschau\",\"Hamburg\"],\"ids\":[\"Berlin\",\"Dresden\",\"Frankfurt am Main\",\"Freiburg im Breisgau\",\"Kiel\",\"K\\u00f6ln\",\"Leipzig\",\"Mannheim\",\"M\\u00fcnchen\",\"M\\u00fcnster\",\"Ravensburg\",\"Rostock\",\"Stuttgart\",\"Paris\",\"London\",\"Z\\u00fcrich\",\"Wien\",\"Rom\",\"Amsterdam\",\"Prag\",\"Mailand\",\"Arrondissement de Marseille\",\"City of Brussels\",\"Warschau\",\"Hamburg\"],\"lat\":[52.5244,51.0509,50.1167,47.9959,54.3213,50.9333,51.342,49.4883,48.1374,51.9624,47.7833,54.0887,48.7823,48.8534,51.5085,47.3667,48.2085,41.8947,52.374,50.088,45.4643,43.3333,50.8504,52.2298,53.55],\"legendgroup\":\"\",\"lon\":[13.4105,13.7383,8.6833,7.8522,10.1349,6.95,12.375,8.4647,11.5755,7.6257,9.6167,12.1405,9.177,2.3488,-0.1257,8.55,16.3721,12.4839,4.8897,14.4208,9.1895,5.5,4.3488,21.0118,10.0],\"marker\":{\"color\":[27.3,20.51,24.43,22.59,20.59,24.82,21.29,22.7,19.58,23.24,19.34,22.83,24.37,24.54,22.87,21.64,22.12,27.96,18.83,22.28,28.92,26.72,20.54,27.89,20.51],\"coloraxis\":\"coloraxis\",\"opacity\":1,\"symbol\":\"circle\"},\"mode\":\"markers+text\",\"name\":\"\",\"showlegend\":false,\"text\":[\"27.3 \\u00b0C\",\"20.5 \\u00b0C\",\"24.4 \\u00b0C\",\"22.6 \\u00b0C\",\"20.6 \\u00b0C\",\"24.8 \\u00b0C\",\"21.3 \\u00b0C\",\"22.7 \\u00b0C\",\"19.6 \\u00b0C\",\"23.2 \\u00b0C\",\"19.3 \\u00b0C\",\"22.8 \\u00b0C\",\"24.4 \\u00b0C\",\"24.5 \\u00b0C\",\"22.9 \\u00b0C\",\"21.6 \\u00b0C\",\"22.1 \\u00b0C\",\"28.0 \\u00b0C\",\"18.8 \\u00b0C\",\"22.3 \\u00b0C\",\"28.9 \\u00b0C\",\"26.7 \\u00b0C\",\"20.5 \\u00b0C\",\"27.9 \\u00b0C\",\"20.5 \\u00b0C\"],\"type\":\"scattergeo\"}],\"name\":\"2022-08-26 18:00:00\"},{\"data\":[{\"customdata\":[[\"Berlin\",\"\\ud83c\\udf27\\ufe0f\\ud83c\\udf19\",\"22.1 \\u00b0C\",\"Leichter Regen\",\"it's bedtime\"],[\"Dresden\",\"\\ud83c\\udf27\\ufe0f\\ud83c\\udf19\",\"20.0 \\u00b0C\",\"Leichter Regen\",\"it's bedtime\"],[\"Frankfurt am Main\",\"\\ud83c\\udf27\\ufe0f\\ud83c\\udf19\",\"21.2 \\u00b0C\",\"Leichter Regen\",\"it's bedtime\"],[\"Freiburg im Breisgau\",\"\\ud83c\\udf27\\ufe0f\\ud83c\\udf19\",\"18.3 \\u00b0C\",\"Leichter Regen\",\"it's bedtime\"],[\"Kiel\",\"\\ud83c\\udf27\\ufe0f\\ud83c\\udf19\",\"18.9 \\u00b0C\",\"M\\u00e4\\u00dfiger Regen\",\"it's bedtime\"],[\"K\\u00f6ln\",\"\\u2601\\ufe0f\\ud83c\\udf19\",\"21.2 \\u00b0C\",\"\\u00dcberwiegend bew\\u00f6lkt\",\"it's bedtime\"],[\"Leipzig\",\"\\ud83c\\udf27\\ufe0f\\ud83c\\udf19\",\"20.0 \\u00b0C\",\"Leichter Regen\",\"it's bedtime\"],[\"Mannheim\",\"\\ud83c\\udf27\\ufe0f\\ud83c\\udf19\",\"22.4 \\u00b0C\",\"Leichter Regen\",\"it's bedtime\"],[\"M\\u00fcnchen\",\"\\ud83c\\udf27\\ufe0f\\ud83c\\udf19\",\"17.1 \\u00b0C\",\"Leichter Regen\",\"it's bedtime\"],[\"M\\u00fcnster\",\"\\u2601\\ufe0f\\ud83c\\udf19\",\"17.4 \\u00b0C\",\"\\u00dcberwiegend bew\\u00f6lkt\",\"it's bedtime\"],[\"Ravensburg\",\"\\ud83c\\udf27\\ufe0f\\ud83c\\udf19\",\"18.1 \\u00b0C\",\"Leichter Regen\",\"it's bedtime\"],[\"Rostock\",\"\\ud83c\\udf27\\ufe0f\\ud83c\\udf19\",\"19.7 \\u00b0C\",\"M\\u00e4\\u00dfiger Regen\",\"it's bedtime\"],[\"Stuttgart\",\"\\ud83c\\udf27\\ufe0f\\ud83c\\udf19\",\"19.7 \\u00b0C\",\"Leichter Regen\",\"it's bedtime\"],[\"Paris\",\"\\u2601\\ufe0f\\ud83c\\udf19\",\"21.1 \\u00b0C\",\"Bedeckt\",\"it's bedtime\"],[\"London\",\"\\u2601\\ufe0f\\ud83c\\udf19\",\"20.6 \\u00b0C\",\"Bedeckt\",\"it's bedtime\"],[\"Z\\u00fcrich\",\"\\ud83c\\udf27\\ufe0f\\ud83c\\udf19\",\"19.2 \\u00b0C\",\"Leichter Regen\",\"it's bedtime\"],[\"Wien\",\"\\ud83c\\udf27\\ufe0f\\ud83c\\udf19\",\"20.7 \\u00b0C\",\"Leichter Regen\",\"it's bedtime\"],[\"Rom\",\"\\ud83c\\udf15\",\"25.7 \\u00b0C\",\"Klarer Himmel\",\"it's bedtime\"],[\"Amsterdam\",\"\\u2601\\ufe0f\\ud83c\\udf19\",\"17.8 \\u00b0C\",\"Bedeckt\",\"it's bedtime\"],[\"Prag\",\"\\ud83c\\udf27\\ufe0f\\ud83c\\udf19\",\"19.2 \\u00b0C\",\"Leichter Regen\",\"it's bedtime\"],[\"Mailand\",\"\\ud83c\\udf27\\ufe0f\\ud83c\\udf19\",\"24.4 \\u00b0C\",\"Leichter Regen\",\"it's bedtime\"],[\"Arrondissement de Marseille\",\"\\u2601\\ufe0f\\ud83c\\udf19\",\"24.6 \\u00b0C\",\"Ein paar Wolken\",\"it's bedtime\"],[\"City of Brussels\",\"\\u2601\\ufe0f\\ud83c\\udf19\",\"18.2 \\u00b0C\",\"\\u00dcberwiegend bew\\u00f6lkt\",\"it's bedtime\"],[\"Warschau\",\"\\ud83c\\udf15\",\"24.4 \\u00b0C\",\"Klarer Himmel\",\"it's bedtime\"],[\"Hamburg\",\"\\u2601\\ufe0f\\ud83c\\udf19\",\"17.8 \\u00b0C\",\"\\u00dcberwiegend bew\\u00f6lkt\",\"it's bedtime\"]],\"geo\":\"geo\",\"hovertemplate\":\"<b>%{customdata[0]}</b><br><br>%{customdata[1]}, %{customdata[2]}<br>%{customdata[3]}<br>%{customdata[4]}<br>\",\"hovertext\":[\"Berlin\",\"Dresden\",\"Frankfurt am Main\",\"Freiburg im Breisgau\",\"Kiel\",\"K\\u00f6ln\",\"Leipzig\",\"Mannheim\",\"M\\u00fcnchen\",\"M\\u00fcnster\",\"Ravensburg\",\"Rostock\",\"Stuttgart\",\"Paris\",\"London\",\"Z\\u00fcrich\",\"Wien\",\"Rom\",\"Amsterdam\",\"Prag\",\"Mailand\",\"Arrondissement de Marseille\",\"City of Brussels\",\"Warschau\",\"Hamburg\"],\"ids\":[\"Berlin\",\"Dresden\",\"Frankfurt am Main\",\"Freiburg im Breisgau\",\"Kiel\",\"K\\u00f6ln\",\"Leipzig\",\"Mannheim\",\"M\\u00fcnchen\",\"M\\u00fcnster\",\"Ravensburg\",\"Rostock\",\"Stuttgart\",\"Paris\",\"London\",\"Z\\u00fcrich\",\"Wien\",\"Rom\",\"Amsterdam\",\"Prag\",\"Mailand\",\"Arrondissement de Marseille\",\"City of Brussels\",\"Warschau\",\"Hamburg\"],\"lat\":[52.5244,51.0509,50.1167,47.9959,54.3213,50.9333,51.342,49.4883,48.1374,51.9624,47.7833,54.0887,48.7823,48.8534,51.5085,47.3667,48.2085,41.8947,52.374,50.088,45.4643,43.3333,50.8504,52.2298,53.55],\"legendgroup\":\"\",\"lon\":[13.4105,13.7383,8.6833,7.8522,10.1349,6.95,12.375,8.4647,11.5755,7.6257,9.6167,12.1405,9.177,2.3488,-0.1257,8.55,16.3721,12.4839,4.8897,14.4208,9.1895,5.5,4.3488,21.0118,10.0],\"marker\":{\"color\":[22.08,20.04,21.21,18.3,18.9,21.25,20.03,22.43,17.06,17.37,18.06,19.66,19.68,21.06,20.6,19.22,20.73,25.66,17.82,19.18,24.41,24.64,18.24,24.45,17.81],\"coloraxis\":\"coloraxis\",\"opacity\":1,\"symbol\":\"circle\"},\"mode\":\"markers+text\",\"name\":\"\",\"showlegend\":false,\"text\":[\"22.1 \\u00b0C\",\"20.0 \\u00b0C\",\"21.2 \\u00b0C\",\"18.3 \\u00b0C\",\"18.9 \\u00b0C\",\"21.2 \\u00b0C\",\"20.0 \\u00b0C\",\"22.4 \\u00b0C\",\"17.1 \\u00b0C\",\"17.4 \\u00b0C\",\"18.1 \\u00b0C\",\"19.7 \\u00b0C\",\"19.7 \\u00b0C\",\"21.1 \\u00b0C\",\"20.6 \\u00b0C\",\"19.2 \\u00b0C\",\"20.7 \\u00b0C\",\"25.7 \\u00b0C\",\"17.8 \\u00b0C\",\"19.2 \\u00b0C\",\"24.4 \\u00b0C\",\"24.6 \\u00b0C\",\"18.2 \\u00b0C\",\"24.4 \\u00b0C\",\"17.8 \\u00b0C\"],\"type\":\"scattergeo\"}],\"name\":\"2022-08-26 21:00:00\"},{\"data\":[{\"customdata\":[[\"Berlin\",\"\\ud83c\\udf27\\ufe0f\\ud83c\\udf19\",\"20.6 \\u00b0C\",\"Leichter Regen\",\"it's bedtime\"],[\"Dresden\",\"\\ud83c\\udf27\\ufe0f\\ud83c\\udf19\",\"18.8 \\u00b0C\",\"Leichter Regen\",\"it's bedtime\"],[\"Frankfurt am Main\",\"\\ud83c\\udf27\\ufe0f\\ud83c\\udf19\",\"20.0 \\u00b0C\",\"Leichter Regen\",\"it's bedtime\"],[\"Freiburg im Breisgau\",\"\\ud83c\\udf27\\ufe0f\\ud83c\\udf19\",\"17.4 \\u00b0C\",\"Leichter Regen\",\"it's bedtime\"],[\"Kiel\",\"\\ud83c\\udf27\\ufe0f\\ud83c\\udf19\",\"17.3 \\u00b0C\",\"Leichter Regen\",\"it's bedtime\"],[\"K\\u00f6ln\",\"\\u2601\\ufe0f\\ud83c\\udf19\",\"18.6 \\u00b0C\",\"M\\u00e4\\u00dfig bew\\u00f6lkt\",\"it's bedtime\"],[\"Leipzig\",\"\\ud83c\\udf27\\ufe0f\\ud83c\\udf19\",\"19.5 \\u00b0C\",\"Leichter Regen\",\"it's bedtime\"],[\"Mannheim\",\"\\ud83c\\udf27\\ufe0f\\ud83c\\udf19\",\"20.8 \\u00b0C\",\"Leichter Regen\",\"it's bedtime\"],[\"M\\u00fcnchen\",\"\\ud83c\\udf27\\ufe0f\\ud83c\\udf19\",\"16.1 \\u00b0C\",\"Leichter Regen\",\"it's bedtime\"],[\"M\\u00fcnster\",\"\\u2601\\ufe0f\\ud83c\\udf19\",\"15.5 \\u00b0C\",\"\\u00dcberwiegend bew\\u00f6lkt\",\"it's bedtime\"],[\"Ravensburg\",\"\\ud83c\\udf27\\ufe0f\\ud83c\\udf19\",\"16.1 \\u00b0C\",\"Leichter Regen\",\"it's bedtime\"],[\"Rostock\",\"\\ud83c\\udf27\\ufe0f\\ud83c\\udf19\",\"19.5 \\u00b0C\",\"M\\u00e4\\u00dfiger Regen\",\"it's bedtime\"],[\"Stuttgart\",\"\\ud83c\\udf27\\ufe0f\\ud83c\\udf19\",\"19.1 \\u00b0C\",\"Leichter Regen\",\"it's bedtime\"],[\"Paris\",\"\\u2601\\ufe0f\\ud83c\\udf19\",\"18.5 \\u00b0C\",\"Bedeckt\",\"it's bedtime\"],[\"London\",\"\\u2601\\ufe0f\\ud83c\\udf19\",\"19.5 \\u00b0C\",\"Bedeckt\",\"it's bedtime\"],[\"Z\\u00fcrich\",\"\\ud83c\\udf27\\ufe0f\\ud83c\\udf19\",\"16.5 \\u00b0C\",\"Leichter Regen\",\"it's bedtime\"],[\"Wien\",\"\\ud83c\\udf27\\ufe0f\\ud83c\\udf19\",\"19.9 \\u00b0C\",\"Leichter Regen\",\"it's bedtime\"],[\"Rom\",\"\\ud83c\\udf15\",\"24.4 \\u00b0C\",\"Klarer Himmel\",\"it's bedtime\"],[\"Amsterdam\",\"\\u2601\\ufe0f\\ud83c\\udf19\",\"16.1 \\u00b0C\",\"\\u00dcberwiegend bew\\u00f6lkt\",\"it's bedtime\"],[\"Prag\",\"\\u2601\\ufe0f\\ud83c\\udf19\",\"18.3 \\u00b0C\",\"M\\u00e4\\u00dfig bew\\u00f6lkt\",\"it's bedtime\"],[\"Mailand\",\"\\ud83c\\udf27\\ufe0f\\ud83c\\udf19\",\"21.9 \\u00b0C\",\"Leichter Regen\",\"it's bedtime\"],[\"Arrondissement de Marseille\",\"\\u2601\\ufe0f\\ud83c\\udf19\",\"23.5 \\u00b0C\",\"M\\u00e4\\u00dfig bew\\u00f6lkt\",\"it's bedtime\"],[\"City of Brussels\",\"\\u2601\\ufe0f\\ud83c\\udf19\",\"18.3 \\u00b0C\",\"\\u00dcberwiegend bew\\u00f6lkt\",\"it's bedtime\"],[\"Warschau\",\"\\ud83c\\udf15\",\"22.0 \\u00b0C\",\"Klarer Himmel\",\"it's bedtime\"],[\"Hamburg\",\"\\u2601\\ufe0f\\ud83c\\udf19\",\"17.6 \\u00b0C\",\"\\u00dcberwiegend bew\\u00f6lkt\",\"it's bedtime\"]],\"geo\":\"geo\",\"hovertemplate\":\"<b>%{customdata[0]}</b><br><br>%{customdata[1]}, %{customdata[2]}<br>%{customdata[3]}<br>%{customdata[4]}<br>\",\"hovertext\":[\"Berlin\",\"Dresden\",\"Frankfurt am Main\",\"Freiburg im Breisgau\",\"Kiel\",\"K\\u00f6ln\",\"Leipzig\",\"Mannheim\",\"M\\u00fcnchen\",\"M\\u00fcnster\",\"Ravensburg\",\"Rostock\",\"Stuttgart\",\"Paris\",\"London\",\"Z\\u00fcrich\",\"Wien\",\"Rom\",\"Amsterdam\",\"Prag\",\"Mailand\",\"Arrondissement de Marseille\",\"City of Brussels\",\"Warschau\",\"Hamburg\"],\"ids\":[\"Berlin\",\"Dresden\",\"Frankfurt am Main\",\"Freiburg im Breisgau\",\"Kiel\",\"K\\u00f6ln\",\"Leipzig\",\"Mannheim\",\"M\\u00fcnchen\",\"M\\u00fcnster\",\"Ravensburg\",\"Rostock\",\"Stuttgart\",\"Paris\",\"London\",\"Z\\u00fcrich\",\"Wien\",\"Rom\",\"Amsterdam\",\"Prag\",\"Mailand\",\"Arrondissement de Marseille\",\"City of Brussels\",\"Warschau\",\"Hamburg\"],\"lat\":[52.5244,51.0509,50.1167,47.9959,54.3213,50.9333,51.342,49.4883,48.1374,51.9624,47.7833,54.0887,48.7823,48.8534,51.5085,47.3667,48.2085,41.8947,52.374,50.088,45.4643,43.3333,50.8504,52.2298,53.55],\"legendgroup\":\"\",\"lon\":[13.4105,13.7383,8.6833,7.8522,10.1349,6.95,12.375,8.4647,11.5755,7.6257,9.6167,12.1405,9.177,2.3488,-0.1257,8.55,16.3721,12.4839,4.8897,14.4208,9.1895,5.5,4.3488,21.0118,10.0],\"marker\":{\"color\":[20.55,18.75,19.96,17.38,17.27,18.55,19.51,20.82,16.07,15.46,16.12,19.47,19.13,18.51,19.49,16.51,19.91,24.42,16.07,18.33,21.94,23.49,18.32,22.04,17.55],\"coloraxis\":\"coloraxis\",\"opacity\":1,\"symbol\":\"circle\"},\"mode\":\"markers+text\",\"name\":\"\",\"showlegend\":false,\"text\":[\"20.6 \\u00b0C\",\"18.8 \\u00b0C\",\"20.0 \\u00b0C\",\"17.4 \\u00b0C\",\"17.3 \\u00b0C\",\"18.6 \\u00b0C\",\"19.5 \\u00b0C\",\"20.8 \\u00b0C\",\"16.1 \\u00b0C\",\"15.5 \\u00b0C\",\"16.1 \\u00b0C\",\"19.5 \\u00b0C\",\"19.1 \\u00b0C\",\"18.5 \\u00b0C\",\"19.5 \\u00b0C\",\"16.5 \\u00b0C\",\"19.9 \\u00b0C\",\"24.4 \\u00b0C\",\"16.1 \\u00b0C\",\"18.3 \\u00b0C\",\"21.9 \\u00b0C\",\"23.5 \\u00b0C\",\"18.3 \\u00b0C\",\"22.0 \\u00b0C\",\"17.6 \\u00b0C\"],\"type\":\"scattergeo\"}],\"name\":\"2022-08-27 00:00:00\"},{\"data\":[{\"customdata\":[[\"Berlin\",\"\\u2601\\ufe0f\\ud83c\\udf19\",\"20.0 \\u00b0C\",\"Bedeckt\",\"it's bedtime\"],[\"Dresden\",\"\\ud83c\\udf27\\ufe0f\\ud83c\\udf19\",\"18.3 \\u00b0C\",\"Leichter Regen\",\"it's bedtime\"],[\"Frankfurt am Main\",\"\\u2601\\ufe0f\\ud83c\\udf19\",\"19.2 \\u00b0C\",\"Bedeckt\",\"it's bedtime\"],[\"Freiburg im Breisgau\",\"\\ud83c\\udf27\\ufe0f\\ud83c\\udf19\",\"16.3 \\u00b0C\",\"Leichter Regen\",\"it's bedtime\"],[\"Kiel\",\"\\u2601\\ufe0f\\ud83c\\udf19\",\"17.5 \\u00b0C\",\"Bedeckt\",\"it's bedtime\"],[\"K\\u00f6ln\",\"\\u2601\\ufe0f\\ud83c\\udf19\",\"17.2 \\u00b0C\",\"Ein paar Wolken\",\"it's bedtime\"],[\"Leipzig\",\"\\u2601\\ufe0f\\ud83c\\udf19\",\"18.7 \\u00b0C\",\"Bedeckt\",\"it's bedtime\"],[\"Mannheim\",\"\\u2601\\ufe0f\\ud83c\\udf19\",\"20.1 \\u00b0C\",\"Bedeckt\",\"it's bedtime\"],[\"M\\u00fcnchen\",\"\\u2601\\ufe0f\\ud83c\\udf19\",\"15.0 \\u00b0C\",\"Bedeckt\",\"it's bedtime\"],[\"M\\u00fcnster\",\"\\u2601\\ufe0f\\ud83c\\udf19\",\"16.7 \\u00b0C\",\"\\u00dcberwiegend bew\\u00f6lkt\",\"it's bedtime\"],[\"Ravensburg\",\"\\ud83c\\udf27\\ufe0f\\ud83c\\udf19\",\"15.4 \\u00b0C\",\"Leichter Regen\",\"it's bedtime\"],[\"Rostock\",\"\\ud83c\\udf27\\ufe0f\\ud83c\\udf19\",\"19.1 \\u00b0C\",\"Leichter Regen\",\"it's bedtime\"],[\"Stuttgart\",\"\\ud83c\\udf27\\ufe0f\\ud83c\\udf19\",\"18.4 \\u00b0C\",\"Leichter Regen\",\"it's bedtime\"],[\"Paris\",\"\\u2601\\ufe0f\\ud83c\\udf19\",\"17.6 \\u00b0C\",\"\\u00dcberwiegend bew\\u00f6lkt\",\"it's bedtime\"],[\"London\",\"\\u2601\\ufe0f\\ud83c\\udf19\",\"18.6 \\u00b0C\",\"Bedeckt\",\"it's bedtime\"],[\"Z\\u00fcrich\",\"\\ud83c\\udf27\\ufe0f\\ud83c\\udf19\",\"15.4 \\u00b0C\",\"Leichter Regen\",\"it's bedtime\"],[\"Wien\",\"\\ud83c\\udf27\\ufe0f\\ud83c\\udf19\",\"19.2 \\u00b0C\",\"Leichter Regen\",\"it's bedtime\"],[\"Rom\",\"\\u2601\\ufe0f\\ud83c\\udf19\",\"23.6 \\u00b0C\",\"M\\u00e4\\u00dfig bew\\u00f6lkt\",\"it's bedtime\"],[\"Amsterdam\",\"\\u2601\\ufe0f\\ud83c\\udf19\",\"14.6 \\u00b0C\",\"Ein paar Wolken\",\"it's bedtime\"],[\"Prag\",\"\\ud83c\\udf27\\ufe0f\\ud83c\\udf19\",\"17.6 \\u00b0C\",\"Leichter Regen\",\"it's bedtime\"],[\"Mailand\",\"\\ud83c\\udf27\\ufe0f\\ud83c\\udf19\",\"20.2 \\u00b0C\",\"Leichter Regen\",\"it's bedtime\"],[\"Arrondissement de Marseille\",\"\\u2601\\ufe0f\\ud83c\\udf19\",\"22.9 \\u00b0C\",\"Bedeckt\",\"it's bedtime\"],[\"City of Brussels\",\"\\ud83c\\udf27\\ufe0f\\ud83c\\udf19\",\"17.3 \\u00b0C\",\"Leichter Regen\",\"it's bedtime\"],[\"Warschau\",\"\\ud83c\\udf15\",\"20.4 \\u00b0C\",\"Klarer Himmel\",\"it's bedtime\"],[\"Hamburg\",\"\\u2601\\ufe0f\\ud83c\\udf19\",\"17.6 \\u00b0C\",\"Bedeckt\",\"it's bedtime\"]],\"geo\":\"geo\",\"hovertemplate\":\"<b>%{customdata[0]}</b><br><br>%{customdata[1]}, %{customdata[2]}<br>%{customdata[3]}<br>%{customdata[4]}<br>\",\"hovertext\":[\"Berlin\",\"Dresden\",\"Frankfurt am Main\",\"Freiburg im Breisgau\",\"Kiel\",\"K\\u00f6ln\",\"Leipzig\",\"Mannheim\",\"M\\u00fcnchen\",\"M\\u00fcnster\",\"Ravensburg\",\"Rostock\",\"Stuttgart\",\"Paris\",\"London\",\"Z\\u00fcrich\",\"Wien\",\"Rom\",\"Amsterdam\",\"Prag\",\"Mailand\",\"Arrondissement de Marseille\",\"City of Brussels\",\"Warschau\",\"Hamburg\"],\"ids\":[\"Berlin\",\"Dresden\",\"Frankfurt am Main\",\"Freiburg im Breisgau\",\"Kiel\",\"K\\u00f6ln\",\"Leipzig\",\"Mannheim\",\"M\\u00fcnchen\",\"M\\u00fcnster\",\"Ravensburg\",\"Rostock\",\"Stuttgart\",\"Paris\",\"London\",\"Z\\u00fcrich\",\"Wien\",\"Rom\",\"Amsterdam\",\"Prag\",\"Mailand\",\"Arrondissement de Marseille\",\"City of Brussels\",\"Warschau\",\"Hamburg\"],\"lat\":[52.5244,51.0509,50.1167,47.9959,54.3213,50.9333,51.342,49.4883,48.1374,51.9624,47.7833,54.0887,48.7823,48.8534,51.5085,47.3667,48.2085,41.8947,52.374,50.088,45.4643,43.3333,50.8504,52.2298,53.55],\"legendgroup\":\"\",\"lon\":[13.4105,13.7383,8.6833,7.8522,10.1349,6.95,12.375,8.4647,11.5755,7.6257,9.6167,12.1405,9.177,2.3488,-0.1257,8.55,16.3721,12.4839,4.8897,14.4208,9.1895,5.5,4.3488,21.0118,10.0],\"marker\":{\"color\":[20.04,18.28,19.15,16.32,17.49,17.2,18.73,20.14,15.04,16.67,15.4,19.12,18.4,17.61,18.6,15.41,19.17,23.57,14.56,17.63,20.21,22.87,17.29,20.4,17.63],\"coloraxis\":\"coloraxis\",\"opacity\":1,\"symbol\":\"circle\"},\"mode\":\"markers+text\",\"name\":\"\",\"showlegend\":false,\"text\":[\"20.0 \\u00b0C\",\"18.3 \\u00b0C\",\"19.2 \\u00b0C\",\"16.3 \\u00b0C\",\"17.5 \\u00b0C\",\"17.2 \\u00b0C\",\"18.7 \\u00b0C\",\"20.1 \\u00b0C\",\"15.0 \\u00b0C\",\"16.7 \\u00b0C\",\"15.4 \\u00b0C\",\"19.1 \\u00b0C\",\"18.4 \\u00b0C\",\"17.6 \\u00b0C\",\"18.6 \\u00b0C\",\"15.4 \\u00b0C\",\"19.2 \\u00b0C\",\"23.6 \\u00b0C\",\"14.6 \\u00b0C\",\"17.6 \\u00b0C\",\"20.2 \\u00b0C\",\"22.9 \\u00b0C\",\"17.3 \\u00b0C\",\"20.4 \\u00b0C\",\"17.6 \\u00b0C\"],\"type\":\"scattergeo\"}],\"name\":\"2022-08-27 03:00:00\"},{\"data\":[{\"customdata\":[[\"Berlin\",\"\\u2601\\ufe0f\",\"20.4 \\u00b0C\",\"Bedeckt\",\"wear light clothes and don't forget your sunnies!<br>\"],[\"Dresden\",\"\\u2601\\ufe0f\",\"19.4 \\u00b0C\",\"Bedeckt\",\"wear light clothes and don't forget your sunnies!<br>\"],[\"Frankfurt am Main\",\"\\u2601\\ufe0f\",\"19.3 \\u00b0C\",\"Bedeckt\",\"wear light clothes and don't forget your sunnies!<br>\"],[\"Freiburg im Breisgau\",\"\\ud83c\\udf26\\ufe0f\",\"17.9 \\u00b0C\",\"Leichter Regen\",\"wear light clothes and don't forget your sunnies!<br>take an umbrella or a rain jacket with you<br>\"],[\"Kiel\",\"\\u2601\\ufe0f\",\"17.6 \\u00b0C\",\"Bedeckt\",\"wear light clothes and don't forget your sunnies!<br>\"],[\"K\\u00f6ln\",\"\\u2601\\ufe0f\",\"17.7 \\u00b0C\",\"M\\u00e4\\u00dfig bew\\u00f6lkt\",\"wear light clothes and don't forget your sunnies!<br>\"],[\"Leipzig\",\"\\u2601\\ufe0f\",\"18.8 \\u00b0C\",\"Bedeckt\",\"wear light clothes and don't forget your sunnies!<br>\"],[\"Mannheim\",\"\\u2601\\ufe0f\",\"20.1 \\u00b0C\",\"Bedeckt\",\"wear light clothes and don't forget your sunnies!<br>\"],[\"M\\u00fcnchen\",\"\\ud83c\\udf26\\ufe0f\",\"16.5 \\u00b0C\",\"Leichter Regen\",\"wear light clothes and don't forget your sunnies!<br>take an umbrella or a rain jacket with you<br>\"],[\"M\\u00fcnster\",\"\\u2601\\ufe0f\",\"17.6 \\u00b0C\",\"Bedeckt\",\"wear light clothes and don't forget your sunnies!<br>\"],[\"Ravensburg\",\"\\ud83c\\udf26\\ufe0f\",\"16.8 \\u00b0C\",\"Leichter Regen\",\"wear light clothes and don't forget your sunnies!<br>take an umbrella or a rain jacket with you<br>\"],[\"Rostock\",\"\\ud83c\\udf26\\ufe0f\",\"19.5 \\u00b0C\",\"Leichter Regen\",\"wear light clothes and don't forget your sunnies!<br>take an umbrella or a rain jacket with you<br>\"],[\"Stuttgart\",\"\\u2601\\ufe0f\",\"19.0 \\u00b0C\",\"\\u00dcberwiegend bew\\u00f6lkt\",\"wear light clothes and don't forget your sunnies!<br>\"],[\"Paris\",\"\\u2601\\ufe0f\",\"17.1 \\u00b0C\",\"Bedeckt\",\"wear light clothes and don't forget your sunnies!<br>\"],[\"London\",\"\\u2601\\ufe0f\",\"18.2 \\u00b0C\",\"Bedeckt\",\"wear light clothes and don't forget your sunnies!<br>\"],[\"Z\\u00fcrich\",\"\\ud83c\\udf26\\ufe0f\",\"16.4 \\u00b0C\",\"Leichter Regen\",\"wear light clothes and don't forget your sunnies!<br>take an umbrella or a rain jacket with you<br>\"],[\"Wien\",\"\\u2601\\ufe0f\",\"20.5 \\u00b0C\",\"\\u00dcberwiegend bew\\u00f6lkt\",\"wear light clothes and don't forget your sunnies!<br>\"],[\"Rom\",\"\\ud83c\\udf26\\ufe0f\",\"24.8 \\u00b0C\",\"Leichter Regen\",\"wear light clothes and don't forget your sunnies!<br>take an umbrella or a rain jacket with you<br>\"],[\"Amsterdam\",\"\\ud83c\\udf24\\ufe0f\",\"15.4 \\u00b0C\",\"Ein paar Wolken\",\"wear light clothes and don't forget your sunnies!<br>\"],[\"Prag\",\"\\ud83c\\udf26\\ufe0f\",\"19.3 \\u00b0C\",\"Leichter Regen\",\"wear light clothes and don't forget your sunnies!<br>take an umbrella or a rain jacket with you<br>\"],[\"Mailand\",\"\\ud83c\\udf26\\ufe0f\",\"20.4 \\u00b0C\",\"Leichter Regen\",\"wear light clothes and don't forget your sunnies!<br>take an umbrella or a rain jacket with you<br>\"],[\"Arrondissement de Marseille\",\"\\u2601\\ufe0f\",\"22.8 \\u00b0C\",\"\\u00dcberwiegend bew\\u00f6lkt\",\"wear light clothes and don't forget your sunnies!<br>\"],[\"City of Brussels\",\"\\u2601\\ufe0f\",\"17.3 \\u00b0C\",\"Bedeckt\",\"wear light clothes and don't forget your sunnies!<br>\"],[\"Warschau\",\"\\u2600\\ufe0f\",\"23.2 \\u00b0C\",\"Klarer Himmel\",\"wear light clothes and don't forget your sunnies!<br>\"],[\"Hamburg\",\"\\u2601\\ufe0f\",\"17.9 \\u00b0C\",\"Bedeckt\",\"wear light clothes and don't forget your sunnies!<br>\"]],\"geo\":\"geo\",\"hovertemplate\":\"<b>%{customdata[0]}</b><br><br>%{customdata[1]}, %{customdata[2]}<br>%{customdata[3]}<br>%{customdata[4]}<br>\",\"hovertext\":[\"Berlin\",\"Dresden\",\"Frankfurt am Main\",\"Freiburg im Breisgau\",\"Kiel\",\"K\\u00f6ln\",\"Leipzig\",\"Mannheim\",\"M\\u00fcnchen\",\"M\\u00fcnster\",\"Ravensburg\",\"Rostock\",\"Stuttgart\",\"Paris\",\"London\",\"Z\\u00fcrich\",\"Wien\",\"Rom\",\"Amsterdam\",\"Prag\",\"Mailand\",\"Arrondissement de Marseille\",\"City of Brussels\",\"Warschau\",\"Hamburg\"],\"ids\":[\"Berlin\",\"Dresden\",\"Frankfurt am Main\",\"Freiburg im Breisgau\",\"Kiel\",\"K\\u00f6ln\",\"Leipzig\",\"Mannheim\",\"M\\u00fcnchen\",\"M\\u00fcnster\",\"Ravensburg\",\"Rostock\",\"Stuttgart\",\"Paris\",\"London\",\"Z\\u00fcrich\",\"Wien\",\"Rom\",\"Amsterdam\",\"Prag\",\"Mailand\",\"Arrondissement de Marseille\",\"City of Brussels\",\"Warschau\",\"Hamburg\"],\"lat\":[52.5244,51.0509,50.1167,47.9959,54.3213,50.9333,51.342,49.4883,48.1374,51.9624,47.7833,54.0887,48.7823,48.8534,51.5085,47.3667,48.2085,41.8947,52.374,50.088,45.4643,43.3333,50.8504,52.2298,53.55],\"legendgroup\":\"\",\"lon\":[13.4105,13.7383,8.6833,7.8522,10.1349,6.95,12.375,8.4647,11.5755,7.6257,9.6167,12.1405,9.177,2.3488,-0.1257,8.55,16.3721,12.4839,4.8897,14.4208,9.1895,5.5,4.3488,21.0118,10.0],\"marker\":{\"color\":[20.41,19.44,19.29,17.9,17.59,17.68,18.82,20.12,16.49,17.58,16.83,19.47,18.97,17.11,18.17,16.44,20.54,24.85,15.45,19.26,20.35,22.85,17.32,23.23,17.91],\"coloraxis\":\"coloraxis\",\"opacity\":1,\"symbol\":\"circle\"},\"mode\":\"markers+text\",\"name\":\"\",\"showlegend\":false,\"text\":[\"20.4 \\u00b0C\",\"19.4 \\u00b0C\",\"19.3 \\u00b0C\",\"17.9 \\u00b0C\",\"17.6 \\u00b0C\",\"17.7 \\u00b0C\",\"18.8 \\u00b0C\",\"20.1 \\u00b0C\",\"16.5 \\u00b0C\",\"17.6 \\u00b0C\",\"16.8 \\u00b0C\",\"19.5 \\u00b0C\",\"19.0 \\u00b0C\",\"17.1 \\u00b0C\",\"18.2 \\u00b0C\",\"16.4 \\u00b0C\",\"20.5 \\u00b0C\",\"24.8 \\u00b0C\",\"15.4 \\u00b0C\",\"19.3 \\u00b0C\",\"20.4 \\u00b0C\",\"22.8 \\u00b0C\",\"17.3 \\u00b0C\",\"23.2 \\u00b0C\",\"17.9 \\u00b0C\"],\"type\":\"scattergeo\"}],\"name\":\"2022-08-27 06:00:00\"},{\"data\":[{\"customdata\":[[\"Berlin\",\"\\u2601\\ufe0f\",\"22.3 \\u00b0C\",\"Bedeckt\",\"wear light clothes and don't forget your sunnies!<br>\"],[\"Dresden\",\"\\ud83c\\udf26\\ufe0f\",\"21.1 \\u00b0C\",\"Leichter Regen\",\"wear light clothes and don't forget your sunnies!<br>take an umbrella or a rain jacket with you<br>\"],[\"Frankfurt am Main\",\"\\u2601\\ufe0f\",\"23.5 \\u00b0C\",\"\\u00dcberwiegend bew\\u00f6lkt\",\"wear light clothes and don't forget your sunnies!<br>\"],[\"Freiburg im Breisgau\",\"\\ud83c\\udf26\\ufe0f\",\"22.6 \\u00b0C\",\"Leichter Regen\",\"wear light clothes and don't forget your sunnies!<br>take an umbrella or a rain jacket with you<br>\"],[\"Kiel\",\"\\ud83c\\udf26\\ufe0f\",\"18.8 \\u00b0C\",\"Leichter Regen\",\"wear light clothes and don't forget your sunnies!<br>take an umbrella or a rain jacket with you<br>\"],[\"K\\u00f6ln\",\"\\u2601\\ufe0f\",\"19.4 \\u00b0C\",\"Bedeckt\",\"wear light clothes and don't forget your sunnies!<br>\"],[\"Leipzig\",\"\\u2601\\ufe0f\",\"19.4 \\u00b0C\",\"Bedeckt\",\"wear light clothes and don't forget your sunnies!<br>\"],[\"Mannheim\",\"\\u2600\\ufe0f\",\"24.5 \\u00b0C\",\"Klarer Himmel\",\"wear light clothes and don't forget your sunnies!<br>\"],[\"M\\u00fcnchen\",\"\\ud83c\\udf26\\ufe0f\",\"21.9 \\u00b0C\",\"Leichter Regen\",\"wear light clothes and don't forget your sunnies!<br>take an umbrella or a rain jacket with you<br>\"],[\"M\\u00fcnster\",\"\\u2601\\ufe0f\",\"19.6 \\u00b0C\",\"Bedeckt\",\"wear light clothes and don't forget your sunnies!<br>\"],[\"Ravensburg\",\"\\ud83c\\udf26\\ufe0f\",\"22.6 \\u00b0C\",\"Leichter Regen\",\"wear light clothes and don't forget your sunnies!<br>take an umbrella or a rain jacket with you<br>\"],[\"Rostock\",\"\\ud83c\\udf26\\ufe0f\",\"20.2 \\u00b0C\",\"Leichter Regen\",\"wear light clothes and don't forget your sunnies!<br>take an umbrella or a rain jacket with you<br>\"],[\"Stuttgart\",\"\\ud83c\\udf26\\ufe0f\",\"23.7 \\u00b0C\",\"Leichter Regen\",\"wear light clothes and don't forget your sunnies!<br>take an umbrella or a rain jacket with you<br>\"],[\"Paris\",\"\\u2601\\ufe0f\",\"21.2 \\u00b0C\",\"Bedeckt\",\"wear light clothes and don't forget your sunnies!<br>\"],[\"London\",\"\\ud83c\\udf26\\ufe0f\",\"19.7 \\u00b0C\",\"Leichter Regen\",\"wear light clothes and don't forget your sunnies!<br>take an umbrella or a rain jacket with you<br>\"],[\"Z\\u00fcrich\",\"\\ud83c\\udf24\\ufe0f\",\"22.8 \\u00b0C\",\"Ein paar Wolken\",\"wear light clothes and don't forget your sunnies!<br>\"],[\"Wien\",\"\\u2601\\ufe0f\",\"25.5 \\u00b0C\",\"M\\u00e4\\u00dfig bew\\u00f6lkt\",\"wear light clothes, drink a lot of water and don't forget suncream<br>\"],[\"Rom\",\"\\u2601\\ufe0f\",\"29.9 \\u00b0C\",\"M\\u00e4\\u00dfig bew\\u00f6lkt\",\"wear light clothes, drink a lot of water and don't forget suncream<br>\"],[\"Amsterdam\",\"\\ud83c\\udf24\\ufe0f\",\"20.2 \\u00b0C\",\"Ein paar Wolken\",\"wear light clothes and don't forget your sunnies!<br>\"],[\"Prag\",\"\\ud83c\\udf26\\ufe0f\",\"21.9 \\u00b0C\",\"Leichter Regen\",\"wear light clothes and don't forget your sunnies!<br>take an umbrella or a rain jacket with you<br>\"],[\"Mailand\",\"\\ud83c\\udf26\\ufe0f\",\"25.2 \\u00b0C\",\"Leichter Regen\",\"wear light clothes, drink a lot of water and don't forget suncream<br>take an umbrella or a rain jacket with you<br>\"],[\"Arrondissement de Marseille\",\"\\u2601\\ufe0f\",\"26.0 \\u00b0C\",\"\\u00dcberwiegend bew\\u00f6lkt\",\"wear light clothes, drink a lot of water and don't forget suncream<br>\"],[\"City of Brussels\",\"\\u2601\\ufe0f\",\"20.6 \\u00b0C\",\"Bedeckt\",\"wear light clothes and don't forget your sunnies!<br>\"],[\"Warschau\",\"\\ud83c\\udf24\\ufe0f\",\"30.2 \\u00b0C\",\"Ein paar Wolken\",\"wear light clothes, drink a lot of water and don't forget suncream<br>\"],[\"Hamburg\",\"\\u2601\\ufe0f\",\"18.8 \\u00b0C\",\"Bedeckt\",\"wear light clothes and don't forget your sunnies!<br>\"]],\"geo\":\"geo\",\"hovertemplate\":\"<b>%{customdata[0]}</b><br><br>%{customdata[1]}, %{customdata[2]}<br>%{customdata[3]}<br>%{customdata[4]}<br>\",\"hovertext\":[\"Berlin\",\"Dresden\",\"Frankfurt am Main\",\"Freiburg im Breisgau\",\"Kiel\",\"K\\u00f6ln\",\"Leipzig\",\"Mannheim\",\"M\\u00fcnchen\",\"M\\u00fcnster\",\"Ravensburg\",\"Rostock\",\"Stuttgart\",\"Paris\",\"London\",\"Z\\u00fcrich\",\"Wien\",\"Rom\",\"Amsterdam\",\"Prag\",\"Mailand\",\"Arrondissement de Marseille\",\"City of Brussels\",\"Warschau\",\"Hamburg\"],\"ids\":[\"Berlin\",\"Dresden\",\"Frankfurt am Main\",\"Freiburg im Breisgau\",\"Kiel\",\"K\\u00f6ln\",\"Leipzig\",\"Mannheim\",\"M\\u00fcnchen\",\"M\\u00fcnster\",\"Ravensburg\",\"Rostock\",\"Stuttgart\",\"Paris\",\"London\",\"Z\\u00fcrich\",\"Wien\",\"Rom\",\"Amsterdam\",\"Prag\",\"Mailand\",\"Arrondissement de Marseille\",\"City of Brussels\",\"Warschau\",\"Hamburg\"],\"lat\":[52.5244,51.0509,50.1167,47.9959,54.3213,50.9333,51.342,49.4883,48.1374,51.9624,47.7833,54.0887,48.7823,48.8534,51.5085,47.3667,48.2085,41.8947,52.374,50.088,45.4643,43.3333,50.8504,52.2298,53.55],\"legendgroup\":\"\",\"lon\":[13.4105,13.7383,8.6833,7.8522,10.1349,6.95,12.375,8.4647,11.5755,7.6257,9.6167,12.1405,9.177,2.3488,-0.1257,8.55,16.3721,12.4839,4.8897,14.4208,9.1895,5.5,4.3488,21.0118,10.0],\"marker\":{\"color\":[22.33,21.11,23.46,22.61,18.78,19.45,19.36,24.53,21.86,19.59,22.55,20.25,23.73,21.17,19.71,22.82,25.53,29.9,20.25,21.9,25.24,26.05,20.62,30.15,18.78],\"coloraxis\":\"coloraxis\",\"opacity\":1,\"symbol\":\"circle\"},\"mode\":\"markers+text\",\"name\":\"\",\"showlegend\":false,\"text\":[\"22.3 \\u00b0C\",\"21.1 \\u00b0C\",\"23.5 \\u00b0C\",\"22.6 \\u00b0C\",\"18.8 \\u00b0C\",\"19.4 \\u00b0C\",\"19.4 \\u00b0C\",\"24.5 \\u00b0C\",\"21.9 \\u00b0C\",\"19.6 \\u00b0C\",\"22.6 \\u00b0C\",\"20.2 \\u00b0C\",\"23.7 \\u00b0C\",\"21.2 \\u00b0C\",\"19.7 \\u00b0C\",\"22.8 \\u00b0C\",\"25.5 \\u00b0C\",\"29.9 \\u00b0C\",\"20.2 \\u00b0C\",\"21.9 \\u00b0C\",\"25.2 \\u00b0C\",\"26.0 \\u00b0C\",\"20.6 \\u00b0C\",\"30.2 \\u00b0C\",\"18.8 \\u00b0C\"],\"type\":\"scattergeo\"}],\"name\":\"2022-08-27 09:00:00\"},{\"data\":[{\"customdata\":[[\"Berlin\",\"\\u2601\\ufe0f\",\"21.9 \\u00b0C\",\"Bedeckt\",\"wear light clothes and don't forget your sunnies!<br>\"],[\"Dresden\",\"\\ud83c\\udf26\\ufe0f\",\"19.9 \\u00b0C\",\"Leichter Regen\",\"wear light clothes and don't forget your sunnies!<br>take an umbrella or a rain jacket with you<br>\"],[\"Frankfurt am Main\",\"\\u2601\\ufe0f\",\"25.0 \\u00b0C\",\"\\u00dcberwiegend bew\\u00f6lkt\",\"wear light clothes and don't forget your sunnies!<br>\"],[\"Freiburg im Breisgau\",\"\\ud83c\\udf26\\ufe0f\",\"27.4 \\u00b0C\",\"Leichter Regen\",\"wear light clothes, drink a lot of water and don't forget suncream<br>take an umbrella or a rain jacket with you<br>\"],[\"Kiel\",\"\\u2601\\ufe0f\",\"21.4 \\u00b0C\",\"Bedeckt\",\"wear light clothes and don't forget your sunnies!<br>\"],[\"K\\u00f6ln\",\"\\u2601\\ufe0f\",\"21.2 \\u00b0C\",\"Bedeckt\",\"wear light clothes and don't forget your sunnies!<br>\"],[\"Leipzig\",\"\\u2601\\ufe0f\",\"21.3 \\u00b0C\",\"Bedeckt\",\"wear light clothes and don't forget your sunnies!<br>\"],[\"Mannheim\",\"\\u2601\\ufe0f\",\"28.5 \\u00b0C\",\"M\\u00e4\\u00dfig bew\\u00f6lkt\",\"wear light clothes, drink a lot of water and don't forget suncream<br>\"],[\"M\\u00fcnchen\",\"\\u2601\\ufe0f\",\"25.4 \\u00b0C\",\"\\u00dcberwiegend bew\\u00f6lkt\",\"wear light clothes, drink a lot of water and don't forget suncream<br>\"],[\"M\\u00fcnster\",\"\\u2601\\ufe0f\",\"24.7 \\u00b0C\",\"\\u00dcberwiegend bew\\u00f6lkt\",\"wear light clothes and don't forget your sunnies!<br>\"],[\"Ravensburg\",\"\\ud83c\\udf26\\ufe0f\",\"25.4 \\u00b0C\",\"Leichter Regen\",\"wear light clothes, drink a lot of water and don't forget suncream<br>take an umbrella or a rain jacket with you<br>\"],[\"Rostock\",\"\\ud83c\\udf26\\ufe0f\",\"20.6 \\u00b0C\",\"Leichter Regen\",\"wear light clothes and don't forget your sunnies!<br>take an umbrella or a rain jacket with you<br>watch out - your hat may get blown off<br>\"],[\"Stuttgart\",\"\\ud83c\\udf26\\ufe0f\",\"26.1 \\u00b0C\",\"Leichter Regen\",\"wear light clothes, drink a lot of water and don't forget suncream<br>take an umbrella or a rain jacket with you<br>\"],[\"Paris\",\"\\u2601\\ufe0f\",\"25.2 \\u00b0C\",\"Bedeckt\",\"wear light clothes, drink a lot of water and don't forget suncream<br>\"],[\"London\",\"\\ud83c\\udf26\\ufe0f\",\"19.6 \\u00b0C\",\"Leichter Regen\",\"wear light clothes and don't forget your sunnies!<br>take an umbrella or a rain jacket with you<br>\"],[\"Z\\u00fcrich\",\"\\ud83c\\udf26\\ufe0f\",\"26.9 \\u00b0C\",\"Leichter Regen\",\"wear light clothes, drink a lot of water and don't forget suncream<br>take an umbrella or a rain jacket with you<br>\"],[\"Wien\",\"\\u2601\\ufe0f\",\"28.7 \\u00b0C\",\"M\\u00e4\\u00dfig bew\\u00f6lkt\",\"wear light clothes, drink a lot of water and don't forget suncream<br>\"],[\"Rom\",\"\\u2601\\ufe0f\",\"32.2 \\u00b0C\",\"\\u00dcberwiegend bew\\u00f6lkt\",\"wear light clothes, drink a lot of water and don't forget suncream<br>\"],[\"Amsterdam\",\"\\ud83c\\udf24\\ufe0f\",\"22.0 \\u00b0C\",\"Ein paar Wolken\",\"wear light clothes and don't forget your sunnies!<br>\"],[\"Prag\",\"\\ud83c\\udf26\\ufe0f\",\"22.6 \\u00b0C\",\"Leichter Regen\",\"wear light clothes and don't forget your sunnies!<br>take an umbrella or a rain jacket with you<br>\"],[\"Mailand\",\"\\u2601\\ufe0f\",\"30.3 \\u00b0C\",\"Bedeckt\",\"wear light clothes, drink a lot of water and don't forget suncream<br>\"],[\"Arrondissement de Marseille\",\"\\u2601\\ufe0f\",\"27.2 \\u00b0C\",\"Bedeckt\",\"wear light clothes, drink a lot of water and don't forget suncream<br>\"],[\"City of Brussels\",\"\\u2601\\ufe0f\",\"24.4 \\u00b0C\",\"\\u00dcberwiegend bew\\u00f6lkt\",\"wear light clothes and don't forget your sunnies!<br>\"],[\"Warschau\",\"\\ud83c\\udf24\\ufe0f\",\"33.2 \\u00b0C\",\"Ein paar Wolken\",\"wear light clothes, drink a lot of water and don't forget suncream<br>\"],[\"Hamburg\",\"\\u2601\\ufe0f\",\"22.2 \\u00b0C\",\"Bedeckt\",\"wear light clothes and don't forget your sunnies!<br>\"]],\"geo\":\"geo\",\"hovertemplate\":\"<b>%{customdata[0]}</b><br><br>%{customdata[1]}, %{customdata[2]}<br>%{customdata[3]}<br>%{customdata[4]}<br>\",\"hovertext\":[\"Berlin\",\"Dresden\",\"Frankfurt am Main\",\"Freiburg im Breisgau\",\"Kiel\",\"K\\u00f6ln\",\"Leipzig\",\"Mannheim\",\"M\\u00fcnchen\",\"M\\u00fcnster\",\"Ravensburg\",\"Rostock\",\"Stuttgart\",\"Paris\",\"London\",\"Z\\u00fcrich\",\"Wien\",\"Rom\",\"Amsterdam\",\"Prag\",\"Mailand\",\"Arrondissement de Marseille\",\"City of Brussels\",\"Warschau\",\"Hamburg\"],\"ids\":[\"Berlin\",\"Dresden\",\"Frankfurt am Main\",\"Freiburg im Breisgau\",\"Kiel\",\"K\\u00f6ln\",\"Leipzig\",\"Mannheim\",\"M\\u00fcnchen\",\"M\\u00fcnster\",\"Ravensburg\",\"Rostock\",\"Stuttgart\",\"Paris\",\"London\",\"Z\\u00fcrich\",\"Wien\",\"Rom\",\"Amsterdam\",\"Prag\",\"Mailand\",\"Arrondissement de Marseille\",\"City of Brussels\",\"Warschau\",\"Hamburg\"],\"lat\":[52.5244,51.0509,50.1167,47.9959,54.3213,50.9333,51.342,49.4883,48.1374,51.9624,47.7833,54.0887,48.7823,48.8534,51.5085,47.3667,48.2085,41.8947,52.374,50.088,45.4643,43.3333,50.8504,52.2298,53.55],\"legendgroup\":\"\",\"lon\":[13.4105,13.7383,8.6833,7.8522,10.1349,6.95,12.375,8.4647,11.5755,7.6257,9.6167,12.1405,9.177,2.3488,-0.1257,8.55,16.3721,12.4839,4.8897,14.4208,9.1895,5.5,4.3488,21.0118,10.0],\"marker\":{\"color\":[21.88,19.88,24.95,27.38,21.39,21.16,21.3,28.48,25.45,24.73,25.4,20.61,26.08,25.23,19.59,26.88,28.68,32.17,22.0,22.62,30.31,27.21,24.37,33.2,22.16],\"coloraxis\":\"coloraxis\",\"opacity\":1,\"symbol\":\"circle\"},\"mode\":\"markers+text\",\"name\":\"\",\"showlegend\":false,\"text\":[\"21.9 \\u00b0C\",\"19.9 \\u00b0C\",\"25.0 \\u00b0C\",\"27.4 \\u00b0C\",\"21.4 \\u00b0C\",\"21.2 \\u00b0C\",\"21.3 \\u00b0C\",\"28.5 \\u00b0C\",\"25.4 \\u00b0C\",\"24.7 \\u00b0C\",\"25.4 \\u00b0C\",\"20.6 \\u00b0C\",\"26.1 \\u00b0C\",\"25.2 \\u00b0C\",\"19.6 \\u00b0C\",\"26.9 \\u00b0C\",\"28.7 \\u00b0C\",\"32.2 \\u00b0C\",\"22.0 \\u00b0C\",\"22.6 \\u00b0C\",\"30.3 \\u00b0C\",\"27.2 \\u00b0C\",\"24.4 \\u00b0C\",\"33.2 \\u00b0C\",\"22.2 \\u00b0C\"],\"type\":\"scattergeo\"}],\"name\":\"2022-08-27 12:00:00\"},{\"data\":[{\"customdata\":[[\"Berlin\",\"\\u2601\\ufe0f\",\"21.9 \\u00b0C\",\"Bedeckt\",\"wear light clothes and don't forget your sunnies!<br>\"],[\"Dresden\",\"\\ud83c\\udf26\\ufe0f\",\"18.7 \\u00b0C\",\"Leichter Regen\",\"wear light clothes and don't forget your sunnies!<br>take an umbrella or a rain jacket with you<br>\"],[\"Frankfurt am Main\",\"\\u2601\\ufe0f\",\"25.7 \\u00b0C\",\"Bedeckt\",\"wear light clothes, drink a lot of water and don't forget suncream<br>\"],[\"Freiburg im Breisgau\",\"\\ud83c\\udf24\\ufe0f\",\"28.4 \\u00b0C\",\"Ein paar Wolken\",\"wear light clothes, drink a lot of water and don't forget suncream<br>\"],[\"Kiel\",\"\\u2601\\ufe0f\",\"23.5 \\u00b0C\",\"\\u00dcberwiegend bew\\u00f6lkt\",\"wear light clothes and don't forget your sunnies!<br>watch out - your hat may get blown off<br>\"],[\"K\\u00f6ln\",\"\\u2601\\ufe0f\",\"23.8 \\u00b0C\",\"Bedeckt\",\"wear light clothes and don't forget your sunnies!<br>\"],[\"Leipzig\",\"\\u2601\\ufe0f\",\"21.7 \\u00b0C\",\"Bedeckt\",\"wear light clothes and don't forget your sunnies!<br>\"],[\"Mannheim\",\"\\u2601\\ufe0f\",\"27.3 \\u00b0C\",\"\\u00dcberwiegend bew\\u00f6lkt\",\"wear light clothes, drink a lot of water and don't forget suncream<br>\"],[\"M\\u00fcnchen\",\"\\ud83c\\udf26\\ufe0f\",\"23.6 \\u00b0C\",\"Leichter Regen\",\"wear light clothes and don't forget your sunnies!<br>take an umbrella or a rain jacket with you<br>\"],[\"M\\u00fcnster\",\"\\u2601\\ufe0f\",\"26.0 \\u00b0C\",\"\\u00dcberwiegend bew\\u00f6lkt\",\"wear light clothes, drink a lot of water and don't forget suncream<br>\"],[\"Ravensburg\",\"\\ud83c\\udf26\\ufe0f\",\"23.2 \\u00b0C\",\"Leichter Regen\",\"wear light clothes and don't forget your sunnies!<br>take an umbrella or a rain jacket with you<br>\"],[\"Rostock\",\"\\u2601\\ufe0f\",\"20.1 \\u00b0C\",\"Bedeckt\",\"wear light clothes and don't forget your sunnies!<br>watch out - your hat may get blown off<br>\"],[\"Stuttgart\",\"\\u2601\\ufe0f\",\"27.6 \\u00b0C\",\"\\u00dcberwiegend bew\\u00f6lkt\",\"wear light clothes, drink a lot of water and don't forget suncream<br>\"],[\"Paris\",\"\\u2601\\ufe0f\",\"27.4 \\u00b0C\",\"Bedeckt\",\"wear light clothes, drink a lot of water and don't forget suncream<br>\"],[\"London\",\"\\ud83c\\udf26\\ufe0f\",\"20.8 \\u00b0C\",\"Leichter Regen\",\"wear light clothes and don't forget your sunnies!<br>take an umbrella or a rain jacket with you<br>\"],[\"Z\\u00fcrich\",\"\\ud83c\\udf26\\ufe0f\",\"26.1 \\u00b0C\",\"Leichter Regen\",\"wear light clothes, drink a lot of water and don't forget suncream<br>take an umbrella or a rain jacket with you<br>\"],[\"Wien\",\"\\u2601\\ufe0f\",\"28.7 \\u00b0C\",\"\\u00dcberwiegend bew\\u00f6lkt\",\"wear light clothes, drink a lot of water and don't forget suncream<br>\"],[\"Rom\",\"\\u2601\\ufe0f\",\"30.1 \\u00b0C\",\"\\u00dcberwiegend bew\\u00f6lkt\",\"wear light clothes, drink a lot of water and don't forget suncream<br>\"],[\"Amsterdam\",\"\\u2600\\ufe0f\",\"21.6 \\u00b0C\",\"Klarer Himmel\",\"wear light clothes and don't forget your sunnies!<br>watch out - your hat may get blown off<br>\"],[\"Prag\",\"\\ud83c\\udf26\\ufe0f\",\"19.5 \\u00b0C\",\"M\\u00e4\\u00dfiger Regen\",\"wear light clothes and don't forget your sunnies!<br>take an umbrella or a rain jacket with you<br>\"],[\"Mailand\",\"\\u2601\\ufe0f\",\"30.6 \\u00b0C\",\"Bedeckt\",\"wear light clothes, drink a lot of water and don't forget suncream<br>\"],[\"Arrondissement de Marseille\",\"\\u2601\\ufe0f\",\"27.1 \\u00b0C\",\"Bedeckt\",\"wear light clothes, drink a lot of water and don't forget suncream<br>\"],[\"City of Brussels\",\"\\u2600\\ufe0f\",\"25.8 \\u00b0C\",\"Klarer Himmel\",\"wear light clothes, drink a lot of water and don't forget suncream<br>\"],[\"Warschau\",\"\\ud83c\\udf24\\ufe0f\",\"33.3 \\u00b0C\",\"Ein paar Wolken\",\"wear light clothes, drink a lot of water and don't forget suncream<br>\"],[\"Hamburg\",\"\\u2601\\ufe0f\",\"22.8 \\u00b0C\",\"M\\u00e4\\u00dfig bew\\u00f6lkt\",\"wear light clothes and don't forget your sunnies!<br>watch out - your hat may get blown off<br>\"]],\"geo\":\"geo\",\"hovertemplate\":\"<b>%{customdata[0]}</b><br><br>%{customdata[1]}, %{customdata[2]}<br>%{customdata[3]}<br>%{customdata[4]}<br>\",\"hovertext\":[\"Berlin\",\"Dresden\",\"Frankfurt am Main\",\"Freiburg im Breisgau\",\"Kiel\",\"K\\u00f6ln\",\"Leipzig\",\"Mannheim\",\"M\\u00fcnchen\",\"M\\u00fcnster\",\"Ravensburg\",\"Rostock\",\"Stuttgart\",\"Paris\",\"London\",\"Z\\u00fcrich\",\"Wien\",\"Rom\",\"Amsterdam\",\"Prag\",\"Mailand\",\"Arrondissement de Marseille\",\"City of Brussels\",\"Warschau\",\"Hamburg\"],\"ids\":[\"Berlin\",\"Dresden\",\"Frankfurt am Main\",\"Freiburg im Breisgau\",\"Kiel\",\"K\\u00f6ln\",\"Leipzig\",\"Mannheim\",\"M\\u00fcnchen\",\"M\\u00fcnster\",\"Ravensburg\",\"Rostock\",\"Stuttgart\",\"Paris\",\"London\",\"Z\\u00fcrich\",\"Wien\",\"Rom\",\"Amsterdam\",\"Prag\",\"Mailand\",\"Arrondissement de Marseille\",\"City of Brussels\",\"Warschau\",\"Hamburg\"],\"lat\":[52.5244,51.0509,50.1167,47.9959,54.3213,50.9333,51.342,49.4883,48.1374,51.9624,47.7833,54.0887,48.7823,48.8534,51.5085,47.3667,48.2085,41.8947,52.374,50.088,45.4643,43.3333,50.8504,52.2298,53.55],\"legendgroup\":\"\",\"lon\":[13.4105,13.7383,8.6833,7.8522,10.1349,6.95,12.375,8.4647,11.5755,7.6257,9.6167,12.1405,9.177,2.3488,-0.1257,8.55,16.3721,12.4839,4.8897,14.4208,9.1895,5.5,4.3488,21.0118,10.0],\"marker\":{\"color\":[21.86,18.67,25.72,28.38,23.49,23.84,21.72,27.27,23.61,26.04,23.2,20.12,27.57,27.44,20.8,26.08,28.67,30.1,21.55,19.5,30.55,27.09,25.75,33.29,22.77],\"coloraxis\":\"coloraxis\",\"opacity\":1,\"symbol\":\"circle\"},\"mode\":\"markers+text\",\"name\":\"\",\"showlegend\":false,\"text\":[\"21.9 \\u00b0C\",\"18.7 \\u00b0C\",\"25.7 \\u00b0C\",\"28.4 \\u00b0C\",\"23.5 \\u00b0C\",\"23.8 \\u00b0C\",\"21.7 \\u00b0C\",\"27.3 \\u00b0C\",\"23.6 \\u00b0C\",\"26.0 \\u00b0C\",\"23.2 \\u00b0C\",\"20.1 \\u00b0C\",\"27.6 \\u00b0C\",\"27.4 \\u00b0C\",\"20.8 \\u00b0C\",\"26.1 \\u00b0C\",\"28.7 \\u00b0C\",\"30.1 \\u00b0C\",\"21.6 \\u00b0C\",\"19.5 \\u00b0C\",\"30.6 \\u00b0C\",\"27.1 \\u00b0C\",\"25.8 \\u00b0C\",\"33.3 \\u00b0C\",\"22.8 \\u00b0C\"],\"type\":\"scattergeo\"}],\"name\":\"2022-08-27 15:00:00\"},{\"data\":[{\"customdata\":[[\"Berlin\",\"\\u2601\\ufe0f\",\"20.5 \\u00b0C\",\"Bedeckt\",\"wear light clothes and don't forget your sunnies!<br>\"],[\"Dresden\",\"\\ud83c\\udf26\\ufe0f\",\"18.6 \\u00b0C\",\"M\\u00e4\\u00dfiger Regen\",\"wear light clothes and don't forget your sunnies!<br>take an umbrella or a rain jacket with you<br>\"],[\"Frankfurt am Main\",\"\\u2601\\ufe0f\",\"23.2 \\u00b0C\",\"\\u00dcberwiegend bew\\u00f6lkt\",\"wear light clothes and don't forget your sunnies!<br>\"],[\"Freiburg im Breisgau\",\"\\u2601\\ufe0f\",\"22.6 \\u00b0C\",\"M\\u00e4\\u00dfig bew\\u00f6lkt\",\"wear light clothes and don't forget your sunnies!<br>\"],[\"Kiel\",\"\\u2601\\ufe0f\",\"18.1 \\u00b0C\",\"\\u00dcberwiegend bew\\u00f6lkt\",\"wear light clothes and don't forget your sunnies!<br>watch out - your hat may get blown off<br>\"],[\"K\\u00f6ln\",\"\\u2601\\ufe0f\",\"22.0 \\u00b0C\",\"\\u00dcberwiegend bew\\u00f6lkt\",\"wear light clothes and don't forget your sunnies!<br>\"],[\"Leipzig\",\"\\u2601\\ufe0f\",\"19.7 \\u00b0C\",\"Bedeckt\",\"wear light clothes and don't forget your sunnies!<br>\"],[\"Mannheim\",\"\\u2601\\ufe0f\",\"25.0 \\u00b0C\",\"\\u00dcberwiegend bew\\u00f6lkt\",\"wear light clothes and don't forget your sunnies!<br>\"],[\"M\\u00fcnchen\",\"\\ud83c\\udf26\\ufe0f\",\"18.9 \\u00b0C\",\"M\\u00e4\\u00dfiger Regen\",\"wear light clothes and don't forget your sunnies!<br>take an umbrella or a rain jacket with you<br>\"],[\"M\\u00fcnster\",\"\\u2601\\ufe0f\",\"21.4 \\u00b0C\",\"\\u00dcberwiegend bew\\u00f6lkt\",\"wear light clothes and don't forget your sunnies!<br>watch out - your hat may get blown off<br>\"],[\"Ravensburg\",\"\\ud83c\\udf26\\ufe0f\",\"18.6 \\u00b0C\",\"Leichter Regen\",\"wear light clothes and don't forget your sunnies!<br>take an umbrella or a rain jacket with you<br>\"],[\"Rostock\",\"\\u2601\\ufe0f\",\"19.4 \\u00b0C\",\"Bedeckt\",\"wear light clothes and don't forget your sunnies!<br>\"],[\"Stuttgart\",\"\\ud83c\\udf26\\ufe0f\",\"22.8 \\u00b0C\",\"Leichter Regen\",\"wear light clothes and don't forget your sunnies!<br>take an umbrella or a rain jacket with you<br>\"],[\"Paris\",\"\\u2601\\ufe0f\",\"26.2 \\u00b0C\",\"\\u00dcberwiegend bew\\u00f6lkt\",\"wear light clothes, drink a lot of water and don't forget suncream<br>\"],[\"London\",\"\\u2601\\ufe0f\",\"19.8 \\u00b0C\",\"\\u00dcberwiegend bew\\u00f6lkt\",\"wear light clothes and don't forget your sunnies!<br>\"],[\"Z\\u00fcrich\",\"\\ud83c\\udf26\\ufe0f\",\"20.6 \\u00b0C\",\"Leichter Regen\",\"wear light clothes and don't forget your sunnies!<br>take an umbrella or a rain jacket with you<br>\"],[\"Wien\",\"\\u2601\\ufe0f\\ud83c\\udf19\",\"25.1 \\u00b0C\",\"\\u00dcberwiegend bew\\u00f6lkt\",\"it's bedtime\"],[\"Rom\",\"\\ud83c\\udf27\\ufe0f\\ud83c\\udf19\",\"26.5 \\u00b0C\",\"Leichter Regen\",\"it's bedtime\"],[\"Amsterdam\",\"\\u2600\\ufe0f\",\"18.0 \\u00b0C\",\"Klarer Himmel\",\"wear light clothes and don't forget your sunnies!<br>\"],[\"Prag\",\"\\ud83c\\udf27\\ufe0f\\ud83c\\udf19\",\"18.4 \\u00b0C\",\"M\\u00e4\\u00dfiger Regen\",\"it's bedtime\"],[\"Mailand\",\"\\u2601\\ufe0f\",\"26.5 \\u00b0C\",\"\\u00dcberwiegend bew\\u00f6lkt\",\"wear light clothes, drink a lot of water and don't forget suncream<br>\"],[\"Arrondissement de Marseille\",\"\\u2601\\ufe0f\",\"25.2 \\u00b0C\",\"\\u00dcberwiegend bew\\u00f6lkt\",\"wear light clothes, drink a lot of water and don't forget suncream<br>\"],[\"City of Brussels\",\"\\u2600\\ufe0f\",\"21.3 \\u00b0C\",\"Klarer Himmel\",\"wear light clothes and don't forget your sunnies!<br>watch out - your hat may get blown off<br>\"],[\"Warschau\",\"\\u2601\\ufe0f\\ud83c\\udf19\",\"28.3 \\u00b0C\",\"Ein paar Wolken\",\"it's bedtime\"],[\"Hamburg\",\"\\u2601\\ufe0f\",\"17.6 \\u00b0C\",\"M\\u00e4\\u00dfig bew\\u00f6lkt\",\"wear light clothes and don't forget your sunnies!<br>\"]],\"geo\":\"geo\",\"hovertemplate\":\"<b>%{customdata[0]}</b><br><br>%{customdata[1]}, %{customdata[2]}<br>%{customdata[3]}<br>%{customdata[4]}<br>\",\"hovertext\":[\"Berlin\",\"Dresden\",\"Frankfurt am Main\",\"Freiburg im Breisgau\",\"Kiel\",\"K\\u00f6ln\",\"Leipzig\",\"Mannheim\",\"M\\u00fcnchen\",\"M\\u00fcnster\",\"Ravensburg\",\"Rostock\",\"Stuttgart\",\"Paris\",\"London\",\"Z\\u00fcrich\",\"Wien\",\"Rom\",\"Amsterdam\",\"Prag\",\"Mailand\",\"Arrondissement de Marseille\",\"City of Brussels\",\"Warschau\",\"Hamburg\"],\"ids\":[\"Berlin\",\"Dresden\",\"Frankfurt am Main\",\"Freiburg im Breisgau\",\"Kiel\",\"K\\u00f6ln\",\"Leipzig\",\"Mannheim\",\"M\\u00fcnchen\",\"M\\u00fcnster\",\"Ravensburg\",\"Rostock\",\"Stuttgart\",\"Paris\",\"London\",\"Z\\u00fcrich\",\"Wien\",\"Rom\",\"Amsterdam\",\"Prag\",\"Mailand\",\"Arrondissement de Marseille\",\"City of Brussels\",\"Warschau\",\"Hamburg\"],\"lat\":[52.5244,51.0509,50.1167,47.9959,54.3213,50.9333,51.342,49.4883,48.1374,51.9624,47.7833,54.0887,48.7823,48.8534,51.5085,47.3667,48.2085,41.8947,52.374,50.088,45.4643,43.3333,50.8504,52.2298,53.55],\"legendgroup\":\"\",\"lon\":[13.4105,13.7383,8.6833,7.8522,10.1349,6.95,12.375,8.4647,11.5755,7.6257,9.6167,12.1405,9.177,2.3488,-0.1257,8.55,16.3721,12.4839,4.8897,14.4208,9.1895,5.5,4.3488,21.0118,10.0],\"marker\":{\"color\":[20.47,18.63,23.15,22.6,18.09,21.96,19.69,24.98,18.87,21.39,18.55,19.43,22.83,26.21,19.8,20.61,25.13,26.51,18.0,18.44,26.48,25.24,21.29,28.28,17.65],\"coloraxis\":\"coloraxis\",\"opacity\":1,\"symbol\":\"circle\"},\"mode\":\"markers+text\",\"name\":\"\",\"showlegend\":false,\"text\":[\"20.5 \\u00b0C\",\"18.6 \\u00b0C\",\"23.2 \\u00b0C\",\"22.6 \\u00b0C\",\"18.1 \\u00b0C\",\"22.0 \\u00b0C\",\"19.7 \\u00b0C\",\"25.0 \\u00b0C\",\"18.9 \\u00b0C\",\"21.4 \\u00b0C\",\"18.6 \\u00b0C\",\"19.4 \\u00b0C\",\"22.8 \\u00b0C\",\"26.2 \\u00b0C\",\"19.8 \\u00b0C\",\"20.6 \\u00b0C\",\"25.1 \\u00b0C\",\"26.5 \\u00b0C\",\"18.0 \\u00b0C\",\"18.4 \\u00b0C\",\"26.5 \\u00b0C\",\"25.2 \\u00b0C\",\"21.3 \\u00b0C\",\"28.3 \\u00b0C\",\"17.6 \\u00b0C\"],\"type\":\"scattergeo\"}],\"name\":\"2022-08-27 18:00:00\"},{\"data\":[{\"customdata\":[[\"Berlin\",\"\\u2601\\ufe0f\\ud83c\\udf19\",\"19.9 \\u00b0C\",\"Bedeckt\",\"it's bedtime\"],[\"Dresden\",\"\\ud83c\\udf27\\ufe0f\\ud83c\\udf19\",\"17.9 \\u00b0C\",\"Leichter Regen\",\"it's bedtime\"],[\"Frankfurt am Main\",\"\\u2601\\ufe0f\\ud83c\\udf19\",\"20.0 \\u00b0C\",\"Bedeckt\",\"it's bedtime\"],[\"Freiburg im Breisgau\",\"\\u2601\\ufe0f\\ud83c\\udf19\",\"19.7 \\u00b0C\",\"\\u00dcberwiegend bew\\u00f6lkt\",\"it's bedtime\"],[\"Kiel\",\"\\u2601\\ufe0f\\ud83c\\udf19\",\"14.8 \\u00b0C\",\"\\u00dcberwiegend bew\\u00f6lkt\",\"it's bedtime\"],[\"K\\u00f6ln\",\"\\u2601\\ufe0f\\ud83c\\udf19\",\"19.1 \\u00b0C\",\"Ein paar Wolken\",\"it's bedtime\"],[\"Leipzig\",\"\\u2601\\ufe0f\\ud83c\\udf19\",\"17.4 \\u00b0C\",\"M\\u00e4\\u00dfig bew\\u00f6lkt\",\"it's bedtime\"],[\"Mannheim\",\"\\u2601\\ufe0f\\ud83c\\udf19\",\"22.4 \\u00b0C\",\"\\u00dcberwiegend bew\\u00f6lkt\",\"it's bedtime\"],[\"M\\u00fcnchen\",\"\\ud83c\\udf27\\ufe0f\\ud83c\\udf19\",\"16.9 \\u00b0C\",\"Leichter Regen\",\"it's bedtime\"],[\"M\\u00fcnster\",\"\\ud83c\\udf15\",\"15.2 \\u00b0C\",\"Klarer Himmel\",\"it's bedtime\"],[\"Ravensburg\",\"\\ud83c\\udf27\\ufe0f\\ud83c\\udf19\",\"16.9 \\u00b0C\",\"Leichter Regen\",\"it's bedtime\"],[\"Rostock\",\"\\u2601\\ufe0f\\ud83c\\udf19\",\"18.2 \\u00b0C\",\"Bedeckt\",\"it's bedtime\"],[\"Stuttgart\",\"\\ud83c\\udf27\\ufe0f\\ud83c\\udf19\",\"19.6 \\u00b0C\",\"Leichter Regen\",\"it's bedtime\"],[\"Paris\",\"\\ud83c\\udf15\",\"22.6 \\u00b0C\",\"Klarer Himmel\",\"it's bedtime\"],[\"London\",\"\\u2601\\ufe0f\\ud83c\\udf19\",\"17.4 \\u00b0C\",\"M\\u00e4\\u00dfig bew\\u00f6lkt\",\"it's bedtime\"],[\"Z\\u00fcrich\",\"\\ud83c\\udf27\\ufe0f\\ud83c\\udf19\",\"17.3 \\u00b0C\",\"Leichter Regen\",\"it's bedtime\"],[\"Wien\",\"\\ud83c\\udf27\\ufe0f\\ud83c\\udf19\",\"21.1 \\u00b0C\",\"Leichter Regen\",\"it's bedtime\"],[\"Rom\",\"\\u2601\\ufe0f\\ud83c\\udf19\",\"23.8 \\u00b0C\",\"M\\u00e4\\u00dfig bew\\u00f6lkt\",\"it's bedtime\"],[\"Amsterdam\",\"\\ud83c\\udf15\",\"15.5 \\u00b0C\",\"Klarer Himmel\",\"it's bedtime\"],[\"Prag\",\"\\u2601\\ufe0f\\ud83c\\udf19\",\"18.0 \\u00b0C\",\"Bedeckt\",\"it's bedtime\"],[\"Mailand\",\"\\u2601\\ufe0f\\ud83c\\udf19\",\"23.6 \\u00b0C\",\"Ein paar Wolken\",\"it's bedtime\"],[\"Arrondissement de Marseille\",\"\\ud83c\\udf15\",\"24.0 \\u00b0C\",\"Klarer Himmel\",\"it's bedtime\"],[\"City of Brussels\",\"\\ud83c\\udf15\",\"17.1 \\u00b0C\",\"Klarer Himmel\",\"it's bedtime\"],[\"Warschau\",\"\\ud83c\\udf27\\ufe0f\\ud83c\\udf19\",\"23.6 \\u00b0C\",\"Leichter Regen\",\"it's bedtime\"],[\"Hamburg\",\"\\u2601\\ufe0f\\ud83c\\udf19\",\"14.7 \\u00b0C\",\"Bedeckt\",\"it's bedtime\"]],\"geo\":\"geo\",\"hovertemplate\":\"<b>%{customdata[0]}</b><br><br>%{customdata[1]}, %{customdata[2]}<br>%{customdata[3]}<br>%{customdata[4]}<br>\",\"hovertext\":[\"Berlin\",\"Dresden\",\"Frankfurt am Main\",\"Freiburg im Breisgau\",\"Kiel\",\"K\\u00f6ln\",\"Leipzig\",\"Mannheim\",\"M\\u00fcnchen\",\"M\\u00fcnster\",\"Ravensburg\",\"Rostock\",\"Stuttgart\",\"Paris\",\"London\",\"Z\\u00fcrich\",\"Wien\",\"Rom\",\"Amsterdam\",\"Prag\",\"Mailand\",\"Arrondissement de Marseille\",\"City of Brussels\",\"Warschau\",\"Hamburg\"],\"ids\":[\"Berlin\",\"Dresden\",\"Frankfurt am Main\",\"Freiburg im Breisgau\",\"Kiel\",\"K\\u00f6ln\",\"Leipzig\",\"Mannheim\",\"M\\u00fcnchen\",\"M\\u00fcnster\",\"Ravensburg\",\"Rostock\",\"Stuttgart\",\"Paris\",\"London\",\"Z\\u00fcrich\",\"Wien\",\"Rom\",\"Amsterdam\",\"Prag\",\"Mailand\",\"Arrondissement de Marseille\",\"City of Brussels\",\"Warschau\",\"Hamburg\"],\"lat\":[52.5244,51.0509,50.1167,47.9959,54.3213,50.9333,51.342,49.4883,48.1374,51.9624,47.7833,54.0887,48.7823,48.8534,51.5085,47.3667,48.2085,41.8947,52.374,50.088,45.4643,43.3333,50.8504,52.2298,53.55],\"legendgroup\":\"\",\"lon\":[13.4105,13.7383,8.6833,7.8522,10.1349,6.95,12.375,8.4647,11.5755,7.6257,9.6167,12.1405,9.177,2.3488,-0.1257,8.55,16.3721,12.4839,4.8897,14.4208,9.1895,5.5,4.3488,21.0118,10.0],\"marker\":{\"color\":[19.92,17.93,20.05,19.68,14.84,19.09,17.37,22.39,16.92,15.17,16.92,18.2,19.59,22.57,17.41,17.31,21.11,23.79,15.5,17.97,23.58,24.05,17.1,23.59,14.74],\"coloraxis\":\"coloraxis\",\"opacity\":1,\"symbol\":\"circle\"},\"mode\":\"markers+text\",\"name\":\"\",\"showlegend\":false,\"text\":[\"19.9 \\u00b0C\",\"17.9 \\u00b0C\",\"20.0 \\u00b0C\",\"19.7 \\u00b0C\",\"14.8 \\u00b0C\",\"19.1 \\u00b0C\",\"17.4 \\u00b0C\",\"22.4 \\u00b0C\",\"16.9 \\u00b0C\",\"15.2 \\u00b0C\",\"16.9 \\u00b0C\",\"18.2 \\u00b0C\",\"19.6 \\u00b0C\",\"22.6 \\u00b0C\",\"17.4 \\u00b0C\",\"17.3 \\u00b0C\",\"21.1 \\u00b0C\",\"23.8 \\u00b0C\",\"15.5 \\u00b0C\",\"18.0 \\u00b0C\",\"23.6 \\u00b0C\",\"24.0 \\u00b0C\",\"17.1 \\u00b0C\",\"23.6 \\u00b0C\",\"14.7 \\u00b0C\"],\"type\":\"scattergeo\"}],\"name\":\"2022-08-27 21:00:00\"},{\"data\":[{\"customdata\":[[\"Berlin\",\"\\u2601\\ufe0f\\ud83c\\udf19\",\"18.1 \\u00b0C\",\"Bedeckt\",\"it's bedtime\"],[\"Dresden\",\"\\u2601\\ufe0f\\ud83c\\udf19\",\"16.4 \\u00b0C\",\"\\u00dcberwiegend bew\\u00f6lkt\",\"it's bedtime\"],[\"Frankfurt am Main\",\"\\u2601\\ufe0f\\ud83c\\udf19\",\"18.2 \\u00b0C\",\"\\u00dcberwiegend bew\\u00f6lkt\",\"it's bedtime\"],[\"Freiburg im Breisgau\",\"\\u2601\\ufe0f\\ud83c\\udf19\",\"17.9 \\u00b0C\",\"M\\u00e4\\u00dfig bew\\u00f6lkt\",\"it's bedtime\"],[\"Kiel\",\"\\u2601\\ufe0f\\ud83c\\udf19\",\"12.2 \\u00b0C\",\"M\\u00e4\\u00dfig bew\\u00f6lkt\",\"it's bedtime\"],[\"K\\u00f6ln\",\"\\u2601\\ufe0f\\ud83c\\udf19\",\"16.7 \\u00b0C\",\"Ein paar Wolken\",\"it's bedtime\"],[\"Leipzig\",\"\\u2601\\ufe0f\\ud83c\\udf19\",\"16.5 \\u00b0C\",\"M\\u00e4\\u00dfig bew\\u00f6lkt\",\"it's bedtime\"],[\"Mannheim\",\"\\u2601\\ufe0f\\ud83c\\udf19\",\"21.1 \\u00b0C\",\"\\u00dcberwiegend bew\\u00f6lkt\",\"it's bedtime\"],[\"M\\u00fcnchen\",\"\\ud83c\\udf27\\ufe0f\\ud83c\\udf19\",\"15.9 \\u00b0C\",\"M\\u00e4\\u00dfiger Regen\",\"it's bedtime\"],[\"M\\u00fcnster\",\"\\ud83c\\udf15\",\"11.5 \\u00b0C\",\"Klarer Himmel\",\"it's bedtime\"],[\"Ravensburg\",\"\\u2601\\ufe0f\\ud83c\\udf19\",\"15.5 \\u00b0C\",\"Bedeckt\",\"it's bedtime\"],[\"Rostock\",\"\\u2601\\ufe0f\\ud83c\\udf19\",\"16.5 \\u00b0C\",\"Bedeckt\",\"it's bedtime\"],[\"Stuttgart\",\"\\u2601\\ufe0f\\ud83c\\udf19\",\"18.1 \\u00b0C\",\"M\\u00e4\\u00dfig bew\\u00f6lkt\",\"it's bedtime\"],[\"Paris\",\"\\ud83c\\udf15\",\"19.3 \\u00b0C\",\"Klarer Himmel\",\"it's bedtime\"],[\"London\",\"\\u2601\\ufe0f\\ud83c\\udf19\",\"16.3 \\u00b0C\",\"M\\u00e4\\u00dfig bew\\u00f6lkt\",\"it's bedtime\"],[\"Z\\u00fcrich\",\"\\u2601\\ufe0f\\ud83c\\udf19\",\"15.6 \\u00b0C\",\"\\u00dcberwiegend bew\\u00f6lkt\",\"it's bedtime\"],[\"Wien\",\"\\ud83c\\udf27\\ufe0f\\ud83c\\udf19\",\"19.5 \\u00b0C\",\"Leichter Regen\",\"it's bedtime\"],[\"Rom\",\"\\u2601\\ufe0f\\ud83c\\udf19\",\"22.7 \\u00b0C\",\"Ein paar Wolken\",\"it's bedtime\"],[\"Amsterdam\",\"\\ud83c\\udf15\",\"14.4 \\u00b0C\",\"Klarer Himmel\",\"it's bedtime\"],[\"Prag\",\"\\u2601\\ufe0f\\ud83c\\udf19\",\"16.4 \\u00b0C\",\"\\u00dcberwiegend bew\\u00f6lkt\",\"it's bedtime\"],[\"Mailand\",\"\\ud83c\\udf27\\ufe0f\\ud83c\\udf19\",\"22.2 \\u00b0C\",\"Leichter Regen\",\"it's bedtime\"],[\"Arrondissement de Marseille\",\"\\ud83c\\udf15\",\"23.3 \\u00b0C\",\"Klarer Himmel\",\"it's bedtime\"],[\"City of Brussels\",\"\\ud83c\\udf15\",\"14.4 \\u00b0C\",\"Klarer Himmel\",\"it's bedtime\"],[\"Warschau\",\"\\ud83c\\udf15\",\"22.0 \\u00b0C\",\"Klarer Himmel\",\"it's bedtime\"],[\"Hamburg\",\"\\u2601\\ufe0f\\ud83c\\udf19\",\"12.1 \\u00b0C\",\"M\\u00e4\\u00dfig bew\\u00f6lkt\",\"it's bedtime\"]],\"geo\":\"geo\",\"hovertemplate\":\"<b>%{customdata[0]}</b><br><br>%{customdata[1]}, %{customdata[2]}<br>%{customdata[3]}<br>%{customdata[4]}<br>\",\"hovertext\":[\"Berlin\",\"Dresden\",\"Frankfurt am Main\",\"Freiburg im Breisgau\",\"Kiel\",\"K\\u00f6ln\",\"Leipzig\",\"Mannheim\",\"M\\u00fcnchen\",\"M\\u00fcnster\",\"Ravensburg\",\"Rostock\",\"Stuttgart\",\"Paris\",\"London\",\"Z\\u00fcrich\",\"Wien\",\"Rom\",\"Amsterdam\",\"Prag\",\"Mailand\",\"Arrondissement de Marseille\",\"City of Brussels\",\"Warschau\",\"Hamburg\"],\"ids\":[\"Berlin\",\"Dresden\",\"Frankfurt am Main\",\"Freiburg im Breisgau\",\"Kiel\",\"K\\u00f6ln\",\"Leipzig\",\"Mannheim\",\"M\\u00fcnchen\",\"M\\u00fcnster\",\"Ravensburg\",\"Rostock\",\"Stuttgart\",\"Paris\",\"London\",\"Z\\u00fcrich\",\"Wien\",\"Rom\",\"Amsterdam\",\"Prag\",\"Mailand\",\"Arrondissement de Marseille\",\"City of Brussels\",\"Warschau\",\"Hamburg\"],\"lat\":[52.5244,51.0509,50.1167,47.9959,54.3213,50.9333,51.342,49.4883,48.1374,51.9624,47.7833,54.0887,48.7823,48.8534,51.5085,47.3667,48.2085,41.8947,52.374,50.088,45.4643,43.3333,50.8504,52.2298,53.55],\"legendgroup\":\"\",\"lon\":[13.4105,13.7383,8.6833,7.8522,10.1349,6.95,12.375,8.4647,11.5755,7.6257,9.6167,12.1405,9.177,2.3488,-0.1257,8.55,16.3721,12.4839,4.8897,14.4208,9.1895,5.5,4.3488,21.0118,10.0],\"marker\":{\"color\":[18.12,16.35,18.25,17.89,12.22,16.73,16.48,21.13,15.93,11.5,15.51,16.52,18.08,19.31,16.34,15.64,19.51,22.71,14.45,16.41,22.23,23.28,14.4,22.01,12.07],\"coloraxis\":\"coloraxis\",\"opacity\":1,\"symbol\":\"circle\"},\"mode\":\"markers+text\",\"name\":\"\",\"showlegend\":false,\"text\":[\"18.1 \\u00b0C\",\"16.4 \\u00b0C\",\"18.2 \\u00b0C\",\"17.9 \\u00b0C\",\"12.2 \\u00b0C\",\"16.7 \\u00b0C\",\"16.5 \\u00b0C\",\"21.1 \\u00b0C\",\"15.9 \\u00b0C\",\"11.5 \\u00b0C\",\"15.5 \\u00b0C\",\"16.5 \\u00b0C\",\"18.1 \\u00b0C\",\"19.3 \\u00b0C\",\"16.3 \\u00b0C\",\"15.6 \\u00b0C\",\"19.5 \\u00b0C\",\"22.7 \\u00b0C\",\"14.4 \\u00b0C\",\"16.4 \\u00b0C\",\"22.2 \\u00b0C\",\"23.3 \\u00b0C\",\"14.4 \\u00b0C\",\"22.0 \\u00b0C\",\"12.1 \\u00b0C\"],\"type\":\"scattergeo\"}],\"name\":\"2022-08-28 00:00:00\"},{\"data\":[{\"customdata\":[[\"Berlin\",\"\\u2601\\ufe0f\\ud83c\\udf19\",\"15.2 \\u00b0C\",\"M\\u00e4\\u00dfig bew\\u00f6lkt\",\"it's bedtime\"],[\"Dresden\",\"\\u2601\\ufe0f\\ud83c\\udf19\",\"16.1 \\u00b0C\",\"M\\u00e4\\u00dfig bew\\u00f6lkt\",\"it's bedtime\"],[\"Frankfurt am Main\",\"\\u2601\\ufe0f\\ud83c\\udf19\",\"16.4 \\u00b0C\",\"M\\u00e4\\u00dfig bew\\u00f6lkt\",\"it's bedtime\"],[\"Freiburg im Breisgau\",\"\\ud83c\\udf15\",\"16.8 \\u00b0C\",\"Klarer Himmel\",\"it's bedtime\"],[\"Kiel\",\"\\ud83c\\udf15\",\"11.5 \\u00b0C\",\"Klarer Himmel\",\"it's bedtime\"],[\"K\\u00f6ln\",\"\\ud83c\\udf15\",\"14.8 \\u00b0C\",\"Klarer Himmel\",\"it's bedtime\"],[\"Leipzig\",\"\\ud83c\\udf15\",\"13.9 \\u00b0C\",\"Klarer Himmel\",\"it's bedtime\"],[\"Mannheim\",\"\\ud83c\\udf15\",\"19.4 \\u00b0C\",\"Klarer Himmel\",\"it's bedtime\"],[\"M\\u00fcnchen\",\"\\ud83c\\udf27\\ufe0f\\ud83c\\udf19\",\"15.7 \\u00b0C\",\"Leichter Regen\",\"it's bedtime\"],[\"M\\u00fcnster\",\"\\ud83c\\udf15\",\"10.4 \\u00b0C\",\"Klarer Himmel\",\"it's bedtime\"],[\"Ravensburg\",\"\\u2601\\ufe0f\\ud83c\\udf19\",\"14.5 \\u00b0C\",\"\\u00dcberwiegend bew\\u00f6lkt\",\"it's bedtime\"],[\"Rostock\",\"\\u2601\\ufe0f\\ud83c\\udf19\",\"15.1 \\u00b0C\",\"\\u00dcberwiegend bew\\u00f6lkt\",\"it's bedtime\"],[\"Stuttgart\",\"\\u2601\\ufe0f\\ud83c\\udf19\",\"17.0 \\u00b0C\",\"Ein paar Wolken\",\"it's bedtime\"],[\"Paris\",\"\\ud83c\\udf15\",\"17.4 \\u00b0C\",\"Klarer Himmel\",\"it's bedtime\"],[\"London\",\"\\u2601\\ufe0f\\ud83c\\udf19\",\"15.5 \\u00b0C\",\"Ein paar Wolken\",\"it's bedtime\"],[\"Z\\u00fcrich\",\"\\u2601\\ufe0f\\ud83c\\udf19\",\"14.6 \\u00b0C\",\"M\\u00e4\\u00dfig bew\\u00f6lkt\",\"it's bedtime\"],[\"Wien\",\"\\u2601\\ufe0f\\ud83c\\udf19\",\"19.0 \\u00b0C\",\"Bedeckt\",\"it's bedtime\"],[\"Rom\",\"\\ud83c\\udf15\",\"22.1 \\u00b0C\",\"Klarer Himmel\",\"it's bedtime\"],[\"Amsterdam\",\"\\ud83c\\udf15\",\"13.8 \\u00b0C\",\"Klarer Himmel\",\"it's bedtime\"],[\"Prag\",\"\\u2601\\ufe0f\\ud83c\\udf19\",\"15.6 \\u00b0C\",\"Ein paar Wolken\",\"it's bedtime\"],[\"Mailand\",\"\\u2601\\ufe0f\\ud83c\\udf19\",\"21.3 \\u00b0C\",\"Bedeckt\",\"it's bedtime\"],[\"Arrondissement de Marseille\",\"\\u2601\\ufe0f\\ud83c\\udf19\",\"22.6 \\u00b0C\",\"M\\u00e4\\u00dfig bew\\u00f6lkt\",\"it's bedtime\"],[\"City of Brussels\",\"\\ud83c\\udf15\",\"12.6 \\u00b0C\",\"Klarer Himmel\",\"it's bedtime\"],[\"Warschau\",\"\\ud83c\\udf15\",\"20.7 \\u00b0C\",\"Klarer Himmel\",\"it's bedtime\"],[\"Hamburg\",\"\\ud83c\\udf15\",\"11.2 \\u00b0C\",\"Klarer Himmel\",\"it's bedtime\"]],\"geo\":\"geo\",\"hovertemplate\":\"<b>%{customdata[0]}</b><br><br>%{customdata[1]}, %{customdata[2]}<br>%{customdata[3]}<br>%{customdata[4]}<br>\",\"hovertext\":[\"Berlin\",\"Dresden\",\"Frankfurt am Main\",\"Freiburg im Breisgau\",\"Kiel\",\"K\\u00f6ln\",\"Leipzig\",\"Mannheim\",\"M\\u00fcnchen\",\"M\\u00fcnster\",\"Ravensburg\",\"Rostock\",\"Stuttgart\",\"Paris\",\"London\",\"Z\\u00fcrich\",\"Wien\",\"Rom\",\"Amsterdam\",\"Prag\",\"Mailand\",\"Arrondissement de Marseille\",\"City of Brussels\",\"Warschau\",\"Hamburg\"],\"ids\":[\"Berlin\",\"Dresden\",\"Frankfurt am Main\",\"Freiburg im Breisgau\",\"Kiel\",\"K\\u00f6ln\",\"Leipzig\",\"Mannheim\",\"M\\u00fcnchen\",\"M\\u00fcnster\",\"Ravensburg\",\"Rostock\",\"Stuttgart\",\"Paris\",\"London\",\"Z\\u00fcrich\",\"Wien\",\"Rom\",\"Amsterdam\",\"Prag\",\"Mailand\",\"Arrondissement de Marseille\",\"City of Brussels\",\"Warschau\",\"Hamburg\"],\"lat\":[52.5244,51.0509,50.1167,47.9959,54.3213,50.9333,51.342,49.4883,48.1374,51.9624,47.7833,54.0887,48.7823,48.8534,51.5085,47.3667,48.2085,41.8947,52.374,50.088,45.4643,43.3333,50.8504,52.2298,53.55],\"legendgroup\":\"\",\"lon\":[13.4105,13.7383,8.6833,7.8522,10.1349,6.95,12.375,8.4647,11.5755,7.6257,9.6167,12.1405,9.177,2.3488,-0.1257,8.55,16.3721,12.4839,4.8897,14.4208,9.1895,5.5,4.3488,21.0118,10.0],\"marker\":{\"color\":[15.21,16.11,16.36,16.77,11.51,14.79,13.88,19.42,15.66,10.4,14.54,15.07,17.01,17.44,15.52,14.63,19.02,22.09,13.75,15.64,21.26,22.58,12.64,20.73,11.16],\"coloraxis\":\"coloraxis\",\"opacity\":1,\"symbol\":\"circle\"},\"mode\":\"markers+text\",\"name\":\"\",\"showlegend\":false,\"text\":[\"15.2 \\u00b0C\",\"16.1 \\u00b0C\",\"16.4 \\u00b0C\",\"16.8 \\u00b0C\",\"11.5 \\u00b0C\",\"14.8 \\u00b0C\",\"13.9 \\u00b0C\",\"19.4 \\u00b0C\",\"15.7 \\u00b0C\",\"10.4 \\u00b0C\",\"14.5 \\u00b0C\",\"15.1 \\u00b0C\",\"17.0 \\u00b0C\",\"17.4 \\u00b0C\",\"15.5 \\u00b0C\",\"14.6 \\u00b0C\",\"19.0 \\u00b0C\",\"22.1 \\u00b0C\",\"13.8 \\u00b0C\",\"15.6 \\u00b0C\",\"21.3 \\u00b0C\",\"22.6 \\u00b0C\",\"12.6 \\u00b0C\",\"20.7 \\u00b0C\",\"11.2 \\u00b0C\"],\"type\":\"scattergeo\"}],\"name\":\"2022-08-28 03:00:00\"},{\"data\":[{\"customdata\":[[\"Berlin\",\"\\u2601\\ufe0f\",\"15.1 \\u00b0C\",\"M\\u00e4\\u00dfig bew\\u00f6lkt\",\"wear light clothes and don't forget your sunnies!<br>\"],[\"Dresden\",\"\\u2601\\ufe0f\",\"15.9 \\u00b0C\",\"\\u00dcberwiegend bew\\u00f6lkt\",\"wear light clothes and don't forget your sunnies!<br>\"],[\"Frankfurt am Main\",\"\\u2601\\ufe0f\",\"16.1 \\u00b0C\",\"\\u00dcberwiegend bew\\u00f6lkt\",\"wear light clothes and don't forget your sunnies!<br>\"],[\"Freiburg im Breisgau\",\"\\u2600\\ufe0f\",\"18.2 \\u00b0C\",\"Klarer Himmel\",\"wear light clothes and don't forget your sunnies!<br>\"],[\"Kiel\",\"\\u2600\\ufe0f\",\"14.0 \\u00b0C\",\"Klarer Himmel\",\"it's the perfect temperature to do something outside!<br>\"],[\"K\\u00f6ln\",\"\\u2600\\ufe0f\",\"14.9 \\u00b0C\",\"Klarer Himmel\",\"it's the perfect temperature to do something outside!<br>\"],[\"Leipzig\",\"\\u2600\\ufe0f\",\"14.7 \\u00b0C\",\"Klarer Himmel\",\"it's the perfect temperature to do something outside!<br>\"],[\"Mannheim\",\"\\u2601\\ufe0f\",\"18.7 \\u00b0C\",\"M\\u00e4\\u00dfig bew\\u00f6lkt\",\"wear light clothes and don't forget your sunnies!<br>\"],[\"M\\u00fcnchen\",\"\\ud83c\\udf26\\ufe0f\",\"16.6 \\u00b0C\",\"Leichter Regen\",\"wear light clothes and don't forget your sunnies!<br>take an umbrella or a rain jacket with you<br>\"],[\"M\\u00fcnster\",\"\\u2600\\ufe0f\",\"12.5 \\u00b0C\",\"Klarer Himmel\",\"it's the perfect temperature to do something outside!<br>\"],[\"Ravensburg\",\"\\u2601\\ufe0f\",\"15.8 \\u00b0C\",\"\\u00dcberwiegend bew\\u00f6lkt\",\"wear light clothes and don't forget your sunnies!<br>\"],[\"Rostock\",\"\\u2601\\ufe0f\",\"16.1 \\u00b0C\",\"M\\u00e4\\u00dfig bew\\u00f6lkt\",\"wear light clothes and don't forget your sunnies!<br>watch out - your hat may get blown off<br>\"],[\"Stuttgart\",\"\\ud83c\\udf24\\ufe0f\",\"18.1 \\u00b0C\",\"Ein paar Wolken\",\"wear light clothes and don't forget your sunnies!<br>\"],[\"Paris\",\"\\u2600\\ufe0f\",\"16.9 \\u00b0C\",\"Klarer Himmel\",\"wear light clothes and don't forget your sunnies!<br>\"],[\"London\",\"\\u2601\\ufe0f\",\"15.4 \\u00b0C\",\"M\\u00e4\\u00dfig bew\\u00f6lkt\",\"wear light clothes and don't forget your sunnies!<br>\"],[\"Z\\u00fcrich\",\"\\ud83c\\udf24\\ufe0f\",\"15.9 \\u00b0C\",\"Ein paar Wolken\",\"wear light clothes and don't forget your sunnies!<br>\"],[\"Wien\",\"\\u2601\\ufe0f\",\"19.4 \\u00b0C\",\"Bedeckt\",\"wear light clothes and don't forget your sunnies!<br>\"],[\"Rom\",\"\\u2601\\ufe0f\",\"23.7 \\u00b0C\",\"M\\u00e4\\u00dfig bew\\u00f6lkt\",\"wear light clothes and don't forget your sunnies!<br>\"],[\"Amsterdam\",\"\\u2600\\ufe0f\",\"14.8 \\u00b0C\",\"Klarer Himmel\",\"it's the perfect temperature to do something outside!<br>\"],[\"Prag\",\"\\u2601\\ufe0f\",\"17.2 \\u00b0C\",\"\\u00dcberwiegend bew\\u00f6lkt\",\"wear light clothes and don't forget your sunnies!<br>\"],[\"Mailand\",\"\\u2601\\ufe0f\",\"22.0 \\u00b0C\",\"Bedeckt\",\"wear light clothes and don't forget your sunnies!<br>\"],[\"Arrondissement de Marseille\",\"\\u2601\\ufe0f\",\"22.5 \\u00b0C\",\"M\\u00e4\\u00dfig bew\\u00f6lkt\",\"wear light clothes and don't forget your sunnies!<br>\"],[\"City of Brussels\",\"\\u2600\\ufe0f\",\"12.9 \\u00b0C\",\"Klarer Himmel\",\"it's the perfect temperature to do something outside!<br>\"],[\"Warschau\",\"\\ud83c\\udf24\\ufe0f\",\"22.6 \\u00b0C\",\"Ein paar Wolken\",\"wear light clothes and don't forget your sunnies!<br>\"],[\"Hamburg\",\"\\u2600\\ufe0f\",\"14.0 \\u00b0C\",\"Klarer Himmel\",\"it's the perfect temperature to do something outside!<br>\"]],\"geo\":\"geo\",\"hovertemplate\":\"<b>%{customdata[0]}</b><br><br>%{customdata[1]}, %{customdata[2]}<br>%{customdata[3]}<br>%{customdata[4]}<br>\",\"hovertext\":[\"Berlin\",\"Dresden\",\"Frankfurt am Main\",\"Freiburg im Breisgau\",\"Kiel\",\"K\\u00f6ln\",\"Leipzig\",\"Mannheim\",\"M\\u00fcnchen\",\"M\\u00fcnster\",\"Ravensburg\",\"Rostock\",\"Stuttgart\",\"Paris\",\"London\",\"Z\\u00fcrich\",\"Wien\",\"Rom\",\"Amsterdam\",\"Prag\",\"Mailand\",\"Arrondissement de Marseille\",\"City of Brussels\",\"Warschau\",\"Hamburg\"],\"ids\":[\"Berlin\",\"Dresden\",\"Frankfurt am Main\",\"Freiburg im Breisgau\",\"Kiel\",\"K\\u00f6ln\",\"Leipzig\",\"Mannheim\",\"M\\u00fcnchen\",\"M\\u00fcnster\",\"Ravensburg\",\"Rostock\",\"Stuttgart\",\"Paris\",\"London\",\"Z\\u00fcrich\",\"Wien\",\"Rom\",\"Amsterdam\",\"Prag\",\"Mailand\",\"Arrondissement de Marseille\",\"City of Brussels\",\"Warschau\",\"Hamburg\"],\"lat\":[52.5244,51.0509,50.1167,47.9959,54.3213,50.9333,51.342,49.4883,48.1374,51.9624,47.7833,54.0887,48.7823,48.8534,51.5085,47.3667,48.2085,41.8947,52.374,50.088,45.4643,43.3333,50.8504,52.2298,53.55],\"legendgroup\":\"\",\"lon\":[13.4105,13.7383,8.6833,7.8522,10.1349,6.95,12.375,8.4647,11.5755,7.6257,9.6167,12.1405,9.177,2.3488,-0.1257,8.55,16.3721,12.4839,4.8897,14.4208,9.1895,5.5,4.3488,21.0118,10.0],\"marker\":{\"color\":[15.13,15.86,16.1,18.19,14.02,14.92,14.68,18.71,16.55,12.51,15.83,16.11,18.06,16.87,15.39,15.94,19.37,23.69,14.78,17.21,21.96,22.53,12.9,22.56,13.96],\"coloraxis\":\"coloraxis\",\"opacity\":1,\"symbol\":\"circle\"},\"mode\":\"markers+text\",\"name\":\"\",\"showlegend\":false,\"text\":[\"15.1 \\u00b0C\",\"15.9 \\u00b0C\",\"16.1 \\u00b0C\",\"18.2 \\u00b0C\",\"14.0 \\u00b0C\",\"14.9 \\u00b0C\",\"14.7 \\u00b0C\",\"18.7 \\u00b0C\",\"16.6 \\u00b0C\",\"12.5 \\u00b0C\",\"15.8 \\u00b0C\",\"16.1 \\u00b0C\",\"18.1 \\u00b0C\",\"16.9 \\u00b0C\",\"15.4 \\u00b0C\",\"15.9 \\u00b0C\",\"19.4 \\u00b0C\",\"23.7 \\u00b0C\",\"14.8 \\u00b0C\",\"17.2 \\u00b0C\",\"22.0 \\u00b0C\",\"22.5 \\u00b0C\",\"12.9 \\u00b0C\",\"22.6 \\u00b0C\",\"14.0 \\u00b0C\"],\"type\":\"scattergeo\"}],\"name\":\"2022-08-28 06:00:00\"},{\"data\":[{\"customdata\":[[\"Berlin\",\"\\u2600\\ufe0f\",\"19.6 \\u00b0C\",\"Klarer Himmel\",\"wear light clothes and don't forget your sunnies!<br>\"],[\"Dresden\",\"\\ud83c\\udf24\\ufe0f\",\"19.0 \\u00b0C\",\"Ein paar Wolken\",\"wear light clothes and don't forget your sunnies!<br>\"],[\"Frankfurt am Main\",\"\\u2600\\ufe0f\",\"21.9 \\u00b0C\",\"Klarer Himmel\",\"wear light clothes and don't forget your sunnies!<br>\"],[\"Freiburg im Breisgau\",\"\\u2601\\ufe0f\",\"23.8 \\u00b0C\",\"M\\u00e4\\u00dfig bew\\u00f6lkt\",\"wear light clothes and don't forget your sunnies!<br>\"],[\"Kiel\",\"\\u2600\\ufe0f\",\"19.0 \\u00b0C\",\"Klarer Himmel\",\"wear light clothes and don't forget your sunnies!<br>watch out - your hat may get blown off<br>\"],[\"K\\u00f6ln\",\"\\u2600\\ufe0f\",\"20.2 \\u00b0C\",\"Klarer Himmel\",\"wear light clothes and don't forget your sunnies!<br>\"],[\"Leipzig\",\"\\ud83c\\udf24\\ufe0f\",\"19.1 \\u00b0C\",\"Ein paar Wolken\",\"wear light clothes and don't forget your sunnies!<br>\"],[\"Mannheim\",\"\\u2601\\ufe0f\",\"23.3 \\u00b0C\",\"\\u00dcberwiegend bew\\u00f6lkt\",\"wear light clothes and don't forget your sunnies!<br>\"],[\"M\\u00fcnchen\",\"\\u2601\\ufe0f\",\"20.5 \\u00b0C\",\"\\u00dcberwiegend bew\\u00f6lkt\",\"wear light clothes and don't forget your sunnies!<br>\"],[\"M\\u00fcnster\",\"\\u2600\\ufe0f\",\"19.4 \\u00b0C\",\"Klarer Himmel\",\"wear light clothes and don't forget your sunnies!<br>\"],[\"Ravensburg\",\"\\ud83c\\udf24\\ufe0f\",\"22.2 \\u00b0C\",\"Ein paar Wolken\",\"wear light clothes and don't forget your sunnies!<br>\"],[\"Rostock\",\"\\u2600\\ufe0f\",\"18.0 \\u00b0C\",\"Klarer Himmel\",\"wear light clothes and don't forget your sunnies!<br>watch out - your hat may get blown off<br>\"],[\"Stuttgart\",\"\\u2601\\ufe0f\",\"23.1 \\u00b0C\",\"M\\u00e4\\u00dfig bew\\u00f6lkt\",\"wear light clothes and don't forget your sunnies!<br>\"],[\"Paris\",\"\\ud83c\\udf24\\ufe0f\",\"22.7 \\u00b0C\",\"Ein paar Wolken\",\"wear light clothes and don't forget your sunnies!<br>\"],[\"London\",\"\\u2601\\ufe0f\",\"19.3 \\u00b0C\",\"\\u00dcberwiegend bew\\u00f6lkt\",\"wear light clothes and don't forget your sunnies!<br>\"],[\"Z\\u00fcrich\",\"\\u2600\\ufe0f\",\"22.3 \\u00b0C\",\"Klarer Himmel\",\"wear light clothes and don't forget your sunnies!<br>\"],[\"Wien\",\"\\u2601\\ufe0f\",\"21.5 \\u00b0C\",\"Bedeckt\",\"wear light clothes and don't forget your sunnies!<br>\"],[\"Rom\",\"\\u2601\\ufe0f\",\"29.6 \\u00b0C\",\"M\\u00e4\\u00dfig bew\\u00f6lkt\",\"wear light clothes, drink a lot of water and don't forget suncream<br>\"],[\"Amsterdam\",\"\\u2600\\ufe0f\",\"19.8 \\u00b0C\",\"Klarer Himmel\",\"wear light clothes and don't forget your sunnies!<br>\"],[\"Prag\",\"\\u2601\\ufe0f\",\"21.1 \\u00b0C\",\"\\u00dcberwiegend bew\\u00f6lkt\",\"wear light clothes and don't forget your sunnies!<br>\"],[\"Mailand\",\"\\u2601\\ufe0f\",\"27.3 \\u00b0C\",\"\\u00dcberwiegend bew\\u00f6lkt\",\"wear light clothes, drink a lot of water and don't forget suncream<br>\"],[\"Arrondissement de Marseille\",\"\\u2601\\ufe0f\",\"25.7 \\u00b0C\",\"Bedeckt\",\"wear light clothes, drink a lot of water and don't forget suncream<br>\"],[\"City of Brussels\",\"\\u2600\\ufe0f\",\"19.7 \\u00b0C\",\"Klarer Himmel\",\"wear light clothes and don't forget your sunnies!<br>watch out - your hat may get blown off<br>\"],[\"Warschau\",\"\\u2601\\ufe0f\",\"26.7 \\u00b0C\",\"\\u00dcberwiegend bew\\u00f6lkt\",\"wear light clothes, drink a lot of water and don't forget suncream<br>watch out - your hat may get blown off<br>\"],[\"Hamburg\",\"\\u2600\\ufe0f\",\"19.8 \\u00b0C\",\"Klarer Himmel\",\"wear light clothes and don't forget your sunnies!<br>\"]],\"geo\":\"geo\",\"hovertemplate\":\"<b>%{customdata[0]}</b><br><br>%{customdata[1]}, %{customdata[2]}<br>%{customdata[3]}<br>%{customdata[4]}<br>\",\"hovertext\":[\"Berlin\",\"Dresden\",\"Frankfurt am Main\",\"Freiburg im Breisgau\",\"Kiel\",\"K\\u00f6ln\",\"Leipzig\",\"Mannheim\",\"M\\u00fcnchen\",\"M\\u00fcnster\",\"Ravensburg\",\"Rostock\",\"Stuttgart\",\"Paris\",\"London\",\"Z\\u00fcrich\",\"Wien\",\"Rom\",\"Amsterdam\",\"Prag\",\"Mailand\",\"Arrondissement de Marseille\",\"City of Brussels\",\"Warschau\",\"Hamburg\"],\"ids\":[\"Berlin\",\"Dresden\",\"Frankfurt am Main\",\"Freiburg im Breisgau\",\"Kiel\",\"K\\u00f6ln\",\"Leipzig\",\"Mannheim\",\"M\\u00fcnchen\",\"M\\u00fcnster\",\"Ravensburg\",\"Rostock\",\"Stuttgart\",\"Paris\",\"London\",\"Z\\u00fcrich\",\"Wien\",\"Rom\",\"Amsterdam\",\"Prag\",\"Mailand\",\"Arrondissement de Marseille\",\"City of Brussels\",\"Warschau\",\"Hamburg\"],\"lat\":[52.5244,51.0509,50.1167,47.9959,54.3213,50.9333,51.342,49.4883,48.1374,51.9624,47.7833,54.0887,48.7823,48.8534,51.5085,47.3667,48.2085,41.8947,52.374,50.088,45.4643,43.3333,50.8504,52.2298,53.55],\"legendgroup\":\"\",\"lon\":[13.4105,13.7383,8.6833,7.8522,10.1349,6.95,12.375,8.4647,11.5755,7.6257,9.6167,12.1405,9.177,2.3488,-0.1257,8.55,16.3721,12.4839,4.8897,14.4208,9.1895,5.5,4.3488,21.0118,10.0],\"marker\":{\"color\":[19.57,18.97,21.9,23.81,18.96,20.17,19.08,23.31,20.53,19.42,22.21,18.05,23.09,22.71,19.31,22.33,21.54,29.6,19.8,21.11,27.31,25.72,19.74,26.72,19.79],\"coloraxis\":\"coloraxis\",\"opacity\":1,\"symbol\":\"circle\"},\"mode\":\"markers+text\",\"name\":\"\",\"showlegend\":false,\"text\":[\"19.6 \\u00b0C\",\"19.0 \\u00b0C\",\"21.9 \\u00b0C\",\"23.8 \\u00b0C\",\"19.0 \\u00b0C\",\"20.2 \\u00b0C\",\"19.1 \\u00b0C\",\"23.3 \\u00b0C\",\"20.5 \\u00b0C\",\"19.4 \\u00b0C\",\"22.2 \\u00b0C\",\"18.0 \\u00b0C\",\"23.1 \\u00b0C\",\"22.7 \\u00b0C\",\"19.3 \\u00b0C\",\"22.3 \\u00b0C\",\"21.5 \\u00b0C\",\"29.6 \\u00b0C\",\"19.8 \\u00b0C\",\"21.1 \\u00b0C\",\"27.3 \\u00b0C\",\"25.7 \\u00b0C\",\"19.7 \\u00b0C\",\"26.7 \\u00b0C\",\"19.8 \\u00b0C\"],\"type\":\"scattergeo\"}],\"name\":\"2022-08-28 09:00:00\"},{\"data\":[{\"customdata\":[[\"Berlin\",\"\\u2600\\ufe0f\",\"23.1 \\u00b0C\",\"Klarer Himmel\",\"wear light clothes and don't forget your sunnies!<br>\"],[\"Dresden\",\"\\u2600\\ufe0f\",\"22.0 \\u00b0C\",\"Klarer Himmel\",\"wear light clothes and don't forget your sunnies!<br>\"],[\"Frankfurt am Main\",\"\\u2600\\ufe0f\",\"26.1 \\u00b0C\",\"Klarer Himmel\",\"wear light clothes, drink a lot of water and don't forget suncream<br>\"],[\"Freiburg im Breisgau\",\"\\u2601\\ufe0f\",\"27.4 \\u00b0C\",\"M\\u00e4\\u00dfig bew\\u00f6lkt\",\"wear light clothes, drink a lot of water and don't forget suncream<br>\"],[\"Kiel\",\"\\u2600\\ufe0f\",\"20.4 \\u00b0C\",\"Klarer Himmel\",\"wear light clothes and don't forget your sunnies!<br>watch out - your hat may get blown off<br>\"],[\"K\\u00f6ln\",\"\\u2600\\ufe0f\",\"24.0 \\u00b0C\",\"Klarer Himmel\",\"wear light clothes and don't forget your sunnies!<br>\"],[\"Leipzig\",\"\\u2600\\ufe0f\",\"22.7 \\u00b0C\",\"Klarer Himmel\",\"wear light clothes and don't forget your sunnies!<br>\"],[\"Mannheim\",\"\\u2601\\ufe0f\",\"27.6 \\u00b0C\",\"M\\u00e4\\u00dfig bew\\u00f6lkt\",\"wear light clothes, drink a lot of water and don't forget suncream<br>\"],[\"M\\u00fcnchen\",\"\\u2601\\ufe0f\",\"24.4 \\u00b0C\",\"\\u00dcberwiegend bew\\u00f6lkt\",\"wear light clothes and don't forget your sunnies!<br>\"],[\"M\\u00fcnster\",\"\\u2600\\ufe0f\",\"23.6 \\u00b0C\",\"Klarer Himmel\",\"wear light clothes and don't forget your sunnies!<br>\"],[\"Ravensburg\",\"\\u2600\\ufe0f\",\"25.4 \\u00b0C\",\"Klarer Himmel\",\"wear light clothes, drink a lot of water and don't forget suncream<br>\"],[\"Rostock\",\"\\u2600\\ufe0f\",\"20.3 \\u00b0C\",\"Klarer Himmel\",\"wear light clothes and don't forget your sunnies!<br>watch out - your hat may get blown off<br>\"],[\"Stuttgart\",\"\\u2601\\ufe0f\",\"27.2 \\u00b0C\",\"\\u00dcberwiegend bew\\u00f6lkt\",\"wear light clothes, drink a lot of water and don't forget suncream<br>\"],[\"Paris\",\"\\u2601\\ufe0f\",\"27.4 \\u00b0C\",\"\\u00dcberwiegend bew\\u00f6lkt\",\"wear light clothes, drink a lot of water and don't forget suncream<br>\"],[\"London\",\"\\u2601\\ufe0f\",\"22.1 \\u00b0C\",\"Bedeckt\",\"wear light clothes and don't forget your sunnies!<br>\"],[\"Z\\u00fcrich\",\"\\ud83c\\udf24\\ufe0f\",\"26.6 \\u00b0C\",\"Ein paar Wolken\",\"wear light clothes, drink a lot of water and don't forget suncream<br>\"],[\"Wien\",\"\\u2601\\ufe0f\",\"24.8 \\u00b0C\",\"Bedeckt\",\"wear light clothes and don't forget your sunnies!<br>\"],[\"Rom\",\"\\u2601\\ufe0f\",\"31.7 \\u00b0C\",\"\\u00dcberwiegend bew\\u00f6lkt\",\"wear light clothes, drink a lot of water and don't forget suncream<br>\"],[\"Amsterdam\",\"\\u2601\\ufe0f\",\"19.8 \\u00b0C\",\"M\\u00e4\\u00dfig bew\\u00f6lkt\",\"wear light clothes and don't forget your sunnies!<br>\"],[\"Prag\",\"\\u2601\\ufe0f\",\"22.5 \\u00b0C\",\"\\u00dcberwiegend bew\\u00f6lkt\",\"wear light clothes and don't forget your sunnies!<br>\"],[\"Mailand\",\"\\u2601\\ufe0f\",\"31.2 \\u00b0C\",\"\\u00dcberwiegend bew\\u00f6lkt\",\"wear light clothes, drink a lot of water and don't forget suncream<br>\"],[\"Arrondissement de Marseille\",\"\\u2601\\ufe0f\",\"26.2 \\u00b0C\",\"Bedeckt\",\"wear light clothes, drink a lot of water and don't forget suncream<br>\"],[\"City of Brussels\",\"\\ud83c\\udf24\\ufe0f\",\"24.1 \\u00b0C\",\"Ein paar Wolken\",\"wear light clothes and don't forget your sunnies!<br>watch out - your hat may get blown off<br>\"],[\"Warschau\",\"\\ud83c\\udf26\\ufe0f\",\"22.0 \\u00b0C\",\"Leichter Regen\",\"wear light clothes and don't forget your sunnies!<br>take an umbrella or a rain jacket with you<br>\"],[\"Hamburg\",\"\\u2600\\ufe0f\",\"19.5 \\u00b0C\",\"Klarer Himmel\",\"wear light clothes and don't forget your sunnies!<br>watch out - your hat may get blown off<br>\"]],\"geo\":\"geo\",\"hovertemplate\":\"<b>%{customdata[0]}</b><br><br>%{customdata[1]}, %{customdata[2]}<br>%{customdata[3]}<br>%{customdata[4]}<br>\",\"hovertext\":[\"Berlin\",\"Dresden\",\"Frankfurt am Main\",\"Freiburg im Breisgau\",\"Kiel\",\"K\\u00f6ln\",\"Leipzig\",\"Mannheim\",\"M\\u00fcnchen\",\"M\\u00fcnster\",\"Ravensburg\",\"Rostock\",\"Stuttgart\",\"Paris\",\"London\",\"Z\\u00fcrich\",\"Wien\",\"Rom\",\"Amsterdam\",\"Prag\",\"Mailand\",\"Arrondissement de Marseille\",\"City of Brussels\",\"Warschau\",\"Hamburg\"],\"ids\":[\"Berlin\",\"Dresden\",\"Frankfurt am Main\",\"Freiburg im Breisgau\",\"Kiel\",\"K\\u00f6ln\",\"Leipzig\",\"Mannheim\",\"M\\u00fcnchen\",\"M\\u00fcnster\",\"Ravensburg\",\"Rostock\",\"Stuttgart\",\"Paris\",\"London\",\"Z\\u00fcrich\",\"Wien\",\"Rom\",\"Amsterdam\",\"Prag\",\"Mailand\",\"Arrondissement de Marseille\",\"City of Brussels\",\"Warschau\",\"Hamburg\"],\"lat\":[52.5244,51.0509,50.1167,47.9959,54.3213,50.9333,51.342,49.4883,48.1374,51.9624,47.7833,54.0887,48.7823,48.8534,51.5085,47.3667,48.2085,41.8947,52.374,50.088,45.4643,43.3333,50.8504,52.2298,53.55],\"legendgroup\":\"\",\"lon\":[13.4105,13.7383,8.6833,7.8522,10.1349,6.95,12.375,8.4647,11.5755,7.6257,9.6167,12.1405,9.177,2.3488,-0.1257,8.55,16.3721,12.4839,4.8897,14.4208,9.1895,5.5,4.3488,21.0118,10.0],\"marker\":{\"color\":[23.06,22.05,26.12,27.44,20.38,24.05,22.66,27.55,24.4,23.57,25.38,20.27,27.18,27.42,22.07,26.57,24.78,31.71,19.85,22.48,31.23,26.21,24.08,22.05,19.46],\"coloraxis\":\"coloraxis\",\"opacity\":1,\"symbol\":\"circle\"},\"mode\":\"markers+text\",\"name\":\"\",\"showlegend\":false,\"text\":[\"23.1 \\u00b0C\",\"22.0 \\u00b0C\",\"26.1 \\u00b0C\",\"27.4 \\u00b0C\",\"20.4 \\u00b0C\",\"24.0 \\u00b0C\",\"22.7 \\u00b0C\",\"27.6 \\u00b0C\",\"24.4 \\u00b0C\",\"23.6 \\u00b0C\",\"25.4 \\u00b0C\",\"20.3 \\u00b0C\",\"27.2 \\u00b0C\",\"27.4 \\u00b0C\",\"22.1 \\u00b0C\",\"26.6 \\u00b0C\",\"24.8 \\u00b0C\",\"31.7 \\u00b0C\",\"19.8 \\u00b0C\",\"22.5 \\u00b0C\",\"31.2 \\u00b0C\",\"26.2 \\u00b0C\",\"24.1 \\u00b0C\",\"22.0 \\u00b0C\",\"19.5 \\u00b0C\"],\"type\":\"scattergeo\"}],\"name\":\"2022-08-28 12:00:00\"},{\"data\":[{\"customdata\":[[\"Berlin\",\"\\u2600\\ufe0f\",\"23.5 \\u00b0C\",\"Klarer Himmel\",\"wear light clothes and don't forget your sunnies!<br>\"],[\"Dresden\",\"\\u2600\\ufe0f\",\"22.5 \\u00b0C\",\"Klarer Himmel\",\"wear light clothes and don't forget your sunnies!<br>\"],[\"Frankfurt am Main\",\"\\u2600\\ufe0f\",\"27.2 \\u00b0C\",\"Klarer Himmel\",\"wear light clothes, drink a lot of water and don't forget suncream<br>\"],[\"Freiburg im Breisgau\",\"\\ud83c\\udf26\\ufe0f\",\"27.1 \\u00b0C\",\"Leichter Regen\",\"wear light clothes, drink a lot of water and don't forget suncream<br>take an umbrella or a rain jacket with you<br>\"],[\"Kiel\",\"\\u2600\\ufe0f\",\"19.7 \\u00b0C\",\"Klarer Himmel\",\"wear light clothes and don't forget your sunnies!<br>watch out - your hat may get blown off<br>\"],[\"K\\u00f6ln\",\"\\u2600\\ufe0f\",\"25.0 \\u00b0C\",\"Klarer Himmel\",\"wear light clothes, drink a lot of water and don't forget suncream<br>\"],[\"Leipzig\",\"\\u2600\\ufe0f\",\"23.7 \\u00b0C\",\"Klarer Himmel\",\"wear light clothes and don't forget your sunnies!<br>\"],[\"Mannheim\",\"\\u2600\\ufe0f\",\"28.7 \\u00b0C\",\"Klarer Himmel\",\"wear light clothes, drink a lot of water and don't forget suncream<br>\"],[\"M\\u00fcnchen\",\"\\ud83c\\udf24\\ufe0f\",\"24.6 \\u00b0C\",\"Ein paar Wolken\",\"wear light clothes and don't forget your sunnies!<br>\"],[\"M\\u00fcnster\",\"\\u2600\\ufe0f\",\"22.9 \\u00b0C\",\"Klarer Himmel\",\"wear light clothes and don't forget your sunnies!<br>watch out - your hat may get blown off<br>\"],[\"Ravensburg\",\"\\u2600\\ufe0f\",\"25.0 \\u00b0C\",\"Klarer Himmel\",\"wear light clothes and don't forget your sunnies!<br>\"],[\"Rostock\",\"\\u2600\\ufe0f\",\"20.4 \\u00b0C\",\"Klarer Himmel\",\"wear light clothes and don't forget your sunnies!<br>watch out - your hat may get blown off<br>\"],[\"Stuttgart\",\"\\u2601\\ufe0f\",\"28.0 \\u00b0C\",\"M\\u00e4\\u00dfig bew\\u00f6lkt\",\"wear light clothes, drink a lot of water and don't forget suncream<br>\"],[\"Paris\",\"\\u2601\\ufe0f\",\"29.1 \\u00b0C\",\"Bedeckt\",\"wear light clothes, drink a lot of water and don't forget suncream<br>\"],[\"London\",\"\\u2601\\ufe0f\",\"22.2 \\u00b0C\",\"Bedeckt\",\"wear light clothes and don't forget your sunnies!<br>\"],[\"Z\\u00fcrich\",\"\\ud83c\\udf24\\ufe0f\",\"27.2 \\u00b0C\",\"Ein paar Wolken\",\"wear light clothes, drink a lot of water and don't forget suncream<br>\"],[\"Wien\",\"\\u2601\\ufe0f\",\"25.5 \\u00b0C\",\"Bedeckt\",\"wear light clothes, drink a lot of water and don't forget suncream<br>\"],[\"Rom\",\"\\u2601\\ufe0f\",\"30.0 \\u00b0C\",\"M\\u00e4\\u00dfig bew\\u00f6lkt\",\"wear light clothes, drink a lot of water and don't forget suncream<br>watch out - your hat may get blown off<br>\"],[\"Amsterdam\",\"\\u2601\\ufe0f\",\"19.2 \\u00b0C\",\"Bedeckt\",\"wear light clothes and don't forget your sunnies!<br>\"],[\"Prag\",\"\\u2601\\ufe0f\",\"23.1 \\u00b0C\",\"Bedeckt\",\"wear light clothes and don't forget your sunnies!<br>\"],[\"Mailand\",\"\\u2600\\ufe0f\",\"32.0 \\u00b0C\",\"Klarer Himmel\",\"wear light clothes, drink a lot of water and don't forget suncream<br>\"],[\"Arrondissement de Marseille\",\"\\u2601\\ufe0f\",\"26.4 \\u00b0C\",\"\\u00dcberwiegend bew\\u00f6lkt\",\"wear light clothes, drink a lot of water and don't forget suncream<br>\"],[\"City of Brussels\",\"\\u2601\\ufe0f\",\"24.9 \\u00b0C\",\"\\u00dcberwiegend bew\\u00f6lkt\",\"wear light clothes and don't forget your sunnies!<br>\"],[\"Warschau\",\"\\u2601\\ufe0f\",\"20.6 \\u00b0C\",\"Bedeckt\",\"wear light clothes and don't forget your sunnies!<br>\"],[\"Hamburg\",\"\\u2601\\ufe0f\",\"17.8 \\u00b0C\",\"\\u00dcberwiegend bew\\u00f6lkt\",\"wear light clothes and don't forget your sunnies!<br>watch out - your hat may get blown off<br>\"]],\"geo\":\"geo\",\"hovertemplate\":\"<b>%{customdata[0]}</b><br><br>%{customdata[1]}, %{customdata[2]}<br>%{customdata[3]}<br>%{customdata[4]}<br>\",\"hovertext\":[\"Berlin\",\"Dresden\",\"Frankfurt am Main\",\"Freiburg im Breisgau\",\"Kiel\",\"K\\u00f6ln\",\"Leipzig\",\"Mannheim\",\"M\\u00fcnchen\",\"M\\u00fcnster\",\"Ravensburg\",\"Rostock\",\"Stuttgart\",\"Paris\",\"London\",\"Z\\u00fcrich\",\"Wien\",\"Rom\",\"Amsterdam\",\"Prag\",\"Mailand\",\"Arrondissement de Marseille\",\"City of Brussels\",\"Warschau\",\"Hamburg\"],\"ids\":[\"Berlin\",\"Dresden\",\"Frankfurt am Main\",\"Freiburg im Breisgau\",\"Kiel\",\"K\\u00f6ln\",\"Leipzig\",\"Mannheim\",\"M\\u00fcnchen\",\"M\\u00fcnster\",\"Ravensburg\",\"Rostock\",\"Stuttgart\",\"Paris\",\"London\",\"Z\\u00fcrich\",\"Wien\",\"Rom\",\"Amsterdam\",\"Prag\",\"Mailand\",\"Arrondissement de Marseille\",\"City of Brussels\",\"Warschau\",\"Hamburg\"],\"lat\":[52.5244,51.0509,50.1167,47.9959,54.3213,50.9333,51.342,49.4883,48.1374,51.9624,47.7833,54.0887,48.7823,48.8534,51.5085,47.3667,48.2085,41.8947,52.374,50.088,45.4643,43.3333,50.8504,52.2298,53.55],\"legendgroup\":\"\",\"lon\":[13.4105,13.7383,8.6833,7.8522,10.1349,6.95,12.375,8.4647,11.5755,7.6257,9.6167,12.1405,9.177,2.3488,-0.1257,8.55,16.3721,12.4839,4.8897,14.4208,9.1895,5.5,4.3488,21.0118,10.0],\"marker\":{\"color\":[23.53,22.51,27.15,27.14,19.66,25.05,23.71,28.7,24.63,22.88,25.0,20.4,27.98,29.14,22.16,27.16,25.49,30.02,19.18,23.14,32.05,26.35,24.92,20.64,17.84],\"coloraxis\":\"coloraxis\",\"opacity\":1,\"symbol\":\"circle\"},\"mode\":\"markers+text\",\"name\":\"\",\"showlegend\":false,\"text\":[\"23.5 \\u00b0C\",\"22.5 \\u00b0C\",\"27.2 \\u00b0C\",\"27.1 \\u00b0C\",\"19.7 \\u00b0C\",\"25.0 \\u00b0C\",\"23.7 \\u00b0C\",\"28.7 \\u00b0C\",\"24.6 \\u00b0C\",\"22.9 \\u00b0C\",\"25.0 \\u00b0C\",\"20.4 \\u00b0C\",\"28.0 \\u00b0C\",\"29.1 \\u00b0C\",\"22.2 \\u00b0C\",\"27.2 \\u00b0C\",\"25.5 \\u00b0C\",\"30.0 \\u00b0C\",\"19.2 \\u00b0C\",\"23.1 \\u00b0C\",\"32.0 \\u00b0C\",\"26.4 \\u00b0C\",\"24.9 \\u00b0C\",\"20.6 \\u00b0C\",\"17.8 \\u00b0C\"],\"type\":\"scattergeo\"}],\"name\":\"2022-08-28 15:00:00\"},{\"data\":[{\"customdata\":[[\"Berlin\",\"\\u2600\\ufe0f\",\"20.5 \\u00b0C\",\"Klarer Himmel\",\"wear light clothes and don't forget your sunnies!<br>\"],[\"Dresden\",\"\\u2600\\ufe0f\",\"18.5 \\u00b0C\",\"Klarer Himmel\",\"wear light clothes and don't forget your sunnies!<br>\"],[\"Frankfurt am Main\",\"\\u2600\\ufe0f\",\"23.5 \\u00b0C\",\"Klarer Himmel\",\"wear light clothes and don't forget your sunnies!<br>\"],[\"Freiburg im Breisgau\",\"\\u2601\\ufe0f\",\"21.9 \\u00b0C\",\"M\\u00e4\\u00dfig bew\\u00f6lkt\",\"wear light clothes and don't forget your sunnies!<br>\"],[\"Kiel\",\"\\u2600\\ufe0f\",\"16.1 \\u00b0C\",\"Klarer Himmel\",\"wear light clothes and don't forget your sunnies!<br>watch out - your hat may get blown off<br>\"],[\"K\\u00f6ln\",\"\\ud83c\\udf24\\ufe0f\",\"22.0 \\u00b0C\",\"Ein paar Wolken\",\"wear light clothes and don't forget your sunnies!<br>\"],[\"Leipzig\",\"\\u2600\\ufe0f\",\"19.3 \\u00b0C\",\"Klarer Himmel\",\"wear light clothes and don't forget your sunnies!<br>\"],[\"Mannheim\",\"\\u2600\\ufe0f\",\"25.6 \\u00b0C\",\"Klarer Himmel\",\"wear light clothes, drink a lot of water and don't forget suncream<br>\"],[\"M\\u00fcnchen\",\"\\ud83c\\udf24\\ufe0f\",\"19.2 \\u00b0C\",\"Ein paar Wolken\",\"wear light clothes and don't forget your sunnies!<br>\"],[\"M\\u00fcnster\",\"\\u2600\\ufe0f\",\"17.8 \\u00b0C\",\"Klarer Himmel\",\"wear light clothes and don't forget your sunnies!<br>watch out - your hat may get blown off<br>\"],[\"Ravensburg\",\"\\u2600\\ufe0f\",\"19.5 \\u00b0C\",\"Klarer Himmel\",\"wear light clothes and don't forget your sunnies!<br>\"],[\"Rostock\",\"\\u2600\\ufe0f\",\"17.5 \\u00b0C\",\"Klarer Himmel\",\"wear light clothes and don't forget your sunnies!<br>watch out - your hat may get blown off<br>\"],[\"Stuttgart\",\"\\u2601\\ufe0f\",\"23.6 \\u00b0C\",\"\\u00dcberwiegend bew\\u00f6lkt\",\"wear light clothes and don't forget your sunnies!<br>\"],[\"Paris\",\"\\u2601\\ufe0f\",\"26.8 \\u00b0C\",\"Bedeckt\",\"wear light clothes, drink a lot of water and don't forget suncream<br>\"],[\"London\",\"\\u2601\\ufe0f\",\"19.5 \\u00b0C\",\"Bedeckt\",\"wear light clothes and don't forget your sunnies!<br>\"],[\"Z\\u00fcrich\",\"\\u2600\\ufe0f\",\"20.6 \\u00b0C\",\"Klarer Himmel\",\"wear light clothes and don't forget your sunnies!<br>\"],[\"Wien\",\"\\u2601\\ufe0f\\ud83c\\udf19\",\"22.4 \\u00b0C\",\"Bedeckt\",\"it's bedtime\"],[\"Rom\",\"\\u2601\\ufe0f\\ud83c\\udf19\",\"26.5 \\u00b0C\",\"M\\u00e4\\u00dfig bew\\u00f6lkt\",\"it's bedtime\"],[\"Amsterdam\",\"\\u2601\\ufe0f\",\"17.3 \\u00b0C\",\"\\u00dcberwiegend bew\\u00f6lkt\",\"wear light clothes and don't forget your sunnies!<br>\"],[\"Prag\",\"\\u2601\\ufe0f\\ud83c\\udf19\",\"19.0 \\u00b0C\",\"\\u00dcberwiegend bew\\u00f6lkt\",\"it's bedtime\"],[\"Mailand\",\"\\u2600\\ufe0f\",\"27.6 \\u00b0C\",\"Klarer Himmel\",\"wear light clothes, drink a lot of water and don't forget suncream<br>\"],[\"Arrondissement de Marseille\",\"\\u2601\\ufe0f\",\"24.8 \\u00b0C\",\"M\\u00e4\\u00dfig bew\\u00f6lkt\",\"wear light clothes and don't forget your sunnies!<br>\"],[\"City of Brussels\",\"\\u2601\\ufe0f\",\"21.7 \\u00b0C\",\"\\u00dcberwiegend bew\\u00f6lkt\",\"wear light clothes and don't forget your sunnies!<br>watch out - your hat may get blown off<br>\"],[\"Warschau\",\"\\u2601\\ufe0f\\ud83c\\udf19\",\"20.4 \\u00b0C\",\"Bedeckt\",\"it's bedtime\"],[\"Hamburg\",\"\\u2601\\ufe0f\",\"15.6 \\u00b0C\",\"\\u00dcberwiegend bew\\u00f6lkt\",\"wear light clothes and don't forget your sunnies!<br>\"]],\"geo\":\"geo\",\"hovertemplate\":\"<b>%{customdata[0]}</b><br><br>%{customdata[1]}, %{customdata[2]}<br>%{customdata[3]}<br>%{customdata[4]}<br>\",\"hovertext\":[\"Berlin\",\"Dresden\",\"Frankfurt am Main\",\"Freiburg im Breisgau\",\"Kiel\",\"K\\u00f6ln\",\"Leipzig\",\"Mannheim\",\"M\\u00fcnchen\",\"M\\u00fcnster\",\"Ravensburg\",\"Rostock\",\"Stuttgart\",\"Paris\",\"London\",\"Z\\u00fcrich\",\"Wien\",\"Rom\",\"Amsterdam\",\"Prag\",\"Mailand\",\"Arrondissement de Marseille\",\"City of Brussels\",\"Warschau\",\"Hamburg\"],\"ids\":[\"Berlin\",\"Dresden\",\"Frankfurt am Main\",\"Freiburg im Breisgau\",\"Kiel\",\"K\\u00f6ln\",\"Leipzig\",\"Mannheim\",\"M\\u00fcnchen\",\"M\\u00fcnster\",\"Ravensburg\",\"Rostock\",\"Stuttgart\",\"Paris\",\"London\",\"Z\\u00fcrich\",\"Wien\",\"Rom\",\"Amsterdam\",\"Prag\",\"Mailand\",\"Arrondissement de Marseille\",\"City of Brussels\",\"Warschau\",\"Hamburg\"],\"lat\":[52.5244,51.0509,50.1167,47.9959,54.3213,50.9333,51.342,49.4883,48.1374,51.9624,47.7833,54.0887,48.7823,48.8534,51.5085,47.3667,48.2085,41.8947,52.374,50.088,45.4643,43.3333,50.8504,52.2298,53.55],\"legendgroup\":\"\",\"lon\":[13.4105,13.7383,8.6833,7.8522,10.1349,6.95,12.375,8.4647,11.5755,7.6257,9.6167,12.1405,9.177,2.3488,-0.1257,8.55,16.3721,12.4839,4.8897,14.4208,9.1895,5.5,4.3488,21.0118,10.0],\"marker\":{\"color\":[20.53,18.52,23.46,21.88,16.06,22.05,19.29,25.58,19.23,17.81,19.46,17.51,23.61,26.75,19.46,20.59,22.38,26.46,17.29,19.02,27.57,24.75,21.74,20.43,15.6],\"coloraxis\":\"coloraxis\",\"opacity\":1,\"symbol\":\"circle\"},\"mode\":\"markers+text\",\"name\":\"\",\"showlegend\":false,\"text\":[\"20.5 \\u00b0C\",\"18.5 \\u00b0C\",\"23.5 \\u00b0C\",\"21.9 \\u00b0C\",\"16.1 \\u00b0C\",\"22.0 \\u00b0C\",\"19.3 \\u00b0C\",\"25.6 \\u00b0C\",\"19.2 \\u00b0C\",\"17.8 \\u00b0C\",\"19.5 \\u00b0C\",\"17.5 \\u00b0C\",\"23.6 \\u00b0C\",\"26.8 \\u00b0C\",\"19.5 \\u00b0C\",\"20.6 \\u00b0C\",\"22.4 \\u00b0C\",\"26.5 \\u00b0C\",\"17.3 \\u00b0C\",\"19.0 \\u00b0C\",\"27.6 \\u00b0C\",\"24.8 \\u00b0C\",\"21.7 \\u00b0C\",\"20.4 \\u00b0C\",\"15.6 \\u00b0C\"],\"type\":\"scattergeo\"}],\"name\":\"2022-08-28 18:00:00\"},{\"data\":[{\"customdata\":[[\"Berlin\",\"\\ud83c\\udf15\",\"16.6 \\u00b0C\",\"Klarer Himmel\",\"it's bedtime\"],[\"Dresden\",\"\\ud83c\\udf15\",\"16.8 \\u00b0C\",\"Klarer Himmel\",\"it's bedtime\"],[\"Frankfurt am Main\",\"\\u2601\\ufe0f\\ud83c\\udf19\",\"19.0 \\u00b0C\",\"M\\u00e4\\u00dfig bew\\u00f6lkt\",\"it's bedtime\"],[\"Freiburg im Breisgau\",\"\\u2601\\ufe0f\\ud83c\\udf19\",\"19.3 \\u00b0C\",\"\\u00dcberwiegend bew\\u00f6lkt\",\"it's bedtime\"],[\"Kiel\",\"\\u2601\\ufe0f\\ud83c\\udf19\",\"15.6 \\u00b0C\",\"Bedeckt\",\"it's bedtime\"],[\"K\\u00f6ln\",\"\\u2601\\ufe0f\\ud83c\\udf19\",\"17.9 \\u00b0C\",\"Bedeckt\",\"it's bedtime\"],[\"Leipzig\",\"\\ud83c\\udf15\",\"16.1 \\u00b0C\",\"Klarer Himmel\",\"it's bedtime\"],[\"Mannheim\",\"\\u2601\\ufe0f\\ud83c\\udf19\",\"22.3 \\u00b0C\",\"M\\u00e4\\u00dfig bew\\u00f6lkt\",\"it's bedtime\"],[\"M\\u00fcnchen\",\"\\ud83c\\udf15\",\"17.0 \\u00b0C\",\"Klarer Himmel\",\"it's bedtime\"],[\"M\\u00fcnster\",\"\\ud83c\\udf15\",\"12.2 \\u00b0C\",\"Klarer Himmel\",\"it's bedtime\"],[\"Ravensburg\",\"\\ud83c\\udf15\",\"16.4 \\u00b0C\",\"Klarer Himmel\",\"it's bedtime\"],[\"Rostock\",\"\\u2601\\ufe0f\\ud83c\\udf19\",\"15.5 \\u00b0C\",\"Ein paar Wolken\",\"it's bedtime\"],[\"Stuttgart\",\"\\ud83c\\udf27\\ufe0f\\ud83c\\udf19\",\"21.4 \\u00b0C\",\"Leichter Regen\",\"it's bedtime\"],[\"Paris\",\"\\u2601\\ufe0f\\ud83c\\udf19\",\"23.1 \\u00b0C\",\"Bedeckt\",\"it's bedtime\"],[\"London\",\"\\u2601\\ufe0f\\ud83c\\udf19\",\"17.7 \\u00b0C\",\"Bedeckt\",\"it's bedtime\"],[\"Z\\u00fcrich\",\"\\ud83c\\udf15\",\"17.1 \\u00b0C\",\"Klarer Himmel\",\"it's bedtime\"],[\"Wien\",\"\\u2601\\ufe0f\\ud83c\\udf19\",\"20.7 \\u00b0C\",\"Bedeckt\",\"it's bedtime\"],[\"Rom\",\"\\ud83c\\udf15\",\"24.6 \\u00b0C\",\"Klarer Himmel\",\"it's bedtime\"],[\"Amsterdam\",\"\\u2601\\ufe0f\\ud83c\\udf19\",\"14.3 \\u00b0C\",\"\\u00dcberwiegend bew\\u00f6lkt\",\"it's bedtime\"],[\"Prag\",\"\\ud83c\\udf15\",\"16.6 \\u00b0C\",\"Klarer Himmel\",\"it's bedtime\"],[\"Mailand\",\"\\ud83c\\udf27\\ufe0f\\ud83c\\udf19\",\"25.2 \\u00b0C\",\"Leichter Regen\",\"it's bedtime\"],[\"Arrondissement de Marseille\",\"\\ud83c\\udf15\",\"23.6 \\u00b0C\",\"Klarer Himmel\",\"it's bedtime\"],[\"City of Brussels\",\"\\u2601\\ufe0f\\ud83c\\udf19\",\"17.0 \\u00b0C\",\"Bedeckt\",\"it's bedtime\"],[\"Warschau\",\"\\u2601\\ufe0f\\ud83c\\udf19\",\"19.2 \\u00b0C\",\"Bedeckt\",\"it's bedtime\"],[\"Hamburg\",\"\\u2601\\ufe0f\\ud83c\\udf19\",\"14.9 \\u00b0C\",\"M\\u00e4\\u00dfig bew\\u00f6lkt\",\"it's bedtime\"]],\"geo\":\"geo\",\"hovertemplate\":\"<b>%{customdata[0]}</b><br><br>%{customdata[1]}, %{customdata[2]}<br>%{customdata[3]}<br>%{customdata[4]}<br>\",\"hovertext\":[\"Berlin\",\"Dresden\",\"Frankfurt am Main\",\"Freiburg im Breisgau\",\"Kiel\",\"K\\u00f6ln\",\"Leipzig\",\"Mannheim\",\"M\\u00fcnchen\",\"M\\u00fcnster\",\"Ravensburg\",\"Rostock\",\"Stuttgart\",\"Paris\",\"London\",\"Z\\u00fcrich\",\"Wien\",\"Rom\",\"Amsterdam\",\"Prag\",\"Mailand\",\"Arrondissement de Marseille\",\"City of Brussels\",\"Warschau\",\"Hamburg\"],\"ids\":[\"Berlin\",\"Dresden\",\"Frankfurt am Main\",\"Freiburg im Breisgau\",\"Kiel\",\"K\\u00f6ln\",\"Leipzig\",\"Mannheim\",\"M\\u00fcnchen\",\"M\\u00fcnster\",\"Ravensburg\",\"Rostock\",\"Stuttgart\",\"Paris\",\"London\",\"Z\\u00fcrich\",\"Wien\",\"Rom\",\"Amsterdam\",\"Prag\",\"Mailand\",\"Arrondissement de Marseille\",\"City of Brussels\",\"Warschau\",\"Hamburg\"],\"lat\":[52.5244,51.0509,50.1167,47.9959,54.3213,50.9333,51.342,49.4883,48.1374,51.9624,47.7833,54.0887,48.7823,48.8534,51.5085,47.3667,48.2085,41.8947,52.374,50.088,45.4643,43.3333,50.8504,52.2298,53.55],\"legendgroup\":\"\",\"lon\":[13.4105,13.7383,8.6833,7.8522,10.1349,6.95,12.375,8.4647,11.5755,7.6257,9.6167,12.1405,9.177,2.3488,-0.1257,8.55,16.3721,12.4839,4.8897,14.4208,9.1895,5.5,4.3488,21.0118,10.0],\"marker\":{\"color\":[16.64,16.8,18.97,19.26,15.59,17.89,16.07,22.33,16.97,12.15,16.36,15.51,21.43,23.14,17.7,17.1,20.67,24.55,14.34,16.59,25.19,23.58,16.96,19.16,14.91],\"coloraxis\":\"coloraxis\",\"opacity\":1,\"symbol\":\"circle\"},\"mode\":\"markers+text\",\"name\":\"\",\"showlegend\":false,\"text\":[\"16.6 \\u00b0C\",\"16.8 \\u00b0C\",\"19.0 \\u00b0C\",\"19.3 \\u00b0C\",\"15.6 \\u00b0C\",\"17.9 \\u00b0C\",\"16.1 \\u00b0C\",\"22.3 \\u00b0C\",\"17.0 \\u00b0C\",\"12.2 \\u00b0C\",\"16.4 \\u00b0C\",\"15.5 \\u00b0C\",\"21.4 \\u00b0C\",\"23.1 \\u00b0C\",\"17.7 \\u00b0C\",\"17.1 \\u00b0C\",\"20.7 \\u00b0C\",\"24.6 \\u00b0C\",\"14.3 \\u00b0C\",\"16.6 \\u00b0C\",\"25.2 \\u00b0C\",\"23.6 \\u00b0C\",\"17.0 \\u00b0C\",\"19.2 \\u00b0C\",\"14.9 \\u00b0C\"],\"type\":\"scattergeo\"}],\"name\":\"2022-08-28 21:00:00\"},{\"data\":[{\"customdata\":[[\"Berlin\",\"\\ud83c\\udf15\",\"13.9 \\u00b0C\",\"Klarer Himmel\",\"it's bedtime\"],[\"Dresden\",\"\\ud83c\\udf15\",\"14.8 \\u00b0C\",\"Klarer Himmel\",\"it's bedtime\"],[\"Frankfurt am Main\",\"\\u2601\\ufe0f\\ud83c\\udf19\",\"16.3 \\u00b0C\",\"\\u00dcberwiegend bew\\u00f6lkt\",\"it's bedtime\"],[\"Freiburg im Breisgau\",\"\\u2601\\ufe0f\\ud83c\\udf19\",\"18.0 \\u00b0C\",\"\\u00dcberwiegend bew\\u00f6lkt\",\"it's bedtime\"],[\"Kiel\",\"\\u2601\\ufe0f\\ud83c\\udf19\",\"16.0 \\u00b0C\",\"Bedeckt\",\"it's bedtime\"],[\"K\\u00f6ln\",\"\\u2601\\ufe0f\\ud83c\\udf19\",\"15.2 \\u00b0C\",\"Bedeckt\",\"it's bedtime\"],[\"Leipzig\",\"\\ud83c\\udf15\",\"13.1 \\u00b0C\",\"Klarer Himmel\",\"it's bedtime\"],[\"Mannheim\",\"\\u2601\\ufe0f\\ud83c\\udf19\",\"20.1 \\u00b0C\",\"\\u00dcberwiegend bew\\u00f6lkt\",\"it's bedtime\"],[\"M\\u00fcnchen\",\"\\ud83c\\udf15\",\"15.8 \\u00b0C\",\"Klarer Himmel\",\"it's bedtime\"],[\"M\\u00fcnster\",\"\\u2601\\ufe0f\\ud83c\\udf19\",\"10.2 \\u00b0C\",\"M\\u00e4\\u00dfig bew\\u00f6lkt\",\"it's bedtime\"],[\"Ravensburg\",\"\\ud83c\\udf15\",\"14.9 \\u00b0C\",\"Klarer Himmel\",\"it's bedtime\"],[\"Rostock\",\"\\ud83c\\udf27\\ufe0f\\ud83c\\udf19\",\"16.6 \\u00b0C\",\"Leichter Regen\",\"it's bedtime\"],[\"Stuttgart\",\"\\ud83c\\udf27\\ufe0f\\ud83c\\udf19\",\"19.3 \\u00b0C\",\"Leichter Regen\",\"it's bedtime\"],[\"Paris\",\"\\u2601\\ufe0f\\ud83c\\udf19\",\"20.1 \\u00b0C\",\"\\u00dcberwiegend bew\\u00f6lkt\",\"it's bedtime\"],[\"London\",\"\\u2601\\ufe0f\\ud83c\\udf19\",\"16.8 \\u00b0C\",\"Bedeckt\",\"it's bedtime\"],[\"Z\\u00fcrich\",\"\\ud83c\\udf15\",\"15.5 \\u00b0C\",\"Klarer Himmel\",\"it's bedtime\"],[\"Wien\",\"\\u2601\\ufe0f\\ud83c\\udf19\",\"19.2 \\u00b0C\",\"Bedeckt\",\"it's bedtime\"],[\"Rom\",\"\\ud83c\\udf27\\ufe0f\\ud83c\\udf19\",\"23.1 \\u00b0C\",\"Leichter Regen\",\"it's bedtime\"],[\"Amsterdam\",\"\\u2601\\ufe0f\\ud83c\\udf19\",\"13.9 \\u00b0C\",\"\\u00dcberwiegend bew\\u00f6lkt\",\"it's bedtime\"],[\"Prag\",\"\\ud83c\\udf15\",\"15.4 \\u00b0C\",\"Klarer Himmel\",\"it's bedtime\"],[\"Mailand\",\"\\ud83c\\udf27\\ufe0f\\ud83c\\udf19\",\"21.3 \\u00b0C\",\"Leichter Regen\",\"it's bedtime\"],[\"Arrondissement de Marseille\",\"\\ud83c\\udf15\",\"23.3 \\u00b0C\",\"Klarer Himmel\",\"it's bedtime\"],[\"City of Brussels\",\"\\u2601\\ufe0f\\ud83c\\udf19\",\"14.4 \\u00b0C\",\"Bedeckt\",\"it's bedtime\"],[\"Warschau\",\"\\u2601\\ufe0f\\ud83c\\udf19\",\"17.7 \\u00b0C\",\"\\u00dcberwiegend bew\\u00f6lkt\",\"it's bedtime\"],[\"Hamburg\",\"\\u2601\\ufe0f\\ud83c\\udf19\",\"15.1 \\u00b0C\",\"M\\u00e4\\u00dfig bew\\u00f6lkt\",\"it's bedtime\"]],\"geo\":\"geo\",\"hovertemplate\":\"<b>%{customdata[0]}</b><br><br>%{customdata[1]}, %{customdata[2]}<br>%{customdata[3]}<br>%{customdata[4]}<br>\",\"hovertext\":[\"Berlin\",\"Dresden\",\"Frankfurt am Main\",\"Freiburg im Breisgau\",\"Kiel\",\"K\\u00f6ln\",\"Leipzig\",\"Mannheim\",\"M\\u00fcnchen\",\"M\\u00fcnster\",\"Ravensburg\",\"Rostock\",\"Stuttgart\",\"Paris\",\"London\",\"Z\\u00fcrich\",\"Wien\",\"Rom\",\"Amsterdam\",\"Prag\",\"Mailand\",\"Arrondissement de Marseille\",\"City of Brussels\",\"Warschau\",\"Hamburg\"],\"ids\":[\"Berlin\",\"Dresden\",\"Frankfurt am Main\",\"Freiburg im Breisgau\",\"Kiel\",\"K\\u00f6ln\",\"Leipzig\",\"Mannheim\",\"M\\u00fcnchen\",\"M\\u00fcnster\",\"Ravensburg\",\"Rostock\",\"Stuttgart\",\"Paris\",\"London\",\"Z\\u00fcrich\",\"Wien\",\"Rom\",\"Amsterdam\",\"Prag\",\"Mailand\",\"Arrondissement de Marseille\",\"City of Brussels\",\"Warschau\",\"Hamburg\"],\"lat\":[52.5244,51.0509,50.1167,47.9959,54.3213,50.9333,51.342,49.4883,48.1374,51.9624,47.7833,54.0887,48.7823,48.8534,51.5085,47.3667,48.2085,41.8947,52.374,50.088,45.4643,43.3333,50.8504,52.2298,53.55],\"legendgroup\":\"\",\"lon\":[13.4105,13.7383,8.6833,7.8522,10.1349,6.95,12.375,8.4647,11.5755,7.6257,9.6167,12.1405,9.177,2.3488,-0.1257,8.55,16.3721,12.4839,4.8897,14.4208,9.1895,5.5,4.3488,21.0118,10.0],\"marker\":{\"color\":[13.91,14.76,16.26,18.04,16.05,15.24,13.09,20.09,15.8,10.17,14.89,16.55,19.29,20.11,16.85,15.5,19.17,23.06,13.87,15.41,21.32,23.32,14.44,17.68,15.06],\"coloraxis\":\"coloraxis\",\"opacity\":1,\"symbol\":\"circle\"},\"mode\":\"markers+text\",\"name\":\"\",\"showlegend\":false,\"text\":[\"13.9 \\u00b0C\",\"14.8 \\u00b0C\",\"16.3 \\u00b0C\",\"18.0 \\u00b0C\",\"16.0 \\u00b0C\",\"15.2 \\u00b0C\",\"13.1 \\u00b0C\",\"20.1 \\u00b0C\",\"15.8 \\u00b0C\",\"10.2 \\u00b0C\",\"14.9 \\u00b0C\",\"16.6 \\u00b0C\",\"19.3 \\u00b0C\",\"20.1 \\u00b0C\",\"16.8 \\u00b0C\",\"15.5 \\u00b0C\",\"19.2 \\u00b0C\",\"23.1 \\u00b0C\",\"13.9 \\u00b0C\",\"15.4 \\u00b0C\",\"21.3 \\u00b0C\",\"23.3 \\u00b0C\",\"14.4 \\u00b0C\",\"17.7 \\u00b0C\",\"15.1 \\u00b0C\"],\"type\":\"scattergeo\"}],\"name\":\"2022-08-29 00:00:00\"},{\"data\":[{\"customdata\":[[\"Berlin\",\"\\ud83c\\udf15\",\"12.5 \\u00b0C\",\"Klarer Himmel\",\"it's bedtime\"],[\"Dresden\",\"\\ud83c\\udf15\",\"12.7 \\u00b0C\",\"Klarer Himmel\",\"it's bedtime\"],[\"Frankfurt am Main\",\"\\u2601\\ufe0f\\ud83c\\udf19\",\"14.5 \\u00b0C\",\"Bedeckt\",\"it's bedtime\"],[\"Freiburg im Breisgau\",\"\\u2601\\ufe0f\\ud83c\\udf19\",\"17.3 \\u00b0C\",\"Bedeckt\",\"it's bedtime\"],[\"Kiel\",\"\\ud83c\\udf27\\ufe0f\\ud83c\\udf19\",\"15.3 \\u00b0C\",\"Leichter Regen\",\"it's bedtime\"],[\"K\\u00f6ln\",\"\\u2601\\ufe0f\\ud83c\\udf19\",\"13.6 \\u00b0C\",\"Bedeckt\",\"it's bedtime\"],[\"Leipzig\",\"\\u2601\\ufe0f\\ud83c\\udf19\",\"11.5 \\u00b0C\",\"Ein paar Wolken\",\"it's bedtime\"],[\"Mannheim\",\"\\u2601\\ufe0f\\ud83c\\udf19\",\"18.1 \\u00b0C\",\"Bedeckt\",\"it's bedtime\"],[\"M\\u00fcnchen\",\"\\ud83c\\udf15\",\"14.9 \\u00b0C\",\"Klarer Himmel\",\"it's bedtime\"],[\"M\\u00fcnster\",\"\\u2601\\ufe0f\\ud83c\\udf19\",\"9.5 \\u00b0C\",\"\\u00dcberwiegend bew\\u00f6lkt\",\"it's bedtime\"],[\"Ravensburg\",\"\\u2601\\ufe0f\\ud83c\\udf19\",\"13.9 \\u00b0C\",\"Ein paar Wolken\",\"it's bedtime\"],[\"Rostock\",\"\\ud83c\\udf27\\ufe0f\\ud83c\\udf19\",\"16.9 \\u00b0C\",\"Leichter Regen\",\"it's bedtime\"],[\"Stuttgart\",\"\\u2601\\ufe0f\\ud83c\\udf19\",\"17.8 \\u00b0C\",\"Bedeckt\",\"it's bedtime\"],[\"Paris\",\"\\u2601\\ufe0f\\ud83c\\udf19\",\"17.8 \\u00b0C\",\"M\\u00e4\\u00dfig bew\\u00f6lkt\",\"it's bedtime\"],[\"London\",\"\\u2601\\ufe0f\\ud83c\\udf19\",\"16.1 \\u00b0C\",\"Bedeckt\",\"it's bedtime\"],[\"Z\\u00fcrich\",\"\\u2601\\ufe0f\\ud83c\\udf19\",\"14.6 \\u00b0C\",\"Ein paar Wolken\",\"it's bedtime\"],[\"Wien\",\"\\u2601\\ufe0f\\ud83c\\udf19\",\"18.7 \\u00b0C\",\"Bedeckt\",\"it's bedtime\"],[\"Rom\",\"\\ud83c\\udf15\",\"22.2 \\u00b0C\",\"Klarer Himmel\",\"it's bedtime\"],[\"Amsterdam\",\"\\u2601\\ufe0f\\ud83c\\udf19\",\"13.1 \\u00b0C\",\"Bedeckt\",\"it's bedtime\"],[\"Prag\",\"\\ud83c\\udf15\",\"14.2 \\u00b0C\",\"Klarer Himmel\",\"it's bedtime\"],[\"Mailand\",\"\\ud83c\\udf27\\ufe0f\\ud83c\\udf19\",\"20.0 \\u00b0C\",\"M\\u00e4\\u00dfiger Regen\",\"it's bedtime\"],[\"Arrondissement de Marseille\",\"\\ud83c\\udf15\",\"22.4 \\u00b0C\",\"Klarer Himmel\",\"it's bedtime\"],[\"City of Brussels\",\"\\u2601\\ufe0f\\ud83c\\udf19\",\"12.5 \\u00b0C\",\"Bedeckt\",\"it's bedtime\"],[\"Warschau\",\"\\u2601\\ufe0f\\ud83c\\udf19\",\"16.6 \\u00b0C\",\"M\\u00e4\\u00dfig bew\\u00f6lkt\",\"it's bedtime\"],[\"Hamburg\",\"\\ud83c\\udf27\\ufe0f\\ud83c\\udf19\",\"14.7 \\u00b0C\",\"Leichter Regen\",\"it's bedtime\"]],\"geo\":\"geo\",\"hovertemplate\":\"<b>%{customdata[0]}</b><br><br>%{customdata[1]}, %{customdata[2]}<br>%{customdata[3]}<br>%{customdata[4]}<br>\",\"hovertext\":[\"Berlin\",\"Dresden\",\"Frankfurt am Main\",\"Freiburg im Breisgau\",\"Kiel\",\"K\\u00f6ln\",\"Leipzig\",\"Mannheim\",\"M\\u00fcnchen\",\"M\\u00fcnster\",\"Ravensburg\",\"Rostock\",\"Stuttgart\",\"Paris\",\"London\",\"Z\\u00fcrich\",\"Wien\",\"Rom\",\"Amsterdam\",\"Prag\",\"Mailand\",\"Arrondissement de Marseille\",\"City of Brussels\",\"Warschau\",\"Hamburg\"],\"ids\":[\"Berlin\",\"Dresden\",\"Frankfurt am Main\",\"Freiburg im Breisgau\",\"Kiel\",\"K\\u00f6ln\",\"Leipzig\",\"Mannheim\",\"M\\u00fcnchen\",\"M\\u00fcnster\",\"Ravensburg\",\"Rostock\",\"Stuttgart\",\"Paris\",\"London\",\"Z\\u00fcrich\",\"Wien\",\"Rom\",\"Amsterdam\",\"Prag\",\"Mailand\",\"Arrondissement de Marseille\",\"City of Brussels\",\"Warschau\",\"Hamburg\"],\"lat\":[52.5244,51.0509,50.1167,47.9959,54.3213,50.9333,51.342,49.4883,48.1374,51.9624,47.7833,54.0887,48.7823,48.8534,51.5085,47.3667,48.2085,41.8947,52.374,50.088,45.4643,43.3333,50.8504,52.2298,53.55],\"legendgroup\":\"\",\"lon\":[13.4105,13.7383,8.6833,7.8522,10.1349,6.95,12.375,8.4647,11.5755,7.6257,9.6167,12.1405,9.177,2.3488,-0.1257,8.55,16.3721,12.4839,4.8897,14.4208,9.1895,5.5,4.3488,21.0118,10.0],\"marker\":{\"color\":[12.5,12.72,14.46,17.28,15.33,13.64,11.52,18.12,14.89,9.52,13.92,16.88,17.77,17.83,16.13,14.56,18.71,22.24,13.07,14.24,19.97,22.38,12.52,16.62,14.67],\"coloraxis\":\"coloraxis\",\"opacity\":1,\"symbol\":\"circle\"},\"mode\":\"markers+text\",\"name\":\"\",\"showlegend\":false,\"text\":[\"12.5 \\u00b0C\",\"12.7 \\u00b0C\",\"14.5 \\u00b0C\",\"17.3 \\u00b0C\",\"15.3 \\u00b0C\",\"13.6 \\u00b0C\",\"11.5 \\u00b0C\",\"18.1 \\u00b0C\",\"14.9 \\u00b0C\",\"9.5 \\u00b0C\",\"13.9 \\u00b0C\",\"16.9 \\u00b0C\",\"17.8 \\u00b0C\",\"17.8 \\u00b0C\",\"16.1 \\u00b0C\",\"14.6 \\u00b0C\",\"18.7 \\u00b0C\",\"22.2 \\u00b0C\",\"13.1 \\u00b0C\",\"14.2 \\u00b0C\",\"20.0 \\u00b0C\",\"22.4 \\u00b0C\",\"12.5 \\u00b0C\",\"16.6 \\u00b0C\",\"14.7 \\u00b0C\"],\"type\":\"scattergeo\"}],\"name\":\"2022-08-29 03:00:00\"},{\"data\":[{\"customdata\":[[\"Berlin\",\"\\ud83c\\udf24\\ufe0f\",\"14.1 \\u00b0C\",\"Ein paar Wolken\",\"it's the perfect temperature to do something outside!<br>\"],[\"Dresden\",\"\\u2600\\ufe0f\",\"14.2 \\u00b0C\",\"Klarer Himmel\",\"it's the perfect temperature to do something outside!<br>\"],[\"Frankfurt am Main\",\"\\u2601\\ufe0f\",\"14.8 \\u00b0C\",\"Bedeckt\",\"it's the perfect temperature to do something outside!<br>\"],[\"Freiburg im Breisgau\",\"\\u2601\\ufe0f\",\"18.6 \\u00b0C\",\"Bedeckt\",\"wear light clothes and don't forget your sunnies!<br>\"],[\"Kiel\",\"\\ud83c\\udf26\\ufe0f\",\"16.3 \\u00b0C\",\"Leichter Regen\",\"wear light clothes and don't forget your sunnies!<br>take an umbrella or a rain jacket with you<br>\"],[\"K\\u00f6ln\",\"\\u2601\\ufe0f\",\"14.3 \\u00b0C\",\"Bedeckt\",\"it's the perfect temperature to do something outside!<br>\"],[\"Leipzig\",\"\\ud83c\\udf24\\ufe0f\",\"13.5 \\u00b0C\",\"Ein paar Wolken\",\"it's the perfect temperature to do something outside!<br>\"],[\"Mannheim\",\"\\u2601\\ufe0f\",\"17.6 \\u00b0C\",\"Bedeckt\",\"wear light clothes and don't forget your sunnies!<br>\"],[\"M\\u00fcnchen\",\"\\ud83c\\udf24\\ufe0f\",\"16.6 \\u00b0C\",\"Ein paar Wolken\",\"wear light clothes and don't forget your sunnies!<br>\"],[\"M\\u00fcnster\",\"\\u2601\\ufe0f\",\"11.6 \\u00b0C\",\"Bedeckt\",\"it's the perfect temperature to do something outside!<br>\"],[\"Ravensburg\",\"\\u2601\\ufe0f\",\"15.9 \\u00b0C\",\"M\\u00e4\\u00dfig bew\\u00f6lkt\",\"wear light clothes and don't forget your sunnies!<br>\"],[\"Rostock\",\"\\ud83c\\udf26\\ufe0f\",\"16.8 \\u00b0C\",\"Leichter Regen\",\"wear light clothes and don't forget your sunnies!<br>take an umbrella or a rain jacket with you<br>\"],[\"Stuttgart\",\"\\u2601\\ufe0f\",\"18.6 \\u00b0C\",\"Bedeckt\",\"wear light clothes and don't forget your sunnies!<br>\"],[\"Paris\",\"\\u2601\\ufe0f\",\"16.9 \\u00b0C\",\"\\u00dcberwiegend bew\\u00f6lkt\",\"wear light clothes and don't forget your sunnies!<br>\"],[\"London\",\"\\u2601\\ufe0f\",\"15.7 \\u00b0C\",\"Bedeckt\",\"wear light clothes and don't forget your sunnies!<br>\"],[\"Z\\u00fcrich\",\"\\u2601\\ufe0f\",\"16.1 \\u00b0C\",\"\\u00dcberwiegend bew\\u00f6lkt\",\"wear light clothes and don't forget your sunnies!<br>\"],[\"Wien\",\"\\u2601\\ufe0f\",\"19.1 \\u00b0C\",\"Bedeckt\",\"wear light clothes and don't forget your sunnies!<br>\"],[\"Rom\",\"\\u2600\\ufe0f\",\"23.5 \\u00b0C\",\"Klarer Himmel\",\"wear light clothes and don't forget your sunnies!<br>\"],[\"Amsterdam\",\"\\u2601\\ufe0f\",\"14.6 \\u00b0C\",\"Bedeckt\",\"it's the perfect temperature to do something outside!<br>\"],[\"Prag\",\"\\u2600\\ufe0f\",\"16.2 \\u00b0C\",\"Klarer Himmel\",\"wear light clothes and don't forget your sunnies!<br>\"],[\"Mailand\",\"\\ud83c\\udf26\\ufe0f\",\"20.7 \\u00b0C\",\"Leichter Regen\",\"wear light clothes and don't forget your sunnies!<br>take an umbrella or a rain jacket with you<br>\"],[\"Arrondissement de Marseille\",\"\\u2601\\ufe0f\",\"22.3 \\u00b0C\",\"\\u00dcberwiegend bew\\u00f6lkt\",\"wear light clothes and don't forget your sunnies!<br>\"],[\"City of Brussels\",\"\\u2601\\ufe0f\",\"12.6 \\u00b0C\",\"\\u00dcberwiegend bew\\u00f6lkt\",\"it's the perfect temperature to do something outside!<br>\"],[\"Warschau\",\"\\ud83c\\udf24\\ufe0f\",\"17.4 \\u00b0C\",\"Ein paar Wolken\",\"wear light clothes and don't forget your sunnies!<br>\"],[\"Hamburg\",\"\\ud83c\\udf26\\ufe0f\",\"14.7 \\u00b0C\",\"Leichter Regen\",\"it's the perfect temperature to do something outside!<br>take an umbrella or a rain jacket with you<br>\"]],\"geo\":\"geo\",\"hovertemplate\":\"<b>%{customdata[0]}</b><br><br>%{customdata[1]}, %{customdata[2]}<br>%{customdata[3]}<br>%{customdata[4]}<br>\",\"hovertext\":[\"Berlin\",\"Dresden\",\"Frankfurt am Main\",\"Freiburg im Breisgau\",\"Kiel\",\"K\\u00f6ln\",\"Leipzig\",\"Mannheim\",\"M\\u00fcnchen\",\"M\\u00fcnster\",\"Ravensburg\",\"Rostock\",\"Stuttgart\",\"Paris\",\"London\",\"Z\\u00fcrich\",\"Wien\",\"Rom\",\"Amsterdam\",\"Prag\",\"Mailand\",\"Arrondissement de Marseille\",\"City of Brussels\",\"Warschau\",\"Hamburg\"],\"ids\":[\"Berlin\",\"Dresden\",\"Frankfurt am Main\",\"Freiburg im Breisgau\",\"Kiel\",\"K\\u00f6ln\",\"Leipzig\",\"Mannheim\",\"M\\u00fcnchen\",\"M\\u00fcnster\",\"Ravensburg\",\"Rostock\",\"Stuttgart\",\"Paris\",\"London\",\"Z\\u00fcrich\",\"Wien\",\"Rom\",\"Amsterdam\",\"Prag\",\"Mailand\",\"Arrondissement de Marseille\",\"City of Brussels\",\"Warschau\",\"Hamburg\"],\"lat\":[52.5244,51.0509,50.1167,47.9959,54.3213,50.9333,51.342,49.4883,48.1374,51.9624,47.7833,54.0887,48.7823,48.8534,51.5085,47.3667,48.2085,41.8947,52.374,50.088,45.4643,43.3333,50.8504,52.2298,53.55],\"legendgroup\":\"\",\"lon\":[13.4105,13.7383,8.6833,7.8522,10.1349,6.95,12.375,8.4647,11.5755,7.6257,9.6167,12.1405,9.177,2.3488,-0.1257,8.55,16.3721,12.4839,4.8897,14.4208,9.1895,5.5,4.3488,21.0118,10.0],\"marker\":{\"color\":[14.09,14.19,14.78,18.58,16.26,14.33,13.48,17.56,16.58,11.58,15.91,16.79,18.56,16.92,15.72,16.14,19.12,23.49,14.61,16.15,20.66,22.27,12.64,17.39,14.69],\"coloraxis\":\"coloraxis\",\"opacity\":1,\"symbol\":\"circle\"},\"mode\":\"markers+text\",\"name\":\"\",\"showlegend\":false,\"text\":[\"14.1 \\u00b0C\",\"14.2 \\u00b0C\",\"14.8 \\u00b0C\",\"18.6 \\u00b0C\",\"16.3 \\u00b0C\",\"14.3 \\u00b0C\",\"13.5 \\u00b0C\",\"17.6 \\u00b0C\",\"16.6 \\u00b0C\",\"11.6 \\u00b0C\",\"15.9 \\u00b0C\",\"16.8 \\u00b0C\",\"18.6 \\u00b0C\",\"16.9 \\u00b0C\",\"15.7 \\u00b0C\",\"16.1 \\u00b0C\",\"19.1 \\u00b0C\",\"23.5 \\u00b0C\",\"14.6 \\u00b0C\",\"16.2 \\u00b0C\",\"20.7 \\u00b0C\",\"22.3 \\u00b0C\",\"12.6 \\u00b0C\",\"17.4 \\u00b0C\",\"14.7 \\u00b0C\"],\"type\":\"scattergeo\"}],\"name\":\"2022-08-29 06:00:00\"},{\"data\":[{\"customdata\":[[\"Berlin\",\"\\u2601\\ufe0f\",\"17.0 \\u00b0C\",\"Bedeckt\",\"wear light clothes and don't forget your sunnies!<br>\"],[\"Dresden\",\"\\u2601\\ufe0f\",\"18.3 \\u00b0C\",\"\\u00dcberwiegend bew\\u00f6lkt\",\"wear light clothes and don't forget your sunnies!<br>\"],[\"Frankfurt am Main\",\"\\u2601\\ufe0f\",\"21.6 \\u00b0C\",\"Bedeckt\",\"wear light clothes and don't forget your sunnies!<br>\"],[\"Freiburg im Breisgau\",\"\\u2601\\ufe0f\",\"24.3 \\u00b0C\",\"Bedeckt\",\"wear light clothes and don't forget your sunnies!<br>\"],[\"Kiel\",\"\\u2601\\ufe0f\",\"18.0 \\u00b0C\",\"Bedeckt\",\"wear light clothes and don't forget your sunnies!<br>\"],[\"K\\u00f6ln\",\"\\u2601\\ufe0f\",\"20.2 \\u00b0C\",\"M\\u00e4\\u00dfig bew\\u00f6lkt\",\"wear light clothes and don't forget your sunnies!<br>\"],[\"Leipzig\",\"\\u2601\\ufe0f\",\"18.2 \\u00b0C\",\"Bedeckt\",\"wear light clothes and don't forget your sunnies!<br>\"],[\"Mannheim\",\"\\u2601\\ufe0f\",\"23.5 \\u00b0C\",\"Bedeckt\",\"wear light clothes and don't forget your sunnies!<br>\"],[\"M\\u00fcnchen\",\"\\u2601\\ufe0f\",\"23.1 \\u00b0C\",\"M\\u00e4\\u00dfig bew\\u00f6lkt\",\"wear light clothes and don't forget your sunnies!<br>\"],[\"M\\u00fcnster\",\"\\u2601\\ufe0f\",\"18.0 \\u00b0C\",\"Bedeckt\",\"wear light clothes and don't forget your sunnies!<br>\"],[\"Ravensburg\",\"\\u2601\\ufe0f\",\"22.8 \\u00b0C\",\"Bedeckt\",\"wear light clothes and don't forget your sunnies!<br>\"],[\"Rostock\",\"\\u2601\\ufe0f\",\"17.4 \\u00b0C\",\"Bedeckt\",\"wear light clothes and don't forget your sunnies!<br>watch out - your hat may get blown off<br>\"],[\"Stuttgart\",\"\\u2601\\ufe0f\",\"23.8 \\u00b0C\",\"Bedeckt\",\"wear light clothes and don't forget your sunnies!<br>\"],[\"Paris\",\"\\u2601\\ufe0f\",\"22.4 \\u00b0C\",\"Bedeckt\",\"wear light clothes and don't forget your sunnies!<br>\"],[\"London\",\"\\u2601\\ufe0f\",\"18.8 \\u00b0C\",\"Bedeckt\",\"wear light clothes and don't forget your sunnies!<br>\"],[\"Z\\u00fcrich\",\"\\u2601\\ufe0f\",\"23.7 \\u00b0C\",\"\\u00dcberwiegend bew\\u00f6lkt\",\"wear light clothes and don't forget your sunnies!<br>\"],[\"Wien\",\"\\ud83c\\udf24\\ufe0f\",\"23.5 \\u00b0C\",\"Ein paar Wolken\",\"wear light clothes and don't forget your sunnies!<br>\"],[\"Rom\",\"\\u2600\\ufe0f\",\"29.9 \\u00b0C\",\"Klarer Himmel\",\"wear light clothes, drink a lot of water and don't forget suncream<br>\"],[\"Amsterdam\",\"\\u2601\\ufe0f\",\"17.5 \\u00b0C\",\"Bedeckt\",\"wear light clothes and don't forget your sunnies!<br>\"],[\"Prag\",\"\\ud83c\\udf24\\ufe0f\",\"20.9 \\u00b0C\",\"Ein paar Wolken\",\"wear light clothes and don't forget your sunnies!<br>\"],[\"Mailand\",\"\\ud83c\\udf24\\ufe0f\",\"25.8 \\u00b0C\",\"Ein paar Wolken\",\"wear light clothes, drink a lot of water and don't forget suncream<br>\"],[\"Arrondissement de Marseille\",\"\\u2601\\ufe0f\",\"26.4 \\u00b0C\",\"\\u00dcberwiegend bew\\u00f6lkt\",\"wear light clothes, drink a lot of water and don't forget suncream<br>\"],[\"City of Brussels\",\"\\u2601\\ufe0f\",\"19.3 \\u00b0C\",\"M\\u00e4\\u00dfig bew\\u00f6lkt\",\"wear light clothes and don't forget your sunnies!<br>watch out - your hat may get blown off<br>\"],[\"Warschau\",\"\\u2600\\ufe0f\",\"22.2 \\u00b0C\",\"Klarer Himmel\",\"wear light clothes and don't forget your sunnies!<br>\"],[\"Hamburg\",\"\\u2601\\ufe0f\",\"16.6 \\u00b0C\",\"Bedeckt\",\"wear light clothes and don't forget your sunnies!<br>\"]],\"geo\":\"geo\",\"hovertemplate\":\"<b>%{customdata[0]}</b><br><br>%{customdata[1]}, %{customdata[2]}<br>%{customdata[3]}<br>%{customdata[4]}<br>\",\"hovertext\":[\"Berlin\",\"Dresden\",\"Frankfurt am Main\",\"Freiburg im Breisgau\",\"Kiel\",\"K\\u00f6ln\",\"Leipzig\",\"Mannheim\",\"M\\u00fcnchen\",\"M\\u00fcnster\",\"Ravensburg\",\"Rostock\",\"Stuttgart\",\"Paris\",\"London\",\"Z\\u00fcrich\",\"Wien\",\"Rom\",\"Amsterdam\",\"Prag\",\"Mailand\",\"Arrondissement de Marseille\",\"City of Brussels\",\"Warschau\",\"Hamburg\"],\"ids\":[\"Berlin\",\"Dresden\",\"Frankfurt am Main\",\"Freiburg im Breisgau\",\"Kiel\",\"K\\u00f6ln\",\"Leipzig\",\"Mannheim\",\"M\\u00fcnchen\",\"M\\u00fcnster\",\"Ravensburg\",\"Rostock\",\"Stuttgart\",\"Paris\",\"London\",\"Z\\u00fcrich\",\"Wien\",\"Rom\",\"Amsterdam\",\"Prag\",\"Mailand\",\"Arrondissement de Marseille\",\"City of Brussels\",\"Warschau\",\"Hamburg\"],\"lat\":[52.5244,51.0509,50.1167,47.9959,54.3213,50.9333,51.342,49.4883,48.1374,51.9624,47.7833,54.0887,48.7823,48.8534,51.5085,47.3667,48.2085,41.8947,52.374,50.088,45.4643,43.3333,50.8504,52.2298,53.55],\"legendgroup\":\"\",\"lon\":[13.4105,13.7383,8.6833,7.8522,10.1349,6.95,12.375,8.4647,11.5755,7.6257,9.6167,12.1405,9.177,2.3488,-0.1257,8.55,16.3721,12.4839,4.8897,14.4208,9.1895,5.5,4.3488,21.0118,10.0],\"marker\":{\"color\":[17.04,18.31,21.6,24.29,18.02,20.2,18.17,23.52,23.11,17.98,22.82,17.44,23.77,22.44,18.85,23.66,23.47,29.88,17.51,20.88,25.77,26.4,19.27,22.21,16.61],\"coloraxis\":\"coloraxis\",\"opacity\":1,\"symbol\":\"circle\"},\"mode\":\"markers+text\",\"name\":\"\",\"showlegend\":false,\"text\":[\"17.0 \\u00b0C\",\"18.3 \\u00b0C\",\"21.6 \\u00b0C\",\"24.3 \\u00b0C\",\"18.0 \\u00b0C\",\"20.2 \\u00b0C\",\"18.2 \\u00b0C\",\"23.5 \\u00b0C\",\"23.1 \\u00b0C\",\"18.0 \\u00b0C\",\"22.8 \\u00b0C\",\"17.4 \\u00b0C\",\"23.8 \\u00b0C\",\"22.4 \\u00b0C\",\"18.8 \\u00b0C\",\"23.7 \\u00b0C\",\"23.5 \\u00b0C\",\"29.9 \\u00b0C\",\"17.5 \\u00b0C\",\"20.9 \\u00b0C\",\"25.8 \\u00b0C\",\"26.4 \\u00b0C\",\"19.3 \\u00b0C\",\"22.2 \\u00b0C\",\"16.6 \\u00b0C\"],\"type\":\"scattergeo\"}],\"name\":\"2022-08-29 09:00:00\"},{\"data\":[{\"customdata\":[[\"Berlin\",\"\\u2601\\ufe0f\",\"20.8 \\u00b0C\",\"Bedeckt\",\"wear light clothes and don't forget your sunnies!<br>\"],[\"Dresden\",\"\\u2601\\ufe0f\",\"21.6 \\u00b0C\",\"\\u00dcberwiegend bew\\u00f6lkt\",\"wear light clothes and don't forget your sunnies!<br>\"],[\"Frankfurt am Main\",\"\\u2601\\ufe0f\",\"27.2 \\u00b0C\",\"\\u00dcberwiegend bew\\u00f6lkt\",\"wear light clothes, drink a lot of water and don't forget suncream<br>\"],[\"Freiburg im Breisgau\",\"\\u2601\\ufe0f\",\"28.6 \\u00b0C\",\"\\u00dcberwiegend bew\\u00f6lkt\",\"wear light clothes, drink a lot of water and don't forget suncream<br>\"],[\"Kiel\",\"\\u2601\\ufe0f\",\"20.8 \\u00b0C\",\"\\u00dcberwiegend bew\\u00f6lkt\",\"wear light clothes and don't forget your sunnies!<br>\"],[\"K\\u00f6ln\",\"\\u2601\\ufe0f\",\"24.7 \\u00b0C\",\"M\\u00e4\\u00dfig bew\\u00f6lkt\",\"wear light clothes and don't forget your sunnies!<br>\"],[\"Leipzig\",\"\\u2601\\ufe0f\",\"22.0 \\u00b0C\",\"Bedeckt\",\"wear light clothes and don't forget your sunnies!<br>\"],[\"Mannheim\",\"\\u2601\\ufe0f\",\"29.4 \\u00b0C\",\"\\u00dcberwiegend bew\\u00f6lkt\",\"wear light clothes, drink a lot of water and don't forget suncream<br>\"],[\"M\\u00fcnchen\",\"\\u2601\\ufe0f\",\"25.9 \\u00b0C\",\"\\u00dcberwiegend bew\\u00f6lkt\",\"wear light clothes, drink a lot of water and don't forget suncream<br>\"],[\"M\\u00fcnster\",\"\\u2601\\ufe0f\",\"22.7 \\u00b0C\",\"\\u00dcberwiegend bew\\u00f6lkt\",\"wear light clothes and don't forget your sunnies!<br>\"],[\"Ravensburg\",\"\\u2601\\ufe0f\",\"26.6 \\u00b0C\",\"Bedeckt\",\"wear light clothes, drink a lot of water and don't forget suncream<br>\"],[\"Rostock\",\"\\u2601\\ufe0f\",\"19.2 \\u00b0C\",\"Bedeckt\",\"wear light clothes and don't forget your sunnies!<br>\"],[\"Stuttgart\",\"\\u2601\\ufe0f\",\"29.0 \\u00b0C\",\"Bedeckt\",\"wear light clothes, drink a lot of water and don't forget suncream<br>\"],[\"Paris\",\"\\u2601\\ufe0f\",\"28.6 \\u00b0C\",\"Bedeckt\",\"wear light clothes, drink a lot of water and don't forget suncream<br>\"],[\"London\",\"\\u2601\\ufe0f\",\"21.6 \\u00b0C\",\"\\u00dcberwiegend bew\\u00f6lkt\",\"wear light clothes and don't forget your sunnies!<br>\"],[\"Z\\u00fcrich\",\"\\u2601\\ufe0f\",\"28.5 \\u00b0C\",\"Bedeckt\",\"wear light clothes, drink a lot of water and don't forget suncream<br>\"],[\"Wien\",\"\\u2600\\ufe0f\",\"26.4 \\u00b0C\",\"Klarer Himmel\",\"wear light clothes, drink a lot of water and don't forget suncream<br>\"],[\"Rom\",\"\\u2600\\ufe0f\",\"32.9 \\u00b0C\",\"Klarer Himmel\",\"wear light clothes, drink a lot of water and don't forget suncream<br>\"],[\"Amsterdam\",\"\\u2601\\ufe0f\",\"19.2 \\u00b0C\",\"Bedeckt\",\"wear light clothes and don't forget your sunnies!<br>\"],[\"Prag\",\"\\ud83c\\udf24\\ufe0f\",\"23.9 \\u00b0C\",\"Ein paar Wolken\",\"wear light clothes and don't forget your sunnies!<br>\"],[\"Mailand\",\"\\u2601\\ufe0f\",\"29.6 \\u00b0C\",\"\\u00dcberwiegend bew\\u00f6lkt\",\"wear light clothes, drink a lot of water and don't forget suncream<br>\"],[\"Arrondissement de Marseille\",\"\\u2601\\ufe0f\",\"24.4 \\u00b0C\",\"Bedeckt\",\"wear light clothes and don't forget your sunnies!<br>watch out - your hat may get blown off<br>\"],[\"City of Brussels\",\"\\u2601\\ufe0f\",\"23.7 \\u00b0C\",\"M\\u00e4\\u00dfig bew\\u00f6lkt\",\"wear light clothes and don't forget your sunnies!<br>\"],[\"Warschau\",\"\\u2600\\ufe0f\",\"24.9 \\u00b0C\",\"Klarer Himmel\",\"wear light clothes and don't forget your sunnies!<br>watch out - your hat may get blown off<br>\"],[\"Hamburg\",\"\\ud83c\\udf26\\ufe0f\",\"21.0 \\u00b0C\",\"Leichter Regen\",\"wear light clothes and don't forget your sunnies!<br>take an umbrella or a rain jacket with you<br>\"]],\"geo\":\"geo\",\"hovertemplate\":\"<b>%{customdata[0]}</b><br><br>%{customdata[1]}, %{customdata[2]}<br>%{customdata[3]}<br>%{customdata[4]}<br>\",\"hovertext\":[\"Berlin\",\"Dresden\",\"Frankfurt am Main\",\"Freiburg im Breisgau\",\"Kiel\",\"K\\u00f6ln\",\"Leipzig\",\"Mannheim\",\"M\\u00fcnchen\",\"M\\u00fcnster\",\"Ravensburg\",\"Rostock\",\"Stuttgart\",\"Paris\",\"London\",\"Z\\u00fcrich\",\"Wien\",\"Rom\",\"Amsterdam\",\"Prag\",\"Mailand\",\"Arrondissement de Marseille\",\"City of Brussels\",\"Warschau\",\"Hamburg\"],\"ids\":[\"Berlin\",\"Dresden\",\"Frankfurt am Main\",\"Freiburg im Breisgau\",\"Kiel\",\"K\\u00f6ln\",\"Leipzig\",\"Mannheim\",\"M\\u00fcnchen\",\"M\\u00fcnster\",\"Ravensburg\",\"Rostock\",\"Stuttgart\",\"Paris\",\"London\",\"Z\\u00fcrich\",\"Wien\",\"Rom\",\"Amsterdam\",\"Prag\",\"Mailand\",\"Arrondissement de Marseille\",\"City of Brussels\",\"Warschau\",\"Hamburg\"],\"lat\":[52.5244,51.0509,50.1167,47.9959,54.3213,50.9333,51.342,49.4883,48.1374,51.9624,47.7833,54.0887,48.7823,48.8534,51.5085,47.3667,48.2085,41.8947,52.374,50.088,45.4643,43.3333,50.8504,52.2298,53.55],\"legendgroup\":\"\",\"lon\":[13.4105,13.7383,8.6833,7.8522,10.1349,6.95,12.375,8.4647,11.5755,7.6257,9.6167,12.1405,9.177,2.3488,-0.1257,8.55,16.3721,12.4839,4.8897,14.4208,9.1895,5.5,4.3488,21.0118,10.0],\"marker\":{\"color\":[20.75,21.56,27.24,28.63,20.77,24.73,21.99,29.35,25.91,22.74,26.65,19.2,28.95,28.61,21.61,28.5,26.42,32.89,19.17,23.92,29.61,24.43,23.7,24.87,21.04],\"coloraxis\":\"coloraxis\",\"opacity\":1,\"symbol\":\"circle\"},\"mode\":\"markers+text\",\"name\":\"\",\"showlegend\":false,\"text\":[\"20.8 \\u00b0C\",\"21.6 \\u00b0C\",\"27.2 \\u00b0C\",\"28.6 \\u00b0C\",\"20.8 \\u00b0C\",\"24.7 \\u00b0C\",\"22.0 \\u00b0C\",\"29.4 \\u00b0C\",\"25.9 \\u00b0C\",\"22.7 \\u00b0C\",\"26.6 \\u00b0C\",\"19.2 \\u00b0C\",\"29.0 \\u00b0C\",\"28.6 \\u00b0C\",\"21.6 \\u00b0C\",\"28.5 \\u00b0C\",\"26.4 \\u00b0C\",\"32.9 \\u00b0C\",\"19.2 \\u00b0C\",\"23.9 \\u00b0C\",\"29.6 \\u00b0C\",\"24.4 \\u00b0C\",\"23.7 \\u00b0C\",\"24.9 \\u00b0C\",\"21.0 \\u00b0C\"],\"type\":\"scattergeo\"}],\"name\":\"2022-08-29 12:00:00\"},{\"data\":[{\"customdata\":[[\"Berlin\",\"\\u2601\\ufe0f\",\"22.0 \\u00b0C\",\"\\u00dcberwiegend bew\\u00f6lkt\",\"wear light clothes and don't forget your sunnies!<br>\"],[\"Dresden\",\"\\u2601\\ufe0f\",\"22.5 \\u00b0C\",\"M\\u00e4\\u00dfig bew\\u00f6lkt\",\"wear light clothes and don't forget your sunnies!<br>\"],[\"Frankfurt am Main\",\"\\u2601\\ufe0f\",\"28.4 \\u00b0C\",\"\\u00dcberwiegend bew\\u00f6lkt\",\"wear light clothes, drink a lot of water and don't forget suncream<br>\"],[\"Freiburg im Breisgau\",\"\\u2600\\ufe0f\",\"30.2 \\u00b0C\",\"Klarer Himmel\",\"wear light clothes, drink a lot of water and don't forget suncream<br>\"],[\"Kiel\",\"\\u2601\\ufe0f\",\"20.4 \\u00b0C\",\"M\\u00e4\\u00dfig bew\\u00f6lkt\",\"wear light clothes and don't forget your sunnies!<br>\"],[\"K\\u00f6ln\",\"\\u2601\\ufe0f\",\"25.8 \\u00b0C\",\"Bedeckt\",\"wear light clothes, drink a lot of water and don't forget suncream<br>\"],[\"Leipzig\",\"\\u2601\\ufe0f\",\"23.0 \\u00b0C\",\"Bedeckt\",\"wear light clothes and don't forget your sunnies!<br>\"],[\"Mannheim\",\"\\ud83c\\udf24\\ufe0f\",\"30.8 \\u00b0C\",\"Ein paar Wolken\",\"wear light clothes, drink a lot of water and don't forget suncream<br>\"],[\"M\\u00fcnchen\",\"\\u2601\\ufe0f\",\"25.9 \\u00b0C\",\"\\u00dcberwiegend bew\\u00f6lkt\",\"wear light clothes, drink a lot of water and don't forget suncream<br>\"],[\"M\\u00fcnster\",\"\\u2601\\ufe0f\",\"24.8 \\u00b0C\",\"M\\u00e4\\u00dfig bew\\u00f6lkt\",\"wear light clothes and don't forget your sunnies!<br>\"],[\"Ravensburg\",\"\\u2601\\ufe0f\",\"26.3 \\u00b0C\",\"\\u00dcberwiegend bew\\u00f6lkt\",\"wear light clothes, drink a lot of water and don't forget suncream<br>\"],[\"Rostock\",\"\\u2601\\ufe0f\",\"19.8 \\u00b0C\",\"\\u00dcberwiegend bew\\u00f6lkt\",\"wear light clothes and don't forget your sunnies!<br>\"],[\"Stuttgart\",\"\\u2601\\ufe0f\",\"29.4 \\u00b0C\",\"M\\u00e4\\u00dfig bew\\u00f6lkt\",\"wear light clothes, drink a lot of water and don't forget suncream<br>\"],[\"Paris\",\"\\u2601\\ufe0f\",\"30.9 \\u00b0C\",\"Bedeckt\",\"wear light clothes, drink a lot of water and don't forget suncream<br>\"],[\"London\",\"\\u2600\\ufe0f\",\"22.3 \\u00b0C\",\"Klarer Himmel\",\"wear light clothes and don't forget your sunnies!<br>\"],[\"Z\\u00fcrich\",\"\\ud83c\\udf24\\ufe0f\",\"29.0 \\u00b0C\",\"Ein paar Wolken\",\"wear light clothes, drink a lot of water and don't forget suncream<br>\"],[\"Wien\",\"\\u2600\\ufe0f\",\"26.8 \\u00b0C\",\"Klarer Himmel\",\"wear light clothes, drink a lot of water and don't forget suncream<br>\"],[\"Rom\",\"\\u2600\\ufe0f\",\"30.8 \\u00b0C\",\"Klarer Himmel\",\"wear light clothes, drink a lot of water and don't forget suncream<br>\"],[\"Amsterdam\",\"\\u2601\\ufe0f\",\"20.5 \\u00b0C\",\"\\u00dcberwiegend bew\\u00f6lkt\",\"wear light clothes and don't forget your sunnies!<br>\"],[\"Prag\",\"\\u2601\\ufe0f\",\"24.0 \\u00b0C\",\"Bedeckt\",\"wear light clothes and don't forget your sunnies!<br>\"],[\"Mailand\",\"\\u2601\\ufe0f\",\"30.4 \\u00b0C\",\"Bedeckt\",\"wear light clothes, drink a lot of water and don't forget suncream<br>\"],[\"Arrondissement de Marseille\",\"\\u2601\\ufe0f\",\"26.3 \\u00b0C\",\"Bedeckt\",\"wear light clothes, drink a lot of water and don't forget suncream<br>watch out - your hat may get blown off<br>\"],[\"City of Brussels\",\"\\u2601\\ufe0f\",\"24.9 \\u00b0C\",\"Bedeckt\",\"wear light clothes and don't forget your sunnies!<br>\"],[\"Warschau\",\"\\ud83c\\udf24\\ufe0f\",\"24.1 \\u00b0C\",\"Ein paar Wolken\",\"wear light clothes and don't forget your sunnies!<br>watch out - your hat may get blown off<br>\"],[\"Hamburg\",\"\\ud83c\\udf26\\ufe0f\",\"22.2 \\u00b0C\",\"Leichter Regen\",\"wear light clothes and don't forget your sunnies!<br>take an umbrella or a rain jacket with you<br>\"]],\"geo\":\"geo\",\"hovertemplate\":\"<b>%{customdata[0]}</b><br><br>%{customdata[1]}, %{customdata[2]}<br>%{customdata[3]}<br>%{customdata[4]}<br>\",\"hovertext\":[\"Berlin\",\"Dresden\",\"Frankfurt am Main\",\"Freiburg im Breisgau\",\"Kiel\",\"K\\u00f6ln\",\"Leipzig\",\"Mannheim\",\"M\\u00fcnchen\",\"M\\u00fcnster\",\"Ravensburg\",\"Rostock\",\"Stuttgart\",\"Paris\",\"London\",\"Z\\u00fcrich\",\"Wien\",\"Rom\",\"Amsterdam\",\"Prag\",\"Mailand\",\"Arrondissement de Marseille\",\"City of Brussels\",\"Warschau\",\"Hamburg\"],\"ids\":[\"Berlin\",\"Dresden\",\"Frankfurt am Main\",\"Freiburg im Breisgau\",\"Kiel\",\"K\\u00f6ln\",\"Leipzig\",\"Mannheim\",\"M\\u00fcnchen\",\"M\\u00fcnster\",\"Ravensburg\",\"Rostock\",\"Stuttgart\",\"Paris\",\"London\",\"Z\\u00fcrich\",\"Wien\",\"Rom\",\"Amsterdam\",\"Prag\",\"Mailand\",\"Arrondissement de Marseille\",\"City of Brussels\",\"Warschau\",\"Hamburg\"],\"lat\":[52.5244,51.0509,50.1167,47.9959,54.3213,50.9333,51.342,49.4883,48.1374,51.9624,47.7833,54.0887,48.7823,48.8534,51.5085,47.3667,48.2085,41.8947,52.374,50.088,45.4643,43.3333,50.8504,52.2298,53.55],\"legendgroup\":\"\",\"lon\":[13.4105,13.7383,8.6833,7.8522,10.1349,6.95,12.375,8.4647,11.5755,7.6257,9.6167,12.1405,9.177,2.3488,-0.1257,8.55,16.3721,12.4839,4.8897,14.4208,9.1895,5.5,4.3488,21.0118,10.0],\"marker\":{\"color\":[21.98,22.46,28.43,30.15,20.44,25.77,23.02,30.85,25.93,24.85,26.34,19.78,29.45,30.89,22.32,28.97,26.76,30.79,20.48,24.01,30.35,26.3,24.93,24.14,22.22],\"coloraxis\":\"coloraxis\",\"opacity\":1,\"symbol\":\"circle\"},\"mode\":\"markers+text\",\"name\":\"\",\"showlegend\":false,\"text\":[\"22.0 \\u00b0C\",\"22.5 \\u00b0C\",\"28.4 \\u00b0C\",\"30.2 \\u00b0C\",\"20.4 \\u00b0C\",\"25.8 \\u00b0C\",\"23.0 \\u00b0C\",\"30.8 \\u00b0C\",\"25.9 \\u00b0C\",\"24.8 \\u00b0C\",\"26.3 \\u00b0C\",\"19.8 \\u00b0C\",\"29.4 \\u00b0C\",\"30.9 \\u00b0C\",\"22.3 \\u00b0C\",\"29.0 \\u00b0C\",\"26.8 \\u00b0C\",\"30.8 \\u00b0C\",\"20.5 \\u00b0C\",\"24.0 \\u00b0C\",\"30.4 \\u00b0C\",\"26.3 \\u00b0C\",\"24.9 \\u00b0C\",\"24.1 \\u00b0C\",\"22.2 \\u00b0C\"],\"type\":\"scattergeo\"}],\"name\":\"2022-08-29 15:00:00\"}]);\n",
       "                        }).then(function(){\n",
       "                            \n",
       "var gd = document.getElementById('6e24c0ec-4dae-4cb4-9e64-2a1ccba77462');\n",
       "var x = new MutationObserver(function (mutations, observer) {{\n",
       "        var display = window.getComputedStyle(gd).display;\n",
       "        if (!display || display === 'none') {{\n",
       "            console.log([gd, 'removed!']);\n",
       "            Plotly.purge(gd);\n",
       "            observer.disconnect();\n",
       "        }}\n",
       "}});\n",
       "\n",
       "// Listen for the removal of the full notebook cells\n",
       "var notebookContainer = gd.closest('#notebook-container');\n",
       "if (notebookContainer) {{\n",
       "    x.observe(notebookContainer, {childList: true});\n",
       "}}\n",
       "\n",
       "// Listen for the clearing of the current output cell\n",
       "var outputEl = gd.closest('.output');\n",
       "if (outputEl) {{\n",
       "    x.observe(outputEl, {childList: true});\n",
       "}}\n",
       "\n",
       "                        })                };                });            </script>        </div>"
      ]
     },
     "metadata": {},
     "output_type": "display_data"
    },
    {
     "ename": "KeyboardInterrupt",
     "evalue": "",
     "output_type": "error",
     "traceback": [
      "\u001b[0;31m---------------------------------------------------------------------------\u001b[0m",
      "\u001b[0;31mKeyboardInterrupt\u001b[0m                         Traceback (most recent call last)",
      "\u001b[0;32m<ipython-input-3-bf52e5fb0d4c>\u001b[0m in \u001b[0;36m<module>\u001b[0;34m\u001b[0m\n\u001b[1;32m      2\u001b[0m     \u001b[0mclear_output\u001b[0m\u001b[0;34m(\u001b[0m\u001b[0mwait\u001b[0m\u001b[0;34m=\u001b[0m\u001b[0;32mTrue\u001b[0m\u001b[0;34m)\u001b[0m\u001b[0;34m\u001b[0m\u001b[0;34m\u001b[0m\u001b[0m\n\u001b[1;32m      3\u001b[0m     \u001b[0mcreate_map_realtime\u001b[0m\u001b[0;34m(\u001b[0m\u001b[0;34m)\u001b[0m\u001b[0;34m\u001b[0m\u001b[0;34m\u001b[0m\u001b[0m\n\u001b[0;32m----> 4\u001b[0;31m     \u001b[0mtime\u001b[0m\u001b[0;34m.\u001b[0m\u001b[0msleep\u001b[0m\u001b[0;34m(\u001b[0m\u001b[0;36m15\u001b[0m\u001b[0;34m)\u001b[0m\u001b[0;34m\u001b[0m\u001b[0;34m\u001b[0m\u001b[0m\n\u001b[0m",
      "\u001b[0;31mKeyboardInterrupt\u001b[0m: "
     ]
    }
   ],
   "source": [
    "# updating the figure time based and clearing the output every 15 secs\n",
    "while True:\n",
    "    clear_output(wait=True)\n",
    "    create_map_realtime()\n",
    "    time.sleep(15)"
   ]
  }
 ],
 "metadata": {
  "kernelspec": {
   "display_name": "Python 3",
   "language": "python",
   "name": "python3"
  },
  "language_info": {
   "codemirror_mode": {
    "name": "ipython",
    "version": 3
   },
   "file_extension": ".py",
   "mimetype": "text/x-python",
   "name": "python",
   "nbconvert_exporter": "python",
   "pygments_lexer": "ipython3",
   "version": "3.8.6"
  }
 },
 "nbformat": 4,
 "nbformat_minor": 5
}
